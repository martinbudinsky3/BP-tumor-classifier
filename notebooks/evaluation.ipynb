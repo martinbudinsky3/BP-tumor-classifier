{
 "cells": [
  {
   "cell_type": "markdown",
   "id": "frank-fabric",
   "metadata": {},
   "source": [
    "# Vyhodnotenie"
   ]
  },
  {
   "cell_type": "code",
   "execution_count": 1,
   "id": "molecular-transport",
   "metadata": {},
   "outputs": [],
   "source": [
    "%matplotlib inline"
   ]
  },
  {
   "cell_type": "code",
   "execution_count": 2,
   "id": "wound-treat",
   "metadata": {},
   "outputs": [],
   "source": [
    "import pandas as pd\n",
    "import numpy as np\n",
    "import matplotlib.pyplot as plt\n",
    "import statsmodels.api as sm\n",
    "import seaborn as sns\n",
    "import openpyxl\n",
    "import scipy.stats as stats\n",
    "from sklearn.metrics import confusion_matrix, f1_score, roc_auc_score, roc_curve"
   ]
  },
  {
   "cell_type": "code",
   "execution_count": 3,
   "id": "million-tuition",
   "metadata": {},
   "outputs": [],
   "source": [
    "def find_outliers(data):\n",
    "    lower_bound = data.quantile(0.25) - 1.5 * stats.iqr(data)\n",
    "    upper_bound = data.quantile(0.75) + 1.5 * stats.iqr(data)\n",
    "    \n",
    "    return data[(data > upper_bound) | (data < lower_bound)]"
   ]
  },
  {
   "cell_type": "code",
   "execution_count": 4,
   "id": "biological-script",
   "metadata": {},
   "outputs": [],
   "source": [
    "# results_inform = pd.read_excel(\"../datasets/results/hrd_results_inform.xlsx\", index_col=0) "
   ]
  },
  {
   "cell_type": "code",
   "execution_count": 5,
   "id": "reflected-thomson",
   "metadata": {},
   "outputs": [],
   "source": [
    "# results_inform['HRD_11'] = results_inform['TAI'] + results_inform['LOH'] + results_inform['LST_11Mb']\n",
    "# results_inform['HRD_10'] = results_inform['TAI'] + results_inform['LOH'] + results_inform['LST_10Mb']\n",
    "# results_inform['HRD_9'] = results_inform['TAI'] + results_inform['LOH'] + results_inform['LST_9Mb']\n",
    "# results_inform['HRD_8'] = results_inform['TAI'] + results_inform['LOH'] + results_inform['LST_8Mb']\n",
    "\n",
    "# results_inform"
   ]
  },
  {
   "cell_type": "code",
   "execution_count": 6,
   "id": "normal-lying",
   "metadata": {},
   "outputs": [],
   "source": [
    "# results_inform.to_excel(\"../datasets/results/hrd_results_inform.xlsx\")"
   ]
  },
  {
   "cell_type": "code",
   "execution_count": 7,
   "id": "frozen-converter",
   "metadata": {},
   "outputs": [],
   "source": [
    "pd.set_option('display.max_columns', 50)\n",
    "pd.set_option('display.max_colwidth', 1000000)"
   ]
  },
  {
   "cell_type": "code",
   "execution_count": 8,
   "id": "statutory-czech",
   "metadata": {},
   "outputs": [
    {
     "data": {
      "text/html": [
       "<div>\n",
       "<style scoped>\n",
       "    .dataframe tbody tr th:only-of-type {\n",
       "        vertical-align: middle;\n",
       "    }\n",
       "\n",
       "    .dataframe tbody tr th {\n",
       "        vertical-align: top;\n",
       "    }\n",
       "\n",
       "    .dataframe thead th {\n",
       "        text-align: right;\n",
       "    }\n",
       "</style>\n",
       "<table border=\"1\" class=\"dataframe\">\n",
       "  <thead>\n",
       "    <tr style=\"text-align: right;\">\n",
       "      <th></th>\n",
       "      <th>Segmental report</th>\n",
       "      <th>VCF</th>\n",
       "      <th>Sample name</th>\n",
       "      <th>DNA index</th>\n",
       "      <th>TAI</th>\n",
       "      <th>LOH</th>\n",
       "      <th>LST_3Mb</th>\n",
       "      <th>LST_4Mb</th>\n",
       "      <th>LST_5Mb</th>\n",
       "      <th>LST_6Mb</th>\n",
       "      <th>LST_7Mb</th>\n",
       "      <th>LST_8Mb</th>\n",
       "      <th>LST_9Mb</th>\n",
       "      <th>LST_10Mb</th>\n",
       "      <th>LST_11Mb</th>\n",
       "      <th>HRD_11</th>\n",
       "      <th>HRD_10</th>\n",
       "      <th>HRD_9</th>\n",
       "      <th>HRD_8</th>\n",
       "      <th>Age</th>\n",
       "      <th>Response-real</th>\n",
       "      <th>Response-cell lines</th>\n",
       "    </tr>\n",
       "  </thead>\n",
       "  <tbody>\n",
       "    <tr>\n",
       "      <th>0</th>\n",
       "      <td>P01/P1.I042.001.WGS_events.txt</td>\n",
       "      <td>NaN</td>\n",
       "      <td>NaN</td>\n",
       "      <td>1.006962</td>\n",
       "      <td>0</td>\n",
       "      <td>0</td>\n",
       "      <td>31</td>\n",
       "      <td>25</td>\n",
       "      <td>21</td>\n",
       "      <td>18</td>\n",
       "      <td>16</td>\n",
       "      <td>14</td>\n",
       "      <td>12</td>\n",
       "      <td>9</td>\n",
       "      <td>4</td>\n",
       "      <td>4</td>\n",
       "      <td>9</td>\n",
       "      <td>12</td>\n",
       "      <td>14</td>\n",
       "      <td>NaN</td>\n",
       "      <td>unknown</td>\n",
       "      <td>negative</td>\n",
       "    </tr>\n",
       "    <tr>\n",
       "      <th>1</th>\n",
       "      <td>P01/P1.I062.003.WGS_events.txt</td>\n",
       "      <td>NaN</td>\n",
       "      <td>NaN</td>\n",
       "      <td>1.030277</td>\n",
       "      <td>0</td>\n",
       "      <td>0</td>\n",
       "      <td>36</td>\n",
       "      <td>26</td>\n",
       "      <td>24</td>\n",
       "      <td>22</td>\n",
       "      <td>21</td>\n",
       "      <td>13</td>\n",
       "      <td>10</td>\n",
       "      <td>7</td>\n",
       "      <td>6</td>\n",
       "      <td>6</td>\n",
       "      <td>7</td>\n",
       "      <td>10</td>\n",
       "      <td>13</td>\n",
       "      <td>NaN</td>\n",
       "      <td>unknown</td>\n",
       "      <td>negative</td>\n",
       "    </tr>\n",
       "    <tr>\n",
       "      <th>2</th>\n",
       "      <td>P02/P2.MS.00F.WGS_events.txt</td>\n",
       "      <td>P02/P02.MS_00F.WGS.Source.vcf.gz</td>\n",
       "      <td>MS_00F.T</td>\n",
       "      <td>1.051299</td>\n",
       "      <td>0</td>\n",
       "      <td>0</td>\n",
       "      <td>128</td>\n",
       "      <td>102</td>\n",
       "      <td>77</td>\n",
       "      <td>59</td>\n",
       "      <td>44</td>\n",
       "      <td>35</td>\n",
       "      <td>29</td>\n",
       "      <td>23</td>\n",
       "      <td>17</td>\n",
       "      <td>17</td>\n",
       "      <td>23</td>\n",
       "      <td>29</td>\n",
       "      <td>35</td>\n",
       "      <td>17.0</td>\n",
       "      <td>unknown</td>\n",
       "      <td>negative</td>\n",
       "    </tr>\n",
       "    <tr>\n",
       "      <th>3</th>\n",
       "      <td>P03/P3.I062.007.WGS_events.txt</td>\n",
       "      <td>P03/P06.WGS.raw.vcf.gz</td>\n",
       "      <td>P6.Met4</td>\n",
       "      <td>1.023299</td>\n",
       "      <td>0</td>\n",
       "      <td>0</td>\n",
       "      <td>33</td>\n",
       "      <td>20</td>\n",
       "      <td>14</td>\n",
       "      <td>13</td>\n",
       "      <td>12</td>\n",
       "      <td>9</td>\n",
       "      <td>7</td>\n",
       "      <td>7</td>\n",
       "      <td>4</td>\n",
       "      <td>4</td>\n",
       "      <td>7</td>\n",
       "      <td>7</td>\n",
       "      <td>9</td>\n",
       "      <td>18.0</td>\n",
       "      <td>deceased</td>\n",
       "      <td>negative</td>\n",
       "    </tr>\n",
       "    <tr>\n",
       "      <th>4</th>\n",
       "      <td>P03/P3.I062.015.WGS_events.txt</td>\n",
       "      <td>P03/P06.WGS.raw.vcf.gz</td>\n",
       "      <td>P6.Met5</td>\n",
       "      <td>1.045612</td>\n",
       "      <td>0</td>\n",
       "      <td>0</td>\n",
       "      <td>91</td>\n",
       "      <td>70</td>\n",
       "      <td>59</td>\n",
       "      <td>45</td>\n",
       "      <td>40</td>\n",
       "      <td>31</td>\n",
       "      <td>29</td>\n",
       "      <td>24</td>\n",
       "      <td>20</td>\n",
       "      <td>20</td>\n",
       "      <td>24</td>\n",
       "      <td>29</td>\n",
       "      <td>31</td>\n",
       "      <td>19.0</td>\n",
       "      <td>deceased</td>\n",
       "      <td>negative</td>\n",
       "    </tr>\n",
       "    <tr>\n",
       "      <th>5</th>\n",
       "      <td>P03/P3.I062.022.WGS_events.txt</td>\n",
       "      <td>NaN</td>\n",
       "      <td>NaN</td>\n",
       "      <td>1.013319</td>\n",
       "      <td>0</td>\n",
       "      <td>0</td>\n",
       "      <td>180</td>\n",
       "      <td>138</td>\n",
       "      <td>106</td>\n",
       "      <td>91</td>\n",
       "      <td>76</td>\n",
       "      <td>63</td>\n",
       "      <td>46</td>\n",
       "      <td>38</td>\n",
       "      <td>31</td>\n",
       "      <td>31</td>\n",
       "      <td>38</td>\n",
       "      <td>46</td>\n",
       "      <td>63</td>\n",
       "      <td>19.0</td>\n",
       "      <td>deceased</td>\n",
       "      <td>negative</td>\n",
       "    </tr>\n",
       "    <tr>\n",
       "      <th>6</th>\n",
       "      <td>P03/P3.I062.033.WGS_events.txt</td>\n",
       "      <td>P03/P06.WGS.raw.vcf.gz</td>\n",
       "      <td>P6.Met7</td>\n",
       "      <td>1.048072</td>\n",
       "      <td>1</td>\n",
       "      <td>1</td>\n",
       "      <td>96</td>\n",
       "      <td>69</td>\n",
       "      <td>52</td>\n",
       "      <td>46</td>\n",
       "      <td>31</td>\n",
       "      <td>26</td>\n",
       "      <td>22</td>\n",
       "      <td>22</td>\n",
       "      <td>20</td>\n",
       "      <td>22</td>\n",
       "      <td>24</td>\n",
       "      <td>24</td>\n",
       "      <td>28</td>\n",
       "      <td>20.0</td>\n",
       "      <td>deceased</td>\n",
       "      <td>negative</td>\n",
       "    </tr>\n",
       "    <tr>\n",
       "      <th>7</th>\n",
       "      <td>P04/P4.I042.002.WGS_events.txt</td>\n",
       "      <td>P04/P04.I042_002.WGS.Source.vcf.gz</td>\n",
       "      <td>I042_002.T</td>\n",
       "      <td>1.060479</td>\n",
       "      <td>0</td>\n",
       "      <td>0</td>\n",
       "      <td>23</td>\n",
       "      <td>14</td>\n",
       "      <td>13</td>\n",
       "      <td>11</td>\n",
       "      <td>11</td>\n",
       "      <td>8</td>\n",
       "      <td>7</td>\n",
       "      <td>7</td>\n",
       "      <td>7</td>\n",
       "      <td>7</td>\n",
       "      <td>7</td>\n",
       "      <td>7</td>\n",
       "      <td>8</td>\n",
       "      <td>2.0</td>\n",
       "      <td>unknown</td>\n",
       "      <td>negative</td>\n",
       "    </tr>\n",
       "    <tr>\n",
       "      <th>8</th>\n",
       "      <td>P05/P5.HA.00B.WGS_events.txt</td>\n",
       "      <td>P05/P05.HA_00B.WGS.Source.vcf.gz</td>\n",
       "      <td>HA_00B.T</td>\n",
       "      <td>1.061233</td>\n",
       "      <td>0</td>\n",
       "      <td>0</td>\n",
       "      <td>178</td>\n",
       "      <td>114</td>\n",
       "      <td>78</td>\n",
       "      <td>63</td>\n",
       "      <td>51</td>\n",
       "      <td>43</td>\n",
       "      <td>31</td>\n",
       "      <td>22</td>\n",
       "      <td>22</td>\n",
       "      <td>22</td>\n",
       "      <td>22</td>\n",
       "      <td>31</td>\n",
       "      <td>43</td>\n",
       "      <td>NaN</td>\n",
       "      <td>deceased</td>\n",
       "      <td>positive</td>\n",
       "    </tr>\n",
       "    <tr>\n",
       "      <th>9</th>\n",
       "      <td>P06/P6.HD.00J.WGS_events.txt</td>\n",
       "      <td>P06/P06.HD_00J.WGS.HF.Source.vcf.gz</td>\n",
       "      <td>HD_00J.T</td>\n",
       "      <td>1.124490</td>\n",
       "      <td>0</td>\n",
       "      <td>0</td>\n",
       "      <td>79</td>\n",
       "      <td>57</td>\n",
       "      <td>47</td>\n",
       "      <td>39</td>\n",
       "      <td>30</td>\n",
       "      <td>25</td>\n",
       "      <td>23</td>\n",
       "      <td>18</td>\n",
       "      <td>17</td>\n",
       "      <td>17</td>\n",
       "      <td>18</td>\n",
       "      <td>23</td>\n",
       "      <td>25</td>\n",
       "      <td>NaN</td>\n",
       "      <td>stable</td>\n",
       "      <td>negative</td>\n",
       "    </tr>\n",
       "    <tr>\n",
       "      <th>10</th>\n",
       "      <td>P07/P7.MS.00A.WGS_events.txt</td>\n",
       "      <td>P07/P07.MS_00A.WGS.Source.vcf.gz</td>\n",
       "      <td>MS_00A.T</td>\n",
       "      <td>0.967578</td>\n",
       "      <td>0</td>\n",
       "      <td>0</td>\n",
       "      <td>92</td>\n",
       "      <td>72</td>\n",
       "      <td>57</td>\n",
       "      <td>50</td>\n",
       "      <td>44</td>\n",
       "      <td>31</td>\n",
       "      <td>30</td>\n",
       "      <td>28</td>\n",
       "      <td>26</td>\n",
       "      <td>26</td>\n",
       "      <td>28</td>\n",
       "      <td>30</td>\n",
       "      <td>31</td>\n",
       "      <td>NaN</td>\n",
       "      <td>stable</td>\n",
       "      <td>negative</td>\n",
       "    </tr>\n",
       "    <tr>\n",
       "      <th>11</th>\n",
       "      <td>P08/P8.I022.002.WGS_events.txt</td>\n",
       "      <td>P08/P08.I022_002.WGS.HF.Source.vcf.gz</td>\n",
       "      <td>I022_002.T</td>\n",
       "      <td>1.033279</td>\n",
       "      <td>0</td>\n",
       "      <td>0</td>\n",
       "      <td>111</td>\n",
       "      <td>78</td>\n",
       "      <td>61</td>\n",
       "      <td>49</td>\n",
       "      <td>36</td>\n",
       "      <td>30</td>\n",
       "      <td>25</td>\n",
       "      <td>22</td>\n",
       "      <td>19</td>\n",
       "      <td>19</td>\n",
       "      <td>22</td>\n",
       "      <td>25</td>\n",
       "      <td>30</td>\n",
       "      <td>25.0</td>\n",
       "      <td>unknown</td>\n",
       "      <td>negative</td>\n",
       "    </tr>\n",
       "    <tr>\n",
       "      <th>12</th>\n",
       "      <td>P09/P9.I047.003.WGS_events.txt</td>\n",
       "      <td>P09/P09.I047_003.WGS.HF.Source.vcf.gz</td>\n",
       "      <td>I047_003.T</td>\n",
       "      <td>1.077755</td>\n",
       "      <td>0</td>\n",
       "      <td>0</td>\n",
       "      <td>70</td>\n",
       "      <td>51</td>\n",
       "      <td>43</td>\n",
       "      <td>41</td>\n",
       "      <td>36</td>\n",
       "      <td>29</td>\n",
       "      <td>22</td>\n",
       "      <td>15</td>\n",
       "      <td>15</td>\n",
       "      <td>15</td>\n",
       "      <td>15</td>\n",
       "      <td>22</td>\n",
       "      <td>29</td>\n",
       "      <td>29.0</td>\n",
       "      <td>unknown</td>\n",
       "      <td>negative</td>\n",
       "    </tr>\n",
       "    <tr>\n",
       "      <th>13</th>\n",
       "      <td>P10/P10.I023.005.WGS_events.txt</td>\n",
       "      <td>NaN</td>\n",
       "      <td>NaN</td>\n",
       "      <td>0.937112</td>\n",
       "      <td>0</td>\n",
       "      <td>0</td>\n",
       "      <td>55</td>\n",
       "      <td>46</td>\n",
       "      <td>41</td>\n",
       "      <td>34</td>\n",
       "      <td>30</td>\n",
       "      <td>27</td>\n",
       "      <td>20</td>\n",
       "      <td>19</td>\n",
       "      <td>18</td>\n",
       "      <td>18</td>\n",
       "      <td>19</td>\n",
       "      <td>20</td>\n",
       "      <td>27</td>\n",
       "      <td>23.0</td>\n",
       "      <td>unknown</td>\n",
       "      <td>negative</td>\n",
       "    </tr>\n",
       "    <tr>\n",
       "      <th>14</th>\n",
       "      <td>P11/P11.I036.005.WGS_events.txt</td>\n",
       "      <td>P11/P11.I036_005.WGS.HF.Source.vcf.gz</td>\n",
       "      <td>I036_005.T</td>\n",
       "      <td>1.027306</td>\n",
       "      <td>0</td>\n",
       "      <td>0</td>\n",
       "      <td>120</td>\n",
       "      <td>87</td>\n",
       "      <td>67</td>\n",
       "      <td>53</td>\n",
       "      <td>40</td>\n",
       "      <td>28</td>\n",
       "      <td>26</td>\n",
       "      <td>21</td>\n",
       "      <td>16</td>\n",
       "      <td>16</td>\n",
       "      <td>21</td>\n",
       "      <td>26</td>\n",
       "      <td>28</td>\n",
       "      <td>16.0</td>\n",
       "      <td>unknown</td>\n",
       "      <td>negative</td>\n",
       "    </tr>\n",
       "    <tr>\n",
       "      <th>15</th>\n",
       "      <td>P12/P12.I056.004.WGS_events.txt</td>\n",
       "      <td>P12/P12.I056_004.WGS.HF.Source.vcf.gz</td>\n",
       "      <td>I056_004.T</td>\n",
       "      <td>0.965136</td>\n",
       "      <td>0</td>\n",
       "      <td>0</td>\n",
       "      <td>44</td>\n",
       "      <td>38</td>\n",
       "      <td>32</td>\n",
       "      <td>28</td>\n",
       "      <td>26</td>\n",
       "      <td>23</td>\n",
       "      <td>20</td>\n",
       "      <td>18</td>\n",
       "      <td>15</td>\n",
       "      <td>15</td>\n",
       "      <td>18</td>\n",
       "      <td>20</td>\n",
       "      <td>23</td>\n",
       "      <td>4.0</td>\n",
       "      <td>unknown</td>\n",
       "      <td>negative</td>\n",
       "    </tr>\n",
       "    <tr>\n",
       "      <th>16</th>\n",
       "      <td>P13/P13.I022.017.WGS_events.txt</td>\n",
       "      <td>P13/P13.I022_017.WGS.HF.Source.vcf.gz</td>\n",
       "      <td>I022_017.T</td>\n",
       "      <td>1.037760</td>\n",
       "      <td>0</td>\n",
       "      <td>0</td>\n",
       "      <td>63</td>\n",
       "      <td>47</td>\n",
       "      <td>42</td>\n",
       "      <td>39</td>\n",
       "      <td>36</td>\n",
       "      <td>36</td>\n",
       "      <td>28</td>\n",
       "      <td>25</td>\n",
       "      <td>20</td>\n",
       "      <td>20</td>\n",
       "      <td>25</td>\n",
       "      <td>28</td>\n",
       "      <td>36</td>\n",
       "      <td>20.0</td>\n",
       "      <td>unknown</td>\n",
       "      <td>negative</td>\n",
       "    </tr>\n",
       "    <tr>\n",
       "      <th>17</th>\n",
       "      <td>P14/P14.I062.006.WES_events.txt</td>\n",
       "      <td>P14/P14.I062.006.WGS.HF.Source.vcf.gz</td>\n",
       "      <td>I062.006.T</td>\n",
       "      <td>1.134657</td>\n",
       "      <td>48</td>\n",
       "      <td>23</td>\n",
       "      <td>155</td>\n",
       "      <td>116</td>\n",
       "      <td>78</td>\n",
       "      <td>60</td>\n",
       "      <td>50</td>\n",
       "      <td>47</td>\n",
       "      <td>38</td>\n",
       "      <td>29</td>\n",
       "      <td>24</td>\n",
       "      <td>95</td>\n",
       "      <td>100</td>\n",
       "      <td>109</td>\n",
       "      <td>118</td>\n",
       "      <td>16.0</td>\n",
       "      <td>stable</td>\n",
       "      <td>positive</td>\n",
       "    </tr>\n",
       "    <tr>\n",
       "      <th>18</th>\n",
       "      <td>P15/P15.I047.005.WGS_events.txt</td>\n",
       "      <td>P15/P15.I047.005.WGS.raw.vcf.gz</td>\n",
       "      <td>I047_005.T</td>\n",
       "      <td>0.942053</td>\n",
       "      <td>0</td>\n",
       "      <td>0</td>\n",
       "      <td>55</td>\n",
       "      <td>40</td>\n",
       "      <td>34</td>\n",
       "      <td>25</td>\n",
       "      <td>20</td>\n",
       "      <td>18</td>\n",
       "      <td>13</td>\n",
       "      <td>13</td>\n",
       "      <td>12</td>\n",
       "      <td>12</td>\n",
       "      <td>13</td>\n",
       "      <td>13</td>\n",
       "      <td>18</td>\n",
       "      <td>20.0</td>\n",
       "      <td>unknown</td>\n",
       "      <td>negative</td>\n",
       "    </tr>\n",
       "    <tr>\n",
       "      <th>19</th>\n",
       "      <td>P16/P16.I062.010.WGS_events.txt</td>\n",
       "      <td>P16/P16.I062_010.WGS.HF.Source.vcf.gz</td>\n",
       "      <td>I062_010.T</td>\n",
       "      <td>0.916296</td>\n",
       "      <td>0</td>\n",
       "      <td>0</td>\n",
       "      <td>36</td>\n",
       "      <td>33</td>\n",
       "      <td>28</td>\n",
       "      <td>23</td>\n",
       "      <td>18</td>\n",
       "      <td>16</td>\n",
       "      <td>11</td>\n",
       "      <td>9</td>\n",
       "      <td>7</td>\n",
       "      <td>7</td>\n",
       "      <td>9</td>\n",
       "      <td>11</td>\n",
       "      <td>16</td>\n",
       "      <td>17.0</td>\n",
       "      <td>unknown</td>\n",
       "      <td>negative</td>\n",
       "    </tr>\n",
       "    <tr>\n",
       "      <th>20</th>\n",
       "      <td>P17/P17.I062.020.WGS_events.txt</td>\n",
       "      <td>P17/P17.I062.020.WGS.Source.vcf.gz</td>\n",
       "      <td>I062_020.T</td>\n",
       "      <td>1.001479</td>\n",
       "      <td>0</td>\n",
       "      <td>0</td>\n",
       "      <td>175</td>\n",
       "      <td>120</td>\n",
       "      <td>80</td>\n",
       "      <td>54</td>\n",
       "      <td>38</td>\n",
       "      <td>30</td>\n",
       "      <td>25</td>\n",
       "      <td>15</td>\n",
       "      <td>9</td>\n",
       "      <td>9</td>\n",
       "      <td>15</td>\n",
       "      <td>25</td>\n",
       "      <td>30</td>\n",
       "      <td>18.0</td>\n",
       "      <td>unknown</td>\n",
       "      <td>negative</td>\n",
       "    </tr>\n",
       "    <tr>\n",
       "      <th>21</th>\n",
       "      <td>P18/P18.I062_021.WGS_events.txt</td>\n",
       "      <td>P18/P18.I062.021.WGS.Source.vcf.gz</td>\n",
       "      <td>I0622_021.T</td>\n",
       "      <td>1.075633</td>\n",
       "      <td>0</td>\n",
       "      <td>0</td>\n",
       "      <td>150</td>\n",
       "      <td>113</td>\n",
       "      <td>87</td>\n",
       "      <td>61</td>\n",
       "      <td>51</td>\n",
       "      <td>48</td>\n",
       "      <td>41</td>\n",
       "      <td>36</td>\n",
       "      <td>27</td>\n",
       "      <td>27</td>\n",
       "      <td>36</td>\n",
       "      <td>41</td>\n",
       "      <td>48</td>\n",
       "      <td>16.0</td>\n",
       "      <td>unknown</td>\n",
       "      <td>positive</td>\n",
       "    </tr>\n",
       "    <tr>\n",
       "      <th>22</th>\n",
       "      <td>P19/P19.I007.018.WGS_events.txt</td>\n",
       "      <td>P19/P19.I007.018.WGS.Source.vcf.gz</td>\n",
       "      <td>I007_018.T</td>\n",
       "      <td>0.945868</td>\n",
       "      <td>5</td>\n",
       "      <td>5</td>\n",
       "      <td>7</td>\n",
       "      <td>7</td>\n",
       "      <td>5</td>\n",
       "      <td>4</td>\n",
       "      <td>1</td>\n",
       "      <td>0</td>\n",
       "      <td>0</td>\n",
       "      <td>0</td>\n",
       "      <td>0</td>\n",
       "      <td>10</td>\n",
       "      <td>10</td>\n",
       "      <td>10</td>\n",
       "      <td>10</td>\n",
       "      <td>16.0</td>\n",
       "      <td>unknown</td>\n",
       "      <td>negative</td>\n",
       "    </tr>\n",
       "    <tr>\n",
       "      <th>23</th>\n",
       "      <td>P20/P20.I047.006.WGS_events.txt</td>\n",
       "      <td>NaN</td>\n",
       "      <td>NaN</td>\n",
       "      <td>1.003549</td>\n",
       "      <td>8</td>\n",
       "      <td>8</td>\n",
       "      <td>5</td>\n",
       "      <td>4</td>\n",
       "      <td>4</td>\n",
       "      <td>4</td>\n",
       "      <td>3</td>\n",
       "      <td>2</td>\n",
       "      <td>2</td>\n",
       "      <td>2</td>\n",
       "      <td>2</td>\n",
       "      <td>18</td>\n",
       "      <td>18</td>\n",
       "      <td>18</td>\n",
       "      <td>18</td>\n",
       "      <td>NaN</td>\n",
       "      <td>unknown</td>\n",
       "      <td>negative</td>\n",
       "    </tr>\n",
       "    <tr>\n",
       "      <th>24</th>\n",
       "      <td>P21/P21.I037.002.WGS_events.txt</td>\n",
       "      <td>P21/P21.I037.002.WGS.Source.vcf.gz</td>\n",
       "      <td>I037_002_3M1_D1</td>\n",
       "      <td>1.058271</td>\n",
       "      <td>5</td>\n",
       "      <td>4</td>\n",
       "      <td>89</td>\n",
       "      <td>72</td>\n",
       "      <td>60</td>\n",
       "      <td>51</td>\n",
       "      <td>43</td>\n",
       "      <td>40</td>\n",
       "      <td>36</td>\n",
       "      <td>33</td>\n",
       "      <td>29</td>\n",
       "      <td>38</td>\n",
       "      <td>42</td>\n",
       "      <td>45</td>\n",
       "      <td>49</td>\n",
       "      <td>14.0</td>\n",
       "      <td>unknown</td>\n",
       "      <td>positive</td>\n",
       "    </tr>\n",
       "    <tr>\n",
       "      <th>25</th>\n",
       "      <td>P22/P22.I044.004.WGS_events.txt</td>\n",
       "      <td>P22/P22.I044.004.WGS.Source.vcf.gz</td>\n",
       "      <td>I044_004_2M1_D1</td>\n",
       "      <td>0.990309</td>\n",
       "      <td>4</td>\n",
       "      <td>5</td>\n",
       "      <td>70</td>\n",
       "      <td>55</td>\n",
       "      <td>52</td>\n",
       "      <td>42</td>\n",
       "      <td>36</td>\n",
       "      <td>34</td>\n",
       "      <td>31</td>\n",
       "      <td>26</td>\n",
       "      <td>23</td>\n",
       "      <td>32</td>\n",
       "      <td>35</td>\n",
       "      <td>40</td>\n",
       "      <td>43</td>\n",
       "      <td>18.0</td>\n",
       "      <td>unknown</td>\n",
       "      <td>negative</td>\n",
       "    </tr>\n",
       "    <tr>\n",
       "      <th>26</th>\n",
       "      <td>P23/P23.I002.006.WGS_events.txt</td>\n",
       "      <td>P23/P23.I002.006.WGS.Source.vcf.gz</td>\n",
       "      <td>I002_006_9M1_D1</td>\n",
       "      <td>0.915005</td>\n",
       "      <td>0</td>\n",
       "      <td>1</td>\n",
       "      <td>95</td>\n",
       "      <td>63</td>\n",
       "      <td>47</td>\n",
       "      <td>43</td>\n",
       "      <td>35</td>\n",
       "      <td>34</td>\n",
       "      <td>32</td>\n",
       "      <td>28</td>\n",
       "      <td>25</td>\n",
       "      <td>26</td>\n",
       "      <td>29</td>\n",
       "      <td>33</td>\n",
       "      <td>35</td>\n",
       "      <td>15.0</td>\n",
       "      <td>unknown</td>\n",
       "      <td>negative</td>\n",
       "    </tr>\n",
       "    <tr>\n",
       "      <th>27</th>\n",
       "      <td>P24/P24.I062.035.WGS_events.txt</td>\n",
       "      <td>P24/P24.I062.035.WGS.Source.vcf.gz</td>\n",
       "      <td>I062_035_2M1_D1</td>\n",
       "      <td>1.000028</td>\n",
       "      <td>6</td>\n",
       "      <td>6</td>\n",
       "      <td>2</td>\n",
       "      <td>1</td>\n",
       "      <td>1</td>\n",
       "      <td>1</td>\n",
       "      <td>1</td>\n",
       "      <td>1</td>\n",
       "      <td>1</td>\n",
       "      <td>1</td>\n",
       "      <td>0</td>\n",
       "      <td>12</td>\n",
       "      <td>13</td>\n",
       "      <td>13</td>\n",
       "      <td>13</td>\n",
       "      <td>NaN</td>\n",
       "      <td>deceased</td>\n",
       "      <td>negative</td>\n",
       "    </tr>\n",
       "    <tr>\n",
       "      <th>28</th>\n",
       "      <td>P25/P25.I002.007.WGS_events.txt</td>\n",
       "      <td>P25/P25.I002.007.WGS.HF.Source.vcf.gz</td>\n",
       "      <td>I002_007_9M1_D1</td>\n",
       "      <td>1.069543</td>\n",
       "      <td>3</td>\n",
       "      <td>3</td>\n",
       "      <td>35</td>\n",
       "      <td>23</td>\n",
       "      <td>16</td>\n",
       "      <td>11</td>\n",
       "      <td>9</td>\n",
       "      <td>8</td>\n",
       "      <td>8</td>\n",
       "      <td>8</td>\n",
       "      <td>7</td>\n",
       "      <td>13</td>\n",
       "      <td>14</td>\n",
       "      <td>14</td>\n",
       "      <td>14</td>\n",
       "      <td>15.0</td>\n",
       "      <td>unknown</td>\n",
       "      <td>negative</td>\n",
       "    </tr>\n",
       "    <tr>\n",
       "      <th>29</th>\n",
       "      <td>P26/P26.I042.009.WGS_events.txt</td>\n",
       "      <td>P26/P26.I042.009.WGS.Source.vcf.gz</td>\n",
       "      <td>I042_009_1M1_D1</td>\n",
       "      <td>1.194626</td>\n",
       "      <td>1</td>\n",
       "      <td>1</td>\n",
       "      <td>113</td>\n",
       "      <td>89</td>\n",
       "      <td>64</td>\n",
       "      <td>50</td>\n",
       "      <td>45</td>\n",
       "      <td>33</td>\n",
       "      <td>28</td>\n",
       "      <td>22</td>\n",
       "      <td>20</td>\n",
       "      <td>22</td>\n",
       "      <td>24</td>\n",
       "      <td>30</td>\n",
       "      <td>35</td>\n",
       "      <td>14.0</td>\n",
       "      <td>unknown</td>\n",
       "      <td>negative</td>\n",
       "    </tr>\n",
       "    <tr>\n",
       "      <th>30</th>\n",
       "      <td>P27/P27.I047.007.WGS_events.txt</td>\n",
       "      <td>P27/P27.I047.007.WGS.Source.vcf.gz</td>\n",
       "      <td>I047_007_2M1_D1</td>\n",
       "      <td>1.041465</td>\n",
       "      <td>11</td>\n",
       "      <td>10</td>\n",
       "      <td>146</td>\n",
       "      <td>93</td>\n",
       "      <td>54</td>\n",
       "      <td>38</td>\n",
       "      <td>26</td>\n",
       "      <td>23</td>\n",
       "      <td>15</td>\n",
       "      <td>10</td>\n",
       "      <td>8</td>\n",
       "      <td>29</td>\n",
       "      <td>31</td>\n",
       "      <td>36</td>\n",
       "      <td>44</td>\n",
       "      <td>14.0</td>\n",
       "      <td>stable</td>\n",
       "      <td>positive</td>\n",
       "    </tr>\n",
       "    <tr>\n",
       "      <th>31</th>\n",
       "      <td>P28/P28.I057.002.WGS_events.txt</td>\n",
       "      <td>P28/P28.I057.002.WGS.HF.Source.vcf.gz</td>\n",
       "      <td>I057_002_2T1_D1</td>\n",
       "      <td>1.083430</td>\n",
       "      <td>2</td>\n",
       "      <td>1</td>\n",
       "      <td>76</td>\n",
       "      <td>50</td>\n",
       "      <td>38</td>\n",
       "      <td>36</td>\n",
       "      <td>31</td>\n",
       "      <td>28</td>\n",
       "      <td>25</td>\n",
       "      <td>24</td>\n",
       "      <td>21</td>\n",
       "      <td>24</td>\n",
       "      <td>27</td>\n",
       "      <td>28</td>\n",
       "      <td>31</td>\n",
       "      <td>24.0</td>\n",
       "      <td>unknown</td>\n",
       "      <td>negative</td>\n",
       "    </tr>\n",
       "    <tr>\n",
       "      <th>32</th>\n",
       "      <td>P29/P29.I024.021.WGS.nexus_export.txt</td>\n",
       "      <td>P29/P29.I024.021.WGS.bwa.HF.Source.vcf.gz</td>\n",
       "      <td>AS-258811-LR-37678</td>\n",
       "      <td>0.928591</td>\n",
       "      <td>0</td>\n",
       "      <td>0</td>\n",
       "      <td>47</td>\n",
       "      <td>38</td>\n",
       "      <td>25</td>\n",
       "      <td>22</td>\n",
       "      <td>20</td>\n",
       "      <td>16</td>\n",
       "      <td>15</td>\n",
       "      <td>15</td>\n",
       "      <td>15</td>\n",
       "      <td>15</td>\n",
       "      <td>15</td>\n",
       "      <td>15</td>\n",
       "      <td>16</td>\n",
       "      <td>21.0</td>\n",
       "      <td>unknown</td>\n",
       "      <td>unknown</td>\n",
       "    </tr>\n",
       "    <tr>\n",
       "      <th>33</th>\n",
       "      <td>P30/P30.I070.021.WGS.nexus_export.txt</td>\n",
       "      <td>P30/P30.I070.021.WGS.bwa.HF.Source.vcf.gz</td>\n",
       "      <td>AS-261727-LR-38150</td>\n",
       "      <td>1.050802</td>\n",
       "      <td>0</td>\n",
       "      <td>0</td>\n",
       "      <td>84</td>\n",
       "      <td>62</td>\n",
       "      <td>49</td>\n",
       "      <td>42</td>\n",
       "      <td>37</td>\n",
       "      <td>33</td>\n",
       "      <td>20</td>\n",
       "      <td>17</td>\n",
       "      <td>16</td>\n",
       "      <td>16</td>\n",
       "      <td>17</td>\n",
       "      <td>20</td>\n",
       "      <td>33</td>\n",
       "      <td>25.0</td>\n",
       "      <td>unknown</td>\n",
       "      <td>unknown</td>\n",
       "    </tr>\n",
       "    <tr>\n",
       "      <th>34</th>\n",
       "      <td>P31/P31.I015.008.WGS.nexus_export.txt</td>\n",
       "      <td>P31/P31.I015.008.WGS.bwa.HF.Source.vcf.gz</td>\n",
       "      <td>I015.008.Tumor</td>\n",
       "      <td>0.993394</td>\n",
       "      <td>0</td>\n",
       "      <td>0</td>\n",
       "      <td>58</td>\n",
       "      <td>49</td>\n",
       "      <td>43</td>\n",
       "      <td>32</td>\n",
       "      <td>29</td>\n",
       "      <td>27</td>\n",
       "      <td>27</td>\n",
       "      <td>22</td>\n",
       "      <td>21</td>\n",
       "      <td>21</td>\n",
       "      <td>22</td>\n",
       "      <td>27</td>\n",
       "      <td>27</td>\n",
       "      <td>17.0</td>\n",
       "      <td>unknown</td>\n",
       "      <td>unknown</td>\n",
       "    </tr>\n",
       "    <tr>\n",
       "      <th>35</th>\n",
       "      <td>P32/P32.I027.011.WGS.nexus_export.txt</td>\n",
       "      <td>P32/P32.I027.011.WGS.bwa.HF.Source.vcf.gz</td>\n",
       "      <td>I027.011.Tumor</td>\n",
       "      <td>1.090837</td>\n",
       "      <td>0</td>\n",
       "      <td>0</td>\n",
       "      <td>175</td>\n",
       "      <td>118</td>\n",
       "      <td>80</td>\n",
       "      <td>56</td>\n",
       "      <td>46</td>\n",
       "      <td>33</td>\n",
       "      <td>23</td>\n",
       "      <td>18</td>\n",
       "      <td>13</td>\n",
       "      <td>13</td>\n",
       "      <td>18</td>\n",
       "      <td>23</td>\n",
       "      <td>33</td>\n",
       "      <td>14.0</td>\n",
       "      <td>unknown</td>\n",
       "      <td>unknown</td>\n",
       "    </tr>\n",
       "    <tr>\n",
       "      <th>36</th>\n",
       "      <td>P33/P33.I047.011.WGS.nexus_export.txt</td>\n",
       "      <td>NaN</td>\n",
       "      <td>NaN</td>\n",
       "      <td>1.096571</td>\n",
       "      <td>0</td>\n",
       "      <td>0</td>\n",
       "      <td>74</td>\n",
       "      <td>51</td>\n",
       "      <td>41</td>\n",
       "      <td>38</td>\n",
       "      <td>35</td>\n",
       "      <td>24</td>\n",
       "      <td>20</td>\n",
       "      <td>16</td>\n",
       "      <td>15</td>\n",
       "      <td>15</td>\n",
       "      <td>16</td>\n",
       "      <td>20</td>\n",
       "      <td>24</td>\n",
       "      <td>14.0</td>\n",
       "      <td>unknown</td>\n",
       "      <td>unknown</td>\n",
       "    </tr>\n",
       "    <tr>\n",
       "      <th>37</th>\n",
       "      <td>P34/P34.I063.011.WGS.nexus_export.txt</td>\n",
       "      <td>P34/P34.I063.011.WGS.bwa.HF.Source.vcf.gz</td>\n",
       "      <td>I063.011.Tumor</td>\n",
       "      <td>1.186607</td>\n",
       "      <td>0</td>\n",
       "      <td>0</td>\n",
       "      <td>88</td>\n",
       "      <td>61</td>\n",
       "      <td>43</td>\n",
       "      <td>32</td>\n",
       "      <td>29</td>\n",
       "      <td>24</td>\n",
       "      <td>18</td>\n",
       "      <td>17</td>\n",
       "      <td>12</td>\n",
       "      <td>12</td>\n",
       "      <td>17</td>\n",
       "      <td>18</td>\n",
       "      <td>24</td>\n",
       "      <td>19.0</td>\n",
       "      <td>unknown</td>\n",
       "      <td>unknown</td>\n",
       "    </tr>\n",
       "    <tr>\n",
       "      <th>38</th>\n",
       "      <td>P35/P35.I013.017.WGS.nexus_export.txt</td>\n",
       "      <td>P35/P35.I013.017.hisat2.WGS.raw.vcf.gz</td>\n",
       "      <td>P35.I013.017.WGS.T</td>\n",
       "      <td>0.989249</td>\n",
       "      <td>0</td>\n",
       "      <td>0</td>\n",
       "      <td>64</td>\n",
       "      <td>51</td>\n",
       "      <td>44</td>\n",
       "      <td>33</td>\n",
       "      <td>32</td>\n",
       "      <td>30</td>\n",
       "      <td>23</td>\n",
       "      <td>23</td>\n",
       "      <td>23</td>\n",
       "      <td>23</td>\n",
       "      <td>23</td>\n",
       "      <td>23</td>\n",
       "      <td>30</td>\n",
       "      <td>15.0</td>\n",
       "      <td>unknown</td>\n",
       "      <td>unknown</td>\n",
       "    </tr>\n",
       "    <tr>\n",
       "      <th>39</th>\n",
       "      <td>P36/P36.I014.018.WGS.nexus_export.txt</td>\n",
       "      <td>NaN</td>\n",
       "      <td>NaN</td>\n",
       "      <td>1.018703</td>\n",
       "      <td>0</td>\n",
       "      <td>0</td>\n",
       "      <td>82</td>\n",
       "      <td>63</td>\n",
       "      <td>51</td>\n",
       "      <td>35</td>\n",
       "      <td>33</td>\n",
       "      <td>28</td>\n",
       "      <td>22</td>\n",
       "      <td>20</td>\n",
       "      <td>18</td>\n",
       "      <td>18</td>\n",
       "      <td>20</td>\n",
       "      <td>22</td>\n",
       "      <td>28</td>\n",
       "      <td>9.0</td>\n",
       "      <td>unknown</td>\n",
       "      <td>unknown</td>\n",
       "    </tr>\n",
       "    <tr>\n",
       "      <th>40</th>\n",
       "      <td>P37/P37.I018.023..WGS.nexus_export.txt</td>\n",
       "      <td>NaN</td>\n",
       "      <td>NaN</td>\n",
       "      <td>1.052808</td>\n",
       "      <td>0</td>\n",
       "      <td>0</td>\n",
       "      <td>96</td>\n",
       "      <td>81</td>\n",
       "      <td>63</td>\n",
       "      <td>46</td>\n",
       "      <td>41</td>\n",
       "      <td>34</td>\n",
       "      <td>28</td>\n",
       "      <td>27</td>\n",
       "      <td>19</td>\n",
       "      <td>19</td>\n",
       "      <td>27</td>\n",
       "      <td>28</td>\n",
       "      <td>34</td>\n",
       "      <td>21.0</td>\n",
       "      <td>unknown</td>\n",
       "      <td>unknown</td>\n",
       "    </tr>\n",
       "    <tr>\n",
       "      <th>41</th>\n",
       "      <td>P38/P38.I063.010.WGS.nexus_export.txt</td>\n",
       "      <td>NaN</td>\n",
       "      <td>NaN</td>\n",
       "      <td>1.024779</td>\n",
       "      <td>0</td>\n",
       "      <td>0</td>\n",
       "      <td>79</td>\n",
       "      <td>66</td>\n",
       "      <td>52</td>\n",
       "      <td>41</td>\n",
       "      <td>34</td>\n",
       "      <td>28</td>\n",
       "      <td>25</td>\n",
       "      <td>24</td>\n",
       "      <td>22</td>\n",
       "      <td>22</td>\n",
       "      <td>24</td>\n",
       "      <td>25</td>\n",
       "      <td>28</td>\n",
       "      <td>16.0</td>\n",
       "      <td>unknown</td>\n",
       "      <td>unknown</td>\n",
       "    </tr>\n",
       "    <tr>\n",
       "      <th>42</th>\n",
       "      <td>P39/P39.I054.013.WGS.nexus_export.txt</td>\n",
       "      <td>NaN</td>\n",
       "      <td>NaN</td>\n",
       "      <td>1.037994</td>\n",
       "      <td>0</td>\n",
       "      <td>0</td>\n",
       "      <td>89</td>\n",
       "      <td>72</td>\n",
       "      <td>60</td>\n",
       "      <td>44</td>\n",
       "      <td>40</td>\n",
       "      <td>35</td>\n",
       "      <td>30</td>\n",
       "      <td>25</td>\n",
       "      <td>20</td>\n",
       "      <td>20</td>\n",
       "      <td>25</td>\n",
       "      <td>30</td>\n",
       "      <td>35</td>\n",
       "      <td>18.0</td>\n",
       "      <td>unknown</td>\n",
       "      <td>unknown</td>\n",
       "    </tr>\n",
       "    <tr>\n",
       "      <th>43</th>\n",
       "      <td>P40/P40.I076.018.WGS.nexus_export.txt</td>\n",
       "      <td>NaN</td>\n",
       "      <td>NaN</td>\n",
       "      <td>1.067438</td>\n",
       "      <td>0</td>\n",
       "      <td>0</td>\n",
       "      <td>50</td>\n",
       "      <td>42</td>\n",
       "      <td>36</td>\n",
       "      <td>31</td>\n",
       "      <td>30</td>\n",
       "      <td>27</td>\n",
       "      <td>24</td>\n",
       "      <td>21</td>\n",
       "      <td>20</td>\n",
       "      <td>20</td>\n",
       "      <td>21</td>\n",
       "      <td>24</td>\n",
       "      <td>27</td>\n",
       "      <td>17.0</td>\n",
       "      <td>unknown</td>\n",
       "      <td>unknown</td>\n",
       "    </tr>\n",
       "    <tr>\n",
       "      <th>44</th>\n",
       "      <td>P41/P41.I018.019.WGS.nexus_export.txt</td>\n",
       "      <td>NaN</td>\n",
       "      <td>NaN</td>\n",
       "      <td>1.082341</td>\n",
       "      <td>0</td>\n",
       "      <td>0</td>\n",
       "      <td>88</td>\n",
       "      <td>65</td>\n",
       "      <td>53</td>\n",
       "      <td>36</td>\n",
       "      <td>30</td>\n",
       "      <td>17</td>\n",
       "      <td>12</td>\n",
       "      <td>9</td>\n",
       "      <td>7</td>\n",
       "      <td>7</td>\n",
       "      <td>9</td>\n",
       "      <td>12</td>\n",
       "      <td>17</td>\n",
       "      <td>21.0</td>\n",
       "      <td>unknown</td>\n",
       "      <td>unknown</td>\n",
       "    </tr>\n",
       "  </tbody>\n",
       "</table>\n",
       "</div>"
      ],
      "text/plain": [
       "                          Segmental report  \\\n",
       "0           P01/P1.I042.001.WGS_events.txt   \n",
       "1           P01/P1.I062.003.WGS_events.txt   \n",
       "2             P02/P2.MS.00F.WGS_events.txt   \n",
       "3           P03/P3.I062.007.WGS_events.txt   \n",
       "4           P03/P3.I062.015.WGS_events.txt   \n",
       "5           P03/P3.I062.022.WGS_events.txt   \n",
       "6           P03/P3.I062.033.WGS_events.txt   \n",
       "7           P04/P4.I042.002.WGS_events.txt   \n",
       "8             P05/P5.HA.00B.WGS_events.txt   \n",
       "9             P06/P6.HD.00J.WGS_events.txt   \n",
       "10            P07/P7.MS.00A.WGS_events.txt   \n",
       "11          P08/P8.I022.002.WGS_events.txt   \n",
       "12          P09/P9.I047.003.WGS_events.txt   \n",
       "13         P10/P10.I023.005.WGS_events.txt   \n",
       "14         P11/P11.I036.005.WGS_events.txt   \n",
       "15         P12/P12.I056.004.WGS_events.txt   \n",
       "16         P13/P13.I022.017.WGS_events.txt   \n",
       "17         P14/P14.I062.006.WES_events.txt   \n",
       "18         P15/P15.I047.005.WGS_events.txt   \n",
       "19         P16/P16.I062.010.WGS_events.txt   \n",
       "20         P17/P17.I062.020.WGS_events.txt   \n",
       "21         P18/P18.I062_021.WGS_events.txt   \n",
       "22         P19/P19.I007.018.WGS_events.txt   \n",
       "23         P20/P20.I047.006.WGS_events.txt   \n",
       "24         P21/P21.I037.002.WGS_events.txt   \n",
       "25         P22/P22.I044.004.WGS_events.txt   \n",
       "26         P23/P23.I002.006.WGS_events.txt   \n",
       "27         P24/P24.I062.035.WGS_events.txt   \n",
       "28         P25/P25.I002.007.WGS_events.txt   \n",
       "29         P26/P26.I042.009.WGS_events.txt   \n",
       "30         P27/P27.I047.007.WGS_events.txt   \n",
       "31         P28/P28.I057.002.WGS_events.txt   \n",
       "32   P29/P29.I024.021.WGS.nexus_export.txt   \n",
       "33   P30/P30.I070.021.WGS.nexus_export.txt   \n",
       "34   P31/P31.I015.008.WGS.nexus_export.txt   \n",
       "35   P32/P32.I027.011.WGS.nexus_export.txt   \n",
       "36   P33/P33.I047.011.WGS.nexus_export.txt   \n",
       "37   P34/P34.I063.011.WGS.nexus_export.txt   \n",
       "38   P35/P35.I013.017.WGS.nexus_export.txt   \n",
       "39   P36/P36.I014.018.WGS.nexus_export.txt   \n",
       "40  P37/P37.I018.023..WGS.nexus_export.txt   \n",
       "41   P38/P38.I063.010.WGS.nexus_export.txt   \n",
       "42   P39/P39.I054.013.WGS.nexus_export.txt   \n",
       "43   P40/P40.I076.018.WGS.nexus_export.txt   \n",
       "44   P41/P41.I018.019.WGS.nexus_export.txt   \n",
       "\n",
       "                                          VCF         Sample name  DNA index  \\\n",
       "0                                         NaN                 NaN   1.006962   \n",
       "1                                         NaN                 NaN   1.030277   \n",
       "2            P02/P02.MS_00F.WGS.Source.vcf.gz            MS_00F.T   1.051299   \n",
       "3                      P03/P06.WGS.raw.vcf.gz             P6.Met4   1.023299   \n",
       "4                      P03/P06.WGS.raw.vcf.gz             P6.Met5   1.045612   \n",
       "5                                         NaN                 NaN   1.013319   \n",
       "6                      P03/P06.WGS.raw.vcf.gz             P6.Met7   1.048072   \n",
       "7          P04/P04.I042_002.WGS.Source.vcf.gz          I042_002.T   1.060479   \n",
       "8            P05/P05.HA_00B.WGS.Source.vcf.gz            HA_00B.T   1.061233   \n",
       "9         P06/P06.HD_00J.WGS.HF.Source.vcf.gz            HD_00J.T   1.124490   \n",
       "10           P07/P07.MS_00A.WGS.Source.vcf.gz            MS_00A.T   0.967578   \n",
       "11      P08/P08.I022_002.WGS.HF.Source.vcf.gz          I022_002.T   1.033279   \n",
       "12      P09/P09.I047_003.WGS.HF.Source.vcf.gz          I047_003.T   1.077755   \n",
       "13                                        NaN                 NaN   0.937112   \n",
       "14      P11/P11.I036_005.WGS.HF.Source.vcf.gz          I036_005.T   1.027306   \n",
       "15      P12/P12.I056_004.WGS.HF.Source.vcf.gz          I056_004.T   0.965136   \n",
       "16      P13/P13.I022_017.WGS.HF.Source.vcf.gz          I022_017.T   1.037760   \n",
       "17      P14/P14.I062.006.WGS.HF.Source.vcf.gz          I062.006.T   1.134657   \n",
       "18            P15/P15.I047.005.WGS.raw.vcf.gz          I047_005.T   0.942053   \n",
       "19      P16/P16.I062_010.WGS.HF.Source.vcf.gz          I062_010.T   0.916296   \n",
       "20         P17/P17.I062.020.WGS.Source.vcf.gz          I062_020.T   1.001479   \n",
       "21         P18/P18.I062.021.WGS.Source.vcf.gz         I0622_021.T   1.075633   \n",
       "22         P19/P19.I007.018.WGS.Source.vcf.gz          I007_018.T   0.945868   \n",
       "23                                        NaN                 NaN   1.003549   \n",
       "24         P21/P21.I037.002.WGS.Source.vcf.gz     I037_002_3M1_D1   1.058271   \n",
       "25         P22/P22.I044.004.WGS.Source.vcf.gz     I044_004_2M1_D1   0.990309   \n",
       "26         P23/P23.I002.006.WGS.Source.vcf.gz     I002_006_9M1_D1   0.915005   \n",
       "27         P24/P24.I062.035.WGS.Source.vcf.gz     I062_035_2M1_D1   1.000028   \n",
       "28      P25/P25.I002.007.WGS.HF.Source.vcf.gz     I002_007_9M1_D1   1.069543   \n",
       "29         P26/P26.I042.009.WGS.Source.vcf.gz     I042_009_1M1_D1   1.194626   \n",
       "30         P27/P27.I047.007.WGS.Source.vcf.gz     I047_007_2M1_D1   1.041465   \n",
       "31      P28/P28.I057.002.WGS.HF.Source.vcf.gz     I057_002_2T1_D1   1.083430   \n",
       "32  P29/P29.I024.021.WGS.bwa.HF.Source.vcf.gz  AS-258811-LR-37678   0.928591   \n",
       "33  P30/P30.I070.021.WGS.bwa.HF.Source.vcf.gz  AS-261727-LR-38150   1.050802   \n",
       "34  P31/P31.I015.008.WGS.bwa.HF.Source.vcf.gz      I015.008.Tumor   0.993394   \n",
       "35  P32/P32.I027.011.WGS.bwa.HF.Source.vcf.gz      I027.011.Tumor   1.090837   \n",
       "36                                        NaN                 NaN   1.096571   \n",
       "37  P34/P34.I063.011.WGS.bwa.HF.Source.vcf.gz      I063.011.Tumor   1.186607   \n",
       "38     P35/P35.I013.017.hisat2.WGS.raw.vcf.gz  P35.I013.017.WGS.T   0.989249   \n",
       "39                                        NaN                 NaN   1.018703   \n",
       "40                                        NaN                 NaN   1.052808   \n",
       "41                                        NaN                 NaN   1.024779   \n",
       "42                                        NaN                 NaN   1.037994   \n",
       "43                                        NaN                 NaN   1.067438   \n",
       "44                                        NaN                 NaN   1.082341   \n",
       "\n",
       "    TAI  LOH  LST_3Mb  LST_4Mb  LST_5Mb  LST_6Mb  LST_7Mb  LST_8Mb  LST_9Mb  \\\n",
       "0     0    0       31       25       21       18       16       14       12   \n",
       "1     0    0       36       26       24       22       21       13       10   \n",
       "2     0    0      128      102       77       59       44       35       29   \n",
       "3     0    0       33       20       14       13       12        9        7   \n",
       "4     0    0       91       70       59       45       40       31       29   \n",
       "5     0    0      180      138      106       91       76       63       46   \n",
       "6     1    1       96       69       52       46       31       26       22   \n",
       "7     0    0       23       14       13       11       11        8        7   \n",
       "8     0    0      178      114       78       63       51       43       31   \n",
       "9     0    0       79       57       47       39       30       25       23   \n",
       "10    0    0       92       72       57       50       44       31       30   \n",
       "11    0    0      111       78       61       49       36       30       25   \n",
       "12    0    0       70       51       43       41       36       29       22   \n",
       "13    0    0       55       46       41       34       30       27       20   \n",
       "14    0    0      120       87       67       53       40       28       26   \n",
       "15    0    0       44       38       32       28       26       23       20   \n",
       "16    0    0       63       47       42       39       36       36       28   \n",
       "17   48   23      155      116       78       60       50       47       38   \n",
       "18    0    0       55       40       34       25       20       18       13   \n",
       "19    0    0       36       33       28       23       18       16       11   \n",
       "20    0    0      175      120       80       54       38       30       25   \n",
       "21    0    0      150      113       87       61       51       48       41   \n",
       "22    5    5        7        7        5        4        1        0        0   \n",
       "23    8    8        5        4        4        4        3        2        2   \n",
       "24    5    4       89       72       60       51       43       40       36   \n",
       "25    4    5       70       55       52       42       36       34       31   \n",
       "26    0    1       95       63       47       43       35       34       32   \n",
       "27    6    6        2        1        1        1        1        1        1   \n",
       "28    3    3       35       23       16       11        9        8        8   \n",
       "29    1    1      113       89       64       50       45       33       28   \n",
       "30   11   10      146       93       54       38       26       23       15   \n",
       "31    2    1       76       50       38       36       31       28       25   \n",
       "32    0    0       47       38       25       22       20       16       15   \n",
       "33    0    0       84       62       49       42       37       33       20   \n",
       "34    0    0       58       49       43       32       29       27       27   \n",
       "35    0    0      175      118       80       56       46       33       23   \n",
       "36    0    0       74       51       41       38       35       24       20   \n",
       "37    0    0       88       61       43       32       29       24       18   \n",
       "38    0    0       64       51       44       33       32       30       23   \n",
       "39    0    0       82       63       51       35       33       28       22   \n",
       "40    0    0       96       81       63       46       41       34       28   \n",
       "41    0    0       79       66       52       41       34       28       25   \n",
       "42    0    0       89       72       60       44       40       35       30   \n",
       "43    0    0       50       42       36       31       30       27       24   \n",
       "44    0    0       88       65       53       36       30       17       12   \n",
       "\n",
       "    LST_10Mb  LST_11Mb  HRD_11  HRD_10  HRD_9  HRD_8   Age Response-real  \\\n",
       "0          9         4       4       9     12     14   NaN       unknown   \n",
       "1          7         6       6       7     10     13   NaN       unknown   \n",
       "2         23        17      17      23     29     35  17.0       unknown   \n",
       "3          7         4       4       7      7      9  18.0      deceased   \n",
       "4         24        20      20      24     29     31  19.0      deceased   \n",
       "5         38        31      31      38     46     63  19.0      deceased   \n",
       "6         22        20      22      24     24     28  20.0      deceased   \n",
       "7          7         7       7       7      7      8   2.0       unknown   \n",
       "8         22        22      22      22     31     43   NaN      deceased   \n",
       "9         18        17      17      18     23     25   NaN        stable   \n",
       "10        28        26      26      28     30     31   NaN        stable   \n",
       "11        22        19      19      22     25     30  25.0       unknown   \n",
       "12        15        15      15      15     22     29  29.0       unknown   \n",
       "13        19        18      18      19     20     27  23.0       unknown   \n",
       "14        21        16      16      21     26     28  16.0       unknown   \n",
       "15        18        15      15      18     20     23   4.0       unknown   \n",
       "16        25        20      20      25     28     36  20.0       unknown   \n",
       "17        29        24      95     100    109    118  16.0        stable   \n",
       "18        13        12      12      13     13     18  20.0       unknown   \n",
       "19         9         7       7       9     11     16  17.0       unknown   \n",
       "20        15         9       9      15     25     30  18.0       unknown   \n",
       "21        36        27      27      36     41     48  16.0       unknown   \n",
       "22         0         0      10      10     10     10  16.0       unknown   \n",
       "23         2         2      18      18     18     18   NaN       unknown   \n",
       "24        33        29      38      42     45     49  14.0       unknown   \n",
       "25        26        23      32      35     40     43  18.0       unknown   \n",
       "26        28        25      26      29     33     35  15.0       unknown   \n",
       "27         1         0      12      13     13     13   NaN      deceased   \n",
       "28         8         7      13      14     14     14  15.0       unknown   \n",
       "29        22        20      22      24     30     35  14.0       unknown   \n",
       "30        10         8      29      31     36     44  14.0        stable   \n",
       "31        24        21      24      27     28     31  24.0       unknown   \n",
       "32        15        15      15      15     15     16  21.0       unknown   \n",
       "33        17        16      16      17     20     33  25.0       unknown   \n",
       "34        22        21      21      22     27     27  17.0       unknown   \n",
       "35        18        13      13      18     23     33  14.0       unknown   \n",
       "36        16        15      15      16     20     24  14.0       unknown   \n",
       "37        17        12      12      17     18     24  19.0       unknown   \n",
       "38        23        23      23      23     23     30  15.0       unknown   \n",
       "39        20        18      18      20     22     28   9.0       unknown   \n",
       "40        27        19      19      27     28     34  21.0       unknown   \n",
       "41        24        22      22      24     25     28  16.0       unknown   \n",
       "42        25        20      20      25     30     35  18.0       unknown   \n",
       "43        21        20      20      21     24     27  17.0       unknown   \n",
       "44         9         7       7       9     12     17  21.0       unknown   \n",
       "\n",
       "   Response-cell lines  \n",
       "0             negative  \n",
       "1             negative  \n",
       "2             negative  \n",
       "3             negative  \n",
       "4             negative  \n",
       "5             negative  \n",
       "6             negative  \n",
       "7             negative  \n",
       "8             positive  \n",
       "9             negative  \n",
       "10            negative  \n",
       "11            negative  \n",
       "12            negative  \n",
       "13            negative  \n",
       "14            negative  \n",
       "15            negative  \n",
       "16            negative  \n",
       "17            positive  \n",
       "18            negative  \n",
       "19            negative  \n",
       "20            negative  \n",
       "21            positive  \n",
       "22            negative  \n",
       "23            negative  \n",
       "24            positive  \n",
       "25            negative  \n",
       "26            negative  \n",
       "27            negative  \n",
       "28            negative  \n",
       "29            negative  \n",
       "30            positive  \n",
       "31            negative  \n",
       "32             unknown  \n",
       "33             unknown  \n",
       "34             unknown  \n",
       "35             unknown  \n",
       "36             unknown  \n",
       "37             unknown  \n",
       "38             unknown  \n",
       "39             unknown  \n",
       "40             unknown  \n",
       "41             unknown  \n",
       "42             unknown  \n",
       "43             unknown  \n",
       "44             unknown  "
      ]
     },
     "execution_count": 8,
     "metadata": {},
     "output_type": "execute_result"
    }
   ],
   "source": [
    "results_inform = pd.read_excel(\"../datasets/results/hrd_results_inform.xlsx\", index_col=0) \n",
    "\n",
    "results_inform"
   ]
  },
  {
   "cell_type": "markdown",
   "id": "moving-perspective",
   "metadata": {},
   "source": [
    "## Reálne výsledky"
   ]
  },
  {
   "cell_type": "markdown",
   "id": "human-diameter",
   "metadata": {},
   "source": [
    "### Porovnanie skupín pacientov"
   ]
  },
  {
   "cell_type": "markdown",
   "id": "excellent-indication",
   "metadata": {},
   "source": [
    "V tejto časti porovnáme rozdiely hodnôt jednotlivých atribútov medzi skupinou pacientov, u ktorých sa ochorenie stabilizovalo a skupinou pacientov, ktorý umreli.\n",
    "To, či je  medzi skupinami pacientov signifikantný rozdiel vzhľadom na hodnoty konkrétneho atribútu si overíme aj štatistickým testom. Vzhľadom na malé množstvo vzoriek v jednotlivých skupinách použijeme Welchov t-test."
   ]
  },
  {
   "cell_type": "code",
   "execution_count": 9,
   "id": "ceramic-thanks",
   "metadata": {},
   "outputs": [],
   "source": [
    "inform_known_response = results_inform.loc[results_inform['Response-real'] != 'unknown']"
   ]
  },
  {
   "cell_type": "code",
   "execution_count": 10,
   "id": "virgin-decision",
   "metadata": {},
   "outputs": [],
   "source": [
    "inform_stable = results_inform.loc[results_inform['Response-real'] == 'stable']\n",
    "inform_deceased = results_inform.loc[results_inform['Response-real'] == 'deceased']"
   ]
  },
  {
   "cell_type": "markdown",
   "id": "affiliated-wrong",
   "metadata": {},
   "source": [
    "#### TAI"
   ]
  },
  {
   "cell_type": "code",
   "execution_count": 11,
   "id": "lonely-maker",
   "metadata": {},
   "outputs": [
    {
     "data": {
      "text/plain": [
       "<AxesSubplot:xlabel='Response-real', ylabel='TAI'>"
      ]
     },
     "execution_count": 11,
     "metadata": {},
     "output_type": "execute_result"
    },
    {
     "data": {
      "image/png": "[encoded data removed]",
      "text/plain": [
       "<Figure size 432x288 with 1 Axes>"
      ]
     },
     "metadata": {
      "needs_background": "light"
     },
     "output_type": "display_data"
    }
   ],
   "source": [
    "sns.boxplot(x='Response-real', y='TAI', data=inform_known_response)"
   ]
  },
  {
   "cell_type": "code",
   "execution_count": 12,
   "id": "corrected-sally",
   "metadata": {},
   "outputs": [
    {
     "data": {
      "text/plain": [
       "Ttest_indResult(statistic=1.1889451456615616, pvalue=0.31886517839601425)"
      ]
     },
     "execution_count": 12,
     "metadata": {},
     "output_type": "execute_result"
    }
   ],
   "source": [
    "stats.ttest_ind(inform_stable['TAI'], inform_deceased['TAI'], equal_var=False)"
   ]
  },
  {
   "cell_type": "markdown",
   "id": "focal-pittsburgh",
   "metadata": {},
   "source": [
    "#### LOH"
   ]
  },
  {
   "cell_type": "code",
   "execution_count": 13,
   "id": "dangerous-moderator",
   "metadata": {},
   "outputs": [
    {
     "data": {
      "text/plain": [
       "<AxesSubplot:xlabel='Response-real', ylabel='LOH'>"
      ]
     },
     "execution_count": 13,
     "metadata": {},
     "output_type": "execute_result"
    },
    {
     "data": {
      "image/png": "[encoded data removed]",
      "text/plain": [
       "<Figure size 432x288 with 1 Axes>"
      ]
     },
     "metadata": {
      "needs_background": "light"
     },
     "output_type": "display_data"
    }
   ],
   "source": [
    "sns.boxplot(x='Response-real', y='LOH', data=inform_known_response)"
   ]
  },
  {
   "cell_type": "code",
   "execution_count": 14,
   "id": "supreme-strike",
   "metadata": {},
   "outputs": [
    {
     "data": {
      "text/plain": [
       "Ttest_indResult(statistic=1.278607566156202, pvalue=0.2860008275320764)"
      ]
     },
     "execution_count": 14,
     "metadata": {},
     "output_type": "execute_result"
    }
   ],
   "source": [
    "stats.ttest_ind(inform_stable['LOH'], inform_deceased['LOH'], equal_var=False)"
   ]
  },
  {
   "cell_type": "markdown",
   "id": "radio-istanbul",
   "metadata": {},
   "source": [
    "#### LST_11Mb"
   ]
  },
  {
   "cell_type": "code",
   "execution_count": 15,
   "id": "retained-dollar",
   "metadata": {},
   "outputs": [
    {
     "data": {
      "text/plain": [
       "<AxesSubplot:xlabel='Response-real', ylabel='LST_11Mb'>"
      ]
     },
     "execution_count": 15,
     "metadata": {},
     "output_type": "execute_result"
    },
    {
     "data": {
      "image/png": "[encoded data removed]",
      "text/plain": [
       "<Figure size 432x288 with 1 Axes>"
      ]
     },
     "metadata": {
      "needs_background": "light"
     },
     "output_type": "display_data"
    }
   ],
   "source": [
    "sns.boxplot(x='Response-real', y='LST_11Mb', data=inform_known_response)"
   ]
  },
  {
   "cell_type": "code",
   "execution_count": 16,
   "id": "hundred-alloy",
   "metadata": {},
   "outputs": [
    {
     "data": {
      "text/plain": [
       "Ttest_indResult(statistic=0.4102237717211921, pvalue=0.6924896703530292)"
      ]
     },
     "execution_count": 16,
     "metadata": {},
     "output_type": "execute_result"
    }
   ],
   "source": [
    "stats.ttest_ind(inform_stable['LST_11Mb'], inform_deceased['LST_11Mb'], equal_var=False)"
   ]
  },
  {
   "cell_type": "markdown",
   "id": "peaceful-religion",
   "metadata": {},
   "source": [
    "#### LST_10Mb"
   ]
  },
  {
   "cell_type": "code",
   "execution_count": 17,
   "id": "agricultural-neighbor",
   "metadata": {},
   "outputs": [
    {
     "data": {
      "text/plain": [
       "<AxesSubplot:xlabel='Response-real', ylabel='LST_10Mb'>"
      ]
     },
     "execution_count": 17,
     "metadata": {},
     "output_type": "execute_result"
    },
    {
     "data": {
      "image/png": "[encoded data removed]",
      "text/plain": [
       "<Figure size 432x288 with 1 Axes>"
      ]
     },
     "metadata": {
      "needs_background": "light"
     },
     "output_type": "display_data"
    }
   ],
   "source": [
    "sns.boxplot(x='Response-real', y='LST_10Mb', data=inform_known_response)"
   ]
  },
  {
   "cell_type": "code",
   "execution_count": 18,
   "id": "apparent-vector",
   "metadata": {},
   "outputs": [
    {
     "data": {
      "text/plain": [
       "Ttest_indResult(statistic=0.32046264417857045, pvalue=0.7568709648692061)"
      ]
     },
     "execution_count": 18,
     "metadata": {},
     "output_type": "execute_result"
    }
   ],
   "source": [
    "stats.ttest_ind(inform_stable['LST_10Mb'], inform_deceased['LST_10Mb'], equal_var=False)"
   ]
  },
  {
   "cell_type": "markdown",
   "id": "greenhouse-battery",
   "metadata": {},
   "source": [
    "#### HRD_11"
   ]
  },
  {
   "cell_type": "code",
   "execution_count": 19,
   "id": "olympic-honor",
   "metadata": {},
   "outputs": [
    {
     "data": {
      "text/plain": [
       "<AxesSubplot:xlabel='Response-real', ylabel='HRD_11'>"
      ]
     },
     "execution_count": 19,
     "metadata": {},
     "output_type": "execute_result"
    },
    {
     "data": {
      "image/png": "[encoded data removed]",
      "text/plain": [
       "<Figure size 432x288 with 1 Axes>"
      ]
     },
     "metadata": {
      "needs_background": "light"
     },
     "output_type": "display_data"
    }
   ],
   "source": [
    "sns.boxplot(x='Response-real', y='HRD_11', data=inform_known_response)"
   ]
  },
  {
   "cell_type": "code",
   "execution_count": 20,
   "id": "organized-badge",
   "metadata": {},
   "outputs": [
    {
     "data": {
      "text/plain": [
       "Ttest_indResult(statistic=1.2682420873163633, pvalue=0.28740997145848673)"
      ]
     },
     "execution_count": 20,
     "metadata": {},
     "output_type": "execute_result"
    }
   ],
   "source": [
    "stats.ttest_ind(inform_stable['HRD_11'], inform_deceased['HRD_11'], equal_var=False)"
   ]
  },
  {
   "cell_type": "markdown",
   "id": "varied-leather",
   "metadata": {},
   "source": [
    "#### HRD_10"
   ]
  },
  {
   "cell_type": "code",
   "execution_count": 21,
   "id": "organized-mitchell",
   "metadata": {},
   "outputs": [
    {
     "data": {
      "text/plain": [
       "<AxesSubplot:xlabel='Response-real', ylabel='HRD_10'>"
      ]
     },
     "execution_count": 21,
     "metadata": {},
     "output_type": "execute_result"
    },
    {
     "data": {
      "image/png": "[encoded data removed]",
      "text/plain": [
       "<Figure size 432x288 with 1 Axes>"
      ]
     },
     "metadata": {
      "needs_background": "light"
     },
     "output_type": "display_data"
    }
   ],
   "source": [
    "sns.boxplot(x='Response-real', y='HRD_10', data=inform_known_response)"
   ]
  },
  {
   "cell_type": "code",
   "execution_count": 22,
   "id": "unable-literacy",
   "metadata": {},
   "outputs": [
    {
     "data": {
      "text/plain": [
       "Ttest_indResult(statistic=1.188215962382784, pvalue=0.3126546187761141)"
      ]
     },
     "execution_count": 22,
     "metadata": {},
     "output_type": "execute_result"
    }
   ],
   "source": [
    "stats.ttest_ind(inform_stable['HRD_10'], inform_deceased['HRD_10'], equal_var=False)"
   ]
  },
  {
   "cell_type": "markdown",
   "id": "urban-express",
   "metadata": {},
   "source": [
    "Na všetkých boxplotoch možno vidieť, že pacienti, u ktorých nastala po nasadení liečby PARPi stabilizácia ochorenia, dosahujú o niečo vyššie hodnoty jednotlivých metrík. Rozdiely medzi skupinami však nepotvrdili štatistické testy, ktoré nedokázali vyvrátiť že skupiny majú rovnaký priemer hodnôt jednotlivých atribútov, čo bolo zrejme spôsobené veľmi malým množstvom dát."
   ]
  },
  {
   "cell_type": "markdown",
   "id": "stock-petite",
   "metadata": {},
   "source": [
    "### Klasifikácia"
   ]
  },
  {
   "cell_type": "code",
   "execution_count": 23,
   "id": "funny-rebel",
   "metadata": {},
   "outputs": [
    {
     "name": "stderr",
     "output_type": "stream",
     "text": [
      "/mnt/d/skola/Bakalarka/bp-env/lib/python3.8/site-packages/pandas/core/indexing.py:1599: SettingWithCopyWarning: \n",
      "A value is trying to be set on a copy of a slice from a DataFrame.\n",
      "Try using .loc[row_indexer,col_indexer] = value instead\n",
      "\n",
      "See the caveats in the documentation: https://pandas.pydata.org/pandas-docs/stable/user_guide/indexing.html#returning-a-view-versus-a-copy\n",
      "  self.obj[key] = infer_fill_value(value)\n",
      "/mnt/d/skola/Bakalarka/bp-env/lib/python3.8/site-packages/pandas/core/indexing.py:1720: SettingWithCopyWarning: \n",
      "A value is trying to be set on a copy of a slice from a DataFrame.\n",
      "Try using .loc[row_indexer,col_indexer] = value instead\n",
      "\n",
      "See the caveats in the documentation: https://pandas.pydata.org/pandas-docs/stable/user_guide/indexing.html#returning-a-view-versus-a-copy\n",
      "  self._setitem_single_column(loc, value, pi)\n"
     ]
    },
    {
     "data": {
      "text/html": [
       "<div>\n",
       "<style scoped>\n",
       "    .dataframe tbody tr th:only-of-type {\n",
       "        vertical-align: middle;\n",
       "    }\n",
       "\n",
       "    .dataframe tbody tr th {\n",
       "        vertical-align: top;\n",
       "    }\n",
       "\n",
       "    .dataframe thead th {\n",
       "        text-align: right;\n",
       "    }\n",
       "</style>\n",
       "<table border=\"1\" class=\"dataframe\">\n",
       "  <thead>\n",
       "    <tr style=\"text-align: right;\">\n",
       "      <th></th>\n",
       "      <th>Segmental report</th>\n",
       "      <th>VCF</th>\n",
       "      <th>Sample name</th>\n",
       "      <th>DNA index</th>\n",
       "      <th>TAI</th>\n",
       "      <th>LOH</th>\n",
       "      <th>LST_3Mb</th>\n",
       "      <th>LST_4Mb</th>\n",
       "      <th>LST_5Mb</th>\n",
       "      <th>LST_6Mb</th>\n",
       "      <th>LST_7Mb</th>\n",
       "      <th>LST_8Mb</th>\n",
       "      <th>LST_9Mb</th>\n",
       "      <th>LST_10Mb</th>\n",
       "      <th>LST_11Mb</th>\n",
       "      <th>HRD_11</th>\n",
       "      <th>HRD_10</th>\n",
       "      <th>HRD_9</th>\n",
       "      <th>HRD_8</th>\n",
       "      <th>Age</th>\n",
       "      <th>Response-real</th>\n",
       "      <th>Response-cell lines</th>\n",
       "      <th>Response-real numeric</th>\n",
       "    </tr>\n",
       "  </thead>\n",
       "  <tbody>\n",
       "    <tr>\n",
       "      <th>3</th>\n",
       "      <td>P03/P3.I062.007.WGS_events.txt</td>\n",
       "      <td>P03/P06.WGS.raw.vcf.gz</td>\n",
       "      <td>P6.Met4</td>\n",
       "      <td>1.023299</td>\n",
       "      <td>0</td>\n",
       "      <td>0</td>\n",
       "      <td>33</td>\n",
       "      <td>20</td>\n",
       "      <td>14</td>\n",
       "      <td>13</td>\n",
       "      <td>12</td>\n",
       "      <td>9</td>\n",
       "      <td>7</td>\n",
       "      <td>7</td>\n",
       "      <td>4</td>\n",
       "      <td>4</td>\n",
       "      <td>7</td>\n",
       "      <td>7</td>\n",
       "      <td>9</td>\n",
       "      <td>18.0</td>\n",
       "      <td>deceased</td>\n",
       "      <td>negative</td>\n",
       "      <td>0.0</td>\n",
       "    </tr>\n",
       "    <tr>\n",
       "      <th>4</th>\n",
       "      <td>P03/P3.I062.015.WGS_events.txt</td>\n",
       "      <td>P03/P06.WGS.raw.vcf.gz</td>\n",
       "      <td>P6.Met5</td>\n",
       "      <td>1.045612</td>\n",
       "      <td>0</td>\n",
       "      <td>0</td>\n",
       "      <td>91</td>\n",
       "      <td>70</td>\n",
       "      <td>59</td>\n",
       "      <td>45</td>\n",
       "      <td>40</td>\n",
       "      <td>31</td>\n",
       "      <td>29</td>\n",
       "      <td>24</td>\n",
       "      <td>20</td>\n",
       "      <td>20</td>\n",
       "      <td>24</td>\n",
       "      <td>29</td>\n",
       "      <td>31</td>\n",
       "      <td>19.0</td>\n",
       "      <td>deceased</td>\n",
       "      <td>negative</td>\n",
       "      <td>0.0</td>\n",
       "    </tr>\n",
       "    <tr>\n",
       "      <th>5</th>\n",
       "      <td>P03/P3.I062.022.WGS_events.txt</td>\n",
       "      <td>NaN</td>\n",
       "      <td>NaN</td>\n",
       "      <td>1.013319</td>\n",
       "      <td>0</td>\n",
       "      <td>0</td>\n",
       "      <td>180</td>\n",
       "      <td>138</td>\n",
       "      <td>106</td>\n",
       "      <td>91</td>\n",
       "      <td>76</td>\n",
       "      <td>63</td>\n",
       "      <td>46</td>\n",
       "      <td>38</td>\n",
       "      <td>31</td>\n",
       "      <td>31</td>\n",
       "      <td>38</td>\n",
       "      <td>46</td>\n",
       "      <td>63</td>\n",
       "      <td>19.0</td>\n",
       "      <td>deceased</td>\n",
       "      <td>negative</td>\n",
       "      <td>0.0</td>\n",
       "    </tr>\n",
       "    <tr>\n",
       "      <th>6</th>\n",
       "      <td>P03/P3.I062.033.WGS_events.txt</td>\n",
       "      <td>P03/P06.WGS.raw.vcf.gz</td>\n",
       "      <td>P6.Met7</td>\n",
       "      <td>1.048072</td>\n",
       "      <td>1</td>\n",
       "      <td>1</td>\n",
       "      <td>96</td>\n",
       "      <td>69</td>\n",
       "      <td>52</td>\n",
       "      <td>46</td>\n",
       "      <td>31</td>\n",
       "      <td>26</td>\n",
       "      <td>22</td>\n",
       "      <td>22</td>\n",
       "      <td>20</td>\n",
       "      <td>22</td>\n",
       "      <td>24</td>\n",
       "      <td>24</td>\n",
       "      <td>28</td>\n",
       "      <td>20.0</td>\n",
       "      <td>deceased</td>\n",
       "      <td>negative</td>\n",
       "      <td>0.0</td>\n",
       "    </tr>\n",
       "    <tr>\n",
       "      <th>8</th>\n",
       "      <td>P05/P5.HA.00B.WGS_events.txt</td>\n",
       "      <td>P05/P05.HA_00B.WGS.Source.vcf.gz</td>\n",
       "      <td>HA_00B.T</td>\n",
       "      <td>1.061233</td>\n",
       "      <td>0</td>\n",
       "      <td>0</td>\n",
       "      <td>178</td>\n",
       "      <td>114</td>\n",
       "      <td>78</td>\n",
       "      <td>63</td>\n",
       "      <td>51</td>\n",
       "      <td>43</td>\n",
       "      <td>31</td>\n",
       "      <td>22</td>\n",
       "      <td>22</td>\n",
       "      <td>22</td>\n",
       "      <td>22</td>\n",
       "      <td>31</td>\n",
       "      <td>43</td>\n",
       "      <td>NaN</td>\n",
       "      <td>deceased</td>\n",
       "      <td>positive</td>\n",
       "      <td>0.0</td>\n",
       "    </tr>\n",
       "    <tr>\n",
       "      <th>9</th>\n",
       "      <td>P06/P6.HD.00J.WGS_events.txt</td>\n",
       "      <td>P06/P06.HD_00J.WGS.HF.Source.vcf.gz</td>\n",
       "      <td>HD_00J.T</td>\n",
       "      <td>1.124490</td>\n",
       "      <td>0</td>\n",
       "      <td>0</td>\n",
       "      <td>79</td>\n",
       "      <td>57</td>\n",
       "      <td>47</td>\n",
       "      <td>39</td>\n",
       "      <td>30</td>\n",
       "      <td>25</td>\n",
       "      <td>23</td>\n",
       "      <td>18</td>\n",
       "      <td>17</td>\n",
       "      <td>17</td>\n",
       "      <td>18</td>\n",
       "      <td>23</td>\n",
       "      <td>25</td>\n",
       "      <td>NaN</td>\n",
       "      <td>stable</td>\n",
       "      <td>negative</td>\n",
       "      <td>1.0</td>\n",
       "    </tr>\n",
       "    <tr>\n",
       "      <th>10</th>\n",
       "      <td>P07/P7.MS.00A.WGS_events.txt</td>\n",
       "      <td>P07/P07.MS_00A.WGS.Source.vcf.gz</td>\n",
       "      <td>MS_00A.T</td>\n",
       "      <td>0.967578</td>\n",
       "      <td>0</td>\n",
       "      <td>0</td>\n",
       "      <td>92</td>\n",
       "      <td>72</td>\n",
       "      <td>57</td>\n",
       "      <td>50</td>\n",
       "      <td>44</td>\n",
       "      <td>31</td>\n",
       "      <td>30</td>\n",
       "      <td>28</td>\n",
       "      <td>26</td>\n",
       "      <td>26</td>\n",
       "      <td>28</td>\n",
       "      <td>30</td>\n",
       "      <td>31</td>\n",
       "      <td>NaN</td>\n",
       "      <td>stable</td>\n",
       "      <td>negative</td>\n",
       "      <td>1.0</td>\n",
       "    </tr>\n",
       "    <tr>\n",
       "      <th>17</th>\n",
       "      <td>P14/P14.I062.006.WES_events.txt</td>\n",
       "      <td>P14/P14.I062.006.WGS.HF.Source.vcf.gz</td>\n",
       "      <td>I062.006.T</td>\n",
       "      <td>1.134657</td>\n",
       "      <td>48</td>\n",
       "      <td>23</td>\n",
       "      <td>155</td>\n",
       "      <td>116</td>\n",
       "      <td>78</td>\n",
       "      <td>60</td>\n",
       "      <td>50</td>\n",
       "      <td>47</td>\n",
       "      <td>38</td>\n",
       "      <td>29</td>\n",
       "      <td>24</td>\n",
       "      <td>95</td>\n",
       "      <td>100</td>\n",
       "      <td>109</td>\n",
       "      <td>118</td>\n",
       "      <td>16.0</td>\n",
       "      <td>stable</td>\n",
       "      <td>positive</td>\n",
       "      <td>1.0</td>\n",
       "    </tr>\n",
       "    <tr>\n",
       "      <th>27</th>\n",
       "      <td>P24/P24.I062.035.WGS_events.txt</td>\n",
       "      <td>P24/P24.I062.035.WGS.Source.vcf.gz</td>\n",
       "      <td>I062_035_2M1_D1</td>\n",
       "      <td>1.000028</td>\n",
       "      <td>6</td>\n",
       "      <td>6</td>\n",
       "      <td>2</td>\n",
       "      <td>1</td>\n",
       "      <td>1</td>\n",
       "      <td>1</td>\n",
       "      <td>1</td>\n",
       "      <td>1</td>\n",
       "      <td>1</td>\n",
       "      <td>1</td>\n",
       "      <td>0</td>\n",
       "      <td>12</td>\n",
       "      <td>13</td>\n",
       "      <td>13</td>\n",
       "      <td>13</td>\n",
       "      <td>NaN</td>\n",
       "      <td>deceased</td>\n",
       "      <td>negative</td>\n",
       "      <td>0.0</td>\n",
       "    </tr>\n",
       "    <tr>\n",
       "      <th>30</th>\n",
       "      <td>P27/P27.I047.007.WGS_events.txt</td>\n",
       "      <td>P27/P27.I047.007.WGS.Source.vcf.gz</td>\n",
       "      <td>I047_007_2M1_D1</td>\n",
       "      <td>1.041465</td>\n",
       "      <td>11</td>\n",
       "      <td>10</td>\n",
       "      <td>146</td>\n",
       "      <td>93</td>\n",
       "      <td>54</td>\n",
       "      <td>38</td>\n",
       "      <td>26</td>\n",
       "      <td>23</td>\n",
       "      <td>15</td>\n",
       "      <td>10</td>\n",
       "      <td>8</td>\n",
       "      <td>29</td>\n",
       "      <td>31</td>\n",
       "      <td>36</td>\n",
       "      <td>44</td>\n",
       "      <td>14.0</td>\n",
       "      <td>stable</td>\n",
       "      <td>positive</td>\n",
       "      <td>1.0</td>\n",
       "    </tr>\n",
       "  </tbody>\n",
       "</table>\n",
       "</div>"
      ],
      "text/plain": [
       "                   Segmental report                                    VCF  \\\n",
       "3    P03/P3.I062.007.WGS_events.txt                 P03/P06.WGS.raw.vcf.gz   \n",
       "4    P03/P3.I062.015.WGS_events.txt                 P03/P06.WGS.raw.vcf.gz   \n",
       "5    P03/P3.I062.022.WGS_events.txt                                    NaN   \n",
       "6    P03/P3.I062.033.WGS_events.txt                 P03/P06.WGS.raw.vcf.gz   \n",
       "8      P05/P5.HA.00B.WGS_events.txt       P05/P05.HA_00B.WGS.Source.vcf.gz   \n",
       "9      P06/P6.HD.00J.WGS_events.txt    P06/P06.HD_00J.WGS.HF.Source.vcf.gz   \n",
       "10     P07/P7.MS.00A.WGS_events.txt       P07/P07.MS_00A.WGS.Source.vcf.gz   \n",
       "17  P14/P14.I062.006.WES_events.txt  P14/P14.I062.006.WGS.HF.Source.vcf.gz   \n",
       "27  P24/P24.I062.035.WGS_events.txt     P24/P24.I062.035.WGS.Source.vcf.gz   \n",
       "30  P27/P27.I047.007.WGS_events.txt     P27/P27.I047.007.WGS.Source.vcf.gz   \n",
       "\n",
       "        Sample name  DNA index  TAI  LOH  LST_3Mb  LST_4Mb  LST_5Mb  LST_6Mb  \\\n",
       "3           P6.Met4   1.023299    0    0       33       20       14       13   \n",
       "4           P6.Met5   1.045612    0    0       91       70       59       45   \n",
       "5               NaN   1.013319    0    0      180      138      106       91   \n",
       "6           P6.Met7   1.048072    1    1       96       69       52       46   \n",
       "8          HA_00B.T   1.061233    0    0      178      114       78       63   \n",
       "9          HD_00J.T   1.124490    0    0       79       57       47       39   \n",
       "10         MS_00A.T   0.967578    0    0       92       72       57       50   \n",
       "17       I062.006.T   1.134657   48   23      155      116       78       60   \n",
       "27  I062_035_2M1_D1   1.000028    6    6        2        1        1        1   \n",
       "30  I047_007_2M1_D1   1.041465   11   10      146       93       54       38   \n",
       "\n",
       "    LST_7Mb  LST_8Mb  LST_9Mb  LST_10Mb  LST_11Mb  HRD_11  HRD_10  HRD_9  \\\n",
       "3        12        9        7         7         4       4       7      7   \n",
       "4        40       31       29        24        20      20      24     29   \n",
       "5        76       63       46        38        31      31      38     46   \n",
       "6        31       26       22        22        20      22      24     24   \n",
       "8        51       43       31        22        22      22      22     31   \n",
       "9        30       25       23        18        17      17      18     23   \n",
       "10       44       31       30        28        26      26      28     30   \n",
       "17       50       47       38        29        24      95     100    109   \n",
       "27        1        1        1         1         0      12      13     13   \n",
       "30       26       23       15        10         8      29      31     36   \n",
       "\n",
       "    HRD_8   Age Response-real Response-cell lines  Response-real numeric  \n",
       "3       9  18.0      deceased            negative                    0.0  \n",
       "4      31  19.0      deceased            negative                    0.0  \n",
       "5      63  19.0      deceased            negative                    0.0  \n",
       "6      28  20.0      deceased            negative                    0.0  \n",
       "8      43   NaN      deceased            positive                    0.0  \n",
       "9      25   NaN        stable            negative                    1.0  \n",
       "10     31   NaN        stable            negative                    1.0  \n",
       "17    118  16.0        stable            positive                    1.0  \n",
       "27     13   NaN      deceased            negative                    0.0  \n",
       "30     44  14.0        stable            positive                    1.0  "
      ]
     },
     "execution_count": 23,
     "metadata": {},
     "output_type": "execute_result"
    }
   ],
   "source": [
    "inform_known_response.loc[inform_known_response['Response-real'] == 'deceased', 'Response-real numeric'] = 0\n",
    "inform_known_response.loc[inform_known_response['Response-real'] == 'stable', 'Response-real numeric'] = 1\n",
    "\n",
    "inform_known_response"
   ]
  },
  {
   "cell_type": "code",
   "execution_count": 24,
   "id": "coupled-canadian",
   "metadata": {},
   "outputs": [],
   "source": [
    "def predict(data, treshold):\n",
    "    y_pred = []\n",
    "    for record in data:\n",
    "        if record > treshold:\n",
    "            y_pred.append(1)\n",
    "        else:\n",
    "            y_pred.append(0)\n",
    "            \n",
    "    return y_pred"
   ]
  },
  {
   "cell_type": "code",
   "execution_count": 25,
   "id": "official-colonial",
   "metadata": {},
   "outputs": [],
   "source": [
    "def find_best_treshold(data, y_true, tresholds):\n",
    "    best_treshold = -1\n",
    "    best_score = 0\n",
    "    \n",
    "    for treshold in tresholds:\n",
    "        y_pred = predict(data, treshold)\n",
    "        \n",
    "        score = f1_score(y_true, y_pred)\n",
    "        if(score > best_score):\n",
    "            best_treshold = treshold\n",
    "            best_score = score\n",
    "            \n",
    "    return best_treshold, best_score"
   ]
  },
  {
   "cell_type": "code",
   "execution_count": 26,
   "id": "vocational-browser",
   "metadata": {},
   "outputs": [],
   "source": [
    "y_true = inform_known_response['Response-real numeric'].tolist()"
   ]
  },
  {
   "cell_type": "markdown",
   "id": "conditional-tunisia",
   "metadata": {},
   "source": [
    "#### LST 10 Mb"
   ]
  },
  {
   "cell_type": "markdown",
   "id": "greenhouse-physiology",
   "metadata": {},
   "source": [
    "##### Vyhodnotenie pre hraničné skóre podľa článku"
   ]
  },
  {
   "cell_type": "code",
   "execution_count": 27,
   "id": "equal-guest",
   "metadata": {},
   "outputs": [],
   "source": [
    "LST_10_treshold = 11"
   ]
  },
  {
   "cell_type": "code",
   "execution_count": 28,
   "id": "loved-colony",
   "metadata": {},
   "outputs": [],
   "source": [
    "data_LST_10 = inform_known_response['LST_10Mb'].tolist()"
   ]
  },
  {
   "cell_type": "code",
   "execution_count": 29,
   "id": "loose-amendment",
   "metadata": {},
   "outputs": [
    {
     "data": {
      "text/plain": [
       "<AxesSubplot:>"
      ]
     },
     "execution_count": 29,
     "metadata": {},
     "output_type": "execute_result"
    },
    {
     "data": {
      "image/png": "[encoded data removed]",
      "text/plain": [
       "<Figure size 432x288 with 2 Axes>"
      ]
     },
     "metadata": {
      "needs_background": "light"
     },
     "output_type": "display_data"
    }
   ],
   "source": [
    "y_pred_LST_10 = predict(data_LST_10, LST_10_treshold)\n",
    "\n",
    "cm = confusion_matrix(y_true, y_pred_LST_10)\n",
    "df_cm = pd.DataFrame(cm, index=['Actual negative', 'Actual positive'], columns=['Predicted negative', 'Predicted positive'])\n",
    "\n",
    "sns.heatmap(df_cm, annot=True)"
   ]
  },
  {
   "cell_type": "code",
   "execution_count": 30,
   "id": "retained-mountain",
   "metadata": {},
   "outputs": [
    {
     "data": {
      "text/plain": [
       "0.5454545454545454"
      ]
     },
     "execution_count": 30,
     "metadata": {},
     "output_type": "execute_result"
    }
   ],
   "source": [
    "f1_score(y_true, y_pred_LST_10)"
   ]
  },
  {
   "cell_type": "markdown",
   "id": "shared-sphere",
   "metadata": {},
   "source": [
    "##### Pokus o nájdenie najoptimálnejšieho LST_10Mb hraničného skóre"
   ]
  },
  {
   "cell_type": "code",
   "execution_count": 31,
   "id": "altered-prime",
   "metadata": {},
   "outputs": [
    {
     "data": {
      "text/plain": [
       "(7, 0.6666666666666666)"
      ]
     },
     "execution_count": 31,
     "metadata": {},
     "output_type": "execute_result"
    }
   ],
   "source": [
    "best_LST_10_treshold, best_LST_10_f1_score = find_best_treshold(data_LST_10, y_true, [x for x in range(7, 15)])\n",
    "\n",
    "best_LST_10_treshold, best_LST_10_f1_score"
   ]
  },
  {
   "cell_type": "markdown",
   "id": "documented-patent",
   "metadata": {},
   "source": [
    "Na našich dátach sa ukázalo ako optimálne hraničné skóre metriky LST 10Mb hodnota 7."
   ]
  },
  {
   "cell_type": "markdown",
   "id": "wound-musical",
   "metadata": {},
   "source": [
    "Skúsime si vizualizovať výsledky pri použití hraničného skóre 7."
   ]
  },
  {
   "cell_type": "code",
   "execution_count": 32,
   "id": "usual-madonna",
   "metadata": {},
   "outputs": [
    {
     "data": {
      "text/plain": [
       "<AxesSubplot:>"
      ]
     },
     "execution_count": 32,
     "metadata": {},
     "output_type": "execute_result"
    },
    {
     "data": {
      "image/png": "[encoded data removed]",
      "text/plain": [
       "<Figure size 432x288 with 2 Axes>"
      ]
     },
     "metadata": {
      "needs_background": "light"
     },
     "output_type": "display_data"
    }
   ],
   "source": [
    "y_pred_LST_10_best = predict(data_LST_10, best_LST_10_treshold)\n",
    "\n",
    "cm = confusion_matrix(y_true, y_pred_LST_10_best)\n",
    "df_cm = pd.DataFrame(cm, index=['Actual negative', 'Actual positive'], columns=['Predicted negative', 'Predicted positive'])\n",
    "\n",
    "sns.heatmap(df_cm, annot=True)"
   ]
  },
  {
   "cell_type": "markdown",
   "id": "vertical-special",
   "metadata": {},
   "source": [
    "##### HRD s LST 10 Mb"
   ]
  },
  {
   "cell_type": "markdown",
   "id": "experimental-partition",
   "metadata": {},
   "source": [
    "##### Vyhodnotenie pre hraničné skóre podľa článku"
   ]
  },
  {
   "cell_type": "code",
   "execution_count": 33,
   "id": "individual-brighton",
   "metadata": {},
   "outputs": [],
   "source": [
    "HRD_10_treshold = 42"
   ]
  },
  {
   "cell_type": "code",
   "execution_count": 34,
   "id": "disabled-phoenix",
   "metadata": {},
   "outputs": [],
   "source": [
    "data_HRD_10 = inform_known_response['HRD_10'].tolist()"
   ]
  },
  {
   "cell_type": "code",
   "execution_count": 35,
   "id": "spatial-person",
   "metadata": {},
   "outputs": [
    {
     "data": {
      "text/plain": [
       "<AxesSubplot:>"
      ]
     },
     "execution_count": 35,
     "metadata": {},
     "output_type": "execute_result"
    },
    {
     "data": {
      "image/png": "[encoded data removed]",
      "text/plain": [
       "<Figure size 432x288 with 2 Axes>"
      ]
     },
     "metadata": {
      "needs_background": "light"
     },
     "output_type": "display_data"
    }
   ],
   "source": [
    "y_pred_HRD_10 = predict(data_HRD_10, HRD_10_treshold)\n",
    "\n",
    "cm = confusion_matrix(y_true, y_pred_HRD_10)\n",
    "df_cm = pd.DataFrame(cm, index=['Actual negative', 'Actual positive'], columns=['Predicted negative', 'Predicted positive'])\n",
    "\n",
    "sns.heatmap(df_cm, annot=True)"
   ]
  },
  {
   "cell_type": "code",
   "execution_count": 36,
   "id": "solid-outline",
   "metadata": {},
   "outputs": [
    {
     "data": {
      "text/plain": [
       "0.4"
      ]
     },
     "execution_count": 36,
     "metadata": {},
     "output_type": "execute_result"
    }
   ],
   "source": [
    "f1_score(y_true, y_pred_HRD_10)"
   ]
  },
  {
   "cell_type": "markdown",
   "id": "initial-andrew",
   "metadata": {},
   "source": [
    "Vzhľadom na to že hranica 42 je pri našich dátach pomerne vysoká, metóda pri tejto hranici nedokázala dobre zaklasifikovať tumory."
   ]
  },
  {
   "cell_type": "markdown",
   "id": "concrete-footwear",
   "metadata": {},
   "source": [
    "Vyskúšame klasifikáciu s nižšími hraničnými hodnotami."
   ]
  },
  {
   "cell_type": "markdown",
   "id": "derived-prediction",
   "metadata": {},
   "source": [
    "##### 90 percentil ako HRD_10 hraničné skóre"
   ]
  },
  {
   "cell_type": "code",
   "execution_count": 37,
   "id": "flying-assist",
   "metadata": {},
   "outputs": [],
   "source": [
    "HRD_10_treshold_2 = np.percentile(results_inform['HRD_10'], 90)"
   ]
  },
  {
   "cell_type": "code",
   "execution_count": 38,
   "id": "caroline-british",
   "metadata": {},
   "outputs": [],
   "source": [
    "HRD_10_treshold_2 = 33"
   ]
  },
  {
   "cell_type": "code",
   "execution_count": 39,
   "id": "enhanced-incidence",
   "metadata": {},
   "outputs": [
    {
     "data": {
      "text/plain": [
       "<AxesSubplot:>"
      ]
     },
     "execution_count": 39,
     "metadata": {},
     "output_type": "execute_result"
    },
    {
     "data": {
      "image/png": "[encoded data removed]",
      "text/plain": [
       "<Figure size 432x288 with 2 Axes>"
      ]
     },
     "metadata": {
      "needs_background": "light"
     },
     "output_type": "display_data"
    }
   ],
   "source": [
    "y_pred_HRD_10_2 = predict(data_HRD_10, HRD_10_treshold_2)\n",
    "\n",
    "cm = confusion_matrix(y_true, y_pred_HRD_10_2)\n",
    "df_cm = pd.DataFrame(cm, index=['Actual negative', 'Actual positive'], columns=['Predicted negative', 'Predicted positive'])\n",
    "\n",
    "sns.heatmap(df_cm, annot=True)"
   ]
  },
  {
   "cell_type": "code",
   "execution_count": 48,
   "id": "smart-primary",
   "metadata": {},
   "outputs": [
    {
     "data": {
      "text/plain": [
       "0.3333333333333333"
      ]
     },
     "execution_count": 48,
     "metadata": {},
     "output_type": "execute_result"
    }
   ],
   "source": [
    "f1_score(y_true, y_pred_HRD_10_2)"
   ]
  },
  {
   "cell_type": "markdown",
   "id": "assumed-agriculture",
   "metadata": {},
   "source": [
    "Pri použití 90 percentilu je F1 skóre ešte nižšie."
   ]
  },
  {
   "cell_type": "markdown",
   "id": "thrown-share",
   "metadata": {},
   "source": [
    "##### Pokus o nájdenie najoptimálnejšieho HRD_10 hraničného skóre"
   ]
  },
  {
   "cell_type": "code",
   "execution_count": 51,
   "id": "aware-british",
   "metadata": {},
   "outputs": [
    {
     "data": {
      "text/plain": [
       "(25, 0.75)"
      ]
     },
     "execution_count": 51,
     "metadata": {},
     "output_type": "execute_result"
    }
   ],
   "source": [
    "best_HRD_10_treshold, best_HRD_10_f1_score = find_best_treshold(data_HRD_10, y_true, [x for x in range(25, 42)])\n",
    "\n",
    "best_HRD_10_treshold, best_HRD_10_f1_score"
   ]
  },
  {
   "cell_type": "code",
   "execution_count": 41,
   "id": "heavy-morrison",
   "metadata": {},
   "outputs": [
    {
     "data": {
      "text/plain": [
       "<AxesSubplot:>"
      ]
     },
     "execution_count": 41,
     "metadata": {},
     "output_type": "execute_result"
    },
    {
     "data": {
      "image/png": "[encoded data removed]",
      "text/plain": [
       "<Figure size 432x288 with 2 Axes>"
      ]
     },
     "metadata": {
      "needs_background": "light"
     },
     "output_type": "display_data"
    }
   ],
   "source": [
    "y_pred_HRD_10_best = predict(data_HRD_10, best_HRD_10_treshold)\n",
    "\n",
    "cm = confusion_matrix(y_true, y_pred_HRD_10_best)\n",
    "df_cm = pd.DataFrame(cm, index=['Actual negative', 'Actual positive'], columns=['Predicted negative', 'Predicted positive'])\n",
    "\n",
    "sns.heatmap(df_cm, annot=True)"
   ]
  },
  {
   "cell_type": "markdown",
   "id": "objective-terror",
   "metadata": {},
   "source": [
    "Ako najlepšie klasifikujúce hraničné HRD skóre sa ukázala byť hodnota 25."
   ]
  },
  {
   "cell_type": "markdown",
   "id": "fatal-trinity",
   "metadata": {},
   "source": [
    "Vyzerá, že HRD klasifikuje lepšie ako LST 10Mb."
   ]
  },
  {
   "cell_type": "markdown",
   "id": "direct-crown",
   "metadata": {},
   "source": [
    "Vzhľadom na celkovú distribúciu hodnôt metrík TAI a LOH nevyzerá, že by mohli byť úspešné ako samostatné metódy. Napriek tomu podobne ako pri predošlých algoritmoch skúsime vyhodnotiť a optimalizovať klasifikáciu pomocou týchto metód. "
   ]
  },
  {
   "cell_type": "markdown",
   "id": "honest-purple",
   "metadata": {},
   "source": [
    "##### LOH"
   ]
  },
  {
   "cell_type": "code",
   "execution_count": 42,
   "id": "emerging-france",
   "metadata": {},
   "outputs": [],
   "source": [
    "data_LOH = inform_known_response['LOH'].tolist()"
   ]
  },
  {
   "cell_type": "code",
   "execution_count": 43,
   "id": "crude-intranet",
   "metadata": {},
   "outputs": [
    {
     "data": {
      "text/plain": [
       "(6, 0.6666666666666666)"
      ]
     },
     "execution_count": 43,
     "metadata": {},
     "output_type": "execute_result"
    }
   ],
   "source": [
    "best_LOH_treshold, best_LOH_f1_score = find_best_treshold(data_LOH, y_true, [x for x in range(0, 11)])\n",
    "\n",
    "best_LOH_treshold, best_LOH_f1_score"
   ]
  },
  {
   "cell_type": "code",
   "execution_count": 44,
   "id": "personalized-wayne",
   "metadata": {},
   "outputs": [
    {
     "data": {
      "text/plain": [
       "<AxesSubplot:>"
      ]
     },
     "execution_count": 44,
     "metadata": {},
     "output_type": "execute_result"
    },
    {
     "data": {
      "image/png": "[encoded data removed]",
      "text/plain": [
       "<Figure size 432x288 with 2 Axes>"
      ]
     },
     "metadata": {
      "needs_background": "light"
     },
     "output_type": "display_data"
    }
   ],
   "source": [
    "y_pred_LOH_best = predict(data_LOH, best_LOH_treshold)\n",
    "\n",
    "cm = confusion_matrix(y_true, y_pred_LOH_best)\n",
    "df_cm = pd.DataFrame(cm, index=['Actual negative', 'Actual positive'], columns=['Predicted negative', 'Predicted positive'])\n",
    "\n",
    "sns.heatmap(df_cm, annot=True)"
   ]
  },
  {
   "cell_type": "markdown",
   "id": "communist-dialogue",
   "metadata": {},
   "source": [
    "##### TAI"
   ]
  },
  {
   "cell_type": "code",
   "execution_count": 45,
   "id": "afraid-testament",
   "metadata": {},
   "outputs": [],
   "source": [
    "data_TAI = inform_known_response['TAI'].tolist()"
   ]
  },
  {
   "cell_type": "code",
   "execution_count": 46,
   "id": "dramatic-gilbert",
   "metadata": {},
   "outputs": [
    {
     "data": {
      "text/plain": [
       "(6, 0.6666666666666666)"
      ]
     },
     "execution_count": 46,
     "metadata": {},
     "output_type": "execute_result"
    }
   ],
   "source": [
    "best_TAI_treshold, best_TAI_f1_score = find_best_treshold(data_TAI, y_true, [x for x in range(0, 11)])\n",
    "\n",
    "best_TAI_treshold, best_TAI_f1_score"
   ]
  },
  {
   "cell_type": "code",
   "execution_count": 47,
   "id": "loaded-burlington",
   "metadata": {},
   "outputs": [
    {
     "data": {
      "text/plain": [
       "<AxesSubplot:>"
      ]
     },
     "execution_count": 47,
     "metadata": {},
     "output_type": "execute_result"
    },
    {
     "data": {
      "image/png": "[encoded data removed]",
      "text/plain": [
       "<Figure size 432x288 with 2 Axes>"
      ]
     },
     "metadata": {
      "needs_background": "light"
     },
     "output_type": "display_data"
    }
   ],
   "source": [
    "y_pred_TAI_best = predict(data_TAI, best_TAI_treshold)\n",
    "\n",
    "cm = confusion_matrix(y_true, y_pred_TAI_best)\n",
    "df_cm = pd.DataFrame(cm, index=['Actual negative', 'Actual positive'], columns=['Predicted negative', 'Predicted positive'])\n",
    "\n",
    "sns.heatmap(df_cm, annot=True)"
   ]
  },
  {
   "cell_type": "markdown",
   "id": "fifty-cooling",
   "metadata": {},
   "source": [
    "Ako optimálne hraničné skóre sa ukázala byť hodnota 6 pri oboch metrikách. Avšak tieto hodnoty sú zrejme vzhľadom na veľmi malé množstvo dát skreslené."
   ]
  },
  {
   "cell_type": "markdown",
   "id": "middle-shower",
   "metadata": {},
   "source": [
    "#### Analýza pozitívnych pacientov"
   ]
  },
  {
   "cell_type": "code",
   "execution_count": 52,
   "id": "annual-exhibition",
   "metadata": {},
   "outputs": [
    {
     "data": {
      "text/html": [
       "<div>\n",
       "<style scoped>\n",
       "    .dataframe tbody tr th:only-of-type {\n",
       "        vertical-align: middle;\n",
       "    }\n",
       "\n",
       "    .dataframe tbody tr th {\n",
       "        vertical-align: top;\n",
       "    }\n",
       "\n",
       "    .dataframe thead th {\n",
       "        text-align: right;\n",
       "    }\n",
       "</style>\n",
       "<table border=\"1\" class=\"dataframe\">\n",
       "  <thead>\n",
       "    <tr style=\"text-align: right;\">\n",
       "      <th></th>\n",
       "      <th>Segmental report</th>\n",
       "      <th>VCF</th>\n",
       "      <th>Sample name</th>\n",
       "      <th>DNA index</th>\n",
       "      <th>TAI</th>\n",
       "      <th>LOH</th>\n",
       "      <th>LST_3Mb</th>\n",
       "      <th>LST_4Mb</th>\n",
       "      <th>LST_5Mb</th>\n",
       "      <th>LST_6Mb</th>\n",
       "      <th>LST_7Mb</th>\n",
       "      <th>LST_8Mb</th>\n",
       "      <th>LST_9Mb</th>\n",
       "      <th>LST_10Mb</th>\n",
       "      <th>LST_11Mb</th>\n",
       "      <th>HRD_11</th>\n",
       "      <th>HRD_10</th>\n",
       "      <th>HRD_9</th>\n",
       "      <th>HRD_8</th>\n",
       "      <th>Age</th>\n",
       "      <th>Response-real</th>\n",
       "      <th>Response-cell lines</th>\n",
       "      <th>Response-real numeric</th>\n",
       "    </tr>\n",
       "  </thead>\n",
       "  <tbody>\n",
       "    <tr>\n",
       "      <th>9</th>\n",
       "      <td>P06/P6.HD.00J.WGS_events.txt</td>\n",
       "      <td>P06/P06.HD_00J.WGS.HF.Source.vcf.gz</td>\n",
       "      <td>HD_00J.T</td>\n",
       "      <td>1.124490</td>\n",
       "      <td>0</td>\n",
       "      <td>0</td>\n",
       "      <td>79</td>\n",
       "      <td>57</td>\n",
       "      <td>47</td>\n",
       "      <td>39</td>\n",
       "      <td>30</td>\n",
       "      <td>25</td>\n",
       "      <td>23</td>\n",
       "      <td>18</td>\n",
       "      <td>17</td>\n",
       "      <td>17</td>\n",
       "      <td>18</td>\n",
       "      <td>23</td>\n",
       "      <td>25</td>\n",
       "      <td>NaN</td>\n",
       "      <td>stable</td>\n",
       "      <td>negative</td>\n",
       "      <td>1.0</td>\n",
       "    </tr>\n",
       "    <tr>\n",
       "      <th>10</th>\n",
       "      <td>P07/P7.MS.00A.WGS_events.txt</td>\n",
       "      <td>P07/P07.MS_00A.WGS.Source.vcf.gz</td>\n",
       "      <td>MS_00A.T</td>\n",
       "      <td>0.967578</td>\n",
       "      <td>0</td>\n",
       "      <td>0</td>\n",
       "      <td>92</td>\n",
       "      <td>72</td>\n",
       "      <td>57</td>\n",
       "      <td>50</td>\n",
       "      <td>44</td>\n",
       "      <td>31</td>\n",
       "      <td>30</td>\n",
       "      <td>28</td>\n",
       "      <td>26</td>\n",
       "      <td>26</td>\n",
       "      <td>28</td>\n",
       "      <td>30</td>\n",
       "      <td>31</td>\n",
       "      <td>NaN</td>\n",
       "      <td>stable</td>\n",
       "      <td>negative</td>\n",
       "      <td>1.0</td>\n",
       "    </tr>\n",
       "    <tr>\n",
       "      <th>17</th>\n",
       "      <td>P14/P14.I062.006.WES_events.txt</td>\n",
       "      <td>P14/P14.I062.006.WGS.HF.Source.vcf.gz</td>\n",
       "      <td>I062.006.T</td>\n",
       "      <td>1.134657</td>\n",
       "      <td>48</td>\n",
       "      <td>23</td>\n",
       "      <td>155</td>\n",
       "      <td>116</td>\n",
       "      <td>78</td>\n",
       "      <td>60</td>\n",
       "      <td>50</td>\n",
       "      <td>47</td>\n",
       "      <td>38</td>\n",
       "      <td>29</td>\n",
       "      <td>24</td>\n",
       "      <td>95</td>\n",
       "      <td>100</td>\n",
       "      <td>109</td>\n",
       "      <td>118</td>\n",
       "      <td>16.0</td>\n",
       "      <td>stable</td>\n",
       "      <td>positive</td>\n",
       "      <td>1.0</td>\n",
       "    </tr>\n",
       "    <tr>\n",
       "      <th>30</th>\n",
       "      <td>P27/P27.I047.007.WGS_events.txt</td>\n",
       "      <td>P27/P27.I047.007.WGS.Source.vcf.gz</td>\n",
       "      <td>I047_007_2M1_D1</td>\n",
       "      <td>1.041465</td>\n",
       "      <td>11</td>\n",
       "      <td>10</td>\n",
       "      <td>146</td>\n",
       "      <td>93</td>\n",
       "      <td>54</td>\n",
       "      <td>38</td>\n",
       "      <td>26</td>\n",
       "      <td>23</td>\n",
       "      <td>15</td>\n",
       "      <td>10</td>\n",
       "      <td>8</td>\n",
       "      <td>29</td>\n",
       "      <td>31</td>\n",
       "      <td>36</td>\n",
       "      <td>44</td>\n",
       "      <td>14.0</td>\n",
       "      <td>stable</td>\n",
       "      <td>positive</td>\n",
       "      <td>1.0</td>\n",
       "    </tr>\n",
       "  </tbody>\n",
       "</table>\n",
       "</div>"
      ],
      "text/plain": [
       "                   Segmental report                                    VCF  \\\n",
       "9      P06/P6.HD.00J.WGS_events.txt    P06/P06.HD_00J.WGS.HF.Source.vcf.gz   \n",
       "10     P07/P7.MS.00A.WGS_events.txt       P07/P07.MS_00A.WGS.Source.vcf.gz   \n",
       "17  P14/P14.I062.006.WES_events.txt  P14/P14.I062.006.WGS.HF.Source.vcf.gz   \n",
       "30  P27/P27.I047.007.WGS_events.txt     P27/P27.I047.007.WGS.Source.vcf.gz   \n",
       "\n",
       "        Sample name  DNA index  TAI  LOH  LST_3Mb  LST_4Mb  LST_5Mb  LST_6Mb  \\\n",
       "9          HD_00J.T   1.124490    0    0       79       57       47       39   \n",
       "10         MS_00A.T   0.967578    0    0       92       72       57       50   \n",
       "17       I062.006.T   1.134657   48   23      155      116       78       60   \n",
       "30  I047_007_2M1_D1   1.041465   11   10      146       93       54       38   \n",
       "\n",
       "    LST_7Mb  LST_8Mb  LST_9Mb  LST_10Mb  LST_11Mb  HRD_11  HRD_10  HRD_9  \\\n",
       "9        30       25       23        18        17      17      18     23   \n",
       "10       44       31       30        28        26      26      28     30   \n",
       "17       50       47       38        29        24      95     100    109   \n",
       "30       26       23       15        10         8      29      31     36   \n",
       "\n",
       "    HRD_8   Age Response-real Response-cell lines  Response-real numeric  \n",
       "9      25   NaN        stable            negative                    1.0  \n",
       "10     31   NaN        stable            negative                    1.0  \n",
       "17    118  16.0        stable            positive                    1.0  \n",
       "30     44  14.0        stable            positive                    1.0  "
      ]
     },
     "execution_count": 52,
     "metadata": {},
     "output_type": "execute_result"
    }
   ],
   "source": [
    "inform_stable = inform_known_response.loc[inform_known_response['Response-real'] == 'stable']\n",
    "\n",
    "inform_stable"
   ]
  },
  {
   "cell_type": "markdown",
   "id": "dimensional-correlation",
   "metadata": {},
   "source": [
    "Pozrieme sa na pacientov, ktorých HRD_10 zaklasifikovalo ako pozitívnych a LST 10Mb ako negatívnych."
   ]
  },
  {
   "cell_type": "code",
   "execution_count": 53,
   "id": "individual-solomon",
   "metadata": {},
   "outputs": [
    {
     "data": {
      "text/html": [
       "<div>\n",
       "<style scoped>\n",
       "    .dataframe tbody tr th:only-of-type {\n",
       "        vertical-align: middle;\n",
       "    }\n",
       "\n",
       "    .dataframe tbody tr th {\n",
       "        vertical-align: top;\n",
       "    }\n",
       "\n",
       "    .dataframe thead th {\n",
       "        text-align: right;\n",
       "    }\n",
       "</style>\n",
       "<table border=\"1\" class=\"dataframe\">\n",
       "  <thead>\n",
       "    <tr style=\"text-align: right;\">\n",
       "      <th></th>\n",
       "      <th>Segmental report</th>\n",
       "      <th>VCF</th>\n",
       "      <th>Sample name</th>\n",
       "      <th>DNA index</th>\n",
       "      <th>TAI</th>\n",
       "      <th>LOH</th>\n",
       "      <th>LST_3Mb</th>\n",
       "      <th>LST_4Mb</th>\n",
       "      <th>LST_5Mb</th>\n",
       "      <th>LST_6Mb</th>\n",
       "      <th>LST_7Mb</th>\n",
       "      <th>LST_8Mb</th>\n",
       "      <th>LST_9Mb</th>\n",
       "      <th>LST_10Mb</th>\n",
       "      <th>LST_11Mb</th>\n",
       "      <th>HRD_11</th>\n",
       "      <th>HRD_10</th>\n",
       "      <th>HRD_9</th>\n",
       "      <th>HRD_8</th>\n",
       "      <th>Age</th>\n",
       "      <th>Response-real</th>\n",
       "      <th>Response-cell lines</th>\n",
       "      <th>Response-real numeric</th>\n",
       "    </tr>\n",
       "  </thead>\n",
       "  <tbody>\n",
       "  </tbody>\n",
       "</table>\n",
       "</div>"
      ],
      "text/plain": [
       "Empty DataFrame\n",
       "Columns: [Segmental report, VCF, Sample name, DNA index, TAI, LOH, LST_3Mb, LST_4Mb, LST_5Mb, LST_6Mb, LST_7Mb, LST_8Mb, LST_9Mb, LST_10Mb, LST_11Mb, HRD_11, HRD_10, HRD_9, HRD_8, Age, Response-real, Response-cell lines, Response-real numeric]\n",
       "Index: []"
      ]
     },
     "execution_count": 53,
     "metadata": {},
     "output_type": "execute_result"
    }
   ],
   "source": [
    "inform_stable.loc[(inform_stable['HRD_10'] > best_HRD_10_treshold) & (inform_stable['LST_10Mb'] <= best_LST_10_treshold)]"
   ]
  },
  {
   "cell_type": "markdown",
   "id": "under-scenario",
   "metadata": {},
   "source": [
    "Vidíme, že takýto pacienti neexistujú."
   ]
  },
  {
   "cell_type": "markdown",
   "id": "sought-attribute",
   "metadata": {},
   "source": [
    "Teraz sa naopak pozrieme na pacientov, ktorých LST 10Mb zaklasifikovalo ako pozitívnych a HRD 10 ako negatívnych"
   ]
  },
  {
   "cell_type": "code",
   "execution_count": 54,
   "id": "monetary-vacation",
   "metadata": {},
   "outputs": [
    {
     "data": {
      "text/html": [
       "<div>\n",
       "<style scoped>\n",
       "    .dataframe tbody tr th:only-of-type {\n",
       "        vertical-align: middle;\n",
       "    }\n",
       "\n",
       "    .dataframe tbody tr th {\n",
       "        vertical-align: top;\n",
       "    }\n",
       "\n",
       "    .dataframe thead th {\n",
       "        text-align: right;\n",
       "    }\n",
       "</style>\n",
       "<table border=\"1\" class=\"dataframe\">\n",
       "  <thead>\n",
       "    <tr style=\"text-align: right;\">\n",
       "      <th></th>\n",
       "      <th>Segmental report</th>\n",
       "      <th>VCF</th>\n",
       "      <th>Sample name</th>\n",
       "      <th>DNA index</th>\n",
       "      <th>TAI</th>\n",
       "      <th>LOH</th>\n",
       "      <th>LST_3Mb</th>\n",
       "      <th>LST_4Mb</th>\n",
       "      <th>LST_5Mb</th>\n",
       "      <th>LST_6Mb</th>\n",
       "      <th>LST_7Mb</th>\n",
       "      <th>LST_8Mb</th>\n",
       "      <th>LST_9Mb</th>\n",
       "      <th>LST_10Mb</th>\n",
       "      <th>LST_11Mb</th>\n",
       "      <th>HRD_11</th>\n",
       "      <th>HRD_10</th>\n",
       "      <th>HRD_9</th>\n",
       "      <th>HRD_8</th>\n",
       "      <th>Age</th>\n",
       "      <th>Response-real</th>\n",
       "      <th>Response-cell lines</th>\n",
       "      <th>Response-real numeric</th>\n",
       "    </tr>\n",
       "  </thead>\n",
       "  <tbody>\n",
       "    <tr>\n",
       "      <th>9</th>\n",
       "      <td>P06/P6.HD.00J.WGS_events.txt</td>\n",
       "      <td>P06/P06.HD_00J.WGS.HF.Source.vcf.gz</td>\n",
       "      <td>HD_00J.T</td>\n",
       "      <td>1.12449</td>\n",
       "      <td>0</td>\n",
       "      <td>0</td>\n",
       "      <td>79</td>\n",
       "      <td>57</td>\n",
       "      <td>47</td>\n",
       "      <td>39</td>\n",
       "      <td>30</td>\n",
       "      <td>25</td>\n",
       "      <td>23</td>\n",
       "      <td>18</td>\n",
       "      <td>17</td>\n",
       "      <td>17</td>\n",
       "      <td>18</td>\n",
       "      <td>23</td>\n",
       "      <td>25</td>\n",
       "      <td>NaN</td>\n",
       "      <td>stable</td>\n",
       "      <td>negative</td>\n",
       "      <td>1.0</td>\n",
       "    </tr>\n",
       "  </tbody>\n",
       "</table>\n",
       "</div>"
      ],
      "text/plain": [
       "               Segmental report                                  VCF  \\\n",
       "9  P06/P6.HD.00J.WGS_events.txt  P06/P06.HD_00J.WGS.HF.Source.vcf.gz   \n",
       "\n",
       "  Sample name  DNA index  TAI  LOH  LST_3Mb  LST_4Mb  LST_5Mb  LST_6Mb  \\\n",
       "9    HD_00J.T    1.12449    0    0       79       57       47       39   \n",
       "\n",
       "   LST_7Mb  LST_8Mb  LST_9Mb  LST_10Mb  LST_11Mb  HRD_11  HRD_10  HRD_9  \\\n",
       "9       30       25       23        18        17      17      18     23   \n",
       "\n",
       "   HRD_8  Age Response-real Response-cell lines  Response-real numeric  \n",
       "9     25  NaN        stable            negative                    1.0  "
      ]
     },
     "execution_count": 54,
     "metadata": {},
     "output_type": "execute_result"
    }
   ],
   "source": [
    "inform_stable.loc[(inform_stable['HRD_10'] <= best_HRD_10_treshold) & (inform_stable['LST_10Mb'] > best_LST_10_treshold)]"
   ]
  },
  {
   "cell_type": "code",
   "execution_count": 55,
   "id": "characteristic-patio",
   "metadata": {},
   "outputs": [
    {
     "data": {
      "text/html": [
       "<div>\n",
       "<style scoped>\n",
       "    .dataframe tbody tr th:only-of-type {\n",
       "        vertical-align: middle;\n",
       "    }\n",
       "\n",
       "    .dataframe tbody tr th {\n",
       "        vertical-align: top;\n",
       "    }\n",
       "\n",
       "    .dataframe thead th {\n",
       "        text-align: right;\n",
       "    }\n",
       "</style>\n",
       "<table border=\"1\" class=\"dataframe\">\n",
       "  <thead>\n",
       "    <tr style=\"text-align: right;\">\n",
       "      <th></th>\n",
       "      <th>Segmental report</th>\n",
       "      <th>VCF</th>\n",
       "      <th>Sample name</th>\n",
       "      <th>DNA index</th>\n",
       "      <th>TAI</th>\n",
       "      <th>LOH</th>\n",
       "      <th>LST_3Mb</th>\n",
       "      <th>LST_4Mb</th>\n",
       "      <th>LST_5Mb</th>\n",
       "      <th>LST_6Mb</th>\n",
       "      <th>LST_7Mb</th>\n",
       "      <th>LST_8Mb</th>\n",
       "      <th>LST_9Mb</th>\n",
       "      <th>LST_10Mb</th>\n",
       "      <th>LST_11Mb</th>\n",
       "      <th>HRD_11</th>\n",
       "      <th>HRD_10</th>\n",
       "      <th>HRD_9</th>\n",
       "      <th>HRD_8</th>\n",
       "      <th>Age</th>\n",
       "      <th>Response-real</th>\n",
       "      <th>Response-cell lines</th>\n",
       "      <th>Response-real numeric</th>\n",
       "    </tr>\n",
       "  </thead>\n",
       "  <tbody>\n",
       "    <tr>\n",
       "      <th>10</th>\n",
       "      <td>P07/P7.MS.00A.WGS_events.txt</td>\n",
       "      <td>P07/P07.MS_00A.WGS.Source.vcf.gz</td>\n",
       "      <td>MS_00A.T</td>\n",
       "      <td>0.967578</td>\n",
       "      <td>0</td>\n",
       "      <td>0</td>\n",
       "      <td>92</td>\n",
       "      <td>72</td>\n",
       "      <td>57</td>\n",
       "      <td>50</td>\n",
       "      <td>44</td>\n",
       "      <td>31</td>\n",
       "      <td>30</td>\n",
       "      <td>28</td>\n",
       "      <td>26</td>\n",
       "      <td>26</td>\n",
       "      <td>28</td>\n",
       "      <td>30</td>\n",
       "      <td>31</td>\n",
       "      <td>NaN</td>\n",
       "      <td>stable</td>\n",
       "      <td>negative</td>\n",
       "      <td>1.0</td>\n",
       "    </tr>\n",
       "    <tr>\n",
       "      <th>17</th>\n",
       "      <td>P14/P14.I062.006.WES_events.txt</td>\n",
       "      <td>P14/P14.I062.006.WGS.HF.Source.vcf.gz</td>\n",
       "      <td>I062.006.T</td>\n",
       "      <td>1.134657</td>\n",
       "      <td>48</td>\n",
       "      <td>23</td>\n",
       "      <td>155</td>\n",
       "      <td>116</td>\n",
       "      <td>78</td>\n",
       "      <td>60</td>\n",
       "      <td>50</td>\n",
       "      <td>47</td>\n",
       "      <td>38</td>\n",
       "      <td>29</td>\n",
       "      <td>24</td>\n",
       "      <td>95</td>\n",
       "      <td>100</td>\n",
       "      <td>109</td>\n",
       "      <td>118</td>\n",
       "      <td>16.0</td>\n",
       "      <td>stable</td>\n",
       "      <td>positive</td>\n",
       "      <td>1.0</td>\n",
       "    </tr>\n",
       "    <tr>\n",
       "      <th>30</th>\n",
       "      <td>P27/P27.I047.007.WGS_events.txt</td>\n",
       "      <td>P27/P27.I047.007.WGS.Source.vcf.gz</td>\n",
       "      <td>I047_007_2M1_D1</td>\n",
       "      <td>1.041465</td>\n",
       "      <td>11</td>\n",
       "      <td>10</td>\n",
       "      <td>146</td>\n",
       "      <td>93</td>\n",
       "      <td>54</td>\n",
       "      <td>38</td>\n",
       "      <td>26</td>\n",
       "      <td>23</td>\n",
       "      <td>15</td>\n",
       "      <td>10</td>\n",
       "      <td>8</td>\n",
       "      <td>29</td>\n",
       "      <td>31</td>\n",
       "      <td>36</td>\n",
       "      <td>44</td>\n",
       "      <td>14.0</td>\n",
       "      <td>stable</td>\n",
       "      <td>positive</td>\n",
       "      <td>1.0</td>\n",
       "    </tr>\n",
       "  </tbody>\n",
       "</table>\n",
       "</div>"
      ],
      "text/plain": [
       "                   Segmental report                                    VCF  \\\n",
       "10     P07/P7.MS.00A.WGS_events.txt       P07/P07.MS_00A.WGS.Source.vcf.gz   \n",
       "17  P14/P14.I062.006.WES_events.txt  P14/P14.I062.006.WGS.HF.Source.vcf.gz   \n",
       "30  P27/P27.I047.007.WGS_events.txt     P27/P27.I047.007.WGS.Source.vcf.gz   \n",
       "\n",
       "        Sample name  DNA index  TAI  LOH  LST_3Mb  LST_4Mb  LST_5Mb  LST_6Mb  \\\n",
       "10         MS_00A.T   0.967578    0    0       92       72       57       50   \n",
       "17       I062.006.T   1.134657   48   23      155      116       78       60   \n",
       "30  I047_007_2M1_D1   1.041465   11   10      146       93       54       38   \n",
       "\n",
       "    LST_7Mb  LST_8Mb  LST_9Mb  LST_10Mb  LST_11Mb  HRD_11  HRD_10  HRD_9  \\\n",
       "10       44       31       30        28        26      26      28     30   \n",
       "17       50       47       38        29        24      95     100    109   \n",
       "30       26       23       15        10         8      29      31     36   \n",
       "\n",
       "    HRD_8   Age Response-real Response-cell lines  Response-real numeric  \n",
       "10     31   NaN        stable            negative                    1.0  \n",
       "17    118  16.0        stable            positive                    1.0  \n",
       "30     44  14.0        stable            positive                    1.0  "
      ]
     },
     "execution_count": 55,
     "metadata": {},
     "output_type": "execute_result"
    }
   ],
   "source": [
    "inform_stable.loc[(inform_stable['HRD_10'] > best_HRD_10_treshold) & (inform_stable['LST_10Mb'] > best_LST_10_treshold)]"
   ]
  },
  {
   "cell_type": "markdown",
   "id": "happy-nickname",
   "metadata": {},
   "source": [
    "Už iba samotné LST 10Mb dokázalo správne zaklasifikovať všetkých pozitívnych pacientov, pričom HRD 10 v jednom prípade dokonca nesprávne zaklasifikovalo pozitívneho pacienta."
   ]
  }
 ],
 "metadata": {
  "kernelspec": {
   "display_name": "Python 3",
   "language": "python",
   "name": "python3"
  },
  "language_info": {
   "codemirror_mode": {
    "name": "ipython",
    "version": 3
   },
   "file_extension": ".py",
   "mimetype": "text/x-python",
   "name": "python",
   "nbconvert_exporter": "python",
   "pygments_lexer": "ipython3",
   "version": "3.8.5"
  }
 },
 "nbformat": 4,
 "nbformat_minor": 5
}
