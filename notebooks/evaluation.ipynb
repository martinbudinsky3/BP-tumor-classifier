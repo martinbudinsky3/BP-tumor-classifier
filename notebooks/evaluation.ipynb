{
 "cells": [
  {
   "cell_type": "markdown",
   "id": "color-pursuit",
   "metadata": {},
   "source": [
    "# Vyhodnotenie"
   ]
  },
  {
   "cell_type": "code",
   "execution_count": 1,
   "id": "becoming-bedroom",
   "metadata": {},
   "outputs": [],
   "source": [
    "%matplotlib inline"
   ]
  },
  {
   "cell_type": "code",
   "execution_count": 2,
   "id": "editorial-particle",
   "metadata": {},
   "outputs": [],
   "source": [
    "import pandas as pd\n",
    "import seaborn as sns\n",
    "import openpyxl\n",
    "from sklearn.metrics import confusion_matrix, f1_score, accuracy_score, precision_score, recall_score, auc, roc_curve\n",
    "from sklearn.preprocessing import minmax_scale\n",
    "import matplotlib.pyplot as plt"
   ]
  },
  {
   "cell_type": "code",
   "execution_count": 3,
   "id": "medical-merit",
   "metadata": {},
   "outputs": [],
   "source": [
    "def predict(X, treshold):\n",
    "    y_pred = []\n",
    "    for record in X:\n",
    "        if record >= treshold:\n",
    "            y_pred.append(1)\n",
    "        else:\n",
    "            y_pred.append(0)\n",
    "            \n",
    "    return y_pred"
   ]
  },
  {
   "cell_type": "code",
   "execution_count": 4,
   "id": "detailed-drawing",
   "metadata": {},
   "outputs": [],
   "source": [
    "def find_best_treshold(X, y_true, tresholds):\n",
    "    best_treshold = -1\n",
    "    best_score = 0\n",
    "    \n",
    "    for treshold in tresholds:\n",
    "        y_pred = predict(X, treshold)\n",
    "        \n",
    "        score = f1_score(y_true, y_pred)\n",
    "        if(score > best_score):\n",
    "            best_treshold = treshold\n",
    "            best_score = score\n",
    "            \n",
    "    return best_treshold, best_score"
   ]
  },
  {
   "cell_type": "code",
   "execution_count": 5,
   "id": "primary-smoke",
   "metadata": {},
   "outputs": [],
   "source": [
    "def print_scores(y_true, y_pred):    \n",
    "    print(\"Accuracy: \", accuracy_score(y_true, y_pred))\n",
    "    print(\"Precision: \", precision_score(y_true, y_pred))\n",
    "    print(\"Recall: \", recall_score(y_true, y_pred))"
   ]
  },
  {
   "cell_type": "code",
   "execution_count": 6,
   "id": "narrative-sleeve",
   "metadata": {},
   "outputs": [],
   "source": [
    "def plot_roc_curve(fpr, tpr, roc_auc, algorithm_name):\n",
    "    plt.title('Receiver Operating Characteristic - ' + algorithm_name)\n",
    "    plt.plot(fpr, tpr, 'b', label = 'AUC = %0.2f' % roc_auc)\n",
    "    plt.legend(loc = 'lower right')\n",
    "    plt.plot([0, 1], [0, 1],'r--')\n",
    "    plt.xlim([0, 1])\n",
    "    plt.ylim([0, 1])\n",
    "    plt.ylabel('True Positive Rate')\n",
    "    plt.xlabel('False Positive Rate')\n",
    "    plt.show()"
   ]
  },
  {
   "cell_type": "code",
   "execution_count": 7,
   "id": "individual-wound",
   "metadata": {},
   "outputs": [],
   "source": [
    "pd.set_option('display.max_columns', 50)\n",
    "pd.set_option('display.max_colwidth', 1000000)"
   ]
  },
  {
   "cell_type": "code",
   "execution_count": 8,
   "id": "ceramic-reform",
   "metadata": {},
   "outputs": [
    {
     "data": {
      "text/html": [
       "<div>\n",
       "<style scoped>\n",
       "    .dataframe tbody tr th:only-of-type {\n",
       "        vertical-align: middle;\n",
       "    }\n",
       "\n",
       "    .dataframe tbody tr th {\n",
       "        vertical-align: top;\n",
       "    }\n",
       "\n",
       "    .dataframe thead th {\n",
       "        text-align: right;\n",
       "    }\n",
       "</style>\n",
       "<table border=\"1\" class=\"dataframe\">\n",
       "  <thead>\n",
       "    <tr style=\"text-align: right;\">\n",
       "      <th></th>\n",
       "      <th>Segmental report</th>\n",
       "      <th>VCF</th>\n",
       "      <th>Sample name</th>\n",
       "      <th>DNA index</th>\n",
       "      <th>TAI</th>\n",
       "      <th>LOH</th>\n",
       "      <th>LST_3Mb</th>\n",
       "      <th>LST_4Mb</th>\n",
       "      <th>LST_5Mb</th>\n",
       "      <th>LST_6Mb</th>\n",
       "      <th>LST_7Mb</th>\n",
       "      <th>LST_8Mb</th>\n",
       "      <th>LST_9Mb</th>\n",
       "      <th>LST_10Mb</th>\n",
       "      <th>LST_11Mb</th>\n",
       "      <th>HRD_11</th>\n",
       "      <th>HRD_10</th>\n",
       "      <th>HRD_9</th>\n",
       "      <th>HRD_8</th>\n",
       "      <th>HRD_7</th>\n",
       "      <th>HRD_6</th>\n",
       "      <th>HRD_5</th>\n",
       "      <th>HRD_4</th>\n",
       "      <th>HRD_3</th>\n",
       "      <th>Age</th>\n",
       "      <th>Response - real</th>\n",
       "      <th>Response - cell lines</th>\n",
       "    </tr>\n",
       "  </thead>\n",
       "  <tbody>\n",
       "    <tr>\n",
       "      <th>0</th>\n",
       "      <td>P01/P1.I042.001.WGS_events.txt</td>\n",
       "      <td>NaN</td>\n",
       "      <td>NaN</td>\n",
       "      <td>1.007272</td>\n",
       "      <td>0</td>\n",
       "      <td>0</td>\n",
       "      <td>31</td>\n",
       "      <td>25</td>\n",
       "      <td>21</td>\n",
       "      <td>18</td>\n",
       "      <td>16</td>\n",
       "      <td>13</td>\n",
       "      <td>11</td>\n",
       "      <td>9</td>\n",
       "      <td>4</td>\n",
       "      <td>4</td>\n",
       "      <td>9</td>\n",
       "      <td>11</td>\n",
       "      <td>13</td>\n",
       "      <td>16</td>\n",
       "      <td>18</td>\n",
       "      <td>21</td>\n",
       "      <td>25</td>\n",
       "      <td>31</td>\n",
       "      <td>NaN</td>\n",
       "      <td>unknown</td>\n",
       "      <td>negative</td>\n",
       "    </tr>\n",
       "    <tr>\n",
       "      <th>1</th>\n",
       "      <td>P01/P1.I062.003.WGS_events.txt</td>\n",
       "      <td>NaN</td>\n",
       "      <td>NaN</td>\n",
       "      <td>1.029418</td>\n",
       "      <td>0</td>\n",
       "      <td>0</td>\n",
       "      <td>36</td>\n",
       "      <td>26</td>\n",
       "      <td>24</td>\n",
       "      <td>21</td>\n",
       "      <td>19</td>\n",
       "      <td>11</td>\n",
       "      <td>9</td>\n",
       "      <td>7</td>\n",
       "      <td>6</td>\n",
       "      <td>6</td>\n",
       "      <td>7</td>\n",
       "      <td>9</td>\n",
       "      <td>11</td>\n",
       "      <td>19</td>\n",
       "      <td>21</td>\n",
       "      <td>24</td>\n",
       "      <td>26</td>\n",
       "      <td>36</td>\n",
       "      <td>NaN</td>\n",
       "      <td>unknown</td>\n",
       "      <td>negative</td>\n",
       "    </tr>\n",
       "    <tr>\n",
       "      <th>2</th>\n",
       "      <td>P02/P2.MS.00F.WGS_events.txt</td>\n",
       "      <td>P02/P02.MS_00F.WGS.Source.vcf.gz</td>\n",
       "      <td>MS_00F.T</td>\n",
       "      <td>1.052231</td>\n",
       "      <td>0</td>\n",
       "      <td>0</td>\n",
       "      <td>127</td>\n",
       "      <td>101</td>\n",
       "      <td>77</td>\n",
       "      <td>59</td>\n",
       "      <td>44</td>\n",
       "      <td>35</td>\n",
       "      <td>29</td>\n",
       "      <td>23</td>\n",
       "      <td>16</td>\n",
       "      <td>16</td>\n",
       "      <td>23</td>\n",
       "      <td>29</td>\n",
       "      <td>35</td>\n",
       "      <td>44</td>\n",
       "      <td>59</td>\n",
       "      <td>77</td>\n",
       "      <td>101</td>\n",
       "      <td>127</td>\n",
       "      <td>17.0</td>\n",
       "      <td>unknown</td>\n",
       "      <td>negative</td>\n",
       "    </tr>\n",
       "    <tr>\n",
       "      <th>3</th>\n",
       "      <td>P03/P3.I062.007.WGS_events.txt</td>\n",
       "      <td>P03/P06.WGS.raw.vcf.gz</td>\n",
       "      <td>P6.Met4</td>\n",
       "      <td>1.022245</td>\n",
       "      <td>0</td>\n",
       "      <td>0</td>\n",
       "      <td>33</td>\n",
       "      <td>20</td>\n",
       "      <td>14</td>\n",
       "      <td>13</td>\n",
       "      <td>12</td>\n",
       "      <td>9</td>\n",
       "      <td>7</td>\n",
       "      <td>7</td>\n",
       "      <td>4</td>\n",
       "      <td>4</td>\n",
       "      <td>7</td>\n",
       "      <td>7</td>\n",
       "      <td>9</td>\n",
       "      <td>12</td>\n",
       "      <td>13</td>\n",
       "      <td>14</td>\n",
       "      <td>20</td>\n",
       "      <td>33</td>\n",
       "      <td>18.0</td>\n",
       "      <td>deceased</td>\n",
       "      <td>negative</td>\n",
       "    </tr>\n",
       "    <tr>\n",
       "      <th>4</th>\n",
       "      <td>P03/P3.I062.015.WGS_events.txt</td>\n",
       "      <td>P03/P06.WGS.raw.vcf.gz</td>\n",
       "      <td>P6.Met5</td>\n",
       "      <td>1.046050</td>\n",
       "      <td>0</td>\n",
       "      <td>0</td>\n",
       "      <td>89</td>\n",
       "      <td>69</td>\n",
       "      <td>59</td>\n",
       "      <td>45</td>\n",
       "      <td>40</td>\n",
       "      <td>31</td>\n",
       "      <td>27</td>\n",
       "      <td>24</td>\n",
       "      <td>20</td>\n",
       "      <td>20</td>\n",
       "      <td>24</td>\n",
       "      <td>27</td>\n",
       "      <td>31</td>\n",
       "      <td>40</td>\n",
       "      <td>45</td>\n",
       "      <td>59</td>\n",
       "      <td>69</td>\n",
       "      <td>89</td>\n",
       "      <td>19.0</td>\n",
       "      <td>deceased</td>\n",
       "      <td>negative</td>\n",
       "    </tr>\n",
       "    <tr>\n",
       "      <th>5</th>\n",
       "      <td>P03/P3.I062.022.WGS_events.txt</td>\n",
       "      <td>NaN</td>\n",
       "      <td>NaN</td>\n",
       "      <td>1.013335</td>\n",
       "      <td>0</td>\n",
       "      <td>0</td>\n",
       "      <td>180</td>\n",
       "      <td>138</td>\n",
       "      <td>106</td>\n",
       "      <td>90</td>\n",
       "      <td>75</td>\n",
       "      <td>62</td>\n",
       "      <td>46</td>\n",
       "      <td>37</td>\n",
       "      <td>31</td>\n",
       "      <td>31</td>\n",
       "      <td>37</td>\n",
       "      <td>46</td>\n",
       "      <td>62</td>\n",
       "      <td>75</td>\n",
       "      <td>90</td>\n",
       "      <td>106</td>\n",
       "      <td>138</td>\n",
       "      <td>180</td>\n",
       "      <td>19.0</td>\n",
       "      <td>deceased</td>\n",
       "      <td>negative</td>\n",
       "    </tr>\n",
       "    <tr>\n",
       "      <th>6</th>\n",
       "      <td>P03/P3.I062.033.WGS_events.txt</td>\n",
       "      <td>P03/P06.WGS.raw.vcf.gz</td>\n",
       "      <td>P6.Met7</td>\n",
       "      <td>1.048037</td>\n",
       "      <td>1</td>\n",
       "      <td>1</td>\n",
       "      <td>96</td>\n",
       "      <td>69</td>\n",
       "      <td>52</td>\n",
       "      <td>46</td>\n",
       "      <td>31</td>\n",
       "      <td>26</td>\n",
       "      <td>22</td>\n",
       "      <td>22</td>\n",
       "      <td>20</td>\n",
       "      <td>22</td>\n",
       "      <td>24</td>\n",
       "      <td>24</td>\n",
       "      <td>28</td>\n",
       "      <td>33</td>\n",
       "      <td>48</td>\n",
       "      <td>54</td>\n",
       "      <td>71</td>\n",
       "      <td>98</td>\n",
       "      <td>20.0</td>\n",
       "      <td>deceased</td>\n",
       "      <td>negative</td>\n",
       "    </tr>\n",
       "    <tr>\n",
       "      <th>7</th>\n",
       "      <td>P04/P4.I042.002.WGS_events.txt</td>\n",
       "      <td>P04/P04.I042_002.WGS.Source.vcf.gz</td>\n",
       "      <td>I042_002.T</td>\n",
       "      <td>1.060387</td>\n",
       "      <td>0</td>\n",
       "      <td>0</td>\n",
       "      <td>23</td>\n",
       "      <td>14</td>\n",
       "      <td>13</td>\n",
       "      <td>11</td>\n",
       "      <td>11</td>\n",
       "      <td>8</td>\n",
       "      <td>7</td>\n",
       "      <td>7</td>\n",
       "      <td>7</td>\n",
       "      <td>7</td>\n",
       "      <td>7</td>\n",
       "      <td>7</td>\n",
       "      <td>8</td>\n",
       "      <td>11</td>\n",
       "      <td>11</td>\n",
       "      <td>13</td>\n",
       "      <td>14</td>\n",
       "      <td>23</td>\n",
       "      <td>2.0</td>\n",
       "      <td>unknown</td>\n",
       "      <td>negative</td>\n",
       "    </tr>\n",
       "    <tr>\n",
       "      <th>8</th>\n",
       "      <td>P05/P5.HA.00B.WGS_events.txt</td>\n",
       "      <td>P05/P05.HA_00B.WGS.Source.vcf.gz</td>\n",
       "      <td>HA_00B.T</td>\n",
       "      <td>1.059753</td>\n",
       "      <td>0</td>\n",
       "      <td>0</td>\n",
       "      <td>175</td>\n",
       "      <td>113</td>\n",
       "      <td>77</td>\n",
       "      <td>62</td>\n",
       "      <td>51</td>\n",
       "      <td>43</td>\n",
       "      <td>30</td>\n",
       "      <td>22</td>\n",
       "      <td>22</td>\n",
       "      <td>22</td>\n",
       "      <td>22</td>\n",
       "      <td>30</td>\n",
       "      <td>43</td>\n",
       "      <td>51</td>\n",
       "      <td>62</td>\n",
       "      <td>77</td>\n",
       "      <td>113</td>\n",
       "      <td>175</td>\n",
       "      <td>NaN</td>\n",
       "      <td>deceased</td>\n",
       "      <td>positive</td>\n",
       "    </tr>\n",
       "    <tr>\n",
       "      <th>9</th>\n",
       "      <td>P06/P6.HD.00J.WGS_events.txt</td>\n",
       "      <td>P06/P06.HD_00J.WGS.HF.Source.vcf.gz</td>\n",
       "      <td>HD_00J.T</td>\n",
       "      <td>1.124714</td>\n",
       "      <td>0</td>\n",
       "      <td>0</td>\n",
       "      <td>78</td>\n",
       "      <td>57</td>\n",
       "      <td>46</td>\n",
       "      <td>39</td>\n",
       "      <td>30</td>\n",
       "      <td>25</td>\n",
       "      <td>22</td>\n",
       "      <td>18</td>\n",
       "      <td>17</td>\n",
       "      <td>17</td>\n",
       "      <td>18</td>\n",
       "      <td>22</td>\n",
       "      <td>25</td>\n",
       "      <td>30</td>\n",
       "      <td>39</td>\n",
       "      <td>46</td>\n",
       "      <td>57</td>\n",
       "      <td>78</td>\n",
       "      <td>NaN</td>\n",
       "      <td>stable</td>\n",
       "      <td>negative</td>\n",
       "    </tr>\n",
       "    <tr>\n",
       "      <th>10</th>\n",
       "      <td>P07/P7.MS.00A.WGS_events.txt</td>\n",
       "      <td>P07/P07.MS_00A.WGS.Source.vcf.gz</td>\n",
       "      <td>MS_00A.T</td>\n",
       "      <td>0.966000</td>\n",
       "      <td>0</td>\n",
       "      <td>0</td>\n",
       "      <td>92</td>\n",
       "      <td>72</td>\n",
       "      <td>57</td>\n",
       "      <td>49</td>\n",
       "      <td>43</td>\n",
       "      <td>31</td>\n",
       "      <td>30</td>\n",
       "      <td>28</td>\n",
       "      <td>26</td>\n",
       "      <td>26</td>\n",
       "      <td>28</td>\n",
       "      <td>30</td>\n",
       "      <td>31</td>\n",
       "      <td>43</td>\n",
       "      <td>49</td>\n",
       "      <td>57</td>\n",
       "      <td>72</td>\n",
       "      <td>92</td>\n",
       "      <td>NaN</td>\n",
       "      <td>stable</td>\n",
       "      <td>negative</td>\n",
       "    </tr>\n",
       "    <tr>\n",
       "      <th>11</th>\n",
       "      <td>P08/P8.I022.002.WGS_events.txt</td>\n",
       "      <td>P08/P08.I022_002.WGS.HF.Source.vcf.gz</td>\n",
       "      <td>I022_002.T</td>\n",
       "      <td>1.034036</td>\n",
       "      <td>0</td>\n",
       "      <td>0</td>\n",
       "      <td>108</td>\n",
       "      <td>76</td>\n",
       "      <td>60</td>\n",
       "      <td>49</td>\n",
       "      <td>35</td>\n",
       "      <td>30</td>\n",
       "      <td>25</td>\n",
       "      <td>22</td>\n",
       "      <td>19</td>\n",
       "      <td>19</td>\n",
       "      <td>22</td>\n",
       "      <td>25</td>\n",
       "      <td>30</td>\n",
       "      <td>35</td>\n",
       "      <td>49</td>\n",
       "      <td>60</td>\n",
       "      <td>76</td>\n",
       "      <td>108</td>\n",
       "      <td>25.0</td>\n",
       "      <td>unknown</td>\n",
       "      <td>negative</td>\n",
       "    </tr>\n",
       "    <tr>\n",
       "      <th>12</th>\n",
       "      <td>P09/P9.I047.003.WGS_events.txt</td>\n",
       "      <td>P09/P09.I047_003.WGS.HF.Source.vcf.gz</td>\n",
       "      <td>I047_003.T</td>\n",
       "      <td>1.077638</td>\n",
       "      <td>0</td>\n",
       "      <td>0</td>\n",
       "      <td>70</td>\n",
       "      <td>51</td>\n",
       "      <td>43</td>\n",
       "      <td>41</td>\n",
       "      <td>36</td>\n",
       "      <td>29</td>\n",
       "      <td>22</td>\n",
       "      <td>15</td>\n",
       "      <td>14</td>\n",
       "      <td>14</td>\n",
       "      <td>15</td>\n",
       "      <td>22</td>\n",
       "      <td>29</td>\n",
       "      <td>36</td>\n",
       "      <td>41</td>\n",
       "      <td>43</td>\n",
       "      <td>51</td>\n",
       "      <td>70</td>\n",
       "      <td>29.0</td>\n",
       "      <td>unknown</td>\n",
       "      <td>negative</td>\n",
       "    </tr>\n",
       "    <tr>\n",
       "      <th>13</th>\n",
       "      <td>P10/P10.I023.005.WGS_events.txt</td>\n",
       "      <td>NaN</td>\n",
       "      <td>NaN</td>\n",
       "      <td>0.936669</td>\n",
       "      <td>0</td>\n",
       "      <td>0</td>\n",
       "      <td>54</td>\n",
       "      <td>46</td>\n",
       "      <td>39</td>\n",
       "      <td>32</td>\n",
       "      <td>28</td>\n",
       "      <td>27</td>\n",
       "      <td>20</td>\n",
       "      <td>19</td>\n",
       "      <td>18</td>\n",
       "      <td>18</td>\n",
       "      <td>19</td>\n",
       "      <td>20</td>\n",
       "      <td>27</td>\n",
       "      <td>28</td>\n",
       "      <td>32</td>\n",
       "      <td>39</td>\n",
       "      <td>46</td>\n",
       "      <td>54</td>\n",
       "      <td>23.0</td>\n",
       "      <td>unknown</td>\n",
       "      <td>negative</td>\n",
       "    </tr>\n",
       "    <tr>\n",
       "      <th>14</th>\n",
       "      <td>P11/P11.I036.005.WGS_events.txt</td>\n",
       "      <td>P11/P11.I036_005.WGS.HF.Source.vcf.gz</td>\n",
       "      <td>I036_005.T</td>\n",
       "      <td>1.028511</td>\n",
       "      <td>0</td>\n",
       "      <td>0</td>\n",
       "      <td>119</td>\n",
       "      <td>86</td>\n",
       "      <td>66</td>\n",
       "      <td>52</td>\n",
       "      <td>40</td>\n",
       "      <td>27</td>\n",
       "      <td>26</td>\n",
       "      <td>21</td>\n",
       "      <td>16</td>\n",
       "      <td>16</td>\n",
       "      <td>21</td>\n",
       "      <td>26</td>\n",
       "      <td>27</td>\n",
       "      <td>40</td>\n",
       "      <td>52</td>\n",
       "      <td>66</td>\n",
       "      <td>86</td>\n",
       "      <td>119</td>\n",
       "      <td>16.0</td>\n",
       "      <td>unknown</td>\n",
       "      <td>negative</td>\n",
       "    </tr>\n",
       "    <tr>\n",
       "      <th>15</th>\n",
       "      <td>P12/P12.I056.004.WGS_events.txt</td>\n",
       "      <td>P12/P12.I056_004.WGS.HF.Source.vcf.gz</td>\n",
       "      <td>I056_004.T</td>\n",
       "      <td>0.966356</td>\n",
       "      <td>0</td>\n",
       "      <td>0</td>\n",
       "      <td>44</td>\n",
       "      <td>38</td>\n",
       "      <td>32</td>\n",
       "      <td>28</td>\n",
       "      <td>26</td>\n",
       "      <td>23</td>\n",
       "      <td>20</td>\n",
       "      <td>18</td>\n",
       "      <td>15</td>\n",
       "      <td>15</td>\n",
       "      <td>18</td>\n",
       "      <td>20</td>\n",
       "      <td>23</td>\n",
       "      <td>26</td>\n",
       "      <td>28</td>\n",
       "      <td>32</td>\n",
       "      <td>38</td>\n",
       "      <td>44</td>\n",
       "      <td>4.0</td>\n",
       "      <td>unknown</td>\n",
       "      <td>negative</td>\n",
       "    </tr>\n",
       "    <tr>\n",
       "      <th>16</th>\n",
       "      <td>P13/P13.I022.017.WGS_events.txt</td>\n",
       "      <td>P13/P13.I022_017.WGS.HF.Source.vcf.gz</td>\n",
       "      <td>I022_017.T</td>\n",
       "      <td>1.036491</td>\n",
       "      <td>0</td>\n",
       "      <td>0</td>\n",
       "      <td>62</td>\n",
       "      <td>46</td>\n",
       "      <td>42</td>\n",
       "      <td>39</td>\n",
       "      <td>36</td>\n",
       "      <td>36</td>\n",
       "      <td>27</td>\n",
       "      <td>25</td>\n",
       "      <td>20</td>\n",
       "      <td>20</td>\n",
       "      <td>25</td>\n",
       "      <td>27</td>\n",
       "      <td>36</td>\n",
       "      <td>36</td>\n",
       "      <td>39</td>\n",
       "      <td>42</td>\n",
       "      <td>46</td>\n",
       "      <td>62</td>\n",
       "      <td>20.0</td>\n",
       "      <td>unknown</td>\n",
       "      <td>negative</td>\n",
       "    </tr>\n",
       "    <tr>\n",
       "      <th>17</th>\n",
       "      <td>P14/P14.I062.006.WES_events.txt</td>\n",
       "      <td>P14/P14.I062.006.WGS.HF.Source.vcf.gz</td>\n",
       "      <td>I062.006.T</td>\n",
       "      <td>1.134877</td>\n",
       "      <td>48</td>\n",
       "      <td>23</td>\n",
       "      <td>155</td>\n",
       "      <td>116</td>\n",
       "      <td>77</td>\n",
       "      <td>60</td>\n",
       "      <td>50</td>\n",
       "      <td>47</td>\n",
       "      <td>38</td>\n",
       "      <td>29</td>\n",
       "      <td>24</td>\n",
       "      <td>95</td>\n",
       "      <td>100</td>\n",
       "      <td>109</td>\n",
       "      <td>118</td>\n",
       "      <td>121</td>\n",
       "      <td>131</td>\n",
       "      <td>148</td>\n",
       "      <td>187</td>\n",
       "      <td>226</td>\n",
       "      <td>16.0</td>\n",
       "      <td>stable</td>\n",
       "      <td>positive</td>\n",
       "    </tr>\n",
       "    <tr>\n",
       "      <th>18</th>\n",
       "      <td>P15/P15.I047.005.WGS_events.txt</td>\n",
       "      <td>P15/P15.I047.005.WGS.raw.vcf.gz</td>\n",
       "      <td>I047_005.T</td>\n",
       "      <td>0.940260</td>\n",
       "      <td>0</td>\n",
       "      <td>0</td>\n",
       "      <td>53</td>\n",
       "      <td>39</td>\n",
       "      <td>33</td>\n",
       "      <td>25</td>\n",
       "      <td>20</td>\n",
       "      <td>18</td>\n",
       "      <td>13</td>\n",
       "      <td>13</td>\n",
       "      <td>12</td>\n",
       "      <td>12</td>\n",
       "      <td>13</td>\n",
       "      <td>13</td>\n",
       "      <td>18</td>\n",
       "      <td>20</td>\n",
       "      <td>25</td>\n",
       "      <td>33</td>\n",
       "      <td>39</td>\n",
       "      <td>53</td>\n",
       "      <td>20.0</td>\n",
       "      <td>unknown</td>\n",
       "      <td>negative</td>\n",
       "    </tr>\n",
       "    <tr>\n",
       "      <th>19</th>\n",
       "      <td>P16/P16.I062.010.WGS_events.txt</td>\n",
       "      <td>P16/P16.I062_010.WGS.HF.Source.vcf.gz</td>\n",
       "      <td>I062_010.T</td>\n",
       "      <td>0.916479</td>\n",
       "      <td>0</td>\n",
       "      <td>0</td>\n",
       "      <td>36</td>\n",
       "      <td>33</td>\n",
       "      <td>28</td>\n",
       "      <td>23</td>\n",
       "      <td>18</td>\n",
       "      <td>16</td>\n",
       "      <td>10</td>\n",
       "      <td>9</td>\n",
       "      <td>7</td>\n",
       "      <td>7</td>\n",
       "      <td>9</td>\n",
       "      <td>10</td>\n",
       "      <td>16</td>\n",
       "      <td>18</td>\n",
       "      <td>23</td>\n",
       "      <td>28</td>\n",
       "      <td>33</td>\n",
       "      <td>36</td>\n",
       "      <td>17.0</td>\n",
       "      <td>unknown</td>\n",
       "      <td>negative</td>\n",
       "    </tr>\n",
       "    <tr>\n",
       "      <th>20</th>\n",
       "      <td>P17/P17.I062.020.WGS_events.txt</td>\n",
       "      <td>P17/P17.I062.020.WGS.Source.vcf.gz</td>\n",
       "      <td>I062_020.T</td>\n",
       "      <td>1.000842</td>\n",
       "      <td>0</td>\n",
       "      <td>0</td>\n",
       "      <td>172</td>\n",
       "      <td>119</td>\n",
       "      <td>80</td>\n",
       "      <td>53</td>\n",
       "      <td>37</td>\n",
       "      <td>30</td>\n",
       "      <td>24</td>\n",
       "      <td>15</td>\n",
       "      <td>9</td>\n",
       "      <td>9</td>\n",
       "      <td>15</td>\n",
       "      <td>24</td>\n",
       "      <td>30</td>\n",
       "      <td>37</td>\n",
       "      <td>53</td>\n",
       "      <td>80</td>\n",
       "      <td>119</td>\n",
       "      <td>172</td>\n",
       "      <td>18.0</td>\n",
       "      <td>unknown</td>\n",
       "      <td>negative</td>\n",
       "    </tr>\n",
       "    <tr>\n",
       "      <th>21</th>\n",
       "      <td>P18/P18.I062_021.WGS_events.txt</td>\n",
       "      <td>P18/P18.I062.021.WGS.Source.vcf.gz</td>\n",
       "      <td>I0622_021.T</td>\n",
       "      <td>1.074429</td>\n",
       "      <td>0</td>\n",
       "      <td>0</td>\n",
       "      <td>148</td>\n",
       "      <td>112</td>\n",
       "      <td>87</td>\n",
       "      <td>61</td>\n",
       "      <td>50</td>\n",
       "      <td>47</td>\n",
       "      <td>40</td>\n",
       "      <td>35</td>\n",
       "      <td>27</td>\n",
       "      <td>27</td>\n",
       "      <td>35</td>\n",
       "      <td>40</td>\n",
       "      <td>47</td>\n",
       "      <td>50</td>\n",
       "      <td>61</td>\n",
       "      <td>87</td>\n",
       "      <td>112</td>\n",
       "      <td>148</td>\n",
       "      <td>16.0</td>\n",
       "      <td>unknown</td>\n",
       "      <td>positive</td>\n",
       "    </tr>\n",
       "    <tr>\n",
       "      <th>22</th>\n",
       "      <td>P19/P19.I007.018.WGS_events.txt</td>\n",
       "      <td>P19/P19.I007.018.WGS.Source.vcf.gz</td>\n",
       "      <td>I007_018.T</td>\n",
       "      <td>0.945868</td>\n",
       "      <td>5</td>\n",
       "      <td>5</td>\n",
       "      <td>7</td>\n",
       "      <td>7</td>\n",
       "      <td>5</td>\n",
       "      <td>4</td>\n",
       "      <td>1</td>\n",
       "      <td>0</td>\n",
       "      <td>0</td>\n",
       "      <td>0</td>\n",
       "      <td>0</td>\n",
       "      <td>10</td>\n",
       "      <td>10</td>\n",
       "      <td>10</td>\n",
       "      <td>10</td>\n",
       "      <td>11</td>\n",
       "      <td>14</td>\n",
       "      <td>15</td>\n",
       "      <td>17</td>\n",
       "      <td>17</td>\n",
       "      <td>16.0</td>\n",
       "      <td>unknown</td>\n",
       "      <td>negative</td>\n",
       "    </tr>\n",
       "    <tr>\n",
       "      <th>23</th>\n",
       "      <td>P20/P20.I047.006.WGS_events.txt</td>\n",
       "      <td>NaN</td>\n",
       "      <td>NaN</td>\n",
       "      <td>1.003549</td>\n",
       "      <td>8</td>\n",
       "      <td>8</td>\n",
       "      <td>5</td>\n",
       "      <td>4</td>\n",
       "      <td>4</td>\n",
       "      <td>4</td>\n",
       "      <td>3</td>\n",
       "      <td>2</td>\n",
       "      <td>2</td>\n",
       "      <td>2</td>\n",
       "      <td>2</td>\n",
       "      <td>18</td>\n",
       "      <td>18</td>\n",
       "      <td>18</td>\n",
       "      <td>18</td>\n",
       "      <td>19</td>\n",
       "      <td>20</td>\n",
       "      <td>20</td>\n",
       "      <td>20</td>\n",
       "      <td>21</td>\n",
       "      <td>NaN</td>\n",
       "      <td>unknown</td>\n",
       "      <td>negative</td>\n",
       "    </tr>\n",
       "    <tr>\n",
       "      <th>24</th>\n",
       "      <td>P21/P21.I037.002.WGS_events.txt</td>\n",
       "      <td>P21/P21.I037.002.WGS.Source.vcf.gz</td>\n",
       "      <td>I037_002_3M1_D1</td>\n",
       "      <td>1.058271</td>\n",
       "      <td>5</td>\n",
       "      <td>4</td>\n",
       "      <td>89</td>\n",
       "      <td>72</td>\n",
       "      <td>60</td>\n",
       "      <td>51</td>\n",
       "      <td>43</td>\n",
       "      <td>40</td>\n",
       "      <td>36</td>\n",
       "      <td>33</td>\n",
       "      <td>29</td>\n",
       "      <td>38</td>\n",
       "      <td>42</td>\n",
       "      <td>45</td>\n",
       "      <td>49</td>\n",
       "      <td>52</td>\n",
       "      <td>60</td>\n",
       "      <td>69</td>\n",
       "      <td>81</td>\n",
       "      <td>98</td>\n",
       "      <td>14.0</td>\n",
       "      <td>unknown</td>\n",
       "      <td>positive</td>\n",
       "    </tr>\n",
       "    <tr>\n",
       "      <th>25</th>\n",
       "      <td>P22/P22.I044.004.WGS_events.txt</td>\n",
       "      <td>P22/P22.I044.004.WGS.Source.vcf.gz</td>\n",
       "      <td>I044_004_2M1_D1</td>\n",
       "      <td>0.990383</td>\n",
       "      <td>3</td>\n",
       "      <td>5</td>\n",
       "      <td>70</td>\n",
       "      <td>55</td>\n",
       "      <td>51</td>\n",
       "      <td>42</td>\n",
       "      <td>36</td>\n",
       "      <td>34</td>\n",
       "      <td>31</td>\n",
       "      <td>26</td>\n",
       "      <td>23</td>\n",
       "      <td>31</td>\n",
       "      <td>34</td>\n",
       "      <td>39</td>\n",
       "      <td>42</td>\n",
       "      <td>44</td>\n",
       "      <td>50</td>\n",
       "      <td>59</td>\n",
       "      <td>63</td>\n",
       "      <td>78</td>\n",
       "      <td>18.0</td>\n",
       "      <td>unknown</td>\n",
       "      <td>negative</td>\n",
       "    </tr>\n",
       "    <tr>\n",
       "      <th>26</th>\n",
       "      <td>P23/P23.I002.006.WGS_events.txt</td>\n",
       "      <td>P23/P23.I002.006.WGS.Source.vcf.gz</td>\n",
       "      <td>I002_006_9M1_D1</td>\n",
       "      <td>0.915002</td>\n",
       "      <td>0</td>\n",
       "      <td>1</td>\n",
       "      <td>95</td>\n",
       "      <td>63</td>\n",
       "      <td>47</td>\n",
       "      <td>43</td>\n",
       "      <td>35</td>\n",
       "      <td>34</td>\n",
       "      <td>32</td>\n",
       "      <td>28</td>\n",
       "      <td>25</td>\n",
       "      <td>26</td>\n",
       "      <td>29</td>\n",
       "      <td>33</td>\n",
       "      <td>35</td>\n",
       "      <td>36</td>\n",
       "      <td>44</td>\n",
       "      <td>48</td>\n",
       "      <td>64</td>\n",
       "      <td>96</td>\n",
       "      <td>15.0</td>\n",
       "      <td>unknown</td>\n",
       "      <td>negative</td>\n",
       "    </tr>\n",
       "    <tr>\n",
       "      <th>27</th>\n",
       "      <td>P24/P24.I062.035.WGS_events.txt</td>\n",
       "      <td>P24/P24.I062.035.WGS.Source.vcf.gz</td>\n",
       "      <td>I062_035_2M1_D1</td>\n",
       "      <td>1.000028</td>\n",
       "      <td>5</td>\n",
       "      <td>6</td>\n",
       "      <td>2</td>\n",
       "      <td>1</td>\n",
       "      <td>1</td>\n",
       "      <td>1</td>\n",
       "      <td>1</td>\n",
       "      <td>1</td>\n",
       "      <td>1</td>\n",
       "      <td>1</td>\n",
       "      <td>0</td>\n",
       "      <td>11</td>\n",
       "      <td>12</td>\n",
       "      <td>12</td>\n",
       "      <td>12</td>\n",
       "      <td>12</td>\n",
       "      <td>12</td>\n",
       "      <td>12</td>\n",
       "      <td>12</td>\n",
       "      <td>13</td>\n",
       "      <td>NaN</td>\n",
       "      <td>deceased</td>\n",
       "      <td>negative</td>\n",
       "    </tr>\n",
       "    <tr>\n",
       "      <th>28</th>\n",
       "      <td>P25/P25.I002.007.WGS_events.txt</td>\n",
       "      <td>P25/P25.I002.007.WGS.HF.Source.vcf.gz</td>\n",
       "      <td>I002_007_9M1_D1</td>\n",
       "      <td>1.069543</td>\n",
       "      <td>3</td>\n",
       "      <td>3</td>\n",
       "      <td>35</td>\n",
       "      <td>23</td>\n",
       "      <td>16</td>\n",
       "      <td>11</td>\n",
       "      <td>9</td>\n",
       "      <td>8</td>\n",
       "      <td>8</td>\n",
       "      <td>8</td>\n",
       "      <td>7</td>\n",
       "      <td>13</td>\n",
       "      <td>14</td>\n",
       "      <td>14</td>\n",
       "      <td>14</td>\n",
       "      <td>15</td>\n",
       "      <td>17</td>\n",
       "      <td>22</td>\n",
       "      <td>29</td>\n",
       "      <td>41</td>\n",
       "      <td>15.0</td>\n",
       "      <td>unknown</td>\n",
       "      <td>negative</td>\n",
       "    </tr>\n",
       "    <tr>\n",
       "      <th>29</th>\n",
       "      <td>P26/P26.I042.009.WGS_events.txt</td>\n",
       "      <td>P26/P26.I042.009.WGS.Source.vcf.gz</td>\n",
       "      <td>I042_009_1M1_D1</td>\n",
       "      <td>1.194906</td>\n",
       "      <td>1</td>\n",
       "      <td>1</td>\n",
       "      <td>113</td>\n",
       "      <td>89</td>\n",
       "      <td>64</td>\n",
       "      <td>50</td>\n",
       "      <td>45</td>\n",
       "      <td>33</td>\n",
       "      <td>28</td>\n",
       "      <td>22</td>\n",
       "      <td>20</td>\n",
       "      <td>22</td>\n",
       "      <td>24</td>\n",
       "      <td>30</td>\n",
       "      <td>35</td>\n",
       "      <td>47</td>\n",
       "      <td>52</td>\n",
       "      <td>66</td>\n",
       "      <td>91</td>\n",
       "      <td>115</td>\n",
       "      <td>14.0</td>\n",
       "      <td>unknown</td>\n",
       "      <td>negative</td>\n",
       "    </tr>\n",
       "    <tr>\n",
       "      <th>30</th>\n",
       "      <td>P27/P27.I047.007.WGS_events.txt</td>\n",
       "      <td>P27/P27.I047.007.WGS.Source.vcf.gz</td>\n",
       "      <td>I047_007_2M1_D1</td>\n",
       "      <td>1.041258</td>\n",
       "      <td>11</td>\n",
       "      <td>10</td>\n",
       "      <td>146</td>\n",
       "      <td>93</td>\n",
       "      <td>54</td>\n",
       "      <td>38</td>\n",
       "      <td>26</td>\n",
       "      <td>23</td>\n",
       "      <td>15</td>\n",
       "      <td>10</td>\n",
       "      <td>8</td>\n",
       "      <td>29</td>\n",
       "      <td>31</td>\n",
       "      <td>36</td>\n",
       "      <td>44</td>\n",
       "      <td>47</td>\n",
       "      <td>59</td>\n",
       "      <td>75</td>\n",
       "      <td>114</td>\n",
       "      <td>167</td>\n",
       "      <td>14.0</td>\n",
       "      <td>stable</td>\n",
       "      <td>positive</td>\n",
       "    </tr>\n",
       "    <tr>\n",
       "      <th>31</th>\n",
       "      <td>P28/P28.I057.002.WGS_events.txt</td>\n",
       "      <td>P28/P28.I057.002.WGS.HF.Source.vcf.gz</td>\n",
       "      <td>I057_002_2T1_D1</td>\n",
       "      <td>1.083598</td>\n",
       "      <td>2</td>\n",
       "      <td>1</td>\n",
       "      <td>76</td>\n",
       "      <td>50</td>\n",
       "      <td>38</td>\n",
       "      <td>36</td>\n",
       "      <td>31</td>\n",
       "      <td>28</td>\n",
       "      <td>25</td>\n",
       "      <td>24</td>\n",
       "      <td>21</td>\n",
       "      <td>24</td>\n",
       "      <td>27</td>\n",
       "      <td>28</td>\n",
       "      <td>31</td>\n",
       "      <td>34</td>\n",
       "      <td>39</td>\n",
       "      <td>41</td>\n",
       "      <td>53</td>\n",
       "      <td>79</td>\n",
       "      <td>24.0</td>\n",
       "      <td>unknown</td>\n",
       "      <td>negative</td>\n",
       "    </tr>\n",
       "    <tr>\n",
       "      <th>32</th>\n",
       "      <td>P29/P29.I024.021.WGS.nexus_export.txt</td>\n",
       "      <td>P29/P29.I024.021.WGS.bwa.HF.Source.vcf.gz</td>\n",
       "      <td>AS-258811-LR-37678</td>\n",
       "      <td>0.928591</td>\n",
       "      <td>0</td>\n",
       "      <td>0</td>\n",
       "      <td>47</td>\n",
       "      <td>38</td>\n",
       "      <td>25</td>\n",
       "      <td>22</td>\n",
       "      <td>20</td>\n",
       "      <td>16</td>\n",
       "      <td>15</td>\n",
       "      <td>15</td>\n",
       "      <td>15</td>\n",
       "      <td>15</td>\n",
       "      <td>15</td>\n",
       "      <td>15</td>\n",
       "      <td>16</td>\n",
       "      <td>20</td>\n",
       "      <td>22</td>\n",
       "      <td>25</td>\n",
       "      <td>38</td>\n",
       "      <td>47</td>\n",
       "      <td>21.0</td>\n",
       "      <td>unknown</td>\n",
       "      <td>unknown</td>\n",
       "    </tr>\n",
       "    <tr>\n",
       "      <th>33</th>\n",
       "      <td>P30/P30.I070.021.WGS.nexus_export.txt</td>\n",
       "      <td>P30/P30.I070.021.WGS.bwa.HF.Source.vcf.gz</td>\n",
       "      <td>AS-261727-LR-38150</td>\n",
       "      <td>1.050937</td>\n",
       "      <td>0</td>\n",
       "      <td>0</td>\n",
       "      <td>84</td>\n",
       "      <td>62</td>\n",
       "      <td>49</td>\n",
       "      <td>42</td>\n",
       "      <td>37</td>\n",
       "      <td>33</td>\n",
       "      <td>20</td>\n",
       "      <td>17</td>\n",
       "      <td>16</td>\n",
       "      <td>16</td>\n",
       "      <td>17</td>\n",
       "      <td>20</td>\n",
       "      <td>33</td>\n",
       "      <td>37</td>\n",
       "      <td>42</td>\n",
       "      <td>49</td>\n",
       "      <td>62</td>\n",
       "      <td>84</td>\n",
       "      <td>25.0</td>\n",
       "      <td>unknown</td>\n",
       "      <td>unknown</td>\n",
       "    </tr>\n",
       "    <tr>\n",
       "      <th>34</th>\n",
       "      <td>P31/P31.I015.008.WGS.nexus_export.txt</td>\n",
       "      <td>P31/P31.I015.008.WGS.bwa.HF.Source.vcf.gz</td>\n",
       "      <td>I015.008.Tumor</td>\n",
       "      <td>0.993471</td>\n",
       "      <td>0</td>\n",
       "      <td>0</td>\n",
       "      <td>58</td>\n",
       "      <td>49</td>\n",
       "      <td>43</td>\n",
       "      <td>32</td>\n",
       "      <td>29</td>\n",
       "      <td>27</td>\n",
       "      <td>27</td>\n",
       "      <td>22</td>\n",
       "      <td>21</td>\n",
       "      <td>21</td>\n",
       "      <td>22</td>\n",
       "      <td>27</td>\n",
       "      <td>27</td>\n",
       "      <td>29</td>\n",
       "      <td>32</td>\n",
       "      <td>43</td>\n",
       "      <td>49</td>\n",
       "      <td>58</td>\n",
       "      <td>17.0</td>\n",
       "      <td>unknown</td>\n",
       "      <td>unknown</td>\n",
       "    </tr>\n",
       "    <tr>\n",
       "      <th>35</th>\n",
       "      <td>P32/P32.I027.011.WGS.nexus_export.txt</td>\n",
       "      <td>P32/P32.I027.011.WGS.bwa.HF.Source.vcf.gz</td>\n",
       "      <td>I027.011.Tumor</td>\n",
       "      <td>1.090837</td>\n",
       "      <td>0</td>\n",
       "      <td>0</td>\n",
       "      <td>175</td>\n",
       "      <td>118</td>\n",
       "      <td>80</td>\n",
       "      <td>56</td>\n",
       "      <td>46</td>\n",
       "      <td>33</td>\n",
       "      <td>23</td>\n",
       "      <td>18</td>\n",
       "      <td>13</td>\n",
       "      <td>13</td>\n",
       "      <td>18</td>\n",
       "      <td>23</td>\n",
       "      <td>33</td>\n",
       "      <td>46</td>\n",
       "      <td>56</td>\n",
       "      <td>80</td>\n",
       "      <td>118</td>\n",
       "      <td>175</td>\n",
       "      <td>14.0</td>\n",
       "      <td>unknown</td>\n",
       "      <td>unknown</td>\n",
       "    </tr>\n",
       "    <tr>\n",
       "      <th>36</th>\n",
       "      <td>P33/P33.I047.011.WGS.nexus_export.txt</td>\n",
       "      <td>NaN</td>\n",
       "      <td>NaN</td>\n",
       "      <td>1.096571</td>\n",
       "      <td>0</td>\n",
       "      <td>0</td>\n",
       "      <td>74</td>\n",
       "      <td>51</td>\n",
       "      <td>41</td>\n",
       "      <td>38</td>\n",
       "      <td>35</td>\n",
       "      <td>24</td>\n",
       "      <td>20</td>\n",
       "      <td>16</td>\n",
       "      <td>15</td>\n",
       "      <td>15</td>\n",
       "      <td>16</td>\n",
       "      <td>20</td>\n",
       "      <td>24</td>\n",
       "      <td>35</td>\n",
       "      <td>38</td>\n",
       "      <td>41</td>\n",
       "      <td>51</td>\n",
       "      <td>74</td>\n",
       "      <td>14.0</td>\n",
       "      <td>unknown</td>\n",
       "      <td>unknown</td>\n",
       "    </tr>\n",
       "    <tr>\n",
       "      <th>37</th>\n",
       "      <td>P34/P34.I063.011.WGS.nexus_export.txt</td>\n",
       "      <td>P34/P34.I063.011.WGS.bwa.HF.Source.vcf.gz</td>\n",
       "      <td>I063.011.Tumor</td>\n",
       "      <td>1.186607</td>\n",
       "      <td>0</td>\n",
       "      <td>0</td>\n",
       "      <td>88</td>\n",
       "      <td>61</td>\n",
       "      <td>43</td>\n",
       "      <td>32</td>\n",
       "      <td>29</td>\n",
       "      <td>24</td>\n",
       "      <td>18</td>\n",
       "      <td>17</td>\n",
       "      <td>12</td>\n",
       "      <td>12</td>\n",
       "      <td>17</td>\n",
       "      <td>18</td>\n",
       "      <td>24</td>\n",
       "      <td>29</td>\n",
       "      <td>32</td>\n",
       "      <td>43</td>\n",
       "      <td>61</td>\n",
       "      <td>88</td>\n",
       "      <td>19.0</td>\n",
       "      <td>unknown</td>\n",
       "      <td>unknown</td>\n",
       "    </tr>\n",
       "    <tr>\n",
       "      <th>38</th>\n",
       "      <td>P35/P35.I013.017.WGS.nexus_export.txt</td>\n",
       "      <td>P35/P35.I013.017.hisat2.WGS.raw.vcf.gz</td>\n",
       "      <td>P35.I013.017.WGS.T</td>\n",
       "      <td>0.989249</td>\n",
       "      <td>0</td>\n",
       "      <td>0</td>\n",
       "      <td>64</td>\n",
       "      <td>51</td>\n",
       "      <td>44</td>\n",
       "      <td>33</td>\n",
       "      <td>32</td>\n",
       "      <td>30</td>\n",
       "      <td>23</td>\n",
       "      <td>23</td>\n",
       "      <td>23</td>\n",
       "      <td>23</td>\n",
       "      <td>23</td>\n",
       "      <td>23</td>\n",
       "      <td>30</td>\n",
       "      <td>32</td>\n",
       "      <td>33</td>\n",
       "      <td>44</td>\n",
       "      <td>51</td>\n",
       "      <td>64</td>\n",
       "      <td>15.0</td>\n",
       "      <td>unknown</td>\n",
       "      <td>unknown</td>\n",
       "    </tr>\n",
       "    <tr>\n",
       "      <th>39</th>\n",
       "      <td>P36/P36.I014.018.WGS.nexus_export.txt</td>\n",
       "      <td>NaN</td>\n",
       "      <td>NaN</td>\n",
       "      <td>1.018703</td>\n",
       "      <td>0</td>\n",
       "      <td>0</td>\n",
       "      <td>82</td>\n",
       "      <td>63</td>\n",
       "      <td>51</td>\n",
       "      <td>35</td>\n",
       "      <td>33</td>\n",
       "      <td>28</td>\n",
       "      <td>22</td>\n",
       "      <td>20</td>\n",
       "      <td>18</td>\n",
       "      <td>18</td>\n",
       "      <td>20</td>\n",
       "      <td>22</td>\n",
       "      <td>28</td>\n",
       "      <td>33</td>\n",
       "      <td>35</td>\n",
       "      <td>51</td>\n",
       "      <td>63</td>\n",
       "      <td>82</td>\n",
       "      <td>9.0</td>\n",
       "      <td>unknown</td>\n",
       "      <td>unknown</td>\n",
       "    </tr>\n",
       "    <tr>\n",
       "      <th>40</th>\n",
       "      <td>P37/P37.I018.023..WGS.nexus_export.txt</td>\n",
       "      <td>NaN</td>\n",
       "      <td>NaN</td>\n",
       "      <td>1.052945</td>\n",
       "      <td>0</td>\n",
       "      <td>0</td>\n",
       "      <td>96</td>\n",
       "      <td>81</td>\n",
       "      <td>63</td>\n",
       "      <td>46</td>\n",
       "      <td>41</td>\n",
       "      <td>34</td>\n",
       "      <td>28</td>\n",
       "      <td>27</td>\n",
       "      <td>19</td>\n",
       "      <td>19</td>\n",
       "      <td>27</td>\n",
       "      <td>28</td>\n",
       "      <td>34</td>\n",
       "      <td>41</td>\n",
       "      <td>46</td>\n",
       "      <td>63</td>\n",
       "      <td>81</td>\n",
       "      <td>96</td>\n",
       "      <td>21.0</td>\n",
       "      <td>unknown</td>\n",
       "      <td>unknown</td>\n",
       "    </tr>\n",
       "    <tr>\n",
       "      <th>41</th>\n",
       "      <td>P38/P38.I063.010.WGS.nexus_export.txt</td>\n",
       "      <td>NaN</td>\n",
       "      <td>NaN</td>\n",
       "      <td>1.024637</td>\n",
       "      <td>0</td>\n",
       "      <td>0</td>\n",
       "      <td>79</td>\n",
       "      <td>66</td>\n",
       "      <td>52</td>\n",
       "      <td>41</td>\n",
       "      <td>34</td>\n",
       "      <td>28</td>\n",
       "      <td>25</td>\n",
       "      <td>24</td>\n",
       "      <td>22</td>\n",
       "      <td>22</td>\n",
       "      <td>24</td>\n",
       "      <td>25</td>\n",
       "      <td>28</td>\n",
       "      <td>34</td>\n",
       "      <td>41</td>\n",
       "      <td>52</td>\n",
       "      <td>66</td>\n",
       "      <td>79</td>\n",
       "      <td>16.0</td>\n",
       "      <td>unknown</td>\n",
       "      <td>unknown</td>\n",
       "    </tr>\n",
       "    <tr>\n",
       "      <th>42</th>\n",
       "      <td>P39/P39.I054.013.WGS.nexus_export.txt</td>\n",
       "      <td>NaN</td>\n",
       "      <td>NaN</td>\n",
       "      <td>1.038116</td>\n",
       "      <td>0</td>\n",
       "      <td>0</td>\n",
       "      <td>89</td>\n",
       "      <td>72</td>\n",
       "      <td>60</td>\n",
       "      <td>44</td>\n",
       "      <td>40</td>\n",
       "      <td>35</td>\n",
       "      <td>30</td>\n",
       "      <td>25</td>\n",
       "      <td>20</td>\n",
       "      <td>20</td>\n",
       "      <td>25</td>\n",
       "      <td>30</td>\n",
       "      <td>35</td>\n",
       "      <td>40</td>\n",
       "      <td>44</td>\n",
       "      <td>60</td>\n",
       "      <td>72</td>\n",
       "      <td>89</td>\n",
       "      <td>18.0</td>\n",
       "      <td>unknown</td>\n",
       "      <td>unknown</td>\n",
       "    </tr>\n",
       "    <tr>\n",
       "      <th>43</th>\n",
       "      <td>P40/P40.I076.018.WGS.nexus_export.txt</td>\n",
       "      <td>NaN</td>\n",
       "      <td>NaN</td>\n",
       "      <td>1.067590</td>\n",
       "      <td>0</td>\n",
       "      <td>0</td>\n",
       "      <td>50</td>\n",
       "      <td>42</td>\n",
       "      <td>36</td>\n",
       "      <td>31</td>\n",
       "      <td>30</td>\n",
       "      <td>27</td>\n",
       "      <td>24</td>\n",
       "      <td>21</td>\n",
       "      <td>20</td>\n",
       "      <td>20</td>\n",
       "      <td>21</td>\n",
       "      <td>24</td>\n",
       "      <td>27</td>\n",
       "      <td>30</td>\n",
       "      <td>31</td>\n",
       "      <td>36</td>\n",
       "      <td>42</td>\n",
       "      <td>50</td>\n",
       "      <td>17.0</td>\n",
       "      <td>unknown</td>\n",
       "      <td>unknown</td>\n",
       "    </tr>\n",
       "    <tr>\n",
       "      <th>44</th>\n",
       "      <td>P41/P41.I018.019.WGS.nexus_export.txt</td>\n",
       "      <td>NaN</td>\n",
       "      <td>NaN</td>\n",
       "      <td>1.082341</td>\n",
       "      <td>0</td>\n",
       "      <td>0</td>\n",
       "      <td>87</td>\n",
       "      <td>65</td>\n",
       "      <td>53</td>\n",
       "      <td>36</td>\n",
       "      <td>30</td>\n",
       "      <td>17</td>\n",
       "      <td>12</td>\n",
       "      <td>9</td>\n",
       "      <td>7</td>\n",
       "      <td>7</td>\n",
       "      <td>9</td>\n",
       "      <td>12</td>\n",
       "      <td>17</td>\n",
       "      <td>30</td>\n",
       "      <td>36</td>\n",
       "      <td>53</td>\n",
       "      <td>65</td>\n",
       "      <td>87</td>\n",
       "      <td>21.0</td>\n",
       "      <td>unknown</td>\n",
       "      <td>unknown</td>\n",
       "    </tr>\n",
       "  </tbody>\n",
       "</table>\n",
       "</div>"
      ],
      "text/plain": [
       "                          Segmental report  \\\n",
       "0           P01/P1.I042.001.WGS_events.txt   \n",
       "1           P01/P1.I062.003.WGS_events.txt   \n",
       "2             P02/P2.MS.00F.WGS_events.txt   \n",
       "3           P03/P3.I062.007.WGS_events.txt   \n",
       "4           P03/P3.I062.015.WGS_events.txt   \n",
       "5           P03/P3.I062.022.WGS_events.txt   \n",
       "6           P03/P3.I062.033.WGS_events.txt   \n",
       "7           P04/P4.I042.002.WGS_events.txt   \n",
       "8             P05/P5.HA.00B.WGS_events.txt   \n",
       "9             P06/P6.HD.00J.WGS_events.txt   \n",
       "10            P07/P7.MS.00A.WGS_events.txt   \n",
       "11          P08/P8.I022.002.WGS_events.txt   \n",
       "12          P09/P9.I047.003.WGS_events.txt   \n",
       "13         P10/P10.I023.005.WGS_events.txt   \n",
       "14         P11/P11.I036.005.WGS_events.txt   \n",
       "15         P12/P12.I056.004.WGS_events.txt   \n",
       "16         P13/P13.I022.017.WGS_events.txt   \n",
       "17         P14/P14.I062.006.WES_events.txt   \n",
       "18         P15/P15.I047.005.WGS_events.txt   \n",
       "19         P16/P16.I062.010.WGS_events.txt   \n",
       "20         P17/P17.I062.020.WGS_events.txt   \n",
       "21         P18/P18.I062_021.WGS_events.txt   \n",
       "22         P19/P19.I007.018.WGS_events.txt   \n",
       "23         P20/P20.I047.006.WGS_events.txt   \n",
       "24         P21/P21.I037.002.WGS_events.txt   \n",
       "25         P22/P22.I044.004.WGS_events.txt   \n",
       "26         P23/P23.I002.006.WGS_events.txt   \n",
       "27         P24/P24.I062.035.WGS_events.txt   \n",
       "28         P25/P25.I002.007.WGS_events.txt   \n",
       "29         P26/P26.I042.009.WGS_events.txt   \n",
       "30         P27/P27.I047.007.WGS_events.txt   \n",
       "31         P28/P28.I057.002.WGS_events.txt   \n",
       "32   P29/P29.I024.021.WGS.nexus_export.txt   \n",
       "33   P30/P30.I070.021.WGS.nexus_export.txt   \n",
       "34   P31/P31.I015.008.WGS.nexus_export.txt   \n",
       "35   P32/P32.I027.011.WGS.nexus_export.txt   \n",
       "36   P33/P33.I047.011.WGS.nexus_export.txt   \n",
       "37   P34/P34.I063.011.WGS.nexus_export.txt   \n",
       "38   P35/P35.I013.017.WGS.nexus_export.txt   \n",
       "39   P36/P36.I014.018.WGS.nexus_export.txt   \n",
       "40  P37/P37.I018.023..WGS.nexus_export.txt   \n",
       "41   P38/P38.I063.010.WGS.nexus_export.txt   \n",
       "42   P39/P39.I054.013.WGS.nexus_export.txt   \n",
       "43   P40/P40.I076.018.WGS.nexus_export.txt   \n",
       "44   P41/P41.I018.019.WGS.nexus_export.txt   \n",
       "\n",
       "                                          VCF         Sample name  DNA index  \\\n",
       "0                                         NaN                 NaN   1.007272   \n",
       "1                                         NaN                 NaN   1.029418   \n",
       "2            P02/P02.MS_00F.WGS.Source.vcf.gz            MS_00F.T   1.052231   \n",
       "3                      P03/P06.WGS.raw.vcf.gz             P6.Met4   1.022245   \n",
       "4                      P03/P06.WGS.raw.vcf.gz             P6.Met5   1.046050   \n",
       "5                                         NaN                 NaN   1.013335   \n",
       "6                      P03/P06.WGS.raw.vcf.gz             P6.Met7   1.048037   \n",
       "7          P04/P04.I042_002.WGS.Source.vcf.gz          I042_002.T   1.060387   \n",
       "8            P05/P05.HA_00B.WGS.Source.vcf.gz            HA_00B.T   1.059753   \n",
       "9         P06/P06.HD_00J.WGS.HF.Source.vcf.gz            HD_00J.T   1.124714   \n",
       "10           P07/P07.MS_00A.WGS.Source.vcf.gz            MS_00A.T   0.966000   \n",
       "11      P08/P08.I022_002.WGS.HF.Source.vcf.gz          I022_002.T   1.034036   \n",
       "12      P09/P09.I047_003.WGS.HF.Source.vcf.gz          I047_003.T   1.077638   \n",
       "13                                        NaN                 NaN   0.936669   \n",
       "14      P11/P11.I036_005.WGS.HF.Source.vcf.gz          I036_005.T   1.028511   \n",
       "15      P12/P12.I056_004.WGS.HF.Source.vcf.gz          I056_004.T   0.966356   \n",
       "16      P13/P13.I022_017.WGS.HF.Source.vcf.gz          I022_017.T   1.036491   \n",
       "17      P14/P14.I062.006.WGS.HF.Source.vcf.gz          I062.006.T   1.134877   \n",
       "18            P15/P15.I047.005.WGS.raw.vcf.gz          I047_005.T   0.940260   \n",
       "19      P16/P16.I062_010.WGS.HF.Source.vcf.gz          I062_010.T   0.916479   \n",
       "20         P17/P17.I062.020.WGS.Source.vcf.gz          I062_020.T   1.000842   \n",
       "21         P18/P18.I062.021.WGS.Source.vcf.gz         I0622_021.T   1.074429   \n",
       "22         P19/P19.I007.018.WGS.Source.vcf.gz          I007_018.T   0.945868   \n",
       "23                                        NaN                 NaN   1.003549   \n",
       "24         P21/P21.I037.002.WGS.Source.vcf.gz     I037_002_3M1_D1   1.058271   \n",
       "25         P22/P22.I044.004.WGS.Source.vcf.gz     I044_004_2M1_D1   0.990383   \n",
       "26         P23/P23.I002.006.WGS.Source.vcf.gz     I002_006_9M1_D1   0.915002   \n",
       "27         P24/P24.I062.035.WGS.Source.vcf.gz     I062_035_2M1_D1   1.000028   \n",
       "28      P25/P25.I002.007.WGS.HF.Source.vcf.gz     I002_007_9M1_D1   1.069543   \n",
       "29         P26/P26.I042.009.WGS.Source.vcf.gz     I042_009_1M1_D1   1.194906   \n",
       "30         P27/P27.I047.007.WGS.Source.vcf.gz     I047_007_2M1_D1   1.041258   \n",
       "31      P28/P28.I057.002.WGS.HF.Source.vcf.gz     I057_002_2T1_D1   1.083598   \n",
       "32  P29/P29.I024.021.WGS.bwa.HF.Source.vcf.gz  AS-258811-LR-37678   0.928591   \n",
       "33  P30/P30.I070.021.WGS.bwa.HF.Source.vcf.gz  AS-261727-LR-38150   1.050937   \n",
       "34  P31/P31.I015.008.WGS.bwa.HF.Source.vcf.gz      I015.008.Tumor   0.993471   \n",
       "35  P32/P32.I027.011.WGS.bwa.HF.Source.vcf.gz      I027.011.Tumor   1.090837   \n",
       "36                                        NaN                 NaN   1.096571   \n",
       "37  P34/P34.I063.011.WGS.bwa.HF.Source.vcf.gz      I063.011.Tumor   1.186607   \n",
       "38     P35/P35.I013.017.hisat2.WGS.raw.vcf.gz  P35.I013.017.WGS.T   0.989249   \n",
       "39                                        NaN                 NaN   1.018703   \n",
       "40                                        NaN                 NaN   1.052945   \n",
       "41                                        NaN                 NaN   1.024637   \n",
       "42                                        NaN                 NaN   1.038116   \n",
       "43                                        NaN                 NaN   1.067590   \n",
       "44                                        NaN                 NaN   1.082341   \n",
       "\n",
       "    TAI  LOH  LST_3Mb  LST_4Mb  LST_5Mb  LST_6Mb  LST_7Mb  LST_8Mb  LST_9Mb  \\\n",
       "0     0    0       31       25       21       18       16       13       11   \n",
       "1     0    0       36       26       24       21       19       11        9   \n",
       "2     0    0      127      101       77       59       44       35       29   \n",
       "3     0    0       33       20       14       13       12        9        7   \n",
       "4     0    0       89       69       59       45       40       31       27   \n",
       "5     0    0      180      138      106       90       75       62       46   \n",
       "6     1    1       96       69       52       46       31       26       22   \n",
       "7     0    0       23       14       13       11       11        8        7   \n",
       "8     0    0      175      113       77       62       51       43       30   \n",
       "9     0    0       78       57       46       39       30       25       22   \n",
       "10    0    0       92       72       57       49       43       31       30   \n",
       "11    0    0      108       76       60       49       35       30       25   \n",
       "12    0    0       70       51       43       41       36       29       22   \n",
       "13    0    0       54       46       39       32       28       27       20   \n",
       "14    0    0      119       86       66       52       40       27       26   \n",
       "15    0    0       44       38       32       28       26       23       20   \n",
       "16    0    0       62       46       42       39       36       36       27   \n",
       "17   48   23      155      116       77       60       50       47       38   \n",
       "18    0    0       53       39       33       25       20       18       13   \n",
       "19    0    0       36       33       28       23       18       16       10   \n",
       "20    0    0      172      119       80       53       37       30       24   \n",
       "21    0    0      148      112       87       61       50       47       40   \n",
       "22    5    5        7        7        5        4        1        0        0   \n",
       "23    8    8        5        4        4        4        3        2        2   \n",
       "24    5    4       89       72       60       51       43       40       36   \n",
       "25    3    5       70       55       51       42       36       34       31   \n",
       "26    0    1       95       63       47       43       35       34       32   \n",
       "27    5    6        2        1        1        1        1        1        1   \n",
       "28    3    3       35       23       16       11        9        8        8   \n",
       "29    1    1      113       89       64       50       45       33       28   \n",
       "30   11   10      146       93       54       38       26       23       15   \n",
       "31    2    1       76       50       38       36       31       28       25   \n",
       "32    0    0       47       38       25       22       20       16       15   \n",
       "33    0    0       84       62       49       42       37       33       20   \n",
       "34    0    0       58       49       43       32       29       27       27   \n",
       "35    0    0      175      118       80       56       46       33       23   \n",
       "36    0    0       74       51       41       38       35       24       20   \n",
       "37    0    0       88       61       43       32       29       24       18   \n",
       "38    0    0       64       51       44       33       32       30       23   \n",
       "39    0    0       82       63       51       35       33       28       22   \n",
       "40    0    0       96       81       63       46       41       34       28   \n",
       "41    0    0       79       66       52       41       34       28       25   \n",
       "42    0    0       89       72       60       44       40       35       30   \n",
       "43    0    0       50       42       36       31       30       27       24   \n",
       "44    0    0       87       65       53       36       30       17       12   \n",
       "\n",
       "    LST_10Mb  LST_11Mb  HRD_11  HRD_10  HRD_9  HRD_8  HRD_7  HRD_6  HRD_5  \\\n",
       "0          9         4       4       9     11     13     16     18     21   \n",
       "1          7         6       6       7      9     11     19     21     24   \n",
       "2         23        16      16      23     29     35     44     59     77   \n",
       "3          7         4       4       7      7      9     12     13     14   \n",
       "4         24        20      20      24     27     31     40     45     59   \n",
       "5         37        31      31      37     46     62     75     90    106   \n",
       "6         22        20      22      24     24     28     33     48     54   \n",
       "7          7         7       7       7      7      8     11     11     13   \n",
       "8         22        22      22      22     30     43     51     62     77   \n",
       "9         18        17      17      18     22     25     30     39     46   \n",
       "10        28        26      26      28     30     31     43     49     57   \n",
       "11        22        19      19      22     25     30     35     49     60   \n",
       "12        15        14      14      15     22     29     36     41     43   \n",
       "13        19        18      18      19     20     27     28     32     39   \n",
       "14        21        16      16      21     26     27     40     52     66   \n",
       "15        18        15      15      18     20     23     26     28     32   \n",
       "16        25        20      20      25     27     36     36     39     42   \n",
       "17        29        24      95     100    109    118    121    131    148   \n",
       "18        13        12      12      13     13     18     20     25     33   \n",
       "19         9         7       7       9     10     16     18     23     28   \n",
       "20        15         9       9      15     24     30     37     53     80   \n",
       "21        35        27      27      35     40     47     50     61     87   \n",
       "22         0         0      10      10     10     10     11     14     15   \n",
       "23         2         2      18      18     18     18     19     20     20   \n",
       "24        33        29      38      42     45     49     52     60     69   \n",
       "25        26        23      31      34     39     42     44     50     59   \n",
       "26        28        25      26      29     33     35     36     44     48   \n",
       "27         1         0      11      12     12     12     12     12     12   \n",
       "28         8         7      13      14     14     14     15     17     22   \n",
       "29        22        20      22      24     30     35     47     52     66   \n",
       "30        10         8      29      31     36     44     47     59     75   \n",
       "31        24        21      24      27     28     31     34     39     41   \n",
       "32        15        15      15      15     15     16     20     22     25   \n",
       "33        17        16      16      17     20     33     37     42     49   \n",
       "34        22        21      21      22     27     27     29     32     43   \n",
       "35        18        13      13      18     23     33     46     56     80   \n",
       "36        16        15      15      16     20     24     35     38     41   \n",
       "37        17        12      12      17     18     24     29     32     43   \n",
       "38        23        23      23      23     23     30     32     33     44   \n",
       "39        20        18      18      20     22     28     33     35     51   \n",
       "40        27        19      19      27     28     34     41     46     63   \n",
       "41        24        22      22      24     25     28     34     41     52   \n",
       "42        25        20      20      25     30     35     40     44     60   \n",
       "43        21        20      20      21     24     27     30     31     36   \n",
       "44         9         7       7       9     12     17     30     36     53   \n",
       "\n",
       "    HRD_4  HRD_3   Age Response - real Response - cell lines  \n",
       "0      25     31   NaN         unknown              negative  \n",
       "1      26     36   NaN         unknown              negative  \n",
       "2     101    127  17.0         unknown              negative  \n",
       "3      20     33  18.0        deceased              negative  \n",
       "4      69     89  19.0        deceased              negative  \n",
       "5     138    180  19.0        deceased              negative  \n",
       "6      71     98  20.0        deceased              negative  \n",
       "7      14     23   2.0         unknown              negative  \n",
       "8     113    175   NaN        deceased              positive  \n",
       "9      57     78   NaN          stable              negative  \n",
       "10     72     92   NaN          stable              negative  \n",
       "11     76    108  25.0         unknown              negative  \n",
       "12     51     70  29.0         unknown              negative  \n",
       "13     46     54  23.0         unknown              negative  \n",
       "14     86    119  16.0         unknown              negative  \n",
       "15     38     44   4.0         unknown              negative  \n",
       "16     46     62  20.0         unknown              negative  \n",
       "17    187    226  16.0          stable              positive  \n",
       "18     39     53  20.0         unknown              negative  \n",
       "19     33     36  17.0         unknown              negative  \n",
       "20    119    172  18.0         unknown              negative  \n",
       "21    112    148  16.0         unknown              positive  \n",
       "22     17     17  16.0         unknown              negative  \n",
       "23     20     21   NaN         unknown              negative  \n",
       "24     81     98  14.0         unknown              positive  \n",
       "25     63     78  18.0         unknown              negative  \n",
       "26     64     96  15.0         unknown              negative  \n",
       "27     12     13   NaN        deceased              negative  \n",
       "28     29     41  15.0         unknown              negative  \n",
       "29     91    115  14.0         unknown              negative  \n",
       "30    114    167  14.0          stable              positive  \n",
       "31     53     79  24.0         unknown              negative  \n",
       "32     38     47  21.0         unknown               unknown  \n",
       "33     62     84  25.0         unknown               unknown  \n",
       "34     49     58  17.0         unknown               unknown  \n",
       "35    118    175  14.0         unknown               unknown  \n",
       "36     51     74  14.0         unknown               unknown  \n",
       "37     61     88  19.0         unknown               unknown  \n",
       "38     51     64  15.0         unknown               unknown  \n",
       "39     63     82   9.0         unknown               unknown  \n",
       "40     81     96  21.0         unknown               unknown  \n",
       "41     66     79  16.0         unknown               unknown  \n",
       "42     72     89  18.0         unknown               unknown  \n",
       "43     42     50  17.0         unknown               unknown  \n",
       "44     65     87  21.0         unknown               unknown  "
      ]
     },
     "execution_count": 8,
     "metadata": {},
     "output_type": "execute_result"
    }
   ],
   "source": [
    "results_inform = pd.read_excel(\"../data/results/hrd_results_inform.xlsx\", index_col=0) \n",
    "\n",
    "results_inform"
   ]
  },
  {
   "cell_type": "markdown",
   "id": "extra-knife",
   "metadata": {},
   "source": [
    "## Reálne výsledky"
   ]
  },
  {
   "cell_type": "code",
   "execution_count": 9,
   "id": "outer-samba",
   "metadata": {},
   "outputs": [],
   "source": [
    "inform_known_response = results_inform.loc[results_inform['Response - real'] != 'unknown']"
   ]
  },
  {
   "cell_type": "code",
   "execution_count": 10,
   "id": "fourth-bowling",
   "metadata": {},
   "outputs": [],
   "source": [
    "inform_stable = results_inform.loc[results_inform['Response - real'] == 'stable']\n",
    "inform_deceased = results_inform.loc[results_inform['Response - real'] == 'deceased']"
   ]
  },
  {
   "cell_type": "markdown",
   "id": "jewish-picture",
   "metadata": {},
   "source": [
    "### Optimalizácia"
   ]
  },
  {
   "cell_type": "code",
   "execution_count": 11,
   "id": "southern-daughter",
   "metadata": {},
   "outputs": [
    {
     "name": "stderr",
     "output_type": "stream",
     "text": [
      "/mnt/d/skola/Bakalarka/bp-env/lib/python3.8/site-packages/pandas/core/indexing.py:1599: SettingWithCopyWarning: \n",
      "A value is trying to be set on a copy of a slice from a DataFrame.\n",
      "Try using .loc[row_indexer,col_indexer] = value instead\n",
      "\n",
      "See the caveats in the documentation: https://pandas.pydata.org/pandas-docs/stable/user_guide/indexing.html#returning-a-view-versus-a-copy\n",
      "  self.obj[key] = infer_fill_value(value)\n",
      "/mnt/d/skola/Bakalarka/bp-env/lib/python3.8/site-packages/pandas/core/indexing.py:1720: SettingWithCopyWarning: \n",
      "A value is trying to be set on a copy of a slice from a DataFrame.\n",
      "Try using .loc[row_indexer,col_indexer] = value instead\n",
      "\n",
      "See the caveats in the documentation: https://pandas.pydata.org/pandas-docs/stable/user_guide/indexing.html#returning-a-view-versus-a-copy\n",
      "  self._setitem_single_column(loc, value, pi)\n"
     ]
    },
    {
     "data": {
      "text/html": [
       "<div>\n",
       "<style scoped>\n",
       "    .dataframe tbody tr th:only-of-type {\n",
       "        vertical-align: middle;\n",
       "    }\n",
       "\n",
       "    .dataframe tbody tr th {\n",
       "        vertical-align: top;\n",
       "    }\n",
       "\n",
       "    .dataframe thead th {\n",
       "        text-align: right;\n",
       "    }\n",
       "</style>\n",
       "<table border=\"1\" class=\"dataframe\">\n",
       "  <thead>\n",
       "    <tr style=\"text-align: right;\">\n",
       "      <th></th>\n",
       "      <th>Segmental report</th>\n",
       "      <th>VCF</th>\n",
       "      <th>Sample name</th>\n",
       "      <th>DNA index</th>\n",
       "      <th>TAI</th>\n",
       "      <th>LOH</th>\n",
       "      <th>LST_3Mb</th>\n",
       "      <th>LST_4Mb</th>\n",
       "      <th>LST_5Mb</th>\n",
       "      <th>LST_6Mb</th>\n",
       "      <th>LST_7Mb</th>\n",
       "      <th>LST_8Mb</th>\n",
       "      <th>LST_9Mb</th>\n",
       "      <th>LST_10Mb</th>\n",
       "      <th>LST_11Mb</th>\n",
       "      <th>HRD_11</th>\n",
       "      <th>HRD_10</th>\n",
       "      <th>HRD_9</th>\n",
       "      <th>HRD_8</th>\n",
       "      <th>HRD_7</th>\n",
       "      <th>HRD_6</th>\n",
       "      <th>HRD_5</th>\n",
       "      <th>HRD_4</th>\n",
       "      <th>HRD_3</th>\n",
       "      <th>Age</th>\n",
       "      <th>Response - real</th>\n",
       "      <th>Response - cell lines</th>\n",
       "      <th>Response - real numeric</th>\n",
       "    </tr>\n",
       "  </thead>\n",
       "  <tbody>\n",
       "    <tr>\n",
       "      <th>3</th>\n",
       "      <td>P03/P3.I062.007.WGS_events.txt</td>\n",
       "      <td>P03/P06.WGS.raw.vcf.gz</td>\n",
       "      <td>P6.Met4</td>\n",
       "      <td>1.022245</td>\n",
       "      <td>0</td>\n",
       "      <td>0</td>\n",
       "      <td>33</td>\n",
       "      <td>20</td>\n",
       "      <td>14</td>\n",
       "      <td>13</td>\n",
       "      <td>12</td>\n",
       "      <td>9</td>\n",
       "      <td>7</td>\n",
       "      <td>7</td>\n",
       "      <td>4</td>\n",
       "      <td>4</td>\n",
       "      <td>7</td>\n",
       "      <td>7</td>\n",
       "      <td>9</td>\n",
       "      <td>12</td>\n",
       "      <td>13</td>\n",
       "      <td>14</td>\n",
       "      <td>20</td>\n",
       "      <td>33</td>\n",
       "      <td>18.0</td>\n",
       "      <td>deceased</td>\n",
       "      <td>negative</td>\n",
       "      <td>0.0</td>\n",
       "    </tr>\n",
       "    <tr>\n",
       "      <th>4</th>\n",
       "      <td>P03/P3.I062.015.WGS_events.txt</td>\n",
       "      <td>P03/P06.WGS.raw.vcf.gz</td>\n",
       "      <td>P6.Met5</td>\n",
       "      <td>1.046050</td>\n",
       "      <td>0</td>\n",
       "      <td>0</td>\n",
       "      <td>89</td>\n",
       "      <td>69</td>\n",
       "      <td>59</td>\n",
       "      <td>45</td>\n",
       "      <td>40</td>\n",
       "      <td>31</td>\n",
       "      <td>27</td>\n",
       "      <td>24</td>\n",
       "      <td>20</td>\n",
       "      <td>20</td>\n",
       "      <td>24</td>\n",
       "      <td>27</td>\n",
       "      <td>31</td>\n",
       "      <td>40</td>\n",
       "      <td>45</td>\n",
       "      <td>59</td>\n",
       "      <td>69</td>\n",
       "      <td>89</td>\n",
       "      <td>19.0</td>\n",
       "      <td>deceased</td>\n",
       "      <td>negative</td>\n",
       "      <td>0.0</td>\n",
       "    </tr>\n",
       "    <tr>\n",
       "      <th>5</th>\n",
       "      <td>P03/P3.I062.022.WGS_events.txt</td>\n",
       "      <td>NaN</td>\n",
       "      <td>NaN</td>\n",
       "      <td>1.013335</td>\n",
       "      <td>0</td>\n",
       "      <td>0</td>\n",
       "      <td>180</td>\n",
       "      <td>138</td>\n",
       "      <td>106</td>\n",
       "      <td>90</td>\n",
       "      <td>75</td>\n",
       "      <td>62</td>\n",
       "      <td>46</td>\n",
       "      <td>37</td>\n",
       "      <td>31</td>\n",
       "      <td>31</td>\n",
       "      <td>37</td>\n",
       "      <td>46</td>\n",
       "      <td>62</td>\n",
       "      <td>75</td>\n",
       "      <td>90</td>\n",
       "      <td>106</td>\n",
       "      <td>138</td>\n",
       "      <td>180</td>\n",
       "      <td>19.0</td>\n",
       "      <td>deceased</td>\n",
       "      <td>negative</td>\n",
       "      <td>0.0</td>\n",
       "    </tr>\n",
       "    <tr>\n",
       "      <th>6</th>\n",
       "      <td>P03/P3.I062.033.WGS_events.txt</td>\n",
       "      <td>P03/P06.WGS.raw.vcf.gz</td>\n",
       "      <td>P6.Met7</td>\n",
       "      <td>1.048037</td>\n",
       "      <td>1</td>\n",
       "      <td>1</td>\n",
       "      <td>96</td>\n",
       "      <td>69</td>\n",
       "      <td>52</td>\n",
       "      <td>46</td>\n",
       "      <td>31</td>\n",
       "      <td>26</td>\n",
       "      <td>22</td>\n",
       "      <td>22</td>\n",
       "      <td>20</td>\n",
       "      <td>22</td>\n",
       "      <td>24</td>\n",
       "      <td>24</td>\n",
       "      <td>28</td>\n",
       "      <td>33</td>\n",
       "      <td>48</td>\n",
       "      <td>54</td>\n",
       "      <td>71</td>\n",
       "      <td>98</td>\n",
       "      <td>20.0</td>\n",
       "      <td>deceased</td>\n",
       "      <td>negative</td>\n",
       "      <td>0.0</td>\n",
       "    </tr>\n",
       "    <tr>\n",
       "      <th>8</th>\n",
       "      <td>P05/P5.HA.00B.WGS_events.txt</td>\n",
       "      <td>P05/P05.HA_00B.WGS.Source.vcf.gz</td>\n",
       "      <td>HA_00B.T</td>\n",
       "      <td>1.059753</td>\n",
       "      <td>0</td>\n",
       "      <td>0</td>\n",
       "      <td>175</td>\n",
       "      <td>113</td>\n",
       "      <td>77</td>\n",
       "      <td>62</td>\n",
       "      <td>51</td>\n",
       "      <td>43</td>\n",
       "      <td>30</td>\n",
       "      <td>22</td>\n",
       "      <td>22</td>\n",
       "      <td>22</td>\n",
       "      <td>22</td>\n",
       "      <td>30</td>\n",
       "      <td>43</td>\n",
       "      <td>51</td>\n",
       "      <td>62</td>\n",
       "      <td>77</td>\n",
       "      <td>113</td>\n",
       "      <td>175</td>\n",
       "      <td>NaN</td>\n",
       "      <td>deceased</td>\n",
       "      <td>positive</td>\n",
       "      <td>0.0</td>\n",
       "    </tr>\n",
       "    <tr>\n",
       "      <th>9</th>\n",
       "      <td>P06/P6.HD.00J.WGS_events.txt</td>\n",
       "      <td>P06/P06.HD_00J.WGS.HF.Source.vcf.gz</td>\n",
       "      <td>HD_00J.T</td>\n",
       "      <td>1.124714</td>\n",
       "      <td>0</td>\n",
       "      <td>0</td>\n",
       "      <td>78</td>\n",
       "      <td>57</td>\n",
       "      <td>46</td>\n",
       "      <td>39</td>\n",
       "      <td>30</td>\n",
       "      <td>25</td>\n",
       "      <td>22</td>\n",
       "      <td>18</td>\n",
       "      <td>17</td>\n",
       "      <td>17</td>\n",
       "      <td>18</td>\n",
       "      <td>22</td>\n",
       "      <td>25</td>\n",
       "      <td>30</td>\n",
       "      <td>39</td>\n",
       "      <td>46</td>\n",
       "      <td>57</td>\n",
       "      <td>78</td>\n",
       "      <td>NaN</td>\n",
       "      <td>stable</td>\n",
       "      <td>negative</td>\n",
       "      <td>1.0</td>\n",
       "    </tr>\n",
       "    <tr>\n",
       "      <th>10</th>\n",
       "      <td>P07/P7.MS.00A.WGS_events.txt</td>\n",
       "      <td>P07/P07.MS_00A.WGS.Source.vcf.gz</td>\n",
       "      <td>MS_00A.T</td>\n",
       "      <td>0.966000</td>\n",
       "      <td>0</td>\n",
       "      <td>0</td>\n",
       "      <td>92</td>\n",
       "      <td>72</td>\n",
       "      <td>57</td>\n",
       "      <td>49</td>\n",
       "      <td>43</td>\n",
       "      <td>31</td>\n",
       "      <td>30</td>\n",
       "      <td>28</td>\n",
       "      <td>26</td>\n",
       "      <td>26</td>\n",
       "      <td>28</td>\n",
       "      <td>30</td>\n",
       "      <td>31</td>\n",
       "      <td>43</td>\n",
       "      <td>49</td>\n",
       "      <td>57</td>\n",
       "      <td>72</td>\n",
       "      <td>92</td>\n",
       "      <td>NaN</td>\n",
       "      <td>stable</td>\n",
       "      <td>negative</td>\n",
       "      <td>1.0</td>\n",
       "    </tr>\n",
       "    <tr>\n",
       "      <th>17</th>\n",
       "      <td>P14/P14.I062.006.WES_events.txt</td>\n",
       "      <td>P14/P14.I062.006.WGS.HF.Source.vcf.gz</td>\n",
       "      <td>I062.006.T</td>\n",
       "      <td>1.134877</td>\n",
       "      <td>48</td>\n",
       "      <td>23</td>\n",
       "      <td>155</td>\n",
       "      <td>116</td>\n",
       "      <td>77</td>\n",
       "      <td>60</td>\n",
       "      <td>50</td>\n",
       "      <td>47</td>\n",
       "      <td>38</td>\n",
       "      <td>29</td>\n",
       "      <td>24</td>\n",
       "      <td>95</td>\n",
       "      <td>100</td>\n",
       "      <td>109</td>\n",
       "      <td>118</td>\n",
       "      <td>121</td>\n",
       "      <td>131</td>\n",
       "      <td>148</td>\n",
       "      <td>187</td>\n",
       "      <td>226</td>\n",
       "      <td>16.0</td>\n",
       "      <td>stable</td>\n",
       "      <td>positive</td>\n",
       "      <td>1.0</td>\n",
       "    </tr>\n",
       "    <tr>\n",
       "      <th>27</th>\n",
       "      <td>P24/P24.I062.035.WGS_events.txt</td>\n",
       "      <td>P24/P24.I062.035.WGS.Source.vcf.gz</td>\n",
       "      <td>I062_035_2M1_D1</td>\n",
       "      <td>1.000028</td>\n",
       "      <td>5</td>\n",
       "      <td>6</td>\n",
       "      <td>2</td>\n",
       "      <td>1</td>\n",
       "      <td>1</td>\n",
       "      <td>1</td>\n",
       "      <td>1</td>\n",
       "      <td>1</td>\n",
       "      <td>1</td>\n",
       "      <td>1</td>\n",
       "      <td>0</td>\n",
       "      <td>11</td>\n",
       "      <td>12</td>\n",
       "      <td>12</td>\n",
       "      <td>12</td>\n",
       "      <td>12</td>\n",
       "      <td>12</td>\n",
       "      <td>12</td>\n",
       "      <td>12</td>\n",
       "      <td>13</td>\n",
       "      <td>NaN</td>\n",
       "      <td>deceased</td>\n",
       "      <td>negative</td>\n",
       "      <td>0.0</td>\n",
       "    </tr>\n",
       "    <tr>\n",
       "      <th>30</th>\n",
       "      <td>P27/P27.I047.007.WGS_events.txt</td>\n",
       "      <td>P27/P27.I047.007.WGS.Source.vcf.gz</td>\n",
       "      <td>I047_007_2M1_D1</td>\n",
       "      <td>1.041258</td>\n",
       "      <td>11</td>\n",
       "      <td>10</td>\n",
       "      <td>146</td>\n",
       "      <td>93</td>\n",
       "      <td>54</td>\n",
       "      <td>38</td>\n",
       "      <td>26</td>\n",
       "      <td>23</td>\n",
       "      <td>15</td>\n",
       "      <td>10</td>\n",
       "      <td>8</td>\n",
       "      <td>29</td>\n",
       "      <td>31</td>\n",
       "      <td>36</td>\n",
       "      <td>44</td>\n",
       "      <td>47</td>\n",
       "      <td>59</td>\n",
       "      <td>75</td>\n",
       "      <td>114</td>\n",
       "      <td>167</td>\n",
       "      <td>14.0</td>\n",
       "      <td>stable</td>\n",
       "      <td>positive</td>\n",
       "      <td>1.0</td>\n",
       "    </tr>\n",
       "  </tbody>\n",
       "</table>\n",
       "</div>"
      ],
      "text/plain": [
       "                   Segmental report                                    VCF  \\\n",
       "3    P03/P3.I062.007.WGS_events.txt                 P03/P06.WGS.raw.vcf.gz   \n",
       "4    P03/P3.I062.015.WGS_events.txt                 P03/P06.WGS.raw.vcf.gz   \n",
       "5    P03/P3.I062.022.WGS_events.txt                                    NaN   \n",
       "6    P03/P3.I062.033.WGS_events.txt                 P03/P06.WGS.raw.vcf.gz   \n",
       "8      P05/P5.HA.00B.WGS_events.txt       P05/P05.HA_00B.WGS.Source.vcf.gz   \n",
       "9      P06/P6.HD.00J.WGS_events.txt    P06/P06.HD_00J.WGS.HF.Source.vcf.gz   \n",
       "10     P07/P7.MS.00A.WGS_events.txt       P07/P07.MS_00A.WGS.Source.vcf.gz   \n",
       "17  P14/P14.I062.006.WES_events.txt  P14/P14.I062.006.WGS.HF.Source.vcf.gz   \n",
       "27  P24/P24.I062.035.WGS_events.txt     P24/P24.I062.035.WGS.Source.vcf.gz   \n",
       "30  P27/P27.I047.007.WGS_events.txt     P27/P27.I047.007.WGS.Source.vcf.gz   \n",
       "\n",
       "        Sample name  DNA index  TAI  LOH  LST_3Mb  LST_4Mb  LST_5Mb  LST_6Mb  \\\n",
       "3           P6.Met4   1.022245    0    0       33       20       14       13   \n",
       "4           P6.Met5   1.046050    0    0       89       69       59       45   \n",
       "5               NaN   1.013335    0    0      180      138      106       90   \n",
       "6           P6.Met7   1.048037    1    1       96       69       52       46   \n",
       "8          HA_00B.T   1.059753    0    0      175      113       77       62   \n",
       "9          HD_00J.T   1.124714    0    0       78       57       46       39   \n",
       "10         MS_00A.T   0.966000    0    0       92       72       57       49   \n",
       "17       I062.006.T   1.134877   48   23      155      116       77       60   \n",
       "27  I062_035_2M1_D1   1.000028    5    6        2        1        1        1   \n",
       "30  I047_007_2M1_D1   1.041258   11   10      146       93       54       38   \n",
       "\n",
       "    LST_7Mb  LST_8Mb  LST_9Mb  LST_10Mb  LST_11Mb  HRD_11  HRD_10  HRD_9  \\\n",
       "3        12        9        7         7         4       4       7      7   \n",
       "4        40       31       27        24        20      20      24     27   \n",
       "5        75       62       46        37        31      31      37     46   \n",
       "6        31       26       22        22        20      22      24     24   \n",
       "8        51       43       30        22        22      22      22     30   \n",
       "9        30       25       22        18        17      17      18     22   \n",
       "10       43       31       30        28        26      26      28     30   \n",
       "17       50       47       38        29        24      95     100    109   \n",
       "27        1        1        1         1         0      11      12     12   \n",
       "30       26       23       15        10         8      29      31     36   \n",
       "\n",
       "    HRD_8  HRD_7  HRD_6  HRD_5  HRD_4  HRD_3   Age Response - real  \\\n",
       "3       9     12     13     14     20     33  18.0        deceased   \n",
       "4      31     40     45     59     69     89  19.0        deceased   \n",
       "5      62     75     90    106    138    180  19.0        deceased   \n",
       "6      28     33     48     54     71     98  20.0        deceased   \n",
       "8      43     51     62     77    113    175   NaN        deceased   \n",
       "9      25     30     39     46     57     78   NaN          stable   \n",
       "10     31     43     49     57     72     92   NaN          stable   \n",
       "17    118    121    131    148    187    226  16.0          stable   \n",
       "27     12     12     12     12     12     13   NaN        deceased   \n",
       "30     44     47     59     75    114    167  14.0          stable   \n",
       "\n",
       "   Response - cell lines  Response - real numeric  \n",
       "3               negative                      0.0  \n",
       "4               negative                      0.0  \n",
       "5               negative                      0.0  \n",
       "6               negative                      0.0  \n",
       "8               positive                      0.0  \n",
       "9               negative                      1.0  \n",
       "10              negative                      1.0  \n",
       "17              positive                      1.0  \n",
       "27              negative                      0.0  \n",
       "30              positive                      1.0  "
      ]
     },
     "execution_count": 11,
     "metadata": {},
     "output_type": "execute_result"
    }
   ],
   "source": [
    "inform_known_response.loc[inform_known_response['Response - real'] == 'deceased', 'Response - real numeric'] = 0\n",
    "inform_known_response.loc[inform_known_response['Response - real'] == 'stable', 'Response - real numeric'] = 1\n",
    "\n",
    "inform_known_response"
   ]
  },
  {
   "cell_type": "code",
   "execution_count": 12,
   "id": "desirable-shame",
   "metadata": {},
   "outputs": [],
   "source": [
    "y_true = inform_known_response['Response - real numeric'].tolist()"
   ]
  },
  {
   "cell_type": "markdown",
   "id": "apart-fifteen",
   "metadata": {},
   "source": [
    "#### LST 10 Mb"
   ]
  },
  {
   "cell_type": "markdown",
   "id": "contained-transport",
   "metadata": {},
   "source": [
    "##### Vyhodnotenie pre hraničné skóre podľa článku"
   ]
  },
  {
   "cell_type": "code",
   "execution_count": 13,
   "id": "another-embassy",
   "metadata": {},
   "outputs": [],
   "source": [
    "LST_10_treshold = 11"
   ]
  },
  {
   "cell_type": "code",
   "execution_count": 14,
   "id": "sharing-matthew",
   "metadata": {},
   "outputs": [],
   "source": [
    "data_LST_10 = inform_known_response['LST_10Mb'].tolist()"
   ]
  },
  {
   "cell_type": "code",
   "execution_count": 15,
   "id": "authorized-coach",
   "metadata": {},
   "outputs": [
    {
     "data": {
      "text/plain": [
       "<AxesSubplot:>"
      ]
     },
     "execution_count": 15,
     "metadata": {},
     "output_type": "execute_result"
    },
    {
     "data": {
      "image/png": "[encoded data removed]",
      "text/plain": [
       "<Figure size 432x288 with 2 Axes>"
      ]
     },
     "metadata": {
      "needs_background": "light"
     },
     "output_type": "display_data"
    }
   ],
   "source": [
    "y_pred_LST_10 = predict(data_LST_10, LST_10_treshold)\n",
    "\n",
    "cm = confusion_matrix(y_true, y_pred_LST_10)\n",
    "df_cm = pd.DataFrame(cm, index=['Actual negative', 'Actual positive'], columns=['Predicted negative', 'Predicted positive'])\n",
    "\n",
    "sns.heatmap(df_cm, annot=True)"
   ]
  },
  {
   "cell_type": "code",
   "execution_count": 16,
   "id": "excited-brunswick",
   "metadata": {},
   "outputs": [
    {
     "data": {
      "text/plain": [
       "0.5454545454545454"
      ]
     },
     "execution_count": 16,
     "metadata": {},
     "output_type": "execute_result"
    }
   ],
   "source": [
    "f1_score(y_true, y_pred_LST_10)"
   ]
  },
  {
   "cell_type": "markdown",
   "id": "owned-edition",
   "metadata": {},
   "source": [
    "##### Pokus o nájdenie najoptimálnejšieho LST_10Mb hraničného skóre"
   ]
  },
  {
   "cell_type": "code",
   "execution_count": 17,
   "id": "emerging-capture",
   "metadata": {},
   "outputs": [
    {
     "data": {
      "text/plain": [
       "(10, 0.6666666666666666)"
      ]
     },
     "execution_count": 17,
     "metadata": {},
     "output_type": "execute_result"
    }
   ],
   "source": [
    "best_LST_10_treshold, best_LST_10_f1_score = find_best_treshold(data_LST_10, y_true, [x for x in range(10, 29)])\n",
    "\n",
    "best_LST_10_treshold, best_LST_10_f1_score"
   ]
  },
  {
   "cell_type": "code",
   "execution_count": 18,
   "id": "sustained-soviet",
   "metadata": {},
   "outputs": [
    {
     "data": {
      "text/plain": [
       "<AxesSubplot:>"
      ]
     },
     "execution_count": 18,
     "metadata": {},
     "output_type": "execute_result"
    },
    {
     "data": {
      "image/png": "[encoded data removed]",
      "text/plain": [
       "<Figure size 432x288 with 2 Axes>"
      ]
     },
     "metadata": {
      "needs_background": "light"
     },
     "output_type": "display_data"
    }
   ],
   "source": [
    "y_pred_LST_10_best = predict(data_LST_10, best_LST_10_treshold)\n",
    "\n",
    "cm = confusion_matrix(y_true, y_pred_LST_10_best)\n",
    "df_cm = pd.DataFrame(cm, index=['Actual negative', 'Actual positive'], columns=['Predicted negative', 'Predicted positive'])\n",
    "\n",
    "sns.heatmap(df_cm, annot=True)"
   ]
  },
  {
   "cell_type": "code",
   "execution_count": 19,
   "id": "third-globe",
   "metadata": {},
   "outputs": [
    {
     "name": "stdout",
     "output_type": "stream",
     "text": [
      "Accuracy:  0.6\n",
      "Precision:  0.5\n",
      "Recall:  1.0\n"
     ]
    }
   ],
   "source": [
    "print_scores(y_true, y_pred_LST_10_best)"
   ]
  },
  {
   "cell_type": "markdown",
   "id": "relative-tourism",
   "metadata": {},
   "source": [
    "#### HRD s LST 10 Mb"
   ]
  },
  {
   "cell_type": "markdown",
   "id": "corporate-democracy",
   "metadata": {},
   "source": [
    "##### Vyhodnotenie pre hraničné skóre podľa článku"
   ]
  },
  {
   "cell_type": "code",
   "execution_count": 20,
   "id": "cognitive-crack",
   "metadata": {},
   "outputs": [],
   "source": [
    "HRD_10_treshold = 42"
   ]
  },
  {
   "cell_type": "code",
   "execution_count": 21,
   "id": "exceptional-helena",
   "metadata": {},
   "outputs": [],
   "source": [
    "data_HRD_10 = inform_known_response['HRD_10'].tolist()"
   ]
  },
  {
   "cell_type": "code",
   "execution_count": 22,
   "id": "circular-adrian",
   "metadata": {},
   "outputs": [
    {
     "data": {
      "text/plain": [
       "<AxesSubplot:>"
      ]
     },
     "execution_count": 22,
     "metadata": {},
     "output_type": "execute_result"
    },
    {
     "data": {
      "image/png": "[encoded data removed]",
      "text/plain": [
       "<Figure size 432x288 with 2 Axes>"
      ]
     },
     "metadata": {
      "needs_background": "light"
     },
     "output_type": "display_data"
    }
   ],
   "source": [
    "y_pred_HRD_10 = predict(data_HRD_10, HRD_10_treshold)\n",
    "\n",
    "cm = confusion_matrix(y_true, y_pred_HRD_10)\n",
    "df_cm = pd.DataFrame(cm, index=['Actual negative', 'Actual positive'], columns=['Predicted negative', 'Predicted positive'])\n",
    "\n",
    "sns.heatmap(df_cm, annot=True)"
   ]
  },
  {
   "cell_type": "code",
   "execution_count": 23,
   "id": "intense-complex",
   "metadata": {},
   "outputs": [
    {
     "data": {
      "text/plain": [
       "0.4"
      ]
     },
     "execution_count": 23,
     "metadata": {},
     "output_type": "execute_result"
    }
   ],
   "source": [
    "f1_score(y_true, y_pred_HRD_10)"
   ]
  },
  {
   "cell_type": "markdown",
   "id": "turkish-private",
   "metadata": {},
   "source": [
    "Vzhľadom na to že hranica 42 je pri našich dátach pomerne vysoká, metóda pri tejto hranici nedokázala dobre zaklasifikovať tumory."
   ]
  },
  {
   "cell_type": "markdown",
   "id": "divided-studio",
   "metadata": {},
   "source": [
    "##### Pokus o nájdenie najoptimálnejšieho HRD_10 hraničného skóre"
   ]
  },
  {
   "cell_type": "code",
   "execution_count": 24,
   "id": "intimate-growing",
   "metadata": {},
   "outputs": [
    {
     "data": {
      "text/plain": [
       "(25, 0.75)"
      ]
     },
     "execution_count": 24,
     "metadata": {},
     "output_type": "execute_result"
    }
   ],
   "source": [
    "best_HRD_10_treshold, best_HRD_10_f1_score = find_best_treshold(data_HRD_10, y_true, [x for x in range(18, 56)])\n",
    "\n",
    "best_HRD_10_treshold, best_HRD_10_f1_score"
   ]
  },
  {
   "cell_type": "code",
   "execution_count": 25,
   "id": "elegant-passenger",
   "metadata": {},
   "outputs": [
    {
     "data": {
      "text/plain": [
       "<AxesSubplot:>"
      ]
     },
     "execution_count": 25,
     "metadata": {},
     "output_type": "execute_result"
    },
    {
     "data": {
      "image/png": "[encoded data removed]",
      "text/plain": [
       "<Figure size 432x288 with 2 Axes>"
      ]
     },
     "metadata": {
      "needs_background": "light"
     },
     "output_type": "display_data"
    }
   ],
   "source": [
    "y_pred_HRD_10_best = predict(data_HRD_10, best_HRD_10_treshold)\n",
    "\n",
    "cm = confusion_matrix(y_true, y_pred_HRD_10_best)\n",
    "df_cm = pd.DataFrame(cm, index=['Actual negative', 'Actual positive'], columns=['Predicted negative', 'Predicted positive'])\n",
    "\n",
    "sns.heatmap(df_cm, annot=True)"
   ]
  },
  {
   "cell_type": "code",
   "execution_count": 26,
   "id": "unexpected-satin",
   "metadata": {},
   "outputs": [
    {
     "name": "stdout",
     "output_type": "stream",
     "text": [
      "Accuracy:  0.8\n",
      "Precision:  0.75\n",
      "Recall:  0.75\n"
     ]
    }
   ],
   "source": [
    "print_scores(y_true, y_pred_HRD_10_best)"
   ]
  },
  {
   "cell_type": "markdown",
   "id": "spatial-second",
   "metadata": {},
   "source": [
    "Vyzerá, že HRD klasifikuje lepšie ako LST 10Mb."
   ]
  },
  {
   "cell_type": "markdown",
   "id": "complex-stereo",
   "metadata": {},
   "source": [
    "Vzhľadom na celkovú distribúciu hodnôt metrík TAI a LOH nevyzerá, že by mohli byť úspešné ako samostatné metódy. Napriek tomu podobne ako pri predošlých algoritmoch skúsime vyhodnotiť a optimalizovať klasifikáciu pomocou týchto metód. "
   ]
  },
  {
   "cell_type": "markdown",
   "id": "sweet-belarus",
   "metadata": {},
   "source": [
    "##### LOH"
   ]
  },
  {
   "cell_type": "code",
   "execution_count": 27,
   "id": "written-tuner",
   "metadata": {},
   "outputs": [],
   "source": [
    "data_LOH = inform_known_response['LOH'].tolist()"
   ]
  },
  {
   "cell_type": "code",
   "execution_count": 28,
   "id": "respective-bacon",
   "metadata": {},
   "outputs": [
    {
     "data": {
      "text/plain": [
       "(7, 0.6666666666666666)"
      ]
     },
     "execution_count": 28,
     "metadata": {},
     "output_type": "execute_result"
    }
   ],
   "source": [
    "best_LOH_treshold, best_LOH_f1_score = find_best_treshold(data_LOH, y_true, [x for x in range(0, 21)])\n",
    "\n",
    "best_LOH_treshold, best_LOH_f1_score"
   ]
  },
  {
   "cell_type": "code",
   "execution_count": 29,
   "id": "agreed-nowhere",
   "metadata": {},
   "outputs": [
    {
     "data": {
      "text/plain": [
       "<AxesSubplot:>"
      ]
     },
     "execution_count": 29,
     "metadata": {},
     "output_type": "execute_result"
    },
    {
     "data": {
      "image/png": "[encoded data removed]",
      "text/plain": [
       "<Figure size 432x288 with 2 Axes>"
      ]
     },
     "metadata": {
      "needs_background": "light"
     },
     "output_type": "display_data"
    }
   ],
   "source": [
    "y_pred_LOH_best = predict(data_LOH, best_LOH_treshold)\n",
    "\n",
    "cm = confusion_matrix(y_true, y_pred_LOH_best)\n",
    "df_cm = pd.DataFrame(cm, index=['Actual negative', 'Actual positive'], columns=['Predicted negative', 'Predicted positive'])\n",
    "\n",
    "sns.heatmap(df_cm, annot=True)"
   ]
  },
  {
   "cell_type": "code",
   "execution_count": 30,
   "id": "naval-delaware",
   "metadata": {},
   "outputs": [
    {
     "name": "stdout",
     "output_type": "stream",
     "text": [
      "Accuracy:  0.8\n",
      "Precision:  1.0\n",
      "Recall:  0.5\n"
     ]
    }
   ],
   "source": [
    "print_scores(y_true, y_pred_LOH_best)"
   ]
  },
  {
   "cell_type": "markdown",
   "id": "traditional-rouge",
   "metadata": {},
   "source": [
    "##### TAI"
   ]
  },
  {
   "cell_type": "code",
   "execution_count": 31,
   "id": "emerging-triangle",
   "metadata": {},
   "outputs": [],
   "source": [
    "data_TAI = inform_known_response['TAI'].tolist()"
   ]
  },
  {
   "cell_type": "code",
   "execution_count": 32,
   "id": "higher-senior",
   "metadata": {},
   "outputs": [
    {
     "data": {
      "text/plain": [
       "(6, 0.6666666666666666)"
      ]
     },
     "execution_count": 32,
     "metadata": {},
     "output_type": "execute_result"
    }
   ],
   "source": [
    "best_TAI_treshold, best_TAI_f1_score = find_best_treshold(data_TAI, y_true, [x for x in range(0, 21)])\n",
    "\n",
    "best_TAI_treshold, best_TAI_f1_score"
   ]
  },
  {
   "cell_type": "code",
   "execution_count": 33,
   "id": "quick-local",
   "metadata": {},
   "outputs": [
    {
     "data": {
      "text/plain": [
       "<AxesSubplot:>"
      ]
     },
     "execution_count": 33,
     "metadata": {},
     "output_type": "execute_result"
    },
    {
     "data": {
      "image/png": "[encoded data removed]",
      "text/plain": [
       "<Figure size 432x288 with 2 Axes>"
      ]
     },
     "metadata": {
      "needs_background": "light"
     },
     "output_type": "display_data"
    }
   ],
   "source": [
    "y_pred_TAI_best = predict(data_TAI, best_TAI_treshold)\n",
    "\n",
    "cm = confusion_matrix(y_true, y_pred_TAI_best)\n",
    "df_cm = pd.DataFrame(cm, index=['Actual negative', 'Actual positive'], columns=['Predicted negative', 'Predicted positive'])\n",
    "\n",
    "sns.heatmap(df_cm, annot=True)"
   ]
  },
  {
   "cell_type": "code",
   "execution_count": 34,
   "id": "atomic-scale",
   "metadata": {},
   "outputs": [
    {
     "name": "stdout",
     "output_type": "stream",
     "text": [
      "Accuracy:  0.8\n",
      "Precision:  1.0\n",
      "Recall:  0.5\n"
     ]
    }
   ],
   "source": [
    "print_scores(y_true, y_pred_TAI_best)"
   ]
  },
  {
   "cell_type": "markdown",
   "id": "typical-while",
   "metadata": {},
   "source": [
    "## Výsledky z bunkových línií"
   ]
  },
  {
   "cell_type": "code",
   "execution_count": 35,
   "id": "colonial-survey",
   "metadata": {},
   "outputs": [],
   "source": [
    "inform_known_cl_response = results_inform.loc[results_inform['Response - cell lines'] != 'unknown']"
   ]
  },
  {
   "cell_type": "markdown",
   "id": "proved-silly",
   "metadata": {},
   "source": [
    "### Optimalizácia"
   ]
  },
  {
   "cell_type": "markdown",
   "id": "literary-surveillance",
   "metadata": {},
   "source": [
    "Prevedieme textové označkovania na číselné hodnoty."
   ]
  },
  {
   "cell_type": "code",
   "execution_count": 36,
   "id": "crucial-there",
   "metadata": {},
   "outputs": [
    {
     "name": "stderr",
     "output_type": "stream",
     "text": [
      "/mnt/d/skola/Bakalarka/bp-env/lib/python3.8/site-packages/pandas/core/indexing.py:1599: SettingWithCopyWarning: \n",
      "A value is trying to be set on a copy of a slice from a DataFrame.\n",
      "Try using .loc[row_indexer,col_indexer] = value instead\n",
      "\n",
      "See the caveats in the documentation: https://pandas.pydata.org/pandas-docs/stable/user_guide/indexing.html#returning-a-view-versus-a-copy\n",
      "  self.obj[key] = infer_fill_value(value)\n",
      "/mnt/d/skola/Bakalarka/bp-env/lib/python3.8/site-packages/pandas/core/indexing.py:1720: SettingWithCopyWarning: \n",
      "A value is trying to be set on a copy of a slice from a DataFrame.\n",
      "Try using .loc[row_indexer,col_indexer] = value instead\n",
      "\n",
      "See the caveats in the documentation: https://pandas.pydata.org/pandas-docs/stable/user_guide/indexing.html#returning-a-view-versus-a-copy\n",
      "  self._setitem_single_column(loc, value, pi)\n"
     ]
    },
    {
     "data": {
      "text/html": [
       "<div>\n",
       "<style scoped>\n",
       "    .dataframe tbody tr th:only-of-type {\n",
       "        vertical-align: middle;\n",
       "    }\n",
       "\n",
       "    .dataframe tbody tr th {\n",
       "        vertical-align: top;\n",
       "    }\n",
       "\n",
       "    .dataframe thead th {\n",
       "        text-align: right;\n",
       "    }\n",
       "</style>\n",
       "<table border=\"1\" class=\"dataframe\">\n",
       "  <thead>\n",
       "    <tr style=\"text-align: right;\">\n",
       "      <th></th>\n",
       "      <th>Segmental report</th>\n",
       "      <th>VCF</th>\n",
       "      <th>Sample name</th>\n",
       "      <th>DNA index</th>\n",
       "      <th>TAI</th>\n",
       "      <th>LOH</th>\n",
       "      <th>LST_3Mb</th>\n",
       "      <th>LST_4Mb</th>\n",
       "      <th>LST_5Mb</th>\n",
       "      <th>LST_6Mb</th>\n",
       "      <th>LST_7Mb</th>\n",
       "      <th>LST_8Mb</th>\n",
       "      <th>LST_9Mb</th>\n",
       "      <th>LST_10Mb</th>\n",
       "      <th>LST_11Mb</th>\n",
       "      <th>HRD_11</th>\n",
       "      <th>HRD_10</th>\n",
       "      <th>HRD_9</th>\n",
       "      <th>HRD_8</th>\n",
       "      <th>HRD_7</th>\n",
       "      <th>HRD_6</th>\n",
       "      <th>HRD_5</th>\n",
       "      <th>HRD_4</th>\n",
       "      <th>HRD_3</th>\n",
       "      <th>Age</th>\n",
       "      <th>Response - real</th>\n",
       "      <th>Response - cell lines</th>\n",
       "      <th>Response - cell lines numeric</th>\n",
       "    </tr>\n",
       "  </thead>\n",
       "  <tbody>\n",
       "    <tr>\n",
       "      <th>0</th>\n",
       "      <td>P01/P1.I042.001.WGS_events.txt</td>\n",
       "      <td>NaN</td>\n",
       "      <td>NaN</td>\n",
       "      <td>1.007272</td>\n",
       "      <td>0</td>\n",
       "      <td>0</td>\n",
       "      <td>31</td>\n",
       "      <td>25</td>\n",
       "      <td>21</td>\n",
       "      <td>18</td>\n",
       "      <td>16</td>\n",
       "      <td>13</td>\n",
       "      <td>11</td>\n",
       "      <td>9</td>\n",
       "      <td>4</td>\n",
       "      <td>4</td>\n",
       "      <td>9</td>\n",
       "      <td>11</td>\n",
       "      <td>13</td>\n",
       "      <td>16</td>\n",
       "      <td>18</td>\n",
       "      <td>21</td>\n",
       "      <td>25</td>\n",
       "      <td>31</td>\n",
       "      <td>NaN</td>\n",
       "      <td>unknown</td>\n",
       "      <td>negative</td>\n",
       "      <td>0.0</td>\n",
       "    </tr>\n",
       "    <tr>\n",
       "      <th>1</th>\n",
       "      <td>P01/P1.I062.003.WGS_events.txt</td>\n",
       "      <td>NaN</td>\n",
       "      <td>NaN</td>\n",
       "      <td>1.029418</td>\n",
       "      <td>0</td>\n",
       "      <td>0</td>\n",
       "      <td>36</td>\n",
       "      <td>26</td>\n",
       "      <td>24</td>\n",
       "      <td>21</td>\n",
       "      <td>19</td>\n",
       "      <td>11</td>\n",
       "      <td>9</td>\n",
       "      <td>7</td>\n",
       "      <td>6</td>\n",
       "      <td>6</td>\n",
       "      <td>7</td>\n",
       "      <td>9</td>\n",
       "      <td>11</td>\n",
       "      <td>19</td>\n",
       "      <td>21</td>\n",
       "      <td>24</td>\n",
       "      <td>26</td>\n",
       "      <td>36</td>\n",
       "      <td>NaN</td>\n",
       "      <td>unknown</td>\n",
       "      <td>negative</td>\n",
       "      <td>0.0</td>\n",
       "    </tr>\n",
       "    <tr>\n",
       "      <th>2</th>\n",
       "      <td>P02/P2.MS.00F.WGS_events.txt</td>\n",
       "      <td>P02/P02.MS_00F.WGS.Source.vcf.gz</td>\n",
       "      <td>MS_00F.T</td>\n",
       "      <td>1.052231</td>\n",
       "      <td>0</td>\n",
       "      <td>0</td>\n",
       "      <td>127</td>\n",
       "      <td>101</td>\n",
       "      <td>77</td>\n",
       "      <td>59</td>\n",
       "      <td>44</td>\n",
       "      <td>35</td>\n",
       "      <td>29</td>\n",
       "      <td>23</td>\n",
       "      <td>16</td>\n",
       "      <td>16</td>\n",
       "      <td>23</td>\n",
       "      <td>29</td>\n",
       "      <td>35</td>\n",
       "      <td>44</td>\n",
       "      <td>59</td>\n",
       "      <td>77</td>\n",
       "      <td>101</td>\n",
       "      <td>127</td>\n",
       "      <td>17.0</td>\n",
       "      <td>unknown</td>\n",
       "      <td>negative</td>\n",
       "      <td>0.0</td>\n",
       "    </tr>\n",
       "    <tr>\n",
       "      <th>3</th>\n",
       "      <td>P03/P3.I062.007.WGS_events.txt</td>\n",
       "      <td>P03/P06.WGS.raw.vcf.gz</td>\n",
       "      <td>P6.Met4</td>\n",
       "      <td>1.022245</td>\n",
       "      <td>0</td>\n",
       "      <td>0</td>\n",
       "      <td>33</td>\n",
       "      <td>20</td>\n",
       "      <td>14</td>\n",
       "      <td>13</td>\n",
       "      <td>12</td>\n",
       "      <td>9</td>\n",
       "      <td>7</td>\n",
       "      <td>7</td>\n",
       "      <td>4</td>\n",
       "      <td>4</td>\n",
       "      <td>7</td>\n",
       "      <td>7</td>\n",
       "      <td>9</td>\n",
       "      <td>12</td>\n",
       "      <td>13</td>\n",
       "      <td>14</td>\n",
       "      <td>20</td>\n",
       "      <td>33</td>\n",
       "      <td>18.0</td>\n",
       "      <td>deceased</td>\n",
       "      <td>negative</td>\n",
       "      <td>0.0</td>\n",
       "    </tr>\n",
       "    <tr>\n",
       "      <th>4</th>\n",
       "      <td>P03/P3.I062.015.WGS_events.txt</td>\n",
       "      <td>P03/P06.WGS.raw.vcf.gz</td>\n",
       "      <td>P6.Met5</td>\n",
       "      <td>1.046050</td>\n",
       "      <td>0</td>\n",
       "      <td>0</td>\n",
       "      <td>89</td>\n",
       "      <td>69</td>\n",
       "      <td>59</td>\n",
       "      <td>45</td>\n",
       "      <td>40</td>\n",
       "      <td>31</td>\n",
       "      <td>27</td>\n",
       "      <td>24</td>\n",
       "      <td>20</td>\n",
       "      <td>20</td>\n",
       "      <td>24</td>\n",
       "      <td>27</td>\n",
       "      <td>31</td>\n",
       "      <td>40</td>\n",
       "      <td>45</td>\n",
       "      <td>59</td>\n",
       "      <td>69</td>\n",
       "      <td>89</td>\n",
       "      <td>19.0</td>\n",
       "      <td>deceased</td>\n",
       "      <td>negative</td>\n",
       "      <td>0.0</td>\n",
       "    </tr>\n",
       "    <tr>\n",
       "      <th>5</th>\n",
       "      <td>P03/P3.I062.022.WGS_events.txt</td>\n",
       "      <td>NaN</td>\n",
       "      <td>NaN</td>\n",
       "      <td>1.013335</td>\n",
       "      <td>0</td>\n",
       "      <td>0</td>\n",
       "      <td>180</td>\n",
       "      <td>138</td>\n",
       "      <td>106</td>\n",
       "      <td>90</td>\n",
       "      <td>75</td>\n",
       "      <td>62</td>\n",
       "      <td>46</td>\n",
       "      <td>37</td>\n",
       "      <td>31</td>\n",
       "      <td>31</td>\n",
       "      <td>37</td>\n",
       "      <td>46</td>\n",
       "      <td>62</td>\n",
       "      <td>75</td>\n",
       "      <td>90</td>\n",
       "      <td>106</td>\n",
       "      <td>138</td>\n",
       "      <td>180</td>\n",
       "      <td>19.0</td>\n",
       "      <td>deceased</td>\n",
       "      <td>negative</td>\n",
       "      <td>0.0</td>\n",
       "    </tr>\n",
       "    <tr>\n",
       "      <th>6</th>\n",
       "      <td>P03/P3.I062.033.WGS_events.txt</td>\n",
       "      <td>P03/P06.WGS.raw.vcf.gz</td>\n",
       "      <td>P6.Met7</td>\n",
       "      <td>1.048037</td>\n",
       "      <td>1</td>\n",
       "      <td>1</td>\n",
       "      <td>96</td>\n",
       "      <td>69</td>\n",
       "      <td>52</td>\n",
       "      <td>46</td>\n",
       "      <td>31</td>\n",
       "      <td>26</td>\n",
       "      <td>22</td>\n",
       "      <td>22</td>\n",
       "      <td>20</td>\n",
       "      <td>22</td>\n",
       "      <td>24</td>\n",
       "      <td>24</td>\n",
       "      <td>28</td>\n",
       "      <td>33</td>\n",
       "      <td>48</td>\n",
       "      <td>54</td>\n",
       "      <td>71</td>\n",
       "      <td>98</td>\n",
       "      <td>20.0</td>\n",
       "      <td>deceased</td>\n",
       "      <td>negative</td>\n",
       "      <td>0.0</td>\n",
       "    </tr>\n",
       "    <tr>\n",
       "      <th>7</th>\n",
       "      <td>P04/P4.I042.002.WGS_events.txt</td>\n",
       "      <td>P04/P04.I042_002.WGS.Source.vcf.gz</td>\n",
       "      <td>I042_002.T</td>\n",
       "      <td>1.060387</td>\n",
       "      <td>0</td>\n",
       "      <td>0</td>\n",
       "      <td>23</td>\n",
       "      <td>14</td>\n",
       "      <td>13</td>\n",
       "      <td>11</td>\n",
       "      <td>11</td>\n",
       "      <td>8</td>\n",
       "      <td>7</td>\n",
       "      <td>7</td>\n",
       "      <td>7</td>\n",
       "      <td>7</td>\n",
       "      <td>7</td>\n",
       "      <td>7</td>\n",
       "      <td>8</td>\n",
       "      <td>11</td>\n",
       "      <td>11</td>\n",
       "      <td>13</td>\n",
       "      <td>14</td>\n",
       "      <td>23</td>\n",
       "      <td>2.0</td>\n",
       "      <td>unknown</td>\n",
       "      <td>negative</td>\n",
       "      <td>0.0</td>\n",
       "    </tr>\n",
       "    <tr>\n",
       "      <th>8</th>\n",
       "      <td>P05/P5.HA.00B.WGS_events.txt</td>\n",
       "      <td>P05/P05.HA_00B.WGS.Source.vcf.gz</td>\n",
       "      <td>HA_00B.T</td>\n",
       "      <td>1.059753</td>\n",
       "      <td>0</td>\n",
       "      <td>0</td>\n",
       "      <td>175</td>\n",
       "      <td>113</td>\n",
       "      <td>77</td>\n",
       "      <td>62</td>\n",
       "      <td>51</td>\n",
       "      <td>43</td>\n",
       "      <td>30</td>\n",
       "      <td>22</td>\n",
       "      <td>22</td>\n",
       "      <td>22</td>\n",
       "      <td>22</td>\n",
       "      <td>30</td>\n",
       "      <td>43</td>\n",
       "      <td>51</td>\n",
       "      <td>62</td>\n",
       "      <td>77</td>\n",
       "      <td>113</td>\n",
       "      <td>175</td>\n",
       "      <td>NaN</td>\n",
       "      <td>deceased</td>\n",
       "      <td>positive</td>\n",
       "      <td>1.0</td>\n",
       "    </tr>\n",
       "    <tr>\n",
       "      <th>9</th>\n",
       "      <td>P06/P6.HD.00J.WGS_events.txt</td>\n",
       "      <td>P06/P06.HD_00J.WGS.HF.Source.vcf.gz</td>\n",
       "      <td>HD_00J.T</td>\n",
       "      <td>1.124714</td>\n",
       "      <td>0</td>\n",
       "      <td>0</td>\n",
       "      <td>78</td>\n",
       "      <td>57</td>\n",
       "      <td>46</td>\n",
       "      <td>39</td>\n",
       "      <td>30</td>\n",
       "      <td>25</td>\n",
       "      <td>22</td>\n",
       "      <td>18</td>\n",
       "      <td>17</td>\n",
       "      <td>17</td>\n",
       "      <td>18</td>\n",
       "      <td>22</td>\n",
       "      <td>25</td>\n",
       "      <td>30</td>\n",
       "      <td>39</td>\n",
       "      <td>46</td>\n",
       "      <td>57</td>\n",
       "      <td>78</td>\n",
       "      <td>NaN</td>\n",
       "      <td>stable</td>\n",
       "      <td>negative</td>\n",
       "      <td>0.0</td>\n",
       "    </tr>\n",
       "    <tr>\n",
       "      <th>10</th>\n",
       "      <td>P07/P7.MS.00A.WGS_events.txt</td>\n",
       "      <td>P07/P07.MS_00A.WGS.Source.vcf.gz</td>\n",
       "      <td>MS_00A.T</td>\n",
       "      <td>0.966000</td>\n",
       "      <td>0</td>\n",
       "      <td>0</td>\n",
       "      <td>92</td>\n",
       "      <td>72</td>\n",
       "      <td>57</td>\n",
       "      <td>49</td>\n",
       "      <td>43</td>\n",
       "      <td>31</td>\n",
       "      <td>30</td>\n",
       "      <td>28</td>\n",
       "      <td>26</td>\n",
       "      <td>26</td>\n",
       "      <td>28</td>\n",
       "      <td>30</td>\n",
       "      <td>31</td>\n",
       "      <td>43</td>\n",
       "      <td>49</td>\n",
       "      <td>57</td>\n",
       "      <td>72</td>\n",
       "      <td>92</td>\n",
       "      <td>NaN</td>\n",
       "      <td>stable</td>\n",
       "      <td>negative</td>\n",
       "      <td>0.0</td>\n",
       "    </tr>\n",
       "    <tr>\n",
       "      <th>11</th>\n",
       "      <td>P08/P8.I022.002.WGS_events.txt</td>\n",
       "      <td>P08/P08.I022_002.WGS.HF.Source.vcf.gz</td>\n",
       "      <td>I022_002.T</td>\n",
       "      <td>1.034036</td>\n",
       "      <td>0</td>\n",
       "      <td>0</td>\n",
       "      <td>108</td>\n",
       "      <td>76</td>\n",
       "      <td>60</td>\n",
       "      <td>49</td>\n",
       "      <td>35</td>\n",
       "      <td>30</td>\n",
       "      <td>25</td>\n",
       "      <td>22</td>\n",
       "      <td>19</td>\n",
       "      <td>19</td>\n",
       "      <td>22</td>\n",
       "      <td>25</td>\n",
       "      <td>30</td>\n",
       "      <td>35</td>\n",
       "      <td>49</td>\n",
       "      <td>60</td>\n",
       "      <td>76</td>\n",
       "      <td>108</td>\n",
       "      <td>25.0</td>\n",
       "      <td>unknown</td>\n",
       "      <td>negative</td>\n",
       "      <td>0.0</td>\n",
       "    </tr>\n",
       "    <tr>\n",
       "      <th>12</th>\n",
       "      <td>P09/P9.I047.003.WGS_events.txt</td>\n",
       "      <td>P09/P09.I047_003.WGS.HF.Source.vcf.gz</td>\n",
       "      <td>I047_003.T</td>\n",
       "      <td>1.077638</td>\n",
       "      <td>0</td>\n",
       "      <td>0</td>\n",
       "      <td>70</td>\n",
       "      <td>51</td>\n",
       "      <td>43</td>\n",
       "      <td>41</td>\n",
       "      <td>36</td>\n",
       "      <td>29</td>\n",
       "      <td>22</td>\n",
       "      <td>15</td>\n",
       "      <td>14</td>\n",
       "      <td>14</td>\n",
       "      <td>15</td>\n",
       "      <td>22</td>\n",
       "      <td>29</td>\n",
       "      <td>36</td>\n",
       "      <td>41</td>\n",
       "      <td>43</td>\n",
       "      <td>51</td>\n",
       "      <td>70</td>\n",
       "      <td>29.0</td>\n",
       "      <td>unknown</td>\n",
       "      <td>negative</td>\n",
       "      <td>0.0</td>\n",
       "    </tr>\n",
       "    <tr>\n",
       "      <th>13</th>\n",
       "      <td>P10/P10.I023.005.WGS_events.txt</td>\n",
       "      <td>NaN</td>\n",
       "      <td>NaN</td>\n",
       "      <td>0.936669</td>\n",
       "      <td>0</td>\n",
       "      <td>0</td>\n",
       "      <td>54</td>\n",
       "      <td>46</td>\n",
       "      <td>39</td>\n",
       "      <td>32</td>\n",
       "      <td>28</td>\n",
       "      <td>27</td>\n",
       "      <td>20</td>\n",
       "      <td>19</td>\n",
       "      <td>18</td>\n",
       "      <td>18</td>\n",
       "      <td>19</td>\n",
       "      <td>20</td>\n",
       "      <td>27</td>\n",
       "      <td>28</td>\n",
       "      <td>32</td>\n",
       "      <td>39</td>\n",
       "      <td>46</td>\n",
       "      <td>54</td>\n",
       "      <td>23.0</td>\n",
       "      <td>unknown</td>\n",
       "      <td>negative</td>\n",
       "      <td>0.0</td>\n",
       "    </tr>\n",
       "    <tr>\n",
       "      <th>14</th>\n",
       "      <td>P11/P11.I036.005.WGS_events.txt</td>\n",
       "      <td>P11/P11.I036_005.WGS.HF.Source.vcf.gz</td>\n",
       "      <td>I036_005.T</td>\n",
       "      <td>1.028511</td>\n",
       "      <td>0</td>\n",
       "      <td>0</td>\n",
       "      <td>119</td>\n",
       "      <td>86</td>\n",
       "      <td>66</td>\n",
       "      <td>52</td>\n",
       "      <td>40</td>\n",
       "      <td>27</td>\n",
       "      <td>26</td>\n",
       "      <td>21</td>\n",
       "      <td>16</td>\n",
       "      <td>16</td>\n",
       "      <td>21</td>\n",
       "      <td>26</td>\n",
       "      <td>27</td>\n",
       "      <td>40</td>\n",
       "      <td>52</td>\n",
       "      <td>66</td>\n",
       "      <td>86</td>\n",
       "      <td>119</td>\n",
       "      <td>16.0</td>\n",
       "      <td>unknown</td>\n",
       "      <td>negative</td>\n",
       "      <td>0.0</td>\n",
       "    </tr>\n",
       "    <tr>\n",
       "      <th>15</th>\n",
       "      <td>P12/P12.I056.004.WGS_events.txt</td>\n",
       "      <td>P12/P12.I056_004.WGS.HF.Source.vcf.gz</td>\n",
       "      <td>I056_004.T</td>\n",
       "      <td>0.966356</td>\n",
       "      <td>0</td>\n",
       "      <td>0</td>\n",
       "      <td>44</td>\n",
       "      <td>38</td>\n",
       "      <td>32</td>\n",
       "      <td>28</td>\n",
       "      <td>26</td>\n",
       "      <td>23</td>\n",
       "      <td>20</td>\n",
       "      <td>18</td>\n",
       "      <td>15</td>\n",
       "      <td>15</td>\n",
       "      <td>18</td>\n",
       "      <td>20</td>\n",
       "      <td>23</td>\n",
       "      <td>26</td>\n",
       "      <td>28</td>\n",
       "      <td>32</td>\n",
       "      <td>38</td>\n",
       "      <td>44</td>\n",
       "      <td>4.0</td>\n",
       "      <td>unknown</td>\n",
       "      <td>negative</td>\n",
       "      <td>0.0</td>\n",
       "    </tr>\n",
       "    <tr>\n",
       "      <th>16</th>\n",
       "      <td>P13/P13.I022.017.WGS_events.txt</td>\n",
       "      <td>P13/P13.I022_017.WGS.HF.Source.vcf.gz</td>\n",
       "      <td>I022_017.T</td>\n",
       "      <td>1.036491</td>\n",
       "      <td>0</td>\n",
       "      <td>0</td>\n",
       "      <td>62</td>\n",
       "      <td>46</td>\n",
       "      <td>42</td>\n",
       "      <td>39</td>\n",
       "      <td>36</td>\n",
       "      <td>36</td>\n",
       "      <td>27</td>\n",
       "      <td>25</td>\n",
       "      <td>20</td>\n",
       "      <td>20</td>\n",
       "      <td>25</td>\n",
       "      <td>27</td>\n",
       "      <td>36</td>\n",
       "      <td>36</td>\n",
       "      <td>39</td>\n",
       "      <td>42</td>\n",
       "      <td>46</td>\n",
       "      <td>62</td>\n",
       "      <td>20.0</td>\n",
       "      <td>unknown</td>\n",
       "      <td>negative</td>\n",
       "      <td>0.0</td>\n",
       "    </tr>\n",
       "    <tr>\n",
       "      <th>17</th>\n",
       "      <td>P14/P14.I062.006.WES_events.txt</td>\n",
       "      <td>P14/P14.I062.006.WGS.HF.Source.vcf.gz</td>\n",
       "      <td>I062.006.T</td>\n",
       "      <td>1.134877</td>\n",
       "      <td>48</td>\n",
       "      <td>23</td>\n",
       "      <td>155</td>\n",
       "      <td>116</td>\n",
       "      <td>77</td>\n",
       "      <td>60</td>\n",
       "      <td>50</td>\n",
       "      <td>47</td>\n",
       "      <td>38</td>\n",
       "      <td>29</td>\n",
       "      <td>24</td>\n",
       "      <td>95</td>\n",
       "      <td>100</td>\n",
       "      <td>109</td>\n",
       "      <td>118</td>\n",
       "      <td>121</td>\n",
       "      <td>131</td>\n",
       "      <td>148</td>\n",
       "      <td>187</td>\n",
       "      <td>226</td>\n",
       "      <td>16.0</td>\n",
       "      <td>stable</td>\n",
       "      <td>positive</td>\n",
       "      <td>1.0</td>\n",
       "    </tr>\n",
       "    <tr>\n",
       "      <th>18</th>\n",
       "      <td>P15/P15.I047.005.WGS_events.txt</td>\n",
       "      <td>P15/P15.I047.005.WGS.raw.vcf.gz</td>\n",
       "      <td>I047_005.T</td>\n",
       "      <td>0.940260</td>\n",
       "      <td>0</td>\n",
       "      <td>0</td>\n",
       "      <td>53</td>\n",
       "      <td>39</td>\n",
       "      <td>33</td>\n",
       "      <td>25</td>\n",
       "      <td>20</td>\n",
       "      <td>18</td>\n",
       "      <td>13</td>\n",
       "      <td>13</td>\n",
       "      <td>12</td>\n",
       "      <td>12</td>\n",
       "      <td>13</td>\n",
       "      <td>13</td>\n",
       "      <td>18</td>\n",
       "      <td>20</td>\n",
       "      <td>25</td>\n",
       "      <td>33</td>\n",
       "      <td>39</td>\n",
       "      <td>53</td>\n",
       "      <td>20.0</td>\n",
       "      <td>unknown</td>\n",
       "      <td>negative</td>\n",
       "      <td>0.0</td>\n",
       "    </tr>\n",
       "    <tr>\n",
       "      <th>19</th>\n",
       "      <td>P16/P16.I062.010.WGS_events.txt</td>\n",
       "      <td>P16/P16.I062_010.WGS.HF.Source.vcf.gz</td>\n",
       "      <td>I062_010.T</td>\n",
       "      <td>0.916479</td>\n",
       "      <td>0</td>\n",
       "      <td>0</td>\n",
       "      <td>36</td>\n",
       "      <td>33</td>\n",
       "      <td>28</td>\n",
       "      <td>23</td>\n",
       "      <td>18</td>\n",
       "      <td>16</td>\n",
       "      <td>10</td>\n",
       "      <td>9</td>\n",
       "      <td>7</td>\n",
       "      <td>7</td>\n",
       "      <td>9</td>\n",
       "      <td>10</td>\n",
       "      <td>16</td>\n",
       "      <td>18</td>\n",
       "      <td>23</td>\n",
       "      <td>28</td>\n",
       "      <td>33</td>\n",
       "      <td>36</td>\n",
       "      <td>17.0</td>\n",
       "      <td>unknown</td>\n",
       "      <td>negative</td>\n",
       "      <td>0.0</td>\n",
       "    </tr>\n",
       "    <tr>\n",
       "      <th>20</th>\n",
       "      <td>P17/P17.I062.020.WGS_events.txt</td>\n",
       "      <td>P17/P17.I062.020.WGS.Source.vcf.gz</td>\n",
       "      <td>I062_020.T</td>\n",
       "      <td>1.000842</td>\n",
       "      <td>0</td>\n",
       "      <td>0</td>\n",
       "      <td>172</td>\n",
       "      <td>119</td>\n",
       "      <td>80</td>\n",
       "      <td>53</td>\n",
       "      <td>37</td>\n",
       "      <td>30</td>\n",
       "      <td>24</td>\n",
       "      <td>15</td>\n",
       "      <td>9</td>\n",
       "      <td>9</td>\n",
       "      <td>15</td>\n",
       "      <td>24</td>\n",
       "      <td>30</td>\n",
       "      <td>37</td>\n",
       "      <td>53</td>\n",
       "      <td>80</td>\n",
       "      <td>119</td>\n",
       "      <td>172</td>\n",
       "      <td>18.0</td>\n",
       "      <td>unknown</td>\n",
       "      <td>negative</td>\n",
       "      <td>0.0</td>\n",
       "    </tr>\n",
       "    <tr>\n",
       "      <th>21</th>\n",
       "      <td>P18/P18.I062_021.WGS_events.txt</td>\n",
       "      <td>P18/P18.I062.021.WGS.Source.vcf.gz</td>\n",
       "      <td>I0622_021.T</td>\n",
       "      <td>1.074429</td>\n",
       "      <td>0</td>\n",
       "      <td>0</td>\n",
       "      <td>148</td>\n",
       "      <td>112</td>\n",
       "      <td>87</td>\n",
       "      <td>61</td>\n",
       "      <td>50</td>\n",
       "      <td>47</td>\n",
       "      <td>40</td>\n",
       "      <td>35</td>\n",
       "      <td>27</td>\n",
       "      <td>27</td>\n",
       "      <td>35</td>\n",
       "      <td>40</td>\n",
       "      <td>47</td>\n",
       "      <td>50</td>\n",
       "      <td>61</td>\n",
       "      <td>87</td>\n",
       "      <td>112</td>\n",
       "      <td>148</td>\n",
       "      <td>16.0</td>\n",
       "      <td>unknown</td>\n",
       "      <td>positive</td>\n",
       "      <td>1.0</td>\n",
       "    </tr>\n",
       "    <tr>\n",
       "      <th>22</th>\n",
       "      <td>P19/P19.I007.018.WGS_events.txt</td>\n",
       "      <td>P19/P19.I007.018.WGS.Source.vcf.gz</td>\n",
       "      <td>I007_018.T</td>\n",
       "      <td>0.945868</td>\n",
       "      <td>5</td>\n",
       "      <td>5</td>\n",
       "      <td>7</td>\n",
       "      <td>7</td>\n",
       "      <td>5</td>\n",
       "      <td>4</td>\n",
       "      <td>1</td>\n",
       "      <td>0</td>\n",
       "      <td>0</td>\n",
       "      <td>0</td>\n",
       "      <td>0</td>\n",
       "      <td>10</td>\n",
       "      <td>10</td>\n",
       "      <td>10</td>\n",
       "      <td>10</td>\n",
       "      <td>11</td>\n",
       "      <td>14</td>\n",
       "      <td>15</td>\n",
       "      <td>17</td>\n",
       "      <td>17</td>\n",
       "      <td>16.0</td>\n",
       "      <td>unknown</td>\n",
       "      <td>negative</td>\n",
       "      <td>0.0</td>\n",
       "    </tr>\n",
       "    <tr>\n",
       "      <th>23</th>\n",
       "      <td>P20/P20.I047.006.WGS_events.txt</td>\n",
       "      <td>NaN</td>\n",
       "      <td>NaN</td>\n",
       "      <td>1.003549</td>\n",
       "      <td>8</td>\n",
       "      <td>8</td>\n",
       "      <td>5</td>\n",
       "      <td>4</td>\n",
       "      <td>4</td>\n",
       "      <td>4</td>\n",
       "      <td>3</td>\n",
       "      <td>2</td>\n",
       "      <td>2</td>\n",
       "      <td>2</td>\n",
       "      <td>2</td>\n",
       "      <td>18</td>\n",
       "      <td>18</td>\n",
       "      <td>18</td>\n",
       "      <td>18</td>\n",
       "      <td>19</td>\n",
       "      <td>20</td>\n",
       "      <td>20</td>\n",
       "      <td>20</td>\n",
       "      <td>21</td>\n",
       "      <td>NaN</td>\n",
       "      <td>unknown</td>\n",
       "      <td>negative</td>\n",
       "      <td>0.0</td>\n",
       "    </tr>\n",
       "    <tr>\n",
       "      <th>24</th>\n",
       "      <td>P21/P21.I037.002.WGS_events.txt</td>\n",
       "      <td>P21/P21.I037.002.WGS.Source.vcf.gz</td>\n",
       "      <td>I037_002_3M1_D1</td>\n",
       "      <td>1.058271</td>\n",
       "      <td>5</td>\n",
       "      <td>4</td>\n",
       "      <td>89</td>\n",
       "      <td>72</td>\n",
       "      <td>60</td>\n",
       "      <td>51</td>\n",
       "      <td>43</td>\n",
       "      <td>40</td>\n",
       "      <td>36</td>\n",
       "      <td>33</td>\n",
       "      <td>29</td>\n",
       "      <td>38</td>\n",
       "      <td>42</td>\n",
       "      <td>45</td>\n",
       "      <td>49</td>\n",
       "      <td>52</td>\n",
       "      <td>60</td>\n",
       "      <td>69</td>\n",
       "      <td>81</td>\n",
       "      <td>98</td>\n",
       "      <td>14.0</td>\n",
       "      <td>unknown</td>\n",
       "      <td>positive</td>\n",
       "      <td>1.0</td>\n",
       "    </tr>\n",
       "    <tr>\n",
       "      <th>25</th>\n",
       "      <td>P22/P22.I044.004.WGS_events.txt</td>\n",
       "      <td>P22/P22.I044.004.WGS.Source.vcf.gz</td>\n",
       "      <td>I044_004_2M1_D1</td>\n",
       "      <td>0.990383</td>\n",
       "      <td>3</td>\n",
       "      <td>5</td>\n",
       "      <td>70</td>\n",
       "      <td>55</td>\n",
       "      <td>51</td>\n",
       "      <td>42</td>\n",
       "      <td>36</td>\n",
       "      <td>34</td>\n",
       "      <td>31</td>\n",
       "      <td>26</td>\n",
       "      <td>23</td>\n",
       "      <td>31</td>\n",
       "      <td>34</td>\n",
       "      <td>39</td>\n",
       "      <td>42</td>\n",
       "      <td>44</td>\n",
       "      <td>50</td>\n",
       "      <td>59</td>\n",
       "      <td>63</td>\n",
       "      <td>78</td>\n",
       "      <td>18.0</td>\n",
       "      <td>unknown</td>\n",
       "      <td>negative</td>\n",
       "      <td>0.0</td>\n",
       "    </tr>\n",
       "    <tr>\n",
       "      <th>26</th>\n",
       "      <td>P23/P23.I002.006.WGS_events.txt</td>\n",
       "      <td>P23/P23.I002.006.WGS.Source.vcf.gz</td>\n",
       "      <td>I002_006_9M1_D1</td>\n",
       "      <td>0.915002</td>\n",
       "      <td>0</td>\n",
       "      <td>1</td>\n",
       "      <td>95</td>\n",
       "      <td>63</td>\n",
       "      <td>47</td>\n",
       "      <td>43</td>\n",
       "      <td>35</td>\n",
       "      <td>34</td>\n",
       "      <td>32</td>\n",
       "      <td>28</td>\n",
       "      <td>25</td>\n",
       "      <td>26</td>\n",
       "      <td>29</td>\n",
       "      <td>33</td>\n",
       "      <td>35</td>\n",
       "      <td>36</td>\n",
       "      <td>44</td>\n",
       "      <td>48</td>\n",
       "      <td>64</td>\n",
       "      <td>96</td>\n",
       "      <td>15.0</td>\n",
       "      <td>unknown</td>\n",
       "      <td>negative</td>\n",
       "      <td>0.0</td>\n",
       "    </tr>\n",
       "    <tr>\n",
       "      <th>27</th>\n",
       "      <td>P24/P24.I062.035.WGS_events.txt</td>\n",
       "      <td>P24/P24.I062.035.WGS.Source.vcf.gz</td>\n",
       "      <td>I062_035_2M1_D1</td>\n",
       "      <td>1.000028</td>\n",
       "      <td>5</td>\n",
       "      <td>6</td>\n",
       "      <td>2</td>\n",
       "      <td>1</td>\n",
       "      <td>1</td>\n",
       "      <td>1</td>\n",
       "      <td>1</td>\n",
       "      <td>1</td>\n",
       "      <td>1</td>\n",
       "      <td>1</td>\n",
       "      <td>0</td>\n",
       "      <td>11</td>\n",
       "      <td>12</td>\n",
       "      <td>12</td>\n",
       "      <td>12</td>\n",
       "      <td>12</td>\n",
       "      <td>12</td>\n",
       "      <td>12</td>\n",
       "      <td>12</td>\n",
       "      <td>13</td>\n",
       "      <td>NaN</td>\n",
       "      <td>deceased</td>\n",
       "      <td>negative</td>\n",
       "      <td>0.0</td>\n",
       "    </tr>\n",
       "    <tr>\n",
       "      <th>28</th>\n",
       "      <td>P25/P25.I002.007.WGS_events.txt</td>\n",
       "      <td>P25/P25.I002.007.WGS.HF.Source.vcf.gz</td>\n",
       "      <td>I002_007_9M1_D1</td>\n",
       "      <td>1.069543</td>\n",
       "      <td>3</td>\n",
       "      <td>3</td>\n",
       "      <td>35</td>\n",
       "      <td>23</td>\n",
       "      <td>16</td>\n",
       "      <td>11</td>\n",
       "      <td>9</td>\n",
       "      <td>8</td>\n",
       "      <td>8</td>\n",
       "      <td>8</td>\n",
       "      <td>7</td>\n",
       "      <td>13</td>\n",
       "      <td>14</td>\n",
       "      <td>14</td>\n",
       "      <td>14</td>\n",
       "      <td>15</td>\n",
       "      <td>17</td>\n",
       "      <td>22</td>\n",
       "      <td>29</td>\n",
       "      <td>41</td>\n",
       "      <td>15.0</td>\n",
       "      <td>unknown</td>\n",
       "      <td>negative</td>\n",
       "      <td>0.0</td>\n",
       "    </tr>\n",
       "    <tr>\n",
       "      <th>29</th>\n",
       "      <td>P26/P26.I042.009.WGS_events.txt</td>\n",
       "      <td>P26/P26.I042.009.WGS.Source.vcf.gz</td>\n",
       "      <td>I042_009_1M1_D1</td>\n",
       "      <td>1.194906</td>\n",
       "      <td>1</td>\n",
       "      <td>1</td>\n",
       "      <td>113</td>\n",
       "      <td>89</td>\n",
       "      <td>64</td>\n",
       "      <td>50</td>\n",
       "      <td>45</td>\n",
       "      <td>33</td>\n",
       "      <td>28</td>\n",
       "      <td>22</td>\n",
       "      <td>20</td>\n",
       "      <td>22</td>\n",
       "      <td>24</td>\n",
       "      <td>30</td>\n",
       "      <td>35</td>\n",
       "      <td>47</td>\n",
       "      <td>52</td>\n",
       "      <td>66</td>\n",
       "      <td>91</td>\n",
       "      <td>115</td>\n",
       "      <td>14.0</td>\n",
       "      <td>unknown</td>\n",
       "      <td>negative</td>\n",
       "      <td>0.0</td>\n",
       "    </tr>\n",
       "    <tr>\n",
       "      <th>30</th>\n",
       "      <td>P27/P27.I047.007.WGS_events.txt</td>\n",
       "      <td>P27/P27.I047.007.WGS.Source.vcf.gz</td>\n",
       "      <td>I047_007_2M1_D1</td>\n",
       "      <td>1.041258</td>\n",
       "      <td>11</td>\n",
       "      <td>10</td>\n",
       "      <td>146</td>\n",
       "      <td>93</td>\n",
       "      <td>54</td>\n",
       "      <td>38</td>\n",
       "      <td>26</td>\n",
       "      <td>23</td>\n",
       "      <td>15</td>\n",
       "      <td>10</td>\n",
       "      <td>8</td>\n",
       "      <td>29</td>\n",
       "      <td>31</td>\n",
       "      <td>36</td>\n",
       "      <td>44</td>\n",
       "      <td>47</td>\n",
       "      <td>59</td>\n",
       "      <td>75</td>\n",
       "      <td>114</td>\n",
       "      <td>167</td>\n",
       "      <td>14.0</td>\n",
       "      <td>stable</td>\n",
       "      <td>positive</td>\n",
       "      <td>1.0</td>\n",
       "    </tr>\n",
       "    <tr>\n",
       "      <th>31</th>\n",
       "      <td>P28/P28.I057.002.WGS_events.txt</td>\n",
       "      <td>P28/P28.I057.002.WGS.HF.Source.vcf.gz</td>\n",
       "      <td>I057_002_2T1_D1</td>\n",
       "      <td>1.083598</td>\n",
       "      <td>2</td>\n",
       "      <td>1</td>\n",
       "      <td>76</td>\n",
       "      <td>50</td>\n",
       "      <td>38</td>\n",
       "      <td>36</td>\n",
       "      <td>31</td>\n",
       "      <td>28</td>\n",
       "      <td>25</td>\n",
       "      <td>24</td>\n",
       "      <td>21</td>\n",
       "      <td>24</td>\n",
       "      <td>27</td>\n",
       "      <td>28</td>\n",
       "      <td>31</td>\n",
       "      <td>34</td>\n",
       "      <td>39</td>\n",
       "      <td>41</td>\n",
       "      <td>53</td>\n",
       "      <td>79</td>\n",
       "      <td>24.0</td>\n",
       "      <td>unknown</td>\n",
       "      <td>negative</td>\n",
       "      <td>0.0</td>\n",
       "    </tr>\n",
       "  </tbody>\n",
       "</table>\n",
       "</div>"
      ],
      "text/plain": [
       "                   Segmental report                                    VCF  \\\n",
       "0    P01/P1.I042.001.WGS_events.txt                                    NaN   \n",
       "1    P01/P1.I062.003.WGS_events.txt                                    NaN   \n",
       "2      P02/P2.MS.00F.WGS_events.txt       P02/P02.MS_00F.WGS.Source.vcf.gz   \n",
       "3    P03/P3.I062.007.WGS_events.txt                 P03/P06.WGS.raw.vcf.gz   \n",
       "4    P03/P3.I062.015.WGS_events.txt                 P03/P06.WGS.raw.vcf.gz   \n",
       "5    P03/P3.I062.022.WGS_events.txt                                    NaN   \n",
       "6    P03/P3.I062.033.WGS_events.txt                 P03/P06.WGS.raw.vcf.gz   \n",
       "7    P04/P4.I042.002.WGS_events.txt     P04/P04.I042_002.WGS.Source.vcf.gz   \n",
       "8      P05/P5.HA.00B.WGS_events.txt       P05/P05.HA_00B.WGS.Source.vcf.gz   \n",
       "9      P06/P6.HD.00J.WGS_events.txt    P06/P06.HD_00J.WGS.HF.Source.vcf.gz   \n",
       "10     P07/P7.MS.00A.WGS_events.txt       P07/P07.MS_00A.WGS.Source.vcf.gz   \n",
       "11   P08/P8.I022.002.WGS_events.txt  P08/P08.I022_002.WGS.HF.Source.vcf.gz   \n",
       "12   P09/P9.I047.003.WGS_events.txt  P09/P09.I047_003.WGS.HF.Source.vcf.gz   \n",
       "13  P10/P10.I023.005.WGS_events.txt                                    NaN   \n",
       "14  P11/P11.I036.005.WGS_events.txt  P11/P11.I036_005.WGS.HF.Source.vcf.gz   \n",
       "15  P12/P12.I056.004.WGS_events.txt  P12/P12.I056_004.WGS.HF.Source.vcf.gz   \n",
       "16  P13/P13.I022.017.WGS_events.txt  P13/P13.I022_017.WGS.HF.Source.vcf.gz   \n",
       "17  P14/P14.I062.006.WES_events.txt  P14/P14.I062.006.WGS.HF.Source.vcf.gz   \n",
       "18  P15/P15.I047.005.WGS_events.txt        P15/P15.I047.005.WGS.raw.vcf.gz   \n",
       "19  P16/P16.I062.010.WGS_events.txt  P16/P16.I062_010.WGS.HF.Source.vcf.gz   \n",
       "20  P17/P17.I062.020.WGS_events.txt     P17/P17.I062.020.WGS.Source.vcf.gz   \n",
       "21  P18/P18.I062_021.WGS_events.txt     P18/P18.I062.021.WGS.Source.vcf.gz   \n",
       "22  P19/P19.I007.018.WGS_events.txt     P19/P19.I007.018.WGS.Source.vcf.gz   \n",
       "23  P20/P20.I047.006.WGS_events.txt                                    NaN   \n",
       "24  P21/P21.I037.002.WGS_events.txt     P21/P21.I037.002.WGS.Source.vcf.gz   \n",
       "25  P22/P22.I044.004.WGS_events.txt     P22/P22.I044.004.WGS.Source.vcf.gz   \n",
       "26  P23/P23.I002.006.WGS_events.txt     P23/P23.I002.006.WGS.Source.vcf.gz   \n",
       "27  P24/P24.I062.035.WGS_events.txt     P24/P24.I062.035.WGS.Source.vcf.gz   \n",
       "28  P25/P25.I002.007.WGS_events.txt  P25/P25.I002.007.WGS.HF.Source.vcf.gz   \n",
       "29  P26/P26.I042.009.WGS_events.txt     P26/P26.I042.009.WGS.Source.vcf.gz   \n",
       "30  P27/P27.I047.007.WGS_events.txt     P27/P27.I047.007.WGS.Source.vcf.gz   \n",
       "31  P28/P28.I057.002.WGS_events.txt  P28/P28.I057.002.WGS.HF.Source.vcf.gz   \n",
       "\n",
       "        Sample name  DNA index  TAI  LOH  LST_3Mb  LST_4Mb  LST_5Mb  LST_6Mb  \\\n",
       "0               NaN   1.007272    0    0       31       25       21       18   \n",
       "1               NaN   1.029418    0    0       36       26       24       21   \n",
       "2          MS_00F.T   1.052231    0    0      127      101       77       59   \n",
       "3           P6.Met4   1.022245    0    0       33       20       14       13   \n",
       "4           P6.Met5   1.046050    0    0       89       69       59       45   \n",
       "5               NaN   1.013335    0    0      180      138      106       90   \n",
       "6           P6.Met7   1.048037    1    1       96       69       52       46   \n",
       "7        I042_002.T   1.060387    0    0       23       14       13       11   \n",
       "8          HA_00B.T   1.059753    0    0      175      113       77       62   \n",
       "9          HD_00J.T   1.124714    0    0       78       57       46       39   \n",
       "10         MS_00A.T   0.966000    0    0       92       72       57       49   \n",
       "11       I022_002.T   1.034036    0    0      108       76       60       49   \n",
       "12       I047_003.T   1.077638    0    0       70       51       43       41   \n",
       "13              NaN   0.936669    0    0       54       46       39       32   \n",
       "14       I036_005.T   1.028511    0    0      119       86       66       52   \n",
       "15       I056_004.T   0.966356    0    0       44       38       32       28   \n",
       "16       I022_017.T   1.036491    0    0       62       46       42       39   \n",
       "17       I062.006.T   1.134877   48   23      155      116       77       60   \n",
       "18       I047_005.T   0.940260    0    0       53       39       33       25   \n",
       "19       I062_010.T   0.916479    0    0       36       33       28       23   \n",
       "20       I062_020.T   1.000842    0    0      172      119       80       53   \n",
       "21      I0622_021.T   1.074429    0    0      148      112       87       61   \n",
       "22       I007_018.T   0.945868    5    5        7        7        5        4   \n",
       "23              NaN   1.003549    8    8        5        4        4        4   \n",
       "24  I037_002_3M1_D1   1.058271    5    4       89       72       60       51   \n",
       "25  I044_004_2M1_D1   0.990383    3    5       70       55       51       42   \n",
       "26  I002_006_9M1_D1   0.915002    0    1       95       63       47       43   \n",
       "27  I062_035_2M1_D1   1.000028    5    6        2        1        1        1   \n",
       "28  I002_007_9M1_D1   1.069543    3    3       35       23       16       11   \n",
       "29  I042_009_1M1_D1   1.194906    1    1      113       89       64       50   \n",
       "30  I047_007_2M1_D1   1.041258   11   10      146       93       54       38   \n",
       "31  I057_002_2T1_D1   1.083598    2    1       76       50       38       36   \n",
       "\n",
       "    LST_7Mb  LST_8Mb  LST_9Mb  LST_10Mb  LST_11Mb  HRD_11  HRD_10  HRD_9  \\\n",
       "0        16       13       11         9         4       4       9     11   \n",
       "1        19       11        9         7         6       6       7      9   \n",
       "2        44       35       29        23        16      16      23     29   \n",
       "3        12        9        7         7         4       4       7      7   \n",
       "4        40       31       27        24        20      20      24     27   \n",
       "5        75       62       46        37        31      31      37     46   \n",
       "6        31       26       22        22        20      22      24     24   \n",
       "7        11        8        7         7         7       7       7      7   \n",
       "8        51       43       30        22        22      22      22     30   \n",
       "9        30       25       22        18        17      17      18     22   \n",
       "10       43       31       30        28        26      26      28     30   \n",
       "11       35       30       25        22        19      19      22     25   \n",
       "12       36       29       22        15        14      14      15     22   \n",
       "13       28       27       20        19        18      18      19     20   \n",
       "14       40       27       26        21        16      16      21     26   \n",
       "15       26       23       20        18        15      15      18     20   \n",
       "16       36       36       27        25        20      20      25     27   \n",
       "17       50       47       38        29        24      95     100    109   \n",
       "18       20       18       13        13        12      12      13     13   \n",
       "19       18       16       10         9         7       7       9     10   \n",
       "20       37       30       24        15         9       9      15     24   \n",
       "21       50       47       40        35        27      27      35     40   \n",
       "22        1        0        0         0         0      10      10     10   \n",
       "23        3        2        2         2         2      18      18     18   \n",
       "24       43       40       36        33        29      38      42     45   \n",
       "25       36       34       31        26        23      31      34     39   \n",
       "26       35       34       32        28        25      26      29     33   \n",
       "27        1        1        1         1         0      11      12     12   \n",
       "28        9        8        8         8         7      13      14     14   \n",
       "29       45       33       28        22        20      22      24     30   \n",
       "30       26       23       15        10         8      29      31     36   \n",
       "31       31       28       25        24        21      24      27     28   \n",
       "\n",
       "    HRD_8  HRD_7  HRD_6  HRD_5  HRD_4  HRD_3   Age Response - real  \\\n",
       "0      13     16     18     21     25     31   NaN         unknown   \n",
       "1      11     19     21     24     26     36   NaN         unknown   \n",
       "2      35     44     59     77    101    127  17.0         unknown   \n",
       "3       9     12     13     14     20     33  18.0        deceased   \n",
       "4      31     40     45     59     69     89  19.0        deceased   \n",
       "5      62     75     90    106    138    180  19.0        deceased   \n",
       "6      28     33     48     54     71     98  20.0        deceased   \n",
       "7       8     11     11     13     14     23   2.0         unknown   \n",
       "8      43     51     62     77    113    175   NaN        deceased   \n",
       "9      25     30     39     46     57     78   NaN          stable   \n",
       "10     31     43     49     57     72     92   NaN          stable   \n",
       "11     30     35     49     60     76    108  25.0         unknown   \n",
       "12     29     36     41     43     51     70  29.0         unknown   \n",
       "13     27     28     32     39     46     54  23.0         unknown   \n",
       "14     27     40     52     66     86    119  16.0         unknown   \n",
       "15     23     26     28     32     38     44   4.0         unknown   \n",
       "16     36     36     39     42     46     62  20.0         unknown   \n",
       "17    118    121    131    148    187    226  16.0          stable   \n",
       "18     18     20     25     33     39     53  20.0         unknown   \n",
       "19     16     18     23     28     33     36  17.0         unknown   \n",
       "20     30     37     53     80    119    172  18.0         unknown   \n",
       "21     47     50     61     87    112    148  16.0         unknown   \n",
       "22     10     11     14     15     17     17  16.0         unknown   \n",
       "23     18     19     20     20     20     21   NaN         unknown   \n",
       "24     49     52     60     69     81     98  14.0         unknown   \n",
       "25     42     44     50     59     63     78  18.0         unknown   \n",
       "26     35     36     44     48     64     96  15.0         unknown   \n",
       "27     12     12     12     12     12     13   NaN        deceased   \n",
       "28     14     15     17     22     29     41  15.0         unknown   \n",
       "29     35     47     52     66     91    115  14.0         unknown   \n",
       "30     44     47     59     75    114    167  14.0          stable   \n",
       "31     31     34     39     41     53     79  24.0         unknown   \n",
       "\n",
       "   Response - cell lines  Response - cell lines numeric  \n",
       "0               negative                            0.0  \n",
       "1               negative                            0.0  \n",
       "2               negative                            0.0  \n",
       "3               negative                            0.0  \n",
       "4               negative                            0.0  \n",
       "5               negative                            0.0  \n",
       "6               negative                            0.0  \n",
       "7               negative                            0.0  \n",
       "8               positive                            1.0  \n",
       "9               negative                            0.0  \n",
       "10              negative                            0.0  \n",
       "11              negative                            0.0  \n",
       "12              negative                            0.0  \n",
       "13              negative                            0.0  \n",
       "14              negative                            0.0  \n",
       "15              negative                            0.0  \n",
       "16              negative                            0.0  \n",
       "17              positive                            1.0  \n",
       "18              negative                            0.0  \n",
       "19              negative                            0.0  \n",
       "20              negative                            0.0  \n",
       "21              positive                            1.0  \n",
       "22              negative                            0.0  \n",
       "23              negative                            0.0  \n",
       "24              positive                            1.0  \n",
       "25              negative                            0.0  \n",
       "26              negative                            0.0  \n",
       "27              negative                            0.0  \n",
       "28              negative                            0.0  \n",
       "29              negative                            0.0  \n",
       "30              positive                            1.0  \n",
       "31              negative                            0.0  "
      ]
     },
     "execution_count": 36,
     "metadata": {},
     "output_type": "execute_result"
    }
   ],
   "source": [
    "inform_known_cl_response.loc[inform_known_cl_response['Response - cell lines'] == 'negative', 'Response - cell lines numeric'] = 0\n",
    "inform_known_cl_response.loc[inform_known_cl_response['Response - cell lines'] == 'positive', 'Response - cell lines numeric'] = 1\n",
    "\n",
    "inform_known_cl_response"
   ]
  },
  {
   "cell_type": "markdown",
   "id": "welsh-valve",
   "metadata": {},
   "source": [
    "Načítame si do premennej hodnoty cieľového atribútu"
   ]
  },
  {
   "cell_type": "code",
   "execution_count": 37,
   "id": "adult-mouse",
   "metadata": {},
   "outputs": [],
   "source": [
    "y_true_cl = inform_known_cl_response['Response - cell lines numeric'].tolist()"
   ]
  },
  {
   "cell_type": "markdown",
   "id": "quality-quarter",
   "metadata": {},
   "source": [
    "#### LST 11 Mb"
   ]
  },
  {
   "cell_type": "code",
   "execution_count": 38,
   "id": "moving-local",
   "metadata": {},
   "outputs": [],
   "source": [
    "data_LST_11 = inform_known_cl_response['LST_11Mb'].tolist()"
   ]
  },
  {
   "cell_type": "code",
   "execution_count": 39,
   "id": "oriental-placement",
   "metadata": {},
   "outputs": [
    {
     "data": {
      "text/plain": [
       "(22, 0.6153846153846154)"
      ]
     },
     "execution_count": 39,
     "metadata": {},
     "output_type": "execute_result"
    }
   ],
   "source": [
    "best_LST_11_treshold, best_LST_11_f1_score = find_best_treshold(data_LST_11, y_true_cl, [x for x in range(8, 29)])\n",
    "\n",
    "best_LST_11_treshold, best_LST_11_f1_score"
   ]
  },
  {
   "cell_type": "code",
   "execution_count": 40,
   "id": "organized-motorcycle",
   "metadata": {},
   "outputs": [
    {
     "data": {
      "text/plain": [
       "<AxesSubplot:>"
      ]
     },
     "execution_count": 40,
     "metadata": {},
     "output_type": "execute_result"
    },
    {
     "data": {
      "image/png": "[encoded data removed]",
      "text/plain": [
       "<Figure size 432x288 with 2 Axes>"
      ]
     },
     "metadata": {
      "needs_background": "light"
     },
     "output_type": "display_data"
    }
   ],
   "source": [
    "y_pred_LST_11_best = predict(data_LST_11, best_LST_11_treshold)\n",
    "\n",
    "cm = confusion_matrix(y_true_cl, y_pred_LST_11_best)\n",
    "df_cm = pd.DataFrame(cm, index=['Actual negative', 'Actual positive'], columns=['Predicted negative', 'Predicted positive'])\n",
    "\n",
    "sns.heatmap(df_cm, annot=True)"
   ]
  },
  {
   "cell_type": "code",
   "execution_count": 41,
   "id": "packed-princess",
   "metadata": {},
   "outputs": [
    {
     "name": "stdout",
     "output_type": "stream",
     "text": [
      "Accuracy:  0.84375\n",
      "Precision:  0.5\n",
      "Recall:  0.8\n"
     ]
    }
   ],
   "source": [
    "print_scores(y_true_cl, y_pred_LST_11_best)"
   ]
  },
  {
   "cell_type": "markdown",
   "id": "textile-atlantic",
   "metadata": {},
   "source": [
    "#### LST 10 Mb"
   ]
  },
  {
   "cell_type": "markdown",
   "id": "stone-criminal",
   "metadata": {},
   "source": [
    "##### Vyhodnotenie pre hraničné skóre podľa článku"
   ]
  },
  {
   "cell_type": "markdown",
   "id": "planned-ready",
   "metadata": {},
   "source": [
    "Vyskúšame ako bude algoritmus klasifikovať nádory pri použití hraničné skóre z analyzovaného odborného článku. Tento experiment urobíme aj pre hodnoty parametra 6, 7, 8, 9 Mb a tiež pri kombinovanom skóre s použitím hodnoty LST_SMb 10 Mb. "
   ]
  },
  {
   "cell_type": "code",
   "execution_count": 42,
   "id": "northern-nightmare",
   "metadata": {},
   "outputs": [],
   "source": [
    "LST_10_treshold = 11"
   ]
  },
  {
   "cell_type": "code",
   "execution_count": 43,
   "id": "charming-saver",
   "metadata": {},
   "outputs": [],
   "source": [
    "data_LST_10 = inform_known_cl_response['LST_10Mb'].tolist()"
   ]
  },
  {
   "cell_type": "code",
   "execution_count": 44,
   "id": "distant-marble",
   "metadata": {},
   "outputs": [
    {
     "data": {
      "text/plain": [
       "<AxesSubplot:>"
      ]
     },
     "execution_count": 44,
     "metadata": {},
     "output_type": "execute_result"
    },
    {
     "data": {
      "image/png": "[encoded data removed]",
      "text/plain": [
       "<Figure size 432x288 with 2 Axes>"
      ]
     },
     "metadata": {
      "needs_background": "light"
     },
     "output_type": "display_data"
    }
   ],
   "source": [
    "y_pred_LST_10 = predict(data_LST_10, LST_10_treshold)\n",
    "\n",
    "cm = confusion_matrix(y_true_cl, y_pred_LST_10)\n",
    "df_cm = pd.DataFrame(cm, index=['Actual negative', 'Actual positive'], columns=['Predicted negative', 'Predicted positive'])\n",
    "\n",
    "sns.heatmap(df_cm, annot=True)"
   ]
  },
  {
   "cell_type": "code",
   "execution_count": 45,
   "id": "naked-ballot",
   "metadata": {},
   "outputs": [
    {
     "data": {
      "text/plain": [
       "0.2962962962962963"
      ]
     },
     "execution_count": 45,
     "metadata": {},
     "output_type": "execute_result"
    }
   ],
   "source": [
    "f1_score(y_true_cl, y_pred_LST_10)"
   ]
  },
  {
   "cell_type": "markdown",
   "id": "social-worse",
   "metadata": {},
   "source": [
    "Dosiahnuté F1 skóre je veľmi nízke. Algoritmus pri tomto hraničnom skóre síce vcelku dobre klasifikuje pozitívne vzorky, avšak môžeme tiež pozorovať vysokú mieru falošnej pozitivity"
   ]
  },
  {
   "cell_type": "markdown",
   "id": "modular-tiffany",
   "metadata": {},
   "source": [
    "##### Pokus o nájdenie najoptimálnejšieho LST_10Mb hraničného skóre"
   ]
  },
  {
   "cell_type": "code",
   "execution_count": 46,
   "id": "external-treasure",
   "metadata": {},
   "outputs": [
    {
     "data": {
      "text/plain": [
       "(29, 0.6666666666666665)"
      ]
     },
     "execution_count": 46,
     "metadata": {},
     "output_type": "execute_result"
    }
   ],
   "source": [
    "best_LST_10_treshold, best_LST_10_f1_score = find_best_treshold(data_LST_10, y_true_cl, [x for x in range(10, 35)])\n",
    "\n",
    "best_LST_10_treshold, best_LST_10_f1_score"
   ]
  },
  {
   "cell_type": "code",
   "execution_count": 47,
   "id": "heated-newspaper",
   "metadata": {},
   "outputs": [
    {
     "data": {
      "text/plain": [
       "<AxesSubplot:>"
      ]
     },
     "execution_count": 47,
     "metadata": {},
     "output_type": "execute_result"
    },
    {
     "data": {
      "image/png": "[encoded data removed]",
      "text/plain": [
       "<Figure size 432x288 with 2 Axes>"
      ]
     },
     "metadata": {
      "needs_background": "light"
     },
     "output_type": "display_data"
    }
   ],
   "source": [
    "y_pred_LST_10_best = predict(data_LST_10, best_LST_10_treshold)\n",
    "\n",
    "cm = confusion_matrix(y_true_cl, y_pred_LST_10_best)\n",
    "df_cm = pd.DataFrame(cm, index=['Actual negative', 'Actual positive'], columns=['Predicted negative', 'Predicted positive'])\n",
    "\n",
    "sns.heatmap(df_cm, annot=True)"
   ]
  },
  {
   "cell_type": "code",
   "execution_count": 48,
   "id": "dangerous-mortgage",
   "metadata": {},
   "outputs": [
    {
     "name": "stdout",
     "output_type": "stream",
     "text": [
      "Accuracy:  0.90625\n",
      "Precision:  0.75\n",
      "Recall:  0.6\n"
     ]
    }
   ],
   "source": [
    "print_scores(y_true_cl, y_pred_LST_10_best)"
   ]
  },
  {
   "cell_type": "markdown",
   "id": "editorial-despite",
   "metadata": {},
   "source": [
    "Pri vyššej hodnote hraničného skóre sa podarilo pomerne dobre zaklasifikovať pozitívne aj negatívne vzorky. Skóre uvedené v článku bolo v našom prípade veľmi nízke. To isté sa potvrdilo aj v ostatných prípadoch pri LST."
   ]
  },
  {
   "cell_type": "markdown",
   "id": "rapid-breach",
   "metadata": {},
   "source": [
    "#### LST 9 Mb"
   ]
  },
  {
   "cell_type": "code",
   "execution_count": 49,
   "id": "powerful-amateur",
   "metadata": {},
   "outputs": [],
   "source": [
    "data_LST_9 = inform_known_cl_response['LST_9Mb'].tolist()"
   ]
  },
  {
   "cell_type": "markdown",
   "id": "reduced-grain",
   "metadata": {},
   "source": [
    "##### Vyhodnotenie pre hraničné skóre podľa článku"
   ]
  },
  {
   "cell_type": "code",
   "execution_count": 50,
   "id": "strange-kuwait",
   "metadata": {},
   "outputs": [],
   "source": [
    "LST_9_treshold = 14"
   ]
  },
  {
   "cell_type": "code",
   "execution_count": 51,
   "id": "proper-barrel",
   "metadata": {},
   "outputs": [
    {
     "data": {
      "text/plain": [
       "<AxesSubplot:>"
      ]
     },
     "execution_count": 51,
     "metadata": {},
     "output_type": "execute_result"
    },
    {
     "data": {
      "image/png": "[encoded data removed]",
      "text/plain": [
       "<Figure size 432x288 with 2 Axes>"
      ]
     },
     "metadata": {
      "needs_background": "light"
     },
     "output_type": "display_data"
    }
   ],
   "source": [
    "y_pred_LST_9 = predict(data_LST_9, LST_9_treshold)\n",
    "\n",
    "cm = confusion_matrix(y_true_cl, y_pred_LST_9)\n",
    "df_cm = pd.DataFrame(cm, index=['Actual negative', 'Actual positive'], columns=['Predicted negative', 'Predicted positive'])\n",
    "\n",
    "sns.heatmap(df_cm, annot=True)"
   ]
  },
  {
   "cell_type": "code",
   "execution_count": 52,
   "id": "compatible-mainland",
   "metadata": {},
   "outputs": [
    {
     "data": {
      "text/plain": [
       "0.37037037037037035"
      ]
     },
     "execution_count": 52,
     "metadata": {},
     "output_type": "execute_result"
    }
   ],
   "source": [
    "f1_score(y_true_cl, y_pred_LST_9)"
   ]
  },
  {
   "cell_type": "markdown",
   "id": "sixth-century",
   "metadata": {},
   "source": [
    "##### Pokus o nájdenie najoptimálnejšieho LST_9Mb hraničného skóre"
   ]
  },
  {
   "cell_type": "code",
   "execution_count": 53,
   "id": "helpful-carrier",
   "metadata": {},
   "outputs": [
    {
     "data": {
      "text/plain": [
       "(33, 0.6666666666666665)"
      ]
     },
     "execution_count": 53,
     "metadata": {},
     "output_type": "execute_result"
    }
   ],
   "source": [
    "best_LST_9_treshold, best_LST_9_f1_score = find_best_treshold(data_LST_9, y_true_cl, [x for x in range(15, 40)])\n",
    "\n",
    "best_LST_9_treshold, best_LST_9_f1_score"
   ]
  },
  {
   "cell_type": "code",
   "execution_count": 54,
   "id": "horizontal-report",
   "metadata": {},
   "outputs": [
    {
     "data": {
      "text/plain": [
       "<AxesSubplot:>"
      ]
     },
     "execution_count": 54,
     "metadata": {},
     "output_type": "execute_result"
    },
    {
     "data": {
      "image/png": "[encoded data removed]",
      "text/plain": [
       "<Figure size 432x288 with 2 Axes>"
      ]
     },
     "metadata": {
      "needs_background": "light"
     },
     "output_type": "display_data"
    }
   ],
   "source": [
    "y_pred_LST_9_best = predict(data_LST_9, best_LST_9_treshold)\n",
    "\n",
    "cm = confusion_matrix(y_true_cl, y_pred_LST_9_best)\n",
    "df_cm = pd.DataFrame(cm, index=['Actual negative', 'Actual positive'], columns=['Predicted negative', 'Predicted positive'])\n",
    "\n",
    "sns.heatmap(df_cm, annot=True)"
   ]
  },
  {
   "cell_type": "code",
   "execution_count": 55,
   "id": "tamil-necessity",
   "metadata": {},
   "outputs": [
    {
     "name": "stdout",
     "output_type": "stream",
     "text": [
      "Accuracy:  0.90625\n",
      "Precision:  0.75\n",
      "Recall:  0.6\n"
     ]
    }
   ],
   "source": [
    "print_scores(y_true_cl, y_pred_LST_9_best)"
   ]
  },
  {
   "cell_type": "markdown",
   "id": "blind-intervention",
   "metadata": {},
   "source": [
    "#### LST 8 Mb"
   ]
  },
  {
   "cell_type": "code",
   "execution_count": 56,
   "id": "chief-country",
   "metadata": {},
   "outputs": [],
   "source": [
    "data_LST_8 = inform_known_cl_response['LST_8Mb'].tolist()"
   ]
  },
  {
   "cell_type": "markdown",
   "id": "greenhouse-label",
   "metadata": {},
   "source": [
    "##### Vyhodnotenie pre hraničné skóre podľa článku"
   ]
  },
  {
   "cell_type": "code",
   "execution_count": 57,
   "id": "creative-bacon",
   "metadata": {},
   "outputs": [],
   "source": [
    "LST_8_treshold = 14"
   ]
  },
  {
   "cell_type": "code",
   "execution_count": 58,
   "id": "psychological-liberal",
   "metadata": {},
   "outputs": [
    {
     "data": {
      "text/plain": [
       "<AxesSubplot:>"
      ]
     },
     "execution_count": 58,
     "metadata": {},
     "output_type": "execute_result"
    },
    {
     "data": {
      "image/png": "[encoded data removed]",
      "text/plain": [
       "<Figure size 432x288 with 2 Axes>"
      ]
     },
     "metadata": {
      "needs_background": "light"
     },
     "output_type": "display_data"
    }
   ],
   "source": [
    "y_pred_LST_8 = predict(data_LST_8, LST_8_treshold)\n",
    "\n",
    "cm = confusion_matrix(y_true_cl, y_pred_LST_8)\n",
    "df_cm = pd.DataFrame(cm, index=['Actual negative', 'Actual positive'], columns=['Predicted negative', 'Predicted positive'])\n",
    "\n",
    "sns.heatmap(df_cm, annot=True)"
   ]
  },
  {
   "cell_type": "code",
   "execution_count": 59,
   "id": "focused-earth",
   "metadata": {},
   "outputs": [
    {
     "data": {
      "text/plain": [
       "0.3448275862068966"
      ]
     },
     "execution_count": 59,
     "metadata": {},
     "output_type": "execute_result"
    }
   ],
   "source": [
    "f1_score(y_true_cl, y_pred_LST_8)"
   ]
  },
  {
   "cell_type": "markdown",
   "id": "legislative-sacrifice",
   "metadata": {},
   "source": [
    "##### Pokus o nájdenie najoptimálnejšieho LST_8Mb hraničného skóre"
   ]
  },
  {
   "cell_type": "code",
   "execution_count": 60,
   "id": "nuclear-smoke",
   "metadata": {},
   "outputs": [
    {
     "data": {
      "text/plain": [
       "(37, 0.8000000000000002)"
      ]
     },
     "execution_count": 60,
     "metadata": {},
     "output_type": "execute_result"
    }
   ],
   "source": [
    "best_LST_8_treshold, best_LST_8_f1_score = find_best_treshold(data_LST_8, y_true_cl, [x for x in range(23, 47)])\n",
    "\n",
    "best_LST_8_treshold, best_LST_8_f1_score"
   ]
  },
  {
   "cell_type": "code",
   "execution_count": 61,
   "id": "under-proportion",
   "metadata": {},
   "outputs": [
    {
     "data": {
      "text/plain": [
       "<AxesSubplot:>"
      ]
     },
     "execution_count": 61,
     "metadata": {},
     "output_type": "execute_result"
    },
    {
     "data": {
      "image/png": "[encoded data removed]",
      "text/plain": [
       "<Figure size 432x288 with 2 Axes>"
      ]
     },
     "metadata": {
      "needs_background": "light"
     },
     "output_type": "display_data"
    }
   ],
   "source": [
    "y_pred_LST_8_best = predict(data_LST_8, best_LST_8_treshold)\n",
    "\n",
    "cm = confusion_matrix(y_true_cl, y_pred_LST_8_best)\n",
    "df_cm = pd.DataFrame(cm, index=['Actual negative', 'Actual positive'], columns=['Predicted negative', 'Predicted positive'])\n",
    "\n",
    "sns.heatmap(df_cm, annot=True)"
   ]
  },
  {
   "cell_type": "code",
   "execution_count": 62,
   "id": "operational-inside",
   "metadata": {},
   "outputs": [
    {
     "name": "stdout",
     "output_type": "stream",
     "text": [
      "Accuracy:  0.9375\n",
      "Precision:  0.8\n",
      "Recall:  0.8\n"
     ]
    }
   ],
   "source": [
    "print_scores(y_true_cl, y_pred_LST_8_best)"
   ]
  },
  {
   "cell_type": "markdown",
   "id": "athletic-jackson",
   "metadata": {},
   "source": [
    "#### LST 7 Mb"
   ]
  },
  {
   "cell_type": "code",
   "execution_count": 63,
   "id": "molecular-feelings",
   "metadata": {},
   "outputs": [],
   "source": [
    "data_LST_7 = inform_known_cl_response['LST_7Mb'].tolist()"
   ]
  },
  {
   "cell_type": "markdown",
   "id": "endless-afternoon",
   "metadata": {},
   "source": [
    "##### Vyhodnotenie pre hraničné skóre podľa článku"
   ]
  },
  {
   "cell_type": "code",
   "execution_count": 64,
   "id": "physical-broadcasting",
   "metadata": {},
   "outputs": [],
   "source": [
    "LST_7_treshold = 17"
   ]
  },
  {
   "cell_type": "code",
   "execution_count": 65,
   "id": "complicated-barrel",
   "metadata": {},
   "outputs": [
    {
     "data": {
      "text/plain": [
       "<AxesSubplot:>"
      ]
     },
     "execution_count": 65,
     "metadata": {},
     "output_type": "execute_result"
    },
    {
     "data": {
      "image/png": "[encoded data removed]",
      "text/plain": [
       "<Figure size 432x288 with 2 Axes>"
      ]
     },
     "metadata": {
      "needs_background": "light"
     },
     "output_type": "display_data"
    }
   ],
   "source": [
    "y_pred_LST_7 = predict(data_LST_7, LST_7_treshold)\n",
    "\n",
    "cm = confusion_matrix(y_true_cl, y_pred_LST_7)\n",
    "df_cm = pd.DataFrame(cm, index=['Actual negative', 'Actual positive'], columns=['Predicted negative', 'Predicted positive'])\n",
    "\n",
    "sns.heatmap(df_cm, annot=True)"
   ]
  },
  {
   "cell_type": "code",
   "execution_count": 66,
   "id": "adjusted-advocate",
   "metadata": {},
   "outputs": [
    {
     "data": {
      "text/plain": [
       "0.33333333333333337"
      ]
     },
     "execution_count": 66,
     "metadata": {},
     "output_type": "execute_result"
    }
   ],
   "source": [
    "f1_score(y_true_cl, y_pred_LST_7)"
   ]
  },
  {
   "cell_type": "markdown",
   "id": "earned-tourist",
   "metadata": {},
   "source": [
    "##### Pokus o nájdenie najoptimálnejšieho LST_7Mb hraničného skóre"
   ]
  },
  {
   "cell_type": "code",
   "execution_count": 67,
   "id": "novel-scratch",
   "metadata": {},
   "outputs": [
    {
     "data": {
      "text/plain": [
       "(46, 0.6666666666666665)"
      ]
     },
     "execution_count": 67,
     "metadata": {},
     "output_type": "execute_result"
    }
   ],
   "source": [
    "best_LST_7_treshold, best_LST_7_f1_score = find_best_treshold(data_LST_7, y_true_cl, [x for x in range(26, 51)])\n",
    "\n",
    "best_LST_7_treshold, best_LST_7_f1_score"
   ]
  },
  {
   "cell_type": "code",
   "execution_count": 68,
   "id": "female-facing",
   "metadata": {},
   "outputs": [
    {
     "data": {
      "text/plain": [
       "<AxesSubplot:>"
      ]
     },
     "execution_count": 68,
     "metadata": {},
     "output_type": "execute_result"
    },
    {
     "data": {
      "image/png": "[encoded data removed]",
      "text/plain": [
       "<Figure size 432x288 with 2 Axes>"
      ]
     },
     "metadata": {
      "needs_background": "light"
     },
     "output_type": "display_data"
    }
   ],
   "source": [
    "y_pred_LST_7_best = predict(data_LST_7, best_LST_7_treshold)\n",
    "\n",
    "cm = confusion_matrix(y_true_cl, y_pred_LST_7_best)\n",
    "df_cm = pd.DataFrame(cm, index=['Actual negative', 'Actual positive'], columns=['Predicted negative', 'Predicted positive'])\n",
    "\n",
    "sns.heatmap(df_cm, annot=True)"
   ]
  },
  {
   "cell_type": "code",
   "execution_count": 69,
   "id": "flexible-technician",
   "metadata": {},
   "outputs": [
    {
     "name": "stdout",
     "output_type": "stream",
     "text": [
      "Accuracy:  0.90625\n",
      "Precision:  0.75\n",
      "Recall:  0.6\n"
     ]
    }
   ],
   "source": [
    "print_scores(y_true_cl, y_pred_LST_7_best)"
   ]
  },
  {
   "cell_type": "markdown",
   "id": "floral-formation",
   "metadata": {},
   "source": [
    "#### LST 6 Mb"
   ]
  },
  {
   "cell_type": "code",
   "execution_count": 70,
   "id": "suspended-fossil",
   "metadata": {},
   "outputs": [],
   "source": [
    "data_LST_6 = inform_known_cl_response['LST_6Mb'].tolist()"
   ]
  },
  {
   "cell_type": "markdown",
   "id": "secure-union",
   "metadata": {},
   "source": [
    "##### Vyhodnotenie pre hraničné skóre podľa článku"
   ]
  },
  {
   "cell_type": "code",
   "execution_count": 71,
   "id": "noble-printer",
   "metadata": {},
   "outputs": [],
   "source": [
    "LST_6_treshold = 19"
   ]
  },
  {
   "cell_type": "code",
   "execution_count": 72,
   "id": "statutory-public",
   "metadata": {},
   "outputs": [
    {
     "data": {
      "text/plain": [
       "<AxesSubplot:>"
      ]
     },
     "execution_count": 72,
     "metadata": {},
     "output_type": "execute_result"
    },
    {
     "data": {
      "image/png": "[encoded data removed]",
      "text/plain": [
       "<Figure size 432x288 with 2 Axes>"
      ]
     },
     "metadata": {
      "needs_background": "light"
     },
     "output_type": "display_data"
    }
   ],
   "source": [
    "y_pred_LST_6 = predict(data_LST_6, LST_6_treshold)\n",
    "\n",
    "cm = confusion_matrix(y_true_cl, y_pred_LST_6)\n",
    "df_cm = pd.DataFrame(cm, index=['Actual negative', 'Actual positive'], columns=['Predicted negative', 'Predicted positive'])\n",
    "\n",
    "sns.heatmap(df_cm, annot=True)"
   ]
  },
  {
   "cell_type": "code",
   "execution_count": 73,
   "id": "streaming-sweden",
   "metadata": {},
   "outputs": [
    {
     "data": {
      "text/plain": [
       "0.33333333333333337"
      ]
     },
     "execution_count": 73,
     "metadata": {},
     "output_type": "execute_result"
    }
   ],
   "source": [
    "f1_score(y_true_cl, y_pred_LST_6)"
   ]
  },
  {
   "cell_type": "markdown",
   "id": "subtle-drawing",
   "metadata": {},
   "source": [
    "Vidíme, že hraničné skóre uvedené v článku je v našom prípade veľmi nízke. Pozitívnych pacientov síce dokáže zaklasifikovať presne avšak miera falošnej pozitivity je veľmi vysoká."
   ]
  },
  {
   "cell_type": "markdown",
   "id": "chief-flower",
   "metadata": {},
   "source": [
    "##### Pokus o nájdenie najoptimálnejšieho LST_6Mb hraničného skóre"
   ]
  },
  {
   "cell_type": "code",
   "execution_count": 74,
   "id": "indoor-counter",
   "metadata": {},
   "outputs": [
    {
     "data": {
      "text/plain": [
       "(60, 0.6666666666666665)"
      ]
     },
     "execution_count": 74,
     "metadata": {},
     "output_type": "execute_result"
    }
   ],
   "source": [
    "best_LST_6_treshold, best_LST_6_f1_score = find_best_treshold(data_LST_6, y_true_cl, [x for x in range(38, 62)])\n",
    "\n",
    "best_LST_6_treshold, best_LST_6_f1_score"
   ]
  },
  {
   "cell_type": "code",
   "execution_count": 75,
   "id": "forced-melbourne",
   "metadata": {},
   "outputs": [
    {
     "data": {
      "text/plain": [
       "<AxesSubplot:>"
      ]
     },
     "execution_count": 75,
     "metadata": {},
     "output_type": "execute_result"
    },
    {
     "data": {
      "image/png": "[encoded data removed]",
      "text/plain": [
       "<Figure size 432x288 with 2 Axes>"
      ]
     },
     "metadata": {
      "needs_background": "light"
     },
     "output_type": "display_data"
    }
   ],
   "source": [
    "y_pred_LST_6_best = predict(data_LST_6, best_LST_6_treshold)\n",
    "\n",
    "cm = confusion_matrix(y_true_cl, y_pred_LST_6_best)\n",
    "df_cm = pd.DataFrame(cm, index=['Actual negative', 'Actual positive'], columns=['Predicted negative', 'Predicted positive'])\n",
    "\n",
    "sns.heatmap(df_cm, annot=True)"
   ]
  },
  {
   "cell_type": "code",
   "execution_count": 76,
   "id": "running-contractor",
   "metadata": {},
   "outputs": [
    {
     "name": "stdout",
     "output_type": "stream",
     "text": [
      "Accuracy:  0.90625\n",
      "Precision:  0.75\n",
      "Recall:  0.6\n"
     ]
    }
   ],
   "source": [
    "print_scores(y_true_cl, y_pred_LST_6_best)"
   ]
  },
  {
   "cell_type": "markdown",
   "id": "boolean-bundle",
   "metadata": {},
   "source": [
    "#### LST 5 Mb"
   ]
  },
  {
   "cell_type": "code",
   "execution_count": 77,
   "id": "developmental-mattress",
   "metadata": {},
   "outputs": [],
   "source": [
    "data_LST_5 = inform_known_cl_response['LST_5Mb'].tolist()"
   ]
  },
  {
   "cell_type": "code",
   "execution_count": 78,
   "id": "useful-longer",
   "metadata": {},
   "outputs": [
    {
     "data": {
      "text/plain": [
       "(54, 0.5555555555555556)"
      ]
     },
     "execution_count": 78,
     "metadata": {},
     "output_type": "execute_result"
    }
   ],
   "source": [
    "best_LST_5_treshold, best_LST_5_f1_score = find_best_treshold(data_LST_5, y_true_cl, [x for x in range(54, 87)])\n",
    "\n",
    "best_LST_5_treshold, best_LST_5_f1_score"
   ]
  },
  {
   "cell_type": "code",
   "execution_count": 79,
   "id": "arctic-booth",
   "metadata": {},
   "outputs": [
    {
     "data": {
      "text/plain": [
       "<AxesSubplot:>"
      ]
     },
     "execution_count": 79,
     "metadata": {},
     "output_type": "execute_result"
    },
    {
     "data": {
      "image/png": "[encoded data removed]",
      "text/plain": [
       "<Figure size 432x288 with 2 Axes>"
      ]
     },
     "metadata": {
      "needs_background": "light"
     },
     "output_type": "display_data"
    }
   ],
   "source": [
    "y_pred_LST_5_best = predict(data_LST_5, best_LST_5_treshold)\n",
    "\n",
    "cm = confusion_matrix(y_true_cl, y_pred_LST_5_best)\n",
    "df_cm = pd.DataFrame(cm, index=['Actual negative', 'Actual positive'], columns=['Predicted negative', 'Predicted positive'])\n",
    "\n",
    "sns.heatmap(df_cm, annot=True)"
   ]
  },
  {
   "cell_type": "code",
   "execution_count": 80,
   "id": "pointed-dress",
   "metadata": {},
   "outputs": [
    {
     "name": "stdout",
     "output_type": "stream",
     "text": [
      "Accuracy:  0.75\n",
      "Precision:  0.38461538461538464\n",
      "Recall:  1.0\n"
     ]
    }
   ],
   "source": [
    "print_scores(y_true_cl, y_pred_LST_5_best)"
   ]
  },
  {
   "cell_type": "markdown",
   "id": "mathematical-universe",
   "metadata": {},
   "source": [
    "#### LST 4 Mb"
   ]
  },
  {
   "cell_type": "code",
   "execution_count": 81,
   "id": "unlikely-voluntary",
   "metadata": {},
   "outputs": [],
   "source": [
    "data_LST_4 = inform_known_cl_response['LST_4Mb'].tolist()"
   ]
  },
  {
   "cell_type": "code",
   "execution_count": 82,
   "id": "timely-sullivan",
   "metadata": {},
   "outputs": [
    {
     "data": {
      "text/plain": [
       "(90, 0.6666666666666666)"
      ]
     },
     "execution_count": 82,
     "metadata": {},
     "output_type": "execute_result"
    }
   ],
   "source": [
    "best_LST_4_treshold, best_LST_4_f1_score = find_best_treshold(data_LST_4, y_true_cl, [x for x in range(72, 116)])\n",
    "\n",
    "best_LST_4_treshold, best_LST_4_f1_score"
   ]
  },
  {
   "cell_type": "code",
   "execution_count": 83,
   "id": "unsigned-height",
   "metadata": {},
   "outputs": [
    {
     "data": {
      "text/plain": [
       "<AxesSubplot:>"
      ]
     },
     "execution_count": 83,
     "metadata": {},
     "output_type": "execute_result"
    },
    {
     "data": {
      "image/png": "[encoded data removed]",
      "text/plain": [
       "<Figure size 432x288 with 2 Axes>"
      ]
     },
     "metadata": {
      "needs_background": "light"
     },
     "output_type": "display_data"
    }
   ],
   "source": [
    "y_pred_LST_4_best = predict(data_LST_4, best_LST_4_treshold)\n",
    "\n",
    "cm = confusion_matrix(y_true_cl, y_pred_LST_4_best)\n",
    "df_cm = pd.DataFrame(cm, index=['Actual negative', 'Actual positive'], columns=['Predicted negative', 'Predicted positive'])\n",
    "\n",
    "sns.heatmap(df_cm, annot=True)"
   ]
  },
  {
   "cell_type": "code",
   "execution_count": 84,
   "id": "broad-seller",
   "metadata": {},
   "outputs": [
    {
     "name": "stdout",
     "output_type": "stream",
     "text": [
      "Accuracy:  0.875\n",
      "Precision:  0.5714285714285714\n",
      "Recall:  0.8\n"
     ]
    }
   ],
   "source": [
    "print_scores(y_true_cl, y_pred_LST_4_best)"
   ]
  },
  {
   "cell_type": "markdown",
   "id": "sunrise-private",
   "metadata": {},
   "source": [
    "#### LST 3 Mb"
   ]
  },
  {
   "cell_type": "code",
   "execution_count": 85,
   "id": "handed-delaware",
   "metadata": {},
   "outputs": [],
   "source": [
    "data_LST_3 = inform_known_cl_response['LST_3Mb'].tolist()"
   ]
  },
  {
   "cell_type": "code",
   "execution_count": 86,
   "id": "apparent-highlight",
   "metadata": {},
   "outputs": [
    {
     "data": {
      "text/plain": [
       "(128, 0.7272727272727272)"
      ]
     },
     "execution_count": 86,
     "metadata": {},
     "output_type": "execute_result"
    }
   ],
   "source": [
    "best_LST_3_treshold, best_LST_3_f1_score = find_best_treshold(data_LST_3, y_true_cl, [x for x in range(85, 175)])\n",
    "\n",
    "best_LST_3_treshold, best_LST_3_f1_score"
   ]
  },
  {
   "cell_type": "code",
   "execution_count": 87,
   "id": "standard-nation",
   "metadata": {},
   "outputs": [
    {
     "data": {
      "text/plain": [
       "<AxesSubplot:>"
      ]
     },
     "execution_count": 87,
     "metadata": {},
     "output_type": "execute_result"
    },
    {
     "data": {
      "image/png": "[encoded data removed]",
      "text/plain": [
       "<Figure size 432x288 with 2 Axes>"
      ]
     },
     "metadata": {
      "needs_background": "light"
     },
     "output_type": "display_data"
    }
   ],
   "source": [
    "y_pred_LST_3_best = predict(data_LST_3, best_LST_3_treshold)\n",
    "\n",
    "cm = confusion_matrix(y_true_cl, y_pred_LST_3_best)\n",
    "df_cm = pd.DataFrame(cm, index=['Actual negative', 'Actual positive'], columns=['Predicted negative', 'Predicted positive'])\n",
    "\n",
    "sns.heatmap(df_cm, annot=True)"
   ]
  },
  {
   "cell_type": "code",
   "execution_count": 88,
   "id": "diverse-passion",
   "metadata": {},
   "outputs": [
    {
     "name": "stdout",
     "output_type": "stream",
     "text": [
      "Accuracy:  0.90625\n",
      "Precision:  0.6666666666666666\n",
      "Recall:  0.8\n"
     ]
    }
   ],
   "source": [
    "print_scores(y_true_cl, y_pred_LST_3_best)"
   ]
  },
  {
   "cell_type": "markdown",
   "id": "difficult-playback",
   "metadata": {},
   "source": [
    "Najvyššie F1 skóre bolo dosiahnuté pri hodnote parametra 8 Mb, najnižšie pri hodnote 5 Mb."
   ]
  },
  {
   "cell_type": "markdown",
   "id": "frozen-channel",
   "metadata": {},
   "source": [
    "#### HRD s LST 11 Mb"
   ]
  },
  {
   "cell_type": "code",
   "execution_count": 89,
   "id": "korean-alert",
   "metadata": {},
   "outputs": [],
   "source": [
    "data_HRD_11 = inform_known_cl_response['HRD_11'].tolist()"
   ]
  },
  {
   "cell_type": "code",
   "execution_count": 90,
   "id": "efficient-bridal",
   "metadata": {},
   "outputs": [
    {
     "data": {
      "text/plain": [
       "(27, 0.7272727272727272)"
      ]
     },
     "execution_count": 90,
     "metadata": {},
     "output_type": "execute_result"
    }
   ],
   "source": [
    "best_HRD_11_treshold, best_HRD_11_f1_score = find_best_treshold(data_HRD_11, y_true_cl, [x for x in range(22, 40)])\n",
    "\n",
    "best_HRD_11_treshold, best_HRD_11_f1_score"
   ]
  },
  {
   "cell_type": "code",
   "execution_count": 91,
   "id": "protective-microwave",
   "metadata": {},
   "outputs": [
    {
     "data": {
      "text/plain": [
       "<AxesSubplot:>"
      ]
     },
     "execution_count": 91,
     "metadata": {},
     "output_type": "execute_result"
    },
    {
     "data": {
      "image/png": "[encoded data removed]",
      "text/plain": [
       "<Figure size 432x288 with 2 Axes>"
      ]
     },
     "metadata": {
      "needs_background": "light"
     },
     "output_type": "display_data"
    }
   ],
   "source": [
    "y_pred_HRD_11_best = predict(data_HRD_11, best_HRD_11_treshold)\n",
    "\n",
    "cm = confusion_matrix(y_true_cl, y_pred_HRD_11_best)\n",
    "df_cm = pd.DataFrame(cm, index=['Actual negative', 'Actual positive'], columns=['Predicted negative', 'Predicted positive'])\n",
    "\n",
    "sns.heatmap(df_cm, annot=True)"
   ]
  },
  {
   "cell_type": "code",
   "execution_count": 92,
   "id": "original-investigator",
   "metadata": {},
   "outputs": [
    {
     "name": "stdout",
     "output_type": "stream",
     "text": [
      "Accuracy:  0.90625\n",
      "Precision:  0.6666666666666666\n",
      "Recall:  0.8\n"
     ]
    }
   ],
   "source": [
    "print_scores(y_true_cl, y_pred_HRD_11_best)"
   ]
  },
  {
   "cell_type": "markdown",
   "id": "musical-boulder",
   "metadata": {},
   "source": [
    "#### HRD s LST 10 Mb"
   ]
  },
  {
   "cell_type": "markdown",
   "id": "juvenile-presentation",
   "metadata": {},
   "source": [
    "##### Vyhodnotenie pre hraničné skóre podľa článku"
   ]
  },
  {
   "cell_type": "code",
   "execution_count": 93,
   "id": "shaped-occasions",
   "metadata": {},
   "outputs": [],
   "source": [
    "HRD_10_treshold = 42"
   ]
  },
  {
   "cell_type": "code",
   "execution_count": 94,
   "id": "smooth-constitution",
   "metadata": {},
   "outputs": [],
   "source": [
    "data_HRD_10 = inform_known_cl_response['HRD_10'].tolist()"
   ]
  },
  {
   "cell_type": "code",
   "execution_count": 95,
   "id": "comparable-smooth",
   "metadata": {},
   "outputs": [
    {
     "data": {
      "text/plain": [
       "<AxesSubplot:>"
      ]
     },
     "execution_count": 95,
     "metadata": {},
     "output_type": "execute_result"
    },
    {
     "data": {
      "image/png": "[encoded data removed]",
      "text/plain": [
       "<Figure size 432x288 with 2 Axes>"
      ]
     },
     "metadata": {
      "needs_background": "light"
     },
     "output_type": "display_data"
    }
   ],
   "source": [
    "y_pred_HRD_10 = predict(data_HRD_10, HRD_10_treshold)\n",
    "\n",
    "cm = confusion_matrix(y_true_cl, y_pred_HRD_10)\n",
    "df_cm = pd.DataFrame(cm, index=['Actual negative', 'Actual positive'], columns=['Predicted negative', 'Predicted positive'])\n",
    "\n",
    "sns.heatmap(df_cm, annot=True)"
   ]
  },
  {
   "cell_type": "code",
   "execution_count": 96,
   "id": "swiss-impossible",
   "metadata": {},
   "outputs": [
    {
     "data": {
      "text/plain": [
       "0.5714285714285715"
      ]
     },
     "execution_count": 96,
     "metadata": {},
     "output_type": "execute_result"
    }
   ],
   "source": [
    "f1_score(y_true_cl, y_pred_HRD_10)"
   ]
  },
  {
   "cell_type": "markdown",
   "id": "substantial-mexico",
   "metadata": {},
   "source": [
    "Tentokrát sa hranica z článku ukázala byť príliš vysoká. Negatívne tumory sa síce podarili zaklasifikovať presne avšak z pozitívnych tumorov sa podarilo zaklasifikovať správne iba dva."
   ]
  },
  {
   "cell_type": "markdown",
   "id": "neither-dealer",
   "metadata": {},
   "source": [
    "##### Pokus o nájdenie najoptimálnejšieho HRD_10 hraničného skóre"
   ]
  },
  {
   "cell_type": "code",
   "execution_count": 97,
   "id": "pharmaceutical-empty",
   "metadata": {},
   "outputs": [
    {
     "data": {
      "text/plain": [
       "(30, 0.7272727272727272)"
      ]
     },
     "execution_count": 97,
     "metadata": {},
     "output_type": "execute_result"
    }
   ],
   "source": [
    "best_HRD_10_treshold, best_HRD_10_f1_score = find_best_treshold(data_HRD_10, y_true_cl, [x for x in range(22, 45)])\n",
    "\n",
    "best_HRD_10_treshold, best_HRD_10_f1_score"
   ]
  },
  {
   "cell_type": "code",
   "execution_count": 98,
   "id": "handmade-surfing",
   "metadata": {},
   "outputs": [
    {
     "data": {
      "text/plain": [
       "<AxesSubplot:>"
      ]
     },
     "execution_count": 98,
     "metadata": {},
     "output_type": "execute_result"
    },
    {
     "data": {
      "image/png": "[encoded data removed]",
      "text/plain": [
       "<Figure size 432x288 with 2 Axes>"
      ]
     },
     "metadata": {
      "needs_background": "light"
     },
     "output_type": "display_data"
    }
   ],
   "source": [
    "y_pred_HRD_10_best = predict(data_HRD_10, best_HRD_10_treshold)\n",
    "\n",
    "cm = confusion_matrix(y_true_cl, y_pred_HRD_10_best)\n",
    "df_cm = pd.DataFrame(cm, index=['Actual negative', 'Actual positive'], columns=['Predicted negative', 'Predicted positive'])\n",
    "\n",
    "sns.heatmap(df_cm, annot=True)"
   ]
  },
  {
   "cell_type": "code",
   "execution_count": 99,
   "id": "ideal-effort",
   "metadata": {},
   "outputs": [
    {
     "name": "stdout",
     "output_type": "stream",
     "text": [
      "Accuracy:  0.90625\n",
      "Precision:  0.6666666666666666\n",
      "Recall:  0.8\n"
     ]
    }
   ],
   "source": [
    "print_scores(y_true_cl, y_pred_HRD_10_best)"
   ]
  },
  {
   "cell_type": "markdown",
   "id": "genetic-postage",
   "metadata": {},
   "source": [
    "#### HRD s LST 9 Mb"
   ]
  },
  {
   "cell_type": "code",
   "execution_count": 100,
   "id": "innocent-basin",
   "metadata": {},
   "outputs": [],
   "source": [
    "data_HRD_9 = inform_known_cl_response['HRD_9'].tolist()"
   ]
  },
  {
   "cell_type": "code",
   "execution_count": 101,
   "id": "express-oxygen",
   "metadata": {},
   "outputs": [
    {
     "data": {
      "text/plain": [
       "(34, 0.7272727272727272)"
      ]
     },
     "execution_count": 101,
     "metadata": {},
     "output_type": "execute_result"
    }
   ],
   "source": [
    "best_HRD_9_treshold, best_HRD_9_f1_score = find_best_treshold(data_HRD_9, y_true_cl, [x for x in range(30, 50)])\n",
    "\n",
    "best_HRD_9_treshold, best_HRD_9_f1_score"
   ]
  },
  {
   "cell_type": "code",
   "execution_count": 102,
   "id": "prescribed-bibliography",
   "metadata": {},
   "outputs": [
    {
     "data": {
      "text/plain": [
       "<AxesSubplot:>"
      ]
     },
     "execution_count": 102,
     "metadata": {},
     "output_type": "execute_result"
    },
    {
     "data": {
      "image/png": "[encoded data removed]",
      "text/plain": [
       "<Figure size 432x288 with 2 Axes>"
      ]
     },
     "metadata": {
      "needs_background": "light"
     },
     "output_type": "display_data"
    }
   ],
   "source": [
    "y_pred_HRD_9_best = predict(data_HRD_9, best_HRD_9_treshold)\n",
    "\n",
    "cm = confusion_matrix(y_true_cl, y_pred_HRD_9_best)\n",
    "df_cm = pd.DataFrame(cm, index=['Actual negative', 'Actual positive'], columns=['Predicted negative', 'Predicted positive'])\n",
    "\n",
    "sns.heatmap(df_cm, annot=True)"
   ]
  },
  {
   "cell_type": "code",
   "execution_count": 103,
   "id": "outstanding-mountain",
   "metadata": {},
   "outputs": [
    {
     "name": "stdout",
     "output_type": "stream",
     "text": [
      "Accuracy:  0.90625\n",
      "Precision:  0.6666666666666666\n",
      "Recall:  0.8\n"
     ]
    }
   ],
   "source": [
    "print_scores(y_true_cl, y_pred_HRD_9_best)"
   ]
  },
  {
   "cell_type": "markdown",
   "id": "sacred-participation",
   "metadata": {},
   "source": [
    "#### HRD s LST 8 Mb"
   ]
  },
  {
   "cell_type": "code",
   "execution_count": 104,
   "id": "asian-lancaster",
   "metadata": {},
   "outputs": [],
   "source": [
    "data_HRD_8 = inform_known_cl_response['HRD_8'].tolist()"
   ]
  },
  {
   "cell_type": "code",
   "execution_count": 105,
   "id": "immediate-privilege",
   "metadata": {},
   "outputs": [
    {
     "data": {
      "text/plain": [
       "(43, 0.9090909090909091)"
      ]
     },
     "execution_count": 105,
     "metadata": {},
     "output_type": "execute_result"
    }
   ],
   "source": [
    "best_HRD_8_treshold, best_HRD_8_f1_score = find_best_treshold(data_HRD_8, y_true_cl, [x for x in range(40, 65)])\n",
    "\n",
    "best_HRD_8_treshold, best_HRD_8_f1_score"
   ]
  },
  {
   "cell_type": "code",
   "execution_count": 106,
   "id": "buried-joseph",
   "metadata": {},
   "outputs": [
    {
     "data": {
      "text/plain": [
       "<AxesSubplot:>"
      ]
     },
     "execution_count": 106,
     "metadata": {},
     "output_type": "execute_result"
    },
    {
     "data": {
      "image/png": "[encoded data removed]",
      "text/plain": [
       "<Figure size 432x288 with 2 Axes>"
      ]
     },
     "metadata": {
      "needs_background": "light"
     },
     "output_type": "display_data"
    }
   ],
   "source": [
    "y_pred_HRD_8_best = predict(data_HRD_8, best_HRD_8_treshold)\n",
    "\n",
    "cm = confusion_matrix(y_true_cl, y_pred_HRD_8_best)\n",
    "df_cm = pd.DataFrame(cm, index=['Actual negative', 'Actual positive'], columns=['Predicted negative', 'Predicted positive'])\n",
    "\n",
    "sns.heatmap(df_cm, annot=True)"
   ]
  },
  {
   "cell_type": "code",
   "execution_count": 107,
   "id": "controlled-knock",
   "metadata": {},
   "outputs": [
    {
     "name": "stdout",
     "output_type": "stream",
     "text": [
      "Accuracy:  0.96875\n",
      "Precision:  0.8333333333333334\n",
      "Recall:  1.0\n"
     ]
    }
   ],
   "source": [
    "print_scores(y_true_cl, y_pred_HRD_8_best)"
   ]
  },
  {
   "cell_type": "markdown",
   "id": "enclosed-bearing",
   "metadata": {},
   "source": [
    "#### HRD s LST 7 Mb"
   ]
  },
  {
   "cell_type": "code",
   "execution_count": 108,
   "id": "unexpected-poker",
   "metadata": {},
   "outputs": [],
   "source": [
    "data_HRD_7 = inform_known_cl_response['HRD_7'].tolist()"
   ]
  },
  {
   "cell_type": "code",
   "execution_count": 109,
   "id": "intelligent-conditions",
   "metadata": {},
   "outputs": [
    {
     "data": {
      "text/plain": [
       "(45, 0.8333333333333333)"
      ]
     },
     "execution_count": 109,
     "metadata": {},
     "output_type": "execute_result"
    }
   ],
   "source": [
    "best_HRD_7_treshold, best_HRD_7_f1_score = find_best_treshold(data_HRD_7, y_true_cl, [x for x in range(45, 80)])\n",
    "\n",
    "best_HRD_7_treshold, best_HRD_7_f1_score"
   ]
  },
  {
   "cell_type": "code",
   "execution_count": 110,
   "id": "wound-isolation",
   "metadata": {},
   "outputs": [
    {
     "data": {
      "text/plain": [
       "<AxesSubplot:>"
      ]
     },
     "execution_count": 110,
     "metadata": {},
     "output_type": "execute_result"
    },
    {
     "data": {
      "image/png": "[encoded data removed]",
      "text/plain": [
       "<Figure size 432x288 with 2 Axes>"
      ]
     },
     "metadata": {
      "needs_background": "light"
     },
     "output_type": "display_data"
    }
   ],
   "source": [
    "y_pred_HRD_7_best = predict(data_HRD_7, best_HRD_7_treshold)\n",
    "\n",
    "cm = confusion_matrix(y_true_cl, y_pred_HRD_7_best)\n",
    "df_cm = pd.DataFrame(cm, index=['Actual negative', 'Actual positive'], columns=['Predicted negative', 'Predicted positive'])\n",
    "\n",
    "sns.heatmap(df_cm, annot=True)"
   ]
  },
  {
   "cell_type": "code",
   "execution_count": 111,
   "id": "positive-joseph",
   "metadata": {},
   "outputs": [
    {
     "name": "stdout",
     "output_type": "stream",
     "text": [
      "Accuracy:  0.9375\n",
      "Precision:  0.7142857142857143\n",
      "Recall:  1.0\n"
     ]
    }
   ],
   "source": [
    "print_scores(y_true_cl, y_pred_HRD_7_best)"
   ]
  },
  {
   "cell_type": "markdown",
   "id": "juvenile-format",
   "metadata": {},
   "source": [
    "#### HRD s LST 6 Mb"
   ]
  },
  {
   "cell_type": "code",
   "execution_count": 112,
   "id": "comprehensive-belief",
   "metadata": {},
   "outputs": [],
   "source": [
    "data_HRD_6 = inform_known_cl_response['HRD_6'].tolist()"
   ]
  },
  {
   "cell_type": "code",
   "execution_count": 113,
   "id": "reliable-eagle",
   "metadata": {},
   "outputs": [
    {
     "data": {
      "text/plain": [
       "(55, 0.8333333333333333)"
      ]
     },
     "execution_count": 113,
     "metadata": {},
     "output_type": "execute_result"
    }
   ],
   "source": [
    "best_HRD_6_treshold, best_HRD_6_f1_score = find_best_treshold(data_HRD_6, y_true_cl, [x for x in range(55, 95)])\n",
    "\n",
    "best_HRD_6_treshold, best_HRD_6_f1_score"
   ]
  },
  {
   "cell_type": "code",
   "execution_count": 114,
   "id": "simplified-senior",
   "metadata": {},
   "outputs": [
    {
     "data": {
      "text/plain": [
       "<AxesSubplot:>"
      ]
     },
     "execution_count": 114,
     "metadata": {},
     "output_type": "execute_result"
    },
    {
     "data": {
      "image/png": "[encoded data removed]",
      "text/plain": [
       "<Figure size 432x288 with 2 Axes>"
      ]
     },
     "metadata": {
      "needs_background": "light"
     },
     "output_type": "display_data"
    }
   ],
   "source": [
    "y_pred_HRD_6_best = predict(data_HRD_6, best_HRD_6_treshold)\n",
    "\n",
    "cm = confusion_matrix(y_true_cl, y_pred_HRD_6_best)\n",
    "df_cm = pd.DataFrame(cm, index=['Actual negative', 'Actual positive'], columns=['Predicted negative', 'Predicted positive'])\n",
    "\n",
    "sns.heatmap(df_cm, annot=True)"
   ]
  },
  {
   "cell_type": "code",
   "execution_count": 115,
   "id": "advanced-locking",
   "metadata": {},
   "outputs": [
    {
     "name": "stdout",
     "output_type": "stream",
     "text": [
      "Accuracy:  0.9375\n",
      "Precision:  0.7142857142857143\n",
      "Recall:  1.0\n"
     ]
    }
   ],
   "source": [
    "print_scores(y_true_cl, y_pred_HRD_6_best)"
   ]
  },
  {
   "cell_type": "markdown",
   "id": "corporate-jones",
   "metadata": {},
   "source": [
    "#### HRD s LST 5 Mb"
   ]
  },
  {
   "cell_type": "code",
   "execution_count": 116,
   "id": "convenient-dutch",
   "metadata": {},
   "outputs": [],
   "source": [
    "data_HRD_5 = inform_known_cl_response['HRD_5'].tolist()"
   ]
  },
  {
   "cell_type": "code",
   "execution_count": 117,
   "id": "tropical-portland",
   "metadata": {},
   "outputs": [
    {
     "data": {
      "text/plain": [
       "(67, 0.7692307692307693)"
      ]
     },
     "execution_count": 117,
     "metadata": {},
     "output_type": "execute_result"
    }
   ],
   "source": [
    "best_HRD_5_treshold, best_HRD_5_f1_score = find_best_treshold(data_HRD_5, y_true_cl, [x for x in range(65, 110)])\n",
    "\n",
    "best_HRD_5_treshold, best_HRD_5_f1_score"
   ]
  },
  {
   "cell_type": "code",
   "execution_count": 118,
   "id": "floral-pottery",
   "metadata": {},
   "outputs": [
    {
     "data": {
      "text/plain": [
       "<AxesSubplot:>"
      ]
     },
     "execution_count": 118,
     "metadata": {},
     "output_type": "execute_result"
    },
    {
     "data": {
      "image/png": "[encoded data removed]",
      "text/plain": [
       "<Figure size 432x288 with 2 Axes>"
      ]
     },
     "metadata": {
      "needs_background": "light"
     },
     "output_type": "display_data"
    }
   ],
   "source": [
    "y_pred_HRD_5_best = predict(data_HRD_5, best_HRD_5_treshold)\n",
    "\n",
    "cm = confusion_matrix(y_true_cl, y_pred_HRD_5_best)\n",
    "df_cm = pd.DataFrame(cm, index=['Actual negative', 'Actual positive'], columns=['Predicted negative', 'Predicted positive'])\n",
    "\n",
    "sns.heatmap(df_cm, annot=True)"
   ]
  },
  {
   "cell_type": "code",
   "execution_count": 119,
   "id": "amended-investigator",
   "metadata": {},
   "outputs": [
    {
     "name": "stdout",
     "output_type": "stream",
     "text": [
      "Accuracy:  0.90625\n",
      "Precision:  0.625\n",
      "Recall:  1.0\n"
     ]
    }
   ],
   "source": [
    "print_scores(y_true_cl, y_pred_HRD_5_best)"
   ]
  },
  {
   "cell_type": "markdown",
   "id": "upset-withdrawal",
   "metadata": {},
   "source": [
    "#### HRD s LST 4 Mb"
   ]
  },
  {
   "cell_type": "code",
   "execution_count": 120,
   "id": "subtle-hardwood",
   "metadata": {},
   "outputs": [],
   "source": [
    "data_HRD_4 = inform_known_cl_response['HRD_4'].tolist()"
   ]
  },
  {
   "cell_type": "code",
   "execution_count": 121,
   "id": "current-belgium",
   "metadata": {},
   "outputs": [
    {
     "data": {
      "text/plain": [
       "(102, 0.7272727272727272)"
      ]
     },
     "execution_count": 121,
     "metadata": {},
     "output_type": "execute_result"
    }
   ],
   "source": [
    "best_HRD_4_treshold, best_HRD_4_f1_score = find_best_treshold(data_HRD_4, y_true_cl, [x for x in range(80, 140)])\n",
    "\n",
    "best_HRD_4_treshold, best_HRD_4_f1_score"
   ]
  },
  {
   "cell_type": "code",
   "execution_count": 122,
   "id": "other-terminology",
   "metadata": {},
   "outputs": [
    {
     "data": {
      "text/plain": [
       "<AxesSubplot:>"
      ]
     },
     "execution_count": 122,
     "metadata": {},
     "output_type": "execute_result"
    },
    {
     "data": {
      "image/png": "[encoded data removed]",
      "text/plain": [
       "<Figure size 432x288 with 2 Axes>"
      ]
     },
     "metadata": {
      "needs_background": "light"
     },
     "output_type": "display_data"
    }
   ],
   "source": [
    "y_pred_HRD_4_best = predict(data_HRD_4, best_HRD_4_treshold)\n",
    "\n",
    "cm = confusion_matrix(y_true_cl, y_pred_HRD_4_best)\n",
    "df_cm = pd.DataFrame(cm, index=['Actual negative', 'Actual positive'], columns=['Predicted negative', 'Predicted positive'])\n",
    "\n",
    "sns.heatmap(df_cm, annot=True)"
   ]
  },
  {
   "cell_type": "code",
   "execution_count": 123,
   "id": "acute-classroom",
   "metadata": {},
   "outputs": [
    {
     "name": "stdout",
     "output_type": "stream",
     "text": [
      "Accuracy:  0.90625\n",
      "Precision:  0.6666666666666666\n",
      "Recall:  0.8\n"
     ]
    }
   ],
   "source": [
    "print_scores(y_true_cl, y_pred_HRD_4_best)"
   ]
  },
  {
   "cell_type": "markdown",
   "id": "indoor-jumping",
   "metadata": {},
   "source": [
    "#### HRD s LST 3 Mb"
   ]
  },
  {
   "cell_type": "code",
   "execution_count": 124,
   "id": "inappropriate-sleep",
   "metadata": {},
   "outputs": [],
   "source": [
    "data_HRD_3 = inform_known_cl_response['HRD_3'].tolist()"
   ]
  },
  {
   "cell_type": "code",
   "execution_count": 125,
   "id": "disturbed-diesel",
   "metadata": {},
   "outputs": [
    {
     "data": {
      "text/plain": [
       "(128, 0.7272727272727272)"
      ]
     },
     "execution_count": 125,
     "metadata": {},
     "output_type": "execute_result"
    }
   ],
   "source": [
    "best_HRD_3_treshold, best_HRD_3_f1_score = find_best_treshold(data_HRD_3, y_true_cl, [x for x in range(95, 190)])\n",
    "\n",
    "best_HRD_3_treshold, best_HRD_3_f1_score"
   ]
  },
  {
   "cell_type": "code",
   "execution_count": 126,
   "id": "sufficient-brain",
   "metadata": {},
   "outputs": [
    {
     "data": {
      "text/plain": [
       "<AxesSubplot:>"
      ]
     },
     "execution_count": 126,
     "metadata": {},
     "output_type": "execute_result"
    },
    {
     "data": {
      "image/png": "[encoded data removed]",
      "text/plain": [
       "<Figure size 432x288 with 2 Axes>"
      ]
     },
     "metadata": {
      "needs_background": "light"
     },
     "output_type": "display_data"
    }
   ],
   "source": [
    "y_pred_HRD_3_best = predict(data_HRD_3, best_HRD_3_treshold)\n",
    "\n",
    "cm = confusion_matrix(y_true_cl, y_pred_HRD_3_best)\n",
    "df_cm = pd.DataFrame(cm, index=['Actual negative', 'Actual positive'], columns=['Predicted negative', 'Predicted positive'])\n",
    "\n",
    "sns.heatmap(df_cm, annot=True)"
   ]
  },
  {
   "cell_type": "code",
   "execution_count": 127,
   "id": "progressive-discharge",
   "metadata": {},
   "outputs": [
    {
     "name": "stdout",
     "output_type": "stream",
     "text": [
      "Accuracy:  0.90625\n",
      "Precision:  0.6666666666666666\n",
      "Recall:  0.8\n"
     ]
    }
   ],
   "source": [
    "print_scores(y_true_cl, y_pred_HRD_3_best)"
   ]
  },
  {
   "cell_type": "markdown",
   "id": "primary-companion",
   "metadata": {},
   "source": [
    "Vyzerá, že kombinované skóre dosahuje lepšie výsledky ako LST. Najvyššie F1 skóre bolo dosiahnuté pri hodnote LST_SMb 8 Mb, veľmi dobré výsledky dosiahli aj hodnoty 6 a 7 Mb. Ostatné hodnoty dosiahli ale tiež uspokojivé aj keď o niečo slabšie výsledky. "
   ]
  },
  {
   "cell_type": "markdown",
   "id": "wireless-underground",
   "metadata": {},
   "source": [
    "#### LOH"
   ]
  },
  {
   "cell_type": "code",
   "execution_count": 128,
   "id": "convertible-headquarters",
   "metadata": {},
   "outputs": [],
   "source": [
    "data_LOH = inform_known_cl_response['LOH'].tolist()"
   ]
  },
  {
   "cell_type": "code",
   "execution_count": 129,
   "id": "understanding-candy",
   "metadata": {},
   "outputs": [
    {
     "data": {
      "text/plain": [
       "(9, 0.5714285714285715)"
      ]
     },
     "execution_count": 129,
     "metadata": {},
     "output_type": "execute_result"
    }
   ],
   "source": [
    "best_LOH_treshold, best_LOH_f1_score = find_best_treshold(data_LOH, y_true_cl, [x for x in range(0, 15)])\n",
    "\n",
    "best_LOH_treshold, best_LOH_f1_score"
   ]
  },
  {
   "cell_type": "code",
   "execution_count": 130,
   "id": "hairy-cemetery",
   "metadata": {},
   "outputs": [
    {
     "data": {
      "text/plain": [
       "<AxesSubplot:>"
      ]
     },
     "execution_count": 130,
     "metadata": {},
     "output_type": "execute_result"
    },
    {
     "data": {
      "image/png": "[encoded data removed]",
      "text/plain": [
       "<Figure size 432x288 with 2 Axes>"
      ]
     },
     "metadata": {
      "needs_background": "light"
     },
     "output_type": "display_data"
    }
   ],
   "source": [
    "y_pred_LOH_best = predict(data_LOH, best_LOH_treshold)\n",
    "\n",
    "cm = confusion_matrix(y_true_cl, y_pred_LOH_best)\n",
    "df_cm = pd.DataFrame(cm, index=['Actual negative', 'Actual positive'], columns=['Predicted negative', 'Predicted positive'])\n",
    "\n",
    "sns.heatmap(df_cm, annot=True)"
   ]
  },
  {
   "cell_type": "code",
   "execution_count": 131,
   "id": "brief-royalty",
   "metadata": {},
   "outputs": [
    {
     "name": "stdout",
     "output_type": "stream",
     "text": [
      "Accuracy:  0.90625\n",
      "Precision:  1.0\n",
      "Recall:  0.4\n"
     ]
    }
   ],
   "source": [
    "print_scores(y_true_cl, y_pred_LOH_best)"
   ]
  },
  {
   "cell_type": "markdown",
   "id": "according-observer",
   "metadata": {},
   "source": [
    "#### TAI"
   ]
  },
  {
   "cell_type": "code",
   "execution_count": 132,
   "id": "sharing-range",
   "metadata": {},
   "outputs": [],
   "source": [
    "data_TAI = inform_known_cl_response['TAI'].tolist()"
   ]
  },
  {
   "cell_type": "code",
   "execution_count": 133,
   "id": "active-hearts",
   "metadata": {},
   "outputs": [
    {
     "data": {
      "text/plain": [
       "(9, 0.5714285714285715)"
      ]
     },
     "execution_count": 133,
     "metadata": {},
     "output_type": "execute_result"
    }
   ],
   "source": [
    "best_TAI_treshold, best_TAI_f1_score = find_best_treshold(data_TAI, y_true_cl, [x for x in range(0, 15)])\n",
    "\n",
    "best_TAI_treshold, best_TAI_f1_score"
   ]
  },
  {
   "cell_type": "code",
   "execution_count": 134,
   "id": "understood-tuning",
   "metadata": {},
   "outputs": [
    {
     "data": {
      "text/plain": [
       "<AxesSubplot:>"
      ]
     },
     "execution_count": 134,
     "metadata": {},
     "output_type": "execute_result"
    },
    {
     "data": {
      "image/png": "[encoded data removed]",
      "text/plain": [
       "<Figure size 432x288 with 2 Axes>"
      ]
     },
     "metadata": {
      "needs_background": "light"
     },
     "output_type": "display_data"
    }
   ],
   "source": [
    "y_pred_TAI_best = predict(data_TAI, best_TAI_treshold)\n",
    "\n",
    "cm = confusion_matrix(y_true_cl, y_pred_TAI_best)\n",
    "df_cm = pd.DataFrame(cm, index=['Actual negative', 'Actual positive'], columns=['Predicted negative', 'Predicted positive'])\n",
    "\n",
    "sns.heatmap(df_cm, annot=True)"
   ]
  },
  {
   "cell_type": "code",
   "execution_count": 135,
   "id": "administrative-elimination",
   "metadata": {},
   "outputs": [
    {
     "name": "stdout",
     "output_type": "stream",
     "text": [
      "Accuracy:  0.90625\n",
      "Precision:  1.0\n",
      "Recall:  0.4\n"
     ]
    }
   ],
   "source": [
    "print_scores(y_true_cl, y_pred_TAI_best)"
   ]
  },
  {
   "cell_type": "markdown",
   "id": "aquatic-founder",
   "metadata": {},
   "source": [
    "Vyzerá, že TAI a LOH sú najslabšie klasifikátory pri samostatnom použití. Obidve metódy síce dokázali identifikovať všetky negatívne vzorky ale podarilo sa im zachytiť iba po dva pozitívne prípady."
   ]
  },
  {
   "cell_type": "markdown",
   "id": "north-cursor",
   "metadata": {},
   "source": [
    "### ROC analýza"
   ]
  },
  {
   "cell_type": "markdown",
   "id": "ready-black",
   "metadata": {},
   "source": [
    "#### LST 11 Mb"
   ]
  },
  {
   "cell_type": "markdown",
   "id": "amended-penetration",
   "metadata": {},
   "source": [
    "Pri každom algoritme musíme najprv preškálovať výstupné hodnoty do intervalu 0..1."
   ]
  },
  {
   "cell_type": "code",
   "execution_count": 136,
   "id": "protected-found",
   "metadata": {},
   "outputs": [],
   "source": [
    "data_LST_11_scaled = minmax_scale(data_LST_11)"
   ]
  },
  {
   "cell_type": "code",
   "execution_count": 137,
   "id": "regional-nursery",
   "metadata": {},
   "outputs": [
    {
     "data": {
      "text/plain": [
       "0.8"
      ]
     },
     "execution_count": 137,
     "metadata": {},
     "output_type": "execute_result"
    }
   ],
   "source": [
    "fpr, tpr, threshold = roc_curve(y_true_cl, data_LST_11_scaled)\n",
    "roc_auc = auc(fpr, tpr)\n",
    "\n",
    "roc_auc"
   ]
  },
  {
   "cell_type": "code",
   "execution_count": 138,
   "id": "going-target",
   "metadata": {},
   "outputs": [
    {
     "data": {
      "image/png": "[encoded data removed]",
      "text/plain": [
       "<Figure size 432x288 with 1 Axes>"
      ]
     },
     "metadata": {
      "needs_background": "light"
     },
     "output_type": "display_data"
    }
   ],
   "source": [
    "plot_roc_curve(fpr, tpr, roc_auc, 'LST 11')"
   ]
  },
  {
   "cell_type": "markdown",
   "id": "convinced-kinase",
   "metadata": {},
   "source": [
    "#### LST 10 Mb"
   ]
  },
  {
   "cell_type": "code",
   "execution_count": 139,
   "id": "recreational-premiere",
   "metadata": {},
   "outputs": [],
   "source": [
    "data_LST_10_scaled = minmax_scale(data_LST_10)"
   ]
  },
  {
   "cell_type": "code",
   "execution_count": 140,
   "id": "fundamental-grade",
   "metadata": {},
   "outputs": [
    {
     "data": {
      "text/plain": [
       "0.774074074074074"
      ]
     },
     "execution_count": 140,
     "metadata": {},
     "output_type": "execute_result"
    }
   ],
   "source": [
    "fpr, tpr, threshold = roc_curve(y_true_cl, data_LST_10_scaled)\n",
    "roc_auc = auc(fpr, tpr)\n",
    "\n",
    "roc_auc"
   ]
  },
  {
   "cell_type": "code",
   "execution_count": 141,
   "id": "atmospheric-investigator",
   "metadata": {},
   "outputs": [
    {
     "data": {
      "image/png": "[encoded data removed]",
      "text/plain": [
       "<Figure size 432x288 with 1 Axes>"
      ]
     },
     "metadata": {
      "needs_background": "light"
     },
     "output_type": "display_data"
    }
   ],
   "source": [
    "plot_roc_curve(fpr, tpr, roc_auc, 'LST 10')"
   ]
  },
  {
   "cell_type": "markdown",
   "id": "authentic-queensland",
   "metadata": {},
   "source": [
    "#### LST 9 Mb"
   ]
  },
  {
   "cell_type": "code",
   "execution_count": 142,
   "id": "overall-hollow",
   "metadata": {},
   "outputs": [],
   "source": [
    "data_LST_9_scaled = minmax_scale(data_LST_9)"
   ]
  },
  {
   "cell_type": "code",
   "execution_count": 143,
   "id": "wrapped-vermont",
   "metadata": {},
   "outputs": [
    {
     "data": {
      "text/plain": [
       "0.825925925925926"
      ]
     },
     "execution_count": 143,
     "metadata": {},
     "output_type": "execute_result"
    }
   ],
   "source": [
    "fpr, tpr, threshold = roc_curve(y_true_cl, data_LST_9_scaled)\n",
    "roc_auc = auc(fpr, tpr)\n",
    "\n",
    "roc_auc"
   ]
  },
  {
   "cell_type": "code",
   "execution_count": 144,
   "id": "occasional-container",
   "metadata": {},
   "outputs": [
    {
     "data": {
      "image/png": "[encoded data removed]",
      "text/plain": [
       "<Figure size 432x288 with 1 Axes>"
      ]
     },
     "metadata": {
      "needs_background": "light"
     },
     "output_type": "display_data"
    }
   ],
   "source": [
    "plot_roc_curve(fpr, tpr, roc_auc, 'LST 9')"
   ]
  },
  {
   "cell_type": "markdown",
   "id": "adapted-christianity",
   "metadata": {},
   "source": [
    "#### LST 8 Mb"
   ]
  },
  {
   "cell_type": "code",
   "execution_count": 145,
   "id": "educated-simon",
   "metadata": {},
   "outputs": [],
   "source": [
    "data_LST_8_scaled = minmax_scale(data_LST_8)"
   ]
  },
  {
   "cell_type": "code",
   "execution_count": 146,
   "id": "demanding-sunset",
   "metadata": {},
   "outputs": [
    {
     "data": {
      "text/plain": [
       "0.8481481481481482"
      ]
     },
     "execution_count": 146,
     "metadata": {},
     "output_type": "execute_result"
    }
   ],
   "source": [
    "fpr, tpr, threshold = roc_curve(y_true_cl, data_LST_8_scaled)\n",
    "roc_auc = auc(fpr, tpr)\n",
    "\n",
    "roc_auc"
   ]
  },
  {
   "cell_type": "code",
   "execution_count": 147,
   "id": "fitted-circle",
   "metadata": {},
   "outputs": [
    {
     "data": {
      "image/png": "[encoded data removed]",
      "text/plain": [
       "<Figure size 432x288 with 1 Axes>"
      ]
     },
     "metadata": {
      "needs_background": "light"
     },
     "output_type": "display_data"
    }
   ],
   "source": [
    "plot_roc_curve(fpr, tpr, roc_auc, 'LST 8')"
   ]
  },
  {
   "cell_type": "markdown",
   "id": "favorite-drunk",
   "metadata": {},
   "source": [
    "#### LST 7 Mb"
   ]
  },
  {
   "cell_type": "code",
   "execution_count": 148,
   "id": "accepted-tiffany",
   "metadata": {},
   "outputs": [],
   "source": [
    "data_LST_7_scaled = minmax_scale(data_LST_7)"
   ]
  },
  {
   "cell_type": "code",
   "execution_count": 149,
   "id": "retired-heating",
   "metadata": {},
   "outputs": [
    {
     "data": {
      "text/plain": [
       "0.8296296296296296"
      ]
     },
     "execution_count": 149,
     "metadata": {},
     "output_type": "execute_result"
    }
   ],
   "source": [
    "fpr, tpr, threshold = roc_curve(y_true_cl, data_LST_7_scaled)\n",
    "roc_auc = auc(fpr, tpr)\n",
    "\n",
    "roc_auc"
   ]
  },
  {
   "cell_type": "code",
   "execution_count": 150,
   "id": "great-hampton",
   "metadata": {},
   "outputs": [
    {
     "data": {
      "image/png": "[encoded data removed]",
      "text/plain": [
       "<Figure size 432x288 with 1 Axes>"
      ]
     },
     "metadata": {
      "needs_background": "light"
     },
     "output_type": "display_data"
    }
   ],
   "source": [
    "plot_roc_curve(fpr, tpr, roc_auc, 'LST 7')"
   ]
  },
  {
   "cell_type": "markdown",
   "id": "sustained-rolling",
   "metadata": {},
   "source": [
    "#### LST 6 Mb"
   ]
  },
  {
   "cell_type": "code",
   "execution_count": 151,
   "id": "medium-texture",
   "metadata": {},
   "outputs": [],
   "source": [
    "data_LST_6_scaled = minmax_scale(data_LST_6)"
   ]
  },
  {
   "cell_type": "code",
   "execution_count": 152,
   "id": "significant-subcommittee",
   "metadata": {},
   "outputs": [
    {
     "data": {
      "text/plain": [
       "0.8444444444444444"
      ]
     },
     "execution_count": 152,
     "metadata": {},
     "output_type": "execute_result"
    }
   ],
   "source": [
    "fpr, tpr, threshold = roc_curve(y_true_cl, data_LST_6_scaled)\n",
    "roc_auc = auc(fpr, tpr)\n",
    "\n",
    "roc_auc"
   ]
  },
  {
   "cell_type": "code",
   "execution_count": 153,
   "id": "falling-desktop",
   "metadata": {},
   "outputs": [
    {
     "data": {
      "image/png": "[encoded data removed]",
      "text/plain": [
       "<Figure size 432x288 with 1 Axes>"
      ]
     },
     "metadata": {
      "needs_background": "light"
     },
     "output_type": "display_data"
    }
   ],
   "source": [
    "plot_roc_curve(fpr, tpr, roc_auc, 'LST 6')"
   ]
  },
  {
   "cell_type": "markdown",
   "id": "crazy-blind",
   "metadata": {},
   "source": [
    "#### LST 5 Mb"
   ]
  },
  {
   "cell_type": "code",
   "execution_count": 154,
   "id": "spanish-bryan",
   "metadata": {},
   "outputs": [],
   "source": [
    "data_LST_5_scaled = minmax_scale(data_LST_5)"
   ]
  },
  {
   "cell_type": "code",
   "execution_count": 155,
   "id": "speaking-evans",
   "metadata": {},
   "outputs": [
    {
     "data": {
      "text/plain": [
       "0.8555555555555556"
      ]
     },
     "execution_count": 155,
     "metadata": {},
     "output_type": "execute_result"
    }
   ],
   "source": [
    "fpr, tpr, threshold = roc_curve(y_true_cl, data_LST_5_scaled)\n",
    "roc_auc = auc(fpr, tpr)\n",
    "\n",
    "roc_auc"
   ]
  },
  {
   "cell_type": "code",
   "execution_count": 156,
   "id": "irish-switzerland",
   "metadata": {},
   "outputs": [
    {
     "data": {
      "image/png": "[encoded data removed]",
      "text/plain": [
       "<Figure size 432x288 with 1 Axes>"
      ]
     },
     "metadata": {
      "needs_background": "light"
     },
     "output_type": "display_data"
    }
   ],
   "source": [
    "plot_roc_curve(fpr, tpr, roc_auc, 'LST 5')"
   ]
  },
  {
   "cell_type": "markdown",
   "id": "impressed-wheat",
   "metadata": {},
   "source": [
    "#### LST 4 Mb"
   ]
  },
  {
   "cell_type": "code",
   "execution_count": 157,
   "id": "improved-director",
   "metadata": {},
   "outputs": [],
   "source": [
    "data_LST_4_scaled = minmax_scale(data_LST_4)"
   ]
  },
  {
   "cell_type": "code",
   "execution_count": 158,
   "id": "possible-raise",
   "metadata": {},
   "outputs": [
    {
     "data": {
      "text/plain": [
       "0.8851851851851852"
      ]
     },
     "execution_count": 158,
     "metadata": {},
     "output_type": "execute_result"
    }
   ],
   "source": [
    "fpr, tpr, threshold = roc_curve(y_true_cl, data_LST_4_scaled)\n",
    "roc_auc = auc(fpr, tpr)\n",
    "\n",
    "roc_auc"
   ]
  },
  {
   "cell_type": "code",
   "execution_count": 159,
   "id": "leading-blues",
   "metadata": {},
   "outputs": [
    {
     "data": {
      "image/png": "[encoded data removed]",
      "text/plain": [
       "<Figure size 432x288 with 1 Axes>"
      ]
     },
     "metadata": {
      "needs_background": "light"
     },
     "output_type": "display_data"
    }
   ],
   "source": [
    "plot_roc_curve(fpr, tpr, roc_auc, 'LST 4')"
   ]
  },
  {
   "cell_type": "markdown",
   "id": "compatible-latter",
   "metadata": {},
   "source": [
    "#### LST 3 Mb"
   ]
  },
  {
   "cell_type": "code",
   "execution_count": 160,
   "id": "parliamentary-methodology",
   "metadata": {},
   "outputs": [],
   "source": [
    "data_LST_3_scaled = minmax_scale(data_LST_3)"
   ]
  },
  {
   "cell_type": "code",
   "execution_count": 161,
   "id": "speaking-receptor",
   "metadata": {},
   "outputs": [
    {
     "data": {
      "text/plain": [
       "0.8777777777777778"
      ]
     },
     "execution_count": 161,
     "metadata": {},
     "output_type": "execute_result"
    }
   ],
   "source": [
    "fpr, tpr, threshold = roc_curve(y_true_cl, data_LST_3_scaled)\n",
    "roc_auc = auc(fpr, tpr)\n",
    "\n",
    "roc_auc"
   ]
  },
  {
   "cell_type": "code",
   "execution_count": 162,
   "id": "naughty-botswana",
   "metadata": {},
   "outputs": [
    {
     "data": {
      "image/png": "[encoded data removed]",
      "text/plain": [
       "<Figure size 432x288 with 1 Axes>"
      ]
     },
     "metadata": {
      "needs_background": "light"
     },
     "output_type": "display_data"
    }
   ],
   "source": [
    "plot_roc_curve(fpr, tpr, roc_auc, 'LST 3')"
   ]
  },
  {
   "cell_type": "markdown",
   "id": "ultimate-geology",
   "metadata": {},
   "source": [
    "Najvyššie AUC skóre bolo dosiahnuté pri hodnote parametra 4 Mb, najnižšie pri hodnote 10 Mb. "
   ]
  },
  {
   "cell_type": "markdown",
   "id": "political-special",
   "metadata": {},
   "source": [
    "#### HRD 11 Mb"
   ]
  },
  {
   "cell_type": "code",
   "execution_count": 163,
   "id": "polar-excess",
   "metadata": {},
   "outputs": [],
   "source": [
    "data_HRD_11_scaled = minmax_scale(data_HRD_11)"
   ]
  },
  {
   "cell_type": "code",
   "execution_count": 164,
   "id": "sharing-hartford",
   "metadata": {},
   "outputs": [
    {
     "data": {
      "text/plain": [
       "0.9259259259259259"
      ]
     },
     "execution_count": 164,
     "metadata": {},
     "output_type": "execute_result"
    }
   ],
   "source": [
    "fpr, tpr, threshold = roc_curve(y_true_cl, data_HRD_11_scaled)\n",
    "roc_auc = auc(fpr, tpr)\n",
    "\n",
    "roc_auc"
   ]
  },
  {
   "cell_type": "code",
   "execution_count": 165,
   "id": "female-earthquake",
   "metadata": {},
   "outputs": [
    {
     "data": {
      "image/png": "[encoded data removed]",
      "text/plain": [
       "<Figure size 432x288 with 1 Axes>"
      ]
     },
     "metadata": {
      "needs_background": "light"
     },
     "output_type": "display_data"
    }
   ],
   "source": [
    "plot_roc_curve(fpr, tpr, roc_auc, 'HRD 11')"
   ]
  },
  {
   "cell_type": "markdown",
   "id": "instructional-thompson",
   "metadata": {},
   "source": [
    "#### HRD 10 Mb"
   ]
  },
  {
   "cell_type": "code",
   "execution_count": 166,
   "id": "champion-watch",
   "metadata": {},
   "outputs": [],
   "source": [
    "data_HRD_10_scaled = minmax_scale(data_HRD_10)"
   ]
  },
  {
   "cell_type": "code",
   "execution_count": 167,
   "id": "parallel-terry",
   "metadata": {},
   "outputs": [
    {
     "data": {
      "text/plain": [
       "0.9"
      ]
     },
     "execution_count": 167,
     "metadata": {},
     "output_type": "execute_result"
    }
   ],
   "source": [
    "fpr, tpr, threshold = roc_curve(y_true_cl, data_HRD_10_scaled)\n",
    "roc_auc = auc(fpr, tpr)\n",
    "\n",
    "roc_auc"
   ]
  },
  {
   "cell_type": "code",
   "execution_count": 168,
   "id": "quarterly-force",
   "metadata": {},
   "outputs": [
    {
     "data": {
      "image/png": "[encoded data removed]",
      "text/plain": [
       "<Figure size 432x288 with 1 Axes>"
      ]
     },
     "metadata": {
      "needs_background": "light"
     },
     "output_type": "display_data"
    }
   ],
   "source": [
    "plot_roc_curve(fpr, tpr, roc_auc, 'HRD 10')"
   ]
  },
  {
   "cell_type": "markdown",
   "id": "chinese-journey",
   "metadata": {},
   "source": [
    "#### HRD 9 Mb"
   ]
  },
  {
   "cell_type": "code",
   "execution_count": 169,
   "id": "polish-darkness",
   "metadata": {},
   "outputs": [],
   "source": [
    "data_HRD_9_scaled = minmax_scale(data_HRD_9)"
   ]
  },
  {
   "cell_type": "code",
   "execution_count": 170,
   "id": "taken-appreciation",
   "metadata": {},
   "outputs": [
    {
     "data": {
      "text/plain": [
       "0.9407407407407408"
      ]
     },
     "execution_count": 170,
     "metadata": {},
     "output_type": "execute_result"
    }
   ],
   "source": [
    "fpr, tpr, threshold = roc_curve(y_true_cl, data_HRD_9_scaled)\n",
    "roc_auc = auc(fpr, tpr)\n",
    "\n",
    "roc_auc"
   ]
  },
  {
   "cell_type": "code",
   "execution_count": 171,
   "id": "instructional-discussion",
   "metadata": {},
   "outputs": [
    {
     "data": {
      "image/png": "[encoded data removed]",
      "text/plain": [
       "<Figure size 432x288 with 1 Axes>"
      ]
     },
     "metadata": {
      "needs_background": "light"
     },
     "output_type": "display_data"
    }
   ],
   "source": [
    "plot_roc_curve(fpr, tpr, roc_auc, 'HRD 9')"
   ]
  },
  {
   "cell_type": "markdown",
   "id": "friendly-membrane",
   "metadata": {},
   "source": [
    "#### HRD 8 Mb"
   ]
  },
  {
   "cell_type": "code",
   "execution_count": 172,
   "id": "dutch-budget",
   "metadata": {},
   "outputs": [],
   "source": [
    "data_HRD_8_scaled = minmax_scale(data_HRD_8)"
   ]
  },
  {
   "cell_type": "code",
   "execution_count": 173,
   "id": "cooperative-campus",
   "metadata": {},
   "outputs": [
    {
     "data": {
      "text/plain": [
       "0.9703703703703703"
      ]
     },
     "execution_count": 173,
     "metadata": {},
     "output_type": "execute_result"
    }
   ],
   "source": [
    "fpr, tpr, threshold = roc_curve(y_true_cl, data_HRD_8_scaled)\n",
    "roc_auc = auc(fpr, tpr)\n",
    "\n",
    "roc_auc"
   ]
  },
  {
   "cell_type": "code",
   "execution_count": 174,
   "id": "billion-stomach",
   "metadata": {},
   "outputs": [
    {
     "data": {
      "image/png": "[encoded data removed]",
      "text/plain": [
       "<Figure size 432x288 with 1 Axes>"
      ]
     },
     "metadata": {
      "needs_background": "light"
     },
     "output_type": "display_data"
    }
   ],
   "source": [
    "plot_roc_curve(fpr, tpr, roc_auc, 'HRD 8')"
   ]
  },
  {
   "cell_type": "markdown",
   "id": "alone-shuttle",
   "metadata": {},
   "source": [
    "#### HRD 7 Mb"
   ]
  },
  {
   "cell_type": "code",
   "execution_count": 175,
   "id": "nutritional-belarus",
   "metadata": {},
   "outputs": [],
   "source": [
    "data_HRD_7_scaled = minmax_scale(data_HRD_7)"
   ]
  },
  {
   "cell_type": "code",
   "execution_count": 176,
   "id": "intimate-newton",
   "metadata": {},
   "outputs": [
    {
     "data": {
      "text/plain": [
       "0.9666666666666667"
      ]
     },
     "execution_count": 176,
     "metadata": {},
     "output_type": "execute_result"
    }
   ],
   "source": [
    "fpr, tpr, threshold = roc_curve(y_true_cl, data_HRD_7_scaled)\n",
    "roc_auc = auc(fpr, tpr)\n",
    "\n",
    "roc_auc"
   ]
  },
  {
   "cell_type": "code",
   "execution_count": 177,
   "id": "advisory-default",
   "metadata": {},
   "outputs": [
    {
     "data": {
      "image/png": "[encoded data removed]",
      "text/plain": [
       "<Figure size 432x288 with 1 Axes>"
      ]
     },
     "metadata": {
      "needs_background": "light"
     },
     "output_type": "display_data"
    }
   ],
   "source": [
    "plot_roc_curve(fpr, tpr, roc_auc, 'HRD 7')"
   ]
  },
  {
   "cell_type": "markdown",
   "id": "killing-shift",
   "metadata": {},
   "source": [
    "#### HRD 6 Mb"
   ]
  },
  {
   "cell_type": "code",
   "execution_count": 178,
   "id": "southern-console",
   "metadata": {},
   "outputs": [],
   "source": [
    "data_HRD_6_scaled = minmax_scale(data_HRD_6)"
   ]
  },
  {
   "cell_type": "code",
   "execution_count": 179,
   "id": "rocky-voice",
   "metadata": {},
   "outputs": [
    {
     "data": {
      "text/plain": [
       "0.9666666666666667"
      ]
     },
     "execution_count": 179,
     "metadata": {},
     "output_type": "execute_result"
    }
   ],
   "source": [
    "fpr, tpr, threshold = roc_curve(y_true_cl, data_HRD_6_scaled)\n",
    "roc_auc = auc(fpr, tpr)\n",
    "\n",
    "roc_auc"
   ]
  },
  {
   "cell_type": "code",
   "execution_count": 180,
   "id": "photographic-heritage",
   "metadata": {},
   "outputs": [
    {
     "data": {
      "image/png": "[encoded data removed]",
      "text/plain": [
       "<Figure size 432x288 with 1 Axes>"
      ]
     },
     "metadata": {
      "needs_background": "light"
     },
     "output_type": "display_data"
    }
   ],
   "source": [
    "plot_roc_curve(fpr, tpr, roc_auc, 'HRD 6')"
   ]
  },
  {
   "cell_type": "markdown",
   "id": "spare-adapter",
   "metadata": {},
   "source": [
    "#### HRD 5 Mb"
   ]
  },
  {
   "cell_type": "code",
   "execution_count": 181,
   "id": "appreciated-reserve",
   "metadata": {},
   "outputs": [],
   "source": [
    "data_HRD_5_scaled = minmax_scale(data_HRD_5)"
   ]
  },
  {
   "cell_type": "code",
   "execution_count": 182,
   "id": "present-earthquake",
   "metadata": {},
   "outputs": [
    {
     "data": {
      "text/plain": [
       "0.9296296296296296"
      ]
     },
     "execution_count": 182,
     "metadata": {},
     "output_type": "execute_result"
    }
   ],
   "source": [
    "fpr, tpr, threshold = roc_curve(y_true_cl, data_HRD_5_scaled)\n",
    "roc_auc = auc(fpr, tpr)\n",
    "\n",
    "roc_auc"
   ]
  },
  {
   "cell_type": "code",
   "execution_count": 183,
   "id": "revised-onion",
   "metadata": {},
   "outputs": [
    {
     "data": {
      "image/png": "[encoded data removed]",
      "text/plain": [
       "<Figure size 432x288 with 1 Axes>"
      ]
     },
     "metadata": {
      "needs_background": "light"
     },
     "output_type": "display_data"
    }
   ],
   "source": [
    "plot_roc_curve(fpr, tpr, roc_auc, 'HRD 5')"
   ]
  },
  {
   "cell_type": "markdown",
   "id": "economic-exception",
   "metadata": {},
   "source": [
    "#### HRD 4 Mb"
   ]
  },
  {
   "cell_type": "code",
   "execution_count": 184,
   "id": "noted-watts",
   "metadata": {},
   "outputs": [],
   "source": [
    "data_HRD_4_scaled = minmax_scale(data_HRD_4)"
   ]
  },
  {
   "cell_type": "code",
   "execution_count": 185,
   "id": "touched-senate",
   "metadata": {},
   "outputs": [
    {
     "data": {
      "text/plain": [
       "0.9185185185185185"
      ]
     },
     "execution_count": 185,
     "metadata": {},
     "output_type": "execute_result"
    }
   ],
   "source": [
    "fpr, tpr, threshold = roc_curve(y_true_cl, data_HRD_4_scaled)\n",
    "roc_auc = auc(fpr, tpr)\n",
    "\n",
    "roc_auc"
   ]
  },
  {
   "cell_type": "code",
   "execution_count": 186,
   "id": "adult-attempt",
   "metadata": {},
   "outputs": [
    {
     "data": {
      "image/png": "[encoded data removed]",
      "text/plain": [
       "<Figure size 432x288 with 1 Axes>"
      ]
     },
     "metadata": {
      "needs_background": "light"
     },
     "output_type": "display_data"
    }
   ],
   "source": [
    "plot_roc_curve(fpr, tpr, roc_auc, 'HRD 4')"
   ]
  },
  {
   "cell_type": "markdown",
   "id": "political-reference",
   "metadata": {},
   "source": [
    "#### HRD 3 Mb"
   ]
  },
  {
   "cell_type": "code",
   "execution_count": 187,
   "id": "prospective-madison",
   "metadata": {},
   "outputs": [],
   "source": [
    "data_HRD_3_scaled = minmax_scale(data_HRD_3)"
   ]
  },
  {
   "cell_type": "code",
   "execution_count": 188,
   "id": "republican-aquatic",
   "metadata": {},
   "outputs": [
    {
     "data": {
      "text/plain": [
       "0.9148148148148147"
      ]
     },
     "execution_count": 188,
     "metadata": {},
     "output_type": "execute_result"
    }
   ],
   "source": [
    "fpr, tpr, threshold = roc_curve(y_true_cl, data_HRD_3_scaled)\n",
    "roc_auc = auc(fpr, tpr)\n",
    "\n",
    "roc_auc"
   ]
  },
  {
   "cell_type": "code",
   "execution_count": 189,
   "id": "based-bottom",
   "metadata": {},
   "outputs": [
    {
     "data": {
      "image/png": "[encoded data removed]",
      "text/plain": [
       "<Figure size 432x288 with 1 Axes>"
      ]
     },
     "metadata": {
      "needs_background": "light"
     },
     "output_type": "display_data"
    }
   ],
   "source": [
    "plot_roc_curve(fpr, tpr, roc_auc, 'HRD 3')"
   ]
  },
  {
   "cell_type": "markdown",
   "id": "american-native",
   "metadata": {},
   "source": [
    "Aj pri ROC analýze sa javí byť kombinované skóre lepší klasifikátor ako samotné LST. Najvyššia hodnota AUC bola dosiahnutá pri hodnote parametra 8 Mb, zanedbateľne nižšie AUC  dosiahli hodnoty 6 a 7 Mb."
   ]
  },
  {
   "cell_type": "markdown",
   "id": "adjustable-bridges",
   "metadata": {},
   "source": [
    "#### LOH"
   ]
  },
  {
   "cell_type": "code",
   "execution_count": 190,
   "id": "looking-banks",
   "metadata": {},
   "outputs": [],
   "source": [
    "data_LOH_scaled = minmax_scale(data_LOH)"
   ]
  },
  {
   "cell_type": "code",
   "execution_count": 191,
   "id": "activated-mountain",
   "metadata": {},
   "outputs": [
    {
     "data": {
      "text/plain": [
       "0.7037037037037038"
      ]
     },
     "execution_count": 191,
     "metadata": {},
     "output_type": "execute_result"
    }
   ],
   "source": [
    "fpr, tpr, threshold = roc_curve(y_true_cl, data_LOH_scaled)\n",
    "roc_auc = auc(fpr, tpr)\n",
    "\n",
    "roc_auc"
   ]
  },
  {
   "cell_type": "code",
   "execution_count": 192,
   "id": "controlling-judgment",
   "metadata": {},
   "outputs": [
    {
     "data": {
      "image/png": "[encoded data removed]",
      "text/plain": [
       "<Figure size 432x288 with 1 Axes>"
      ]
     },
     "metadata": {
      "needs_background": "light"
     },
     "output_type": "display_data"
    }
   ],
   "source": [
    "plot_roc_curve(fpr, tpr, roc_auc, 'LOH')"
   ]
  },
  {
   "cell_type": "markdown",
   "id": "normal-survey",
   "metadata": {},
   "source": [
    "#### TAI"
   ]
  },
  {
   "cell_type": "code",
   "execution_count": 193,
   "id": "statutory-lewis",
   "metadata": {},
   "outputs": [],
   "source": [
    "data_TAI_scaled = minmax_scale(data_TAI)"
   ]
  },
  {
   "cell_type": "code",
   "execution_count": 194,
   "id": "indian-deficit",
   "metadata": {},
   "outputs": [
    {
     "data": {
      "text/plain": [
       "0.7259259259259259"
      ]
     },
     "execution_count": 194,
     "metadata": {},
     "output_type": "execute_result"
    }
   ],
   "source": [
    "fpr, tpr, threshold = roc_curve(y_true_cl, data_TAI_scaled)\n",
    "roc_auc = auc(fpr, tpr)\n",
    "\n",
    "roc_auc"
   ]
  },
  {
   "cell_type": "code",
   "execution_count": 195,
   "id": "above-queue",
   "metadata": {},
   "outputs": [
    {
     "data": {
      "image/png": "[encoded data removed]",
      "text/plain": [
       "<Figure size 432x288 with 1 Axes>"
      ]
     },
     "metadata": {
      "needs_background": "light"
     },
     "output_type": "display_data"
    }
   ],
   "source": [
    "plot_roc_curve(fpr, tpr, roc_auc, 'TAI')"
   ]
  },
  {
   "cell_type": "markdown",
   "id": "worldwide-labor",
   "metadata": {},
   "source": [
    "Opäť vyzerá, že LOH a TAI sú najslabšie klasifikátory."
   ]
  }
 ],
 "metadata": {
  "kernelspec": {
   "display_name": "Python 3",
   "language": "python",
   "name": "python3"
  },
  "language_info": {
   "codemirror_mode": {
    "name": "ipython",
    "version": 3
   },
   "file_extension": ".py",
   "mimetype": "text/x-python",
   "name": "python",
   "nbconvert_exporter": "python",
   "pygments_lexer": "ipython3",
   "version": "3.8.5"
  }
 },
 "nbformat": 4,
 "nbformat_minor": 5
}
