{
 "cells": [
  {
   "cell_type": "code",
   "execution_count": 1,
   "id": "immediate-westminster",
   "metadata": {},
   "outputs": [],
   "source": [
    "import sys\n",
    "\n",
    "sys.path.insert(0, '../')\n",
    "\n",
    "from modules.hrd import HRD"
   ]
  },
  {
   "cell_type": "markdown",
   "id": "sudden-notification",
   "metadata": {},
   "source": [
    "## LST"
   ]
  },
  {
   "cell_type": "markdown",
   "id": "graduate-thought",
   "metadata": {},
   "source": [
    "### Test 1"
   ]
  },
  {
   "cell_type": "markdown",
   "id": "joint-thumbnail",
   "metadata": {},
   "source": [
    "Základný test na jednom ramene. Testujem coercing."
   ]
  },
  {
   "cell_type": "code",
   "execution_count": 2,
   "id": "marked-inventory",
   "metadata": {},
   "outputs": [],
   "source": [
    "hrd_test = HRD('../datasets/tests/lst_test_1.txt')\n",
    "\n",
    "lst_test_1, dna_index = hrd_test.test_lst(LST_SMb=11)\n",
    "\n",
    "assert lst_test_1 == 1"
   ]
  },
  {
   "cell_type": "markdown",
   "id": "sensitive-brooklyn",
   "metadata": {},
   "source": [
    "### Test 2"
   ]
  },
  {
   "cell_type": "markdown",
   "id": "empirical-welsh",
   "metadata": {},
   "source": [
    "Test na jednom ramene. Testujem coercing a dopĺňanie segmentov s CN 2."
   ]
  },
  {
   "cell_type": "code",
   "execution_count": 3,
   "id": "broken-diagnosis",
   "metadata": {},
   "outputs": [],
   "source": [
    "hrd_test = HRD('../datasets/tests/lst_test_2.txt')\n",
    "\n",
    "lst_test_2, dna_index = hrd_test.test_lst(LST_SMb=11)\n",
    "\n",
    "assert lst_test_2 == 2"
   ]
  },
  {
   "cell_type": "markdown",
   "id": "scenic-interference",
   "metadata": {},
   "source": [
    "### Test 3"
   ]
  },
  {
   "cell_type": "markdown",
   "id": "recorded-reality",
   "metadata": {},
   "source": [
    "Test na jednom ramene. Testujem coercing, dopĺňanie segmentov a orezanie segmentu, čo končí v centromére."
   ]
  },
  {
   "cell_type": "code",
   "execution_count": 4,
   "id": "gentle-history",
   "metadata": {},
   "outputs": [],
   "source": [
    "hrd_test = HRD('../datasets/tests/lst_test_3.txt')\n",
    "\n",
    "lst_test_3, dna_index = hrd_test.test_lst(LST_SMb=11)\n",
    "\n",
    "assert lst_test_3 == 1"
   ]
  },
  {
   "cell_type": "markdown",
   "id": "demanding-necessity",
   "metadata": {},
   "source": [
    "### Test 4"
   ]
  },
  {
   "cell_type": "markdown",
   "id": "possible-distribution",
   "metadata": {},
   "source": [
    "Testujem orezanie segmentu, čo začína v centromére."
   ]
  },
  {
   "cell_type": "code",
   "execution_count": 5,
   "id": "linear-samuel",
   "metadata": {},
   "outputs": [],
   "source": [
    "hrd_test = HRD('../datasets/tests/lst_test_4.txt')\n",
    "\n",
    "lst_test_4, dna_index = hrd_test.test_lst(LST_SMb=11)\n",
    "\n",
    "assert lst_test_4 == 0"
   ]
  },
  {
   "cell_type": "markdown",
   "id": "relevant-madonna",
   "metadata": {},
   "source": [
    "### Test 5"
   ]
  },
  {
   "cell_type": "markdown",
   "id": "indie-fighter",
   "metadata": {},
   "source": [
    "Testujem orezanie segmentu, čo presahuje centroméru z oboch strán."
   ]
  },
  {
   "cell_type": "code",
   "execution_count": 6,
   "id": "daily-egypt",
   "metadata": {},
   "outputs": [],
   "source": [
    "hrd_test = HRD('../datasets/tests/lst_test_5.txt')\n",
    "\n",
    "lst_test_5, dna_index = hrd_test.test_lst(LST_SMb=11)\n",
    "\n",
    "assert lst_test_5 == 0"
   ]
  },
  {
   "cell_type": "markdown",
   "id": "magnetic-anderson",
   "metadata": {},
   "source": [
    "### Test 6"
   ]
  },
  {
   "cell_type": "markdown",
   "id": "opened-bahrain",
   "metadata": {},
   "source": [
    "Testujem orezanie segmentu, čo sa celý nachádza v centromére a orezanie susedných segmentov, čo z časti zasahujú do centroméry."
   ]
  },
  {
   "cell_type": "code",
   "execution_count": 7,
   "id": "framed-jordan",
   "metadata": {},
   "outputs": [],
   "source": [
    "hrd_test = HRD('../datasets/tests/lst_test_6.txt')\n",
    "\n",
    "lst_test_6, dna_index = hrd_test.test_lst(LST_SMb=11)\n",
    "\n",
    "assert lst_test_6 == 0"
   ]
  },
  {
   "cell_type": "markdown",
   "id": "noble-pantyhose",
   "metadata": {},
   "source": [
    "### Test 7"
   ]
  },
  {
   "cell_type": "markdown",
   "id": "announced-rubber",
   "metadata": {},
   "source": [
    "Test na dvoch ramenách. Komplexný test."
   ]
  },
  {
   "cell_type": "code",
   "execution_count": 8,
   "id": "overhead-electric",
   "metadata": {},
   "outputs": [],
   "source": [
    "hrd_test = HRD('../datasets/tests/lst_test_7.txt')\n",
    "\n",
    "lst_test_7, dna_index = hrd_test.test_lst(LST_SMb=11)\n",
    "\n",
    "assert lst_test_7 == 2"
   ]
  },
  {
   "cell_type": "markdown",
   "id": "severe-amendment",
   "metadata": {},
   "source": [
    "### Test 8"
   ]
  },
  {
   "cell_type": "markdown",
   "id": "facial-quantum",
   "metadata": {},
   "source": [
    "Test na dvoch ramenách. Komplexný test č. 2."
   ]
  },
  {
   "cell_type": "code",
   "execution_count": 9,
   "id": "healthy-penalty",
   "metadata": {},
   "outputs": [],
   "source": [
    "hrd_test = HRD('../datasets/tests/lst_test_8.txt')\n",
    "\n",
    "lst_test_8, dna_index = hrd_test.test_lst(LST_SMb=11)\n",
    "\n",
    "assert lst_test_8 == 2"
   ]
  },
  {
   "cell_type": "markdown",
   "id": "dramatic-explosion",
   "metadata": {},
   "source": [
    "### Test 9"
   ]
  },
  {
   "cell_type": "markdown",
   "id": "welsh-rugby",
   "metadata": {},
   "source": [
    "Test na dvoch chromozómoch. Komplexný test."
   ]
  },
  {
   "cell_type": "code",
   "execution_count": 10,
   "id": "separated-conflict",
   "metadata": {},
   "outputs": [],
   "source": [
    "hrd_test = HRD('../datasets/tests/lst_test_9.txt')\n",
    "\n",
    "lst_test_9, dna_index = hrd_test.test_lst(LST_SMb=11)\n",
    "\n",
    "assert lst_test_9 == 4"
   ]
  },
  {
   "cell_type": "markdown",
   "id": "inside-brother",
   "metadata": {},
   "source": [
    "## TAI"
   ]
  },
  {
   "cell_type": "markdown",
   "id": "suspended-martial",
   "metadata": {},
   "source": [
    "### Test 1"
   ]
  },
  {
   "cell_type": "markdown",
   "id": "numeric-individual",
   "metadata": {},
   "source": [
    "Testujem či zaráta dlhý segment čo začína v začiatočnej a končí v konečnej telomére iba raz."
   ]
  },
  {
   "cell_type": "code",
   "execution_count": 11,
   "id": "norman-mission",
   "metadata": {},
   "outputs": [],
   "source": [
    "hrd_test = HRD('../datasets/tests/tai_test_1.txt')\n",
    "\n",
    "tai_test_1 = hrd_test.test_tai()\n",
    "\n",
    "assert tai_test_1 == 1"
   ]
  },
  {
   "cell_type": "markdown",
   "id": "perceived-version",
   "metadata": {},
   "source": [
    "### Test 2"
   ]
  },
  {
   "cell_type": "markdown",
   "id": "alleged-ground",
   "metadata": {},
   "source": [
    "Základný test. Jeden segment začína v začiatočnej telomére, druhý končí v koncovej."
   ]
  },
  {
   "cell_type": "code",
   "execution_count": 12,
   "id": "dimensional-stress",
   "metadata": {},
   "outputs": [],
   "source": [
    "hrd_test = HRD('../datasets/tests/tai_test_2.txt')\n",
    "\n",
    "tai_test_2 = hrd_test.test_tai()\n",
    "\n",
    "assert tai_test_2 == 2"
   ]
  },
  {
   "cell_type": "markdown",
   "id": "handy-determination",
   "metadata": {},
   "source": [
    "### Test 3"
   ]
  },
  {
   "cell_type": "markdown",
   "id": "hungry-melbourne",
   "metadata": {},
   "source": [
    "Základný test. Jeden segment začína aj končí v začiatočnej telomére, druhý začína aj končí v koncovej."
   ]
  },
  {
   "cell_type": "code",
   "execution_count": 13,
   "id": "demanding-transportation",
   "metadata": {},
   "outputs": [],
   "source": [
    "hrd_test = HRD('../datasets/tests/tai_test_3.txt')\n",
    "\n",
    "tai_test_3 = hrd_test.test_tai()\n",
    "\n",
    "assert tai_test_3 == 2"
   ]
  },
  {
   "cell_type": "markdown",
   "id": "neutral-bleeding",
   "metadata": {},
   "source": [
    "### Test 4"
   ]
  },
  {
   "cell_type": "markdown",
   "id": "clean-beatles",
   "metadata": {},
   "source": [
    "Základný test. Testujem, či nezapočíta segment mimo telomér."
   ]
  },
  {
   "cell_type": "code",
   "execution_count": 14,
   "id": "corrected-tobacco",
   "metadata": {},
   "outputs": [],
   "source": [
    "hrd_test = HRD('../datasets/tests/tai_test_4.txt')\n",
    "\n",
    "tai_test_4 = hrd_test.test_tai()\n",
    "\n",
    "assert tai_test_4 == 0"
   ]
  },
  {
   "cell_type": "markdown",
   "id": "supreme-cattle",
   "metadata": {},
   "source": [
    "## LOH"
   ]
  },
  {
   "cell_type": "markdown",
   "id": "affecting-being",
   "metadata": {},
   "source": [
    "### Test 1"
   ]
  },
  {
   "cell_type": "markdown",
   "id": "known-bennett",
   "metadata": {},
   "source": [
    "Základný test. Testujem, AI aj LOH segmenty s dĺžkou > 15 Mb."
   ]
  },
  {
   "cell_type": "code",
   "execution_count": 15,
   "id": "verified-relevance",
   "metadata": {},
   "outputs": [],
   "source": [
    "hrd_test = HRD('../datasets/tests/loh_test_1.txt')\n",
    "\n",
    "loh_test_1 = hrd_test.test_loh()\n",
    "\n",
    "assert loh_test_1 == 2"
   ]
  },
  {
   "cell_type": "markdown",
   "id": "facial-flashing",
   "metadata": {},
   "source": [
    "### Test 2"
   ]
  },
  {
   "cell_type": "markdown",
   "id": "noted-kitty",
   "metadata": {},
   "source": [
    "Základný test. Testujem či započíta LOH segment s dĺžkou rovnou dĺžke chromozómu."
   ]
  },
  {
   "cell_type": "code",
   "execution_count": 16,
   "id": "broken-variable",
   "metadata": {},
   "outputs": [],
   "source": [
    "hrd_test = HRD('../datasets/tests/loh_test_2.txt')\n",
    "\n",
    "loh_test_2 = hrd_test.test_loh()\n",
    "\n",
    "assert loh_test_2 == 0"
   ]
  },
  {
   "cell_type": "markdown",
   "id": "north-testing",
   "metadata": {},
   "source": [
    "### Test 3"
   ]
  },
  {
   "cell_type": "markdown",
   "id": "alternate-density",
   "metadata": {},
   "source": [
    "Základný test. Testujem či započíta LOH segment s dĺžkou < 15 Mb."
   ]
  },
  {
   "cell_type": "code",
   "execution_count": 17,
   "id": "egyptian-keyboard",
   "metadata": {},
   "outputs": [],
   "source": [
    "hrd_test = HRD('../datasets/tests/loh_test_3.txt')\n",
    "\n",
    "loh_test_3 = hrd_test.test_loh()\n",
    "\n",
    "assert loh_test_3 == 0"
   ]
  }
 ],
 "metadata": {
  "kernelspec": {
   "display_name": "Python 3",
   "language": "python",
   "name": "python3"
  },
  "language_info": {
   "codemirror_mode": {
    "name": "ipython",
    "version": 3
   },
   "file_extension": ".py",
   "mimetype": "text/x-python",
   "name": "python",
   "nbconvert_exporter": "python",
   "pygments_lexer": "ipython3",
   "version": "3.8.5"
  }
 },
 "nbformat": 4,
 "nbformat_minor": 5
}
