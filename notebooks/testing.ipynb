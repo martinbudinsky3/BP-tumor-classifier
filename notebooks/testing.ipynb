{
 "cells": [
  {
   "cell_type": "code",
   "execution_count": 1,
   "id": "brown-regulation",
   "metadata": {},
   "outputs": [],
   "source": [
    "import pandas as pd"
   ]
  },
  {
   "cell_type": "code",
   "execution_count": 2,
   "id": "young-democracy",
   "metadata": {},
   "outputs": [],
   "source": [
    "import sys\n",
    "\n",
    "sys.path.insert(0, '../')\n",
    "\n",
    "from hrdtools.hrd import HRD"
   ]
  },
  {
   "cell_type": "markdown",
   "id": "cardiac-commonwealth",
   "metadata": {},
   "source": [
    "## LST"
   ]
  },
  {
   "cell_type": "markdown",
   "id": "satisfactory-welsh",
   "metadata": {},
   "source": [
    "### Test 1"
   ]
  },
  {
   "cell_type": "markdown",
   "id": "lovely-honor",
   "metadata": {},
   "source": [
    "Základný test na jednom ramene. Testujem coercing."
   ]
  },
  {
   "cell_type": "code",
   "execution_count": 3,
   "id": "likely-purpose",
   "metadata": {},
   "outputs": [],
   "source": [
    "hrd_test = HRD('../data/tests/lst_test_1.txt')\n",
    "\n",
    "lst_test_1, dna_index = hrd_test.test_lst(LST_SMb=11)\n",
    "\n",
    "assert lst_test_1 == 1"
   ]
  },
  {
   "cell_type": "markdown",
   "id": "proprietary-building",
   "metadata": {},
   "source": [
    "### Test 2"
   ]
  },
  {
   "cell_type": "markdown",
   "id": "julian-motor",
   "metadata": {},
   "source": [
    "Test na jednom ramene. Testujem coercing a dopĺňanie segmentov s CN 2."
   ]
  },
  {
   "cell_type": "code",
   "execution_count": 4,
   "id": "applicable-trinidad",
   "metadata": {},
   "outputs": [],
   "source": [
    "hrd_test = HRD('../data/tests/lst_test_2.txt')\n",
    "\n",
    "lst_test_2, dna_index = hrd_test.test_lst(LST_SMb=11)\n",
    "\n",
    "assert lst_test_2 == 2"
   ]
  },
  {
   "cell_type": "markdown",
   "id": "insured-champion",
   "metadata": {},
   "source": [
    "### Test 3"
   ]
  },
  {
   "cell_type": "markdown",
   "id": "prepared-warren",
   "metadata": {},
   "source": [
    "Test na jednom ramene. Testujem coercing, dopĺňanie segmentov a orezanie segmentu, čo končí v centromére."
   ]
  },
  {
   "cell_type": "code",
   "execution_count": 5,
   "id": "automatic-decade",
   "metadata": {},
   "outputs": [],
   "source": [
    "hrd_test = HRD('../data/tests/lst_test_3.txt')\n",
    "\n",
    "lst_test_3, dna_index = hrd_test.test_lst(LST_SMb=11)\n",
    "\n",
    "assert lst_test_3 == 1"
   ]
  },
  {
   "cell_type": "markdown",
   "id": "touched-curve",
   "metadata": {},
   "source": [
    "### Test 4"
   ]
  },
  {
   "cell_type": "markdown",
   "id": "electric-credits",
   "metadata": {},
   "source": [
    "Testujem orezanie segmentu, čo začína v centromére."
   ]
  },
  {
   "cell_type": "code",
   "execution_count": 6,
   "id": "worst-attack",
   "metadata": {},
   "outputs": [],
   "source": [
    "hrd_test = HRD('../data/tests/lst_test_4.txt')\n",
    "\n",
    "lst_test_4, dna_index = hrd_test.test_lst(LST_SMb=11)\n",
    "\n",
    "assert lst_test_4 == 0"
   ]
  },
  {
   "cell_type": "markdown",
   "id": "sharp-assault",
   "metadata": {},
   "source": [
    "### Test 5"
   ]
  },
  {
   "cell_type": "markdown",
   "id": "above-geology",
   "metadata": {},
   "source": [
    "Testujem orezanie segmentu, čo presahuje centroméru z oboch strán."
   ]
  },
  {
   "cell_type": "code",
   "execution_count": 7,
   "id": "strong-island",
   "metadata": {},
   "outputs": [],
   "source": [
    "hrd_test = HRD('../data/tests/lst_test_5.txt')\n",
    "\n",
    "lst_test_5, dna_index = hrd_test.test_lst(LST_SMb=11)\n",
    "\n",
    "assert lst_test_5 == 0"
   ]
  },
  {
   "cell_type": "markdown",
   "id": "aging-contest",
   "metadata": {},
   "source": [
    "### Test 6"
   ]
  },
  {
   "cell_type": "markdown",
   "id": "mounted-supervisor",
   "metadata": {},
   "source": [
    "Testujem orezanie segmentu, čo sa celý nachádza v centromére a orezanie susedných segmentov, čo z časti zasahujú do centroméry."
   ]
  },
  {
   "cell_type": "code",
   "execution_count": 8,
   "id": "afraid-failure",
   "metadata": {},
   "outputs": [],
   "source": [
    "hrd_test = HRD('../data/tests/lst_test_6.txt')\n",
    "\n",
    "lst_test_6, dna_index = hrd_test.test_lst(LST_SMb=11)\n",
    "\n",
    "assert lst_test_6 == 0"
   ]
  },
  {
   "cell_type": "markdown",
   "id": "metallic-professional",
   "metadata": {},
   "source": [
    "### Test 7"
   ]
  },
  {
   "cell_type": "markdown",
   "id": "classical-configuration",
   "metadata": {},
   "source": [
    "Test na dvoch ramenách. Komplexný test."
   ]
  },
  {
   "cell_type": "code",
   "execution_count": 9,
   "id": "cardiac-granny",
   "metadata": {},
   "outputs": [],
   "source": [
    "hrd_test = HRD('../data/tests/lst_test_7.txt')\n",
    "\n",
    "lst_test_7, dna_index = hrd_test.test_lst(LST_SMb=11)\n",
    "\n",
    "assert lst_test_7 == 2"
   ]
  },
  {
   "cell_type": "markdown",
   "id": "effective-publisher",
   "metadata": {},
   "source": [
    "### Test 8"
   ]
  },
  {
   "cell_type": "markdown",
   "id": "textile-aruba",
   "metadata": {},
   "source": [
    "Test na dvoch ramenách. Komplexný test č. 2."
   ]
  },
  {
   "cell_type": "code",
   "execution_count": 10,
   "id": "beautiful-serial",
   "metadata": {},
   "outputs": [],
   "source": [
    "hrd_test = HRD('../data/tests/lst_test_8.txt')\n",
    "\n",
    "lst_test_8, dna_index = hrd_test.test_lst(LST_SMb=11)\n",
    "\n",
    "assert lst_test_8 == 2"
   ]
  },
  {
   "cell_type": "markdown",
   "id": "strong-envelope",
   "metadata": {},
   "source": [
    "### Test 9"
   ]
  },
  {
   "cell_type": "markdown",
   "id": "eastern-toyota",
   "metadata": {},
   "source": [
    "Test na dvoch chromozómoch. Komplexný test."
   ]
  },
  {
   "cell_type": "code",
   "execution_count": 11,
   "id": "afraid-shepherd",
   "metadata": {},
   "outputs": [],
   "source": [
    "hrd_test = HRD('../data/tests/lst_test_9.txt')\n",
    "\n",
    "lst_test_9, dna_index = hrd_test.test_lst(LST_SMb=11)\n",
    "\n",
    "assert lst_test_9 == 4"
   ]
  },
  {
   "cell_type": "markdown",
   "id": "vocational-rocket",
   "metadata": {},
   "source": [
    "## TAI"
   ]
  },
  {
   "cell_type": "markdown",
   "id": "cardiovascular-vision",
   "metadata": {},
   "source": [
    "### Test 1"
   ]
  },
  {
   "cell_type": "markdown",
   "id": "documented-mount",
   "metadata": {},
   "source": [
    "Testujem či nezaráta dlhý segment čo začína v telomére a presahuje centroméru."
   ]
  },
  {
   "cell_type": "code",
   "execution_count": 12,
   "id": "further-status",
   "metadata": {},
   "outputs": [],
   "source": [
    "hrd_test = HRD('../data/tests/tai_test_1.txt')\n",
    "\n",
    "tai_test_1 = hrd_test.test_tai()\n",
    "\n",
    "assert tai_test_1 == 0"
   ]
  },
  {
   "cell_type": "markdown",
   "id": "veterinary-leisure",
   "metadata": {},
   "source": [
    "### Test 2"
   ]
  },
  {
   "cell_type": "markdown",
   "id": "vanilla-cornwall",
   "metadata": {},
   "source": [
    "Základný test. Jeden segment začína v začiatočnej telomére, druhý končí v koncovej."
   ]
  },
  {
   "cell_type": "code",
   "execution_count": 13,
   "id": "bound-judges",
   "metadata": {},
   "outputs": [],
   "source": [
    "hrd_test = HRD('../data/tests/tai_test_2.txt')\n",
    "\n",
    "tai_test_2 = hrd_test.test_tai()\n",
    "\n",
    "assert tai_test_2 == 2"
   ]
  },
  {
   "cell_type": "markdown",
   "id": "early-default",
   "metadata": {},
   "source": [
    "### Test 3"
   ]
  },
  {
   "cell_type": "markdown",
   "id": "pursuant-casting",
   "metadata": {},
   "source": [
    "Základný test. Jeden segment začína aj končí v začiatočnej telomére, druhý začína aj končí v koncovej."
   ]
  },
  {
   "cell_type": "code",
   "execution_count": 14,
   "id": "common-meeting",
   "metadata": {},
   "outputs": [],
   "source": [
    "hrd_test = HRD('../data/tests/tai_test_3.txt')\n",
    "\n",
    "tai_test_3 = hrd_test.test_tai()\n",
    "\n",
    "assert tai_test_3 == 2"
   ]
  },
  {
   "cell_type": "markdown",
   "id": "extreme-algeria",
   "metadata": {},
   "source": [
    "### Test 4"
   ]
  },
  {
   "cell_type": "markdown",
   "id": "hungarian-republic",
   "metadata": {},
   "source": [
    "Základný test. Testujem, či nezapočíta segment mimo telomér."
   ]
  },
  {
   "cell_type": "code",
   "execution_count": 15,
   "id": "patient-mixture",
   "metadata": {},
   "outputs": [],
   "source": [
    "hrd_test = HRD('../data/tests/tai_test_4.txt')\n",
    "\n",
    "tai_test_4 = hrd_test.test_tai()\n",
    "\n",
    "assert tai_test_4 == 0"
   ]
  },
  {
   "cell_type": "markdown",
   "id": "altered-grounds",
   "metadata": {},
   "source": [
    "### Test 5"
   ]
  },
  {
   "cell_type": "markdown",
   "id": "convinced-summit",
   "metadata": {},
   "source": [
    "Základný test. Testujem, či nezapočíta segment čo končí v telomére ale presahuje centroméru a či započíta segment čo začína v telomére a končí na hranici centroméry."
   ]
  },
  {
   "cell_type": "code",
   "execution_count": 16,
   "id": "joined-point",
   "metadata": {},
   "outputs": [],
   "source": [
    "hrd_test = HRD('../data/tests/tai_test_5.txt')\n",
    "\n",
    "tai_test_5 = hrd_test.test_tai()\n",
    "\n",
    "assert tai_test_5 == 1"
   ]
  },
  {
   "cell_type": "markdown",
   "id": "medieval-progressive",
   "metadata": {},
   "source": [
    "### Test 6"
   ]
  },
  {
   "cell_type": "markdown",
   "id": "eight-fight",
   "metadata": {},
   "source": [
    "Základný test. Testujem, či započíta segment čo končí v telomére a začína na hranici centroméry a či nezapočíta segment čo začína v telomére a presahuje centroméru."
   ]
  },
  {
   "cell_type": "code",
   "execution_count": 17,
   "id": "ranging-rider",
   "metadata": {},
   "outputs": [],
   "source": [
    "hrd_test = HRD('../data/tests/tai_test_6.txt')\n",
    "\n",
    "tai_test_6 = hrd_test.test_tai()\n",
    "\n",
    "assert tai_test_6 == 1"
   ]
  },
  {
   "cell_type": "markdown",
   "id": "touched-alpha",
   "metadata": {},
   "source": [
    "## LOH"
   ]
  },
  {
   "cell_type": "markdown",
   "id": "racial-presentation",
   "metadata": {},
   "source": [
    "### Test 1"
   ]
  },
  {
   "cell_type": "markdown",
   "id": "norman-college",
   "metadata": {},
   "source": [
    "Základný test. Testujem, AI aj LOH segmenty s dĺžkou > 15 Mb."
   ]
  },
  {
   "cell_type": "code",
   "execution_count": 18,
   "id": "opponent-television",
   "metadata": {},
   "outputs": [],
   "source": [
    "hrd_test = HRD('../data/tests/loh_test_1.txt')\n",
    "\n",
    "loh_test_1 = hrd_test.test_loh()\n",
    "\n",
    "assert loh_test_1 == 2"
   ]
  },
  {
   "cell_type": "markdown",
   "id": "equal-precipitation",
   "metadata": {},
   "source": [
    "### Test 2"
   ]
  },
  {
   "cell_type": "markdown",
   "id": "welcome-promise",
   "metadata": {},
   "source": [
    "Základný test. Testujem či započíta LOH segment s dĺžkou rovnou dĺžke chromozómu."
   ]
  },
  {
   "cell_type": "code",
   "execution_count": 19,
   "id": "applied-papua",
   "metadata": {},
   "outputs": [],
   "source": [
    "hrd_test = HRD('../data/tests/loh_test_2.txt')\n",
    "\n",
    "loh_test_2 = hrd_test.test_loh()\n",
    "\n",
    "assert loh_test_2 == 0"
   ]
  },
  {
   "cell_type": "markdown",
   "id": "union-philosophy",
   "metadata": {},
   "source": [
    "### Test 3"
   ]
  },
  {
   "cell_type": "markdown",
   "id": "forbidden-league",
   "metadata": {},
   "source": [
    "Základný test. Testujem či započíta LOH segment s dĺžkou < 15 Mb."
   ]
  },
  {
   "cell_type": "code",
   "execution_count": 20,
   "id": "thorough-vacation",
   "metadata": {},
   "outputs": [],
   "source": [
    "hrd_test = HRD('../data/tests/loh_test_3.txt')\n",
    "\n",
    "loh_test_3 = hrd_test.test_loh()\n",
    "\n",
    "assert loh_test_3 == 0"
   ]
  },
  {
   "cell_type": "markdown",
   "id": "certified-islam",
   "metadata": {},
   "source": [
    "### Test 4"
   ]
  },
  {
   "cell_type": "markdown",
   "id": "marine-elder",
   "metadata": {},
   "source": [
    "Základný test. Testujem či nezapočíta LOH segmenty s dĺžkou > 15 Mb, ktoré končia resp. začínajú na hranici centroméry, keď algoritmus nepočíta s centromérou."
   ]
  },
  {
   "cell_type": "code",
   "execution_count": 21,
   "id": "utility-sector",
   "metadata": {},
   "outputs": [],
   "source": [
    "hrd_test = HRD('../data/tests/loh_test_4.txt')\n",
    "\n",
    "loh_test_4 = hrd_test.test_loh(with_centromere=False)\n",
    "\n",
    "assert loh_test_4 == 0"
   ]
  },
  {
   "cell_type": "markdown",
   "id": "assumed-temperature",
   "metadata": {},
   "source": [
    "### Test 5"
   ]
  },
  {
   "cell_type": "markdown",
   "id": "royal-correlation",
   "metadata": {},
   "source": [
    "Základný test. Testujem či započíta LOH segmenty s dĺžkou > 15 Mb, ktoré končia resp. začínajú tesne pred resp. za centromérou, , keď algoritmus nepočíta s centromérou."
   ]
  },
  {
   "cell_type": "code",
   "execution_count": 22,
   "id": "transsexual-campbell",
   "metadata": {},
   "outputs": [],
   "source": [
    "hrd_test = HRD('../data/tests/loh_test_5.txt')\n",
    "\n",
    "loh_test_5 = hrd_test.test_loh(with_centromere=False)\n",
    "\n",
    "assert loh_test_5 == 2"
   ]
  }
 ],
 "metadata": {
  "kernelspec": {
   "display_name": "Python 3",
   "language": "python",
   "name": "python3"
  },
  "language_info": {
   "codemirror_mode": {
    "name": "ipython",
    "version": 3
   },
   "file_extension": ".py",
   "mimetype": "text/x-python",
   "name": "python",
   "nbconvert_exporter": "python",
   "pygments_lexer": "ipython3",
   "version": "3.8.5"
  }
 },
 "nbformat": 4,
 "nbformat_minor": 5
}
