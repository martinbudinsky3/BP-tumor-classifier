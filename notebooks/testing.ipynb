{
 "cells": [
  {
   "cell_type": "code",
   "execution_count": 18,
   "id": "expanded-invite",
   "metadata": {},
   "outputs": [],
   "source": [
    "import sys\n",
    "\n",
    "sys.path.insert(0, '../')\n",
    "\n",
    "from hrdtools.hrd import HRD"
   ]
  },
  {
   "cell_type": "markdown",
   "id": "allied-sharp",
   "metadata": {},
   "source": [
    "## LST"
   ]
  },
  {
   "cell_type": "markdown",
   "id": "governmental-premises",
   "metadata": {},
   "source": [
    "### Test 1"
   ]
  },
  {
   "cell_type": "markdown",
   "id": "palestinian-brass",
   "metadata": {},
   "source": [
    "Základný test na jednom ramene. Testujem coercing."
   ]
  },
  {
   "cell_type": "code",
   "execution_count": 2,
   "id": "responsible-melbourne",
   "metadata": {},
   "outputs": [],
   "source": [
    "hrd_test = HRD('../data/tests/lst_test_1.txt')\n",
    "\n",
    "lst_test_1, dna_index = hrd_test.test_lst(LST_SMb=11)\n",
    "\n",
    "assert lst_test_1 == 1"
   ]
  },
  {
   "cell_type": "markdown",
   "id": "restricted-donna",
   "metadata": {},
   "source": [
    "### Test 2"
   ]
  },
  {
   "cell_type": "markdown",
   "id": "governing-research",
   "metadata": {},
   "source": [
    "Test na jednom ramene. Testujem coercing a dopĺňanie segmentov s CN 2."
   ]
  },
  {
   "cell_type": "code",
   "execution_count": 3,
   "id": "raising-oliver",
   "metadata": {},
   "outputs": [],
   "source": [
    "hrd_test = HRD('../data/tests/lst_test_2.txt')\n",
    "\n",
    "lst_test_2, dna_index = hrd_test.test_lst(LST_SMb=11)\n",
    "\n",
    "assert lst_test_2 == 2"
   ]
  },
  {
   "cell_type": "markdown",
   "id": "streaming-design",
   "metadata": {},
   "source": [
    "### Test 3"
   ]
  },
  {
   "cell_type": "markdown",
   "id": "polished-wallpaper",
   "metadata": {},
   "source": [
    "Test na jednom ramene. Testujem coercing, dopĺňanie segmentov a orezanie segmentu, čo končí v centromére."
   ]
  },
  {
   "cell_type": "code",
   "execution_count": 4,
   "id": "furnished-alloy",
   "metadata": {},
   "outputs": [],
   "source": [
    "hrd_test = HRD('../data/tests/lst_test_3.txt')\n",
    "\n",
    "lst_test_3, dna_index = hrd_test.test_lst(LST_SMb=11)\n",
    "\n",
    "assert lst_test_3 == 1"
   ]
  },
  {
   "cell_type": "markdown",
   "id": "phantom-format",
   "metadata": {},
   "source": [
    "### Test 4"
   ]
  },
  {
   "cell_type": "markdown",
   "id": "effective-paris",
   "metadata": {},
   "source": [
    "Testujem orezanie segmentu, čo začína v centromére."
   ]
  },
  {
   "cell_type": "code",
   "execution_count": 5,
   "id": "attractive-month",
   "metadata": {},
   "outputs": [],
   "source": [
    "hrd_test = HRD('../data/tests/lst_test_4.txt')\n",
    "\n",
    "lst_test_4, dna_index = hrd_test.test_lst(LST_SMb=11)\n",
    "\n",
    "assert lst_test_4 == 0"
   ]
  },
  {
   "cell_type": "markdown",
   "id": "infrared-offense",
   "metadata": {},
   "source": [
    "### Test 5"
   ]
  },
  {
   "cell_type": "markdown",
   "id": "flying-programmer",
   "metadata": {},
   "source": [
    "Testujem orezanie segmentu, čo presahuje centroméru z oboch strán."
   ]
  },
  {
   "cell_type": "code",
   "execution_count": 6,
   "id": "historical-female",
   "metadata": {},
   "outputs": [],
   "source": [
    "hrd_test = HRD('../data/tests/lst_test_5.txt')\n",
    "\n",
    "lst_test_5, dna_index = hrd_test.test_lst(LST_SMb=11)\n",
    "\n",
    "assert lst_test_5 == 0"
   ]
  },
  {
   "cell_type": "markdown",
   "id": "linear-helicopter",
   "metadata": {},
   "source": [
    "### Test 6"
   ]
  },
  {
   "cell_type": "markdown",
   "id": "dutch-credit",
   "metadata": {},
   "source": [
    "Testujem orezanie segmentu, čo sa celý nachádza v centromére a orezanie susedných segmentov, čo z časti zasahujú do centroméry."
   ]
  },
  {
   "cell_type": "code",
   "execution_count": 7,
   "id": "alternative-greensboro",
   "metadata": {},
   "outputs": [],
   "source": [
    "hrd_test = HRD('../data/tests/lst_test_6.txt')\n",
    "\n",
    "lst_test_6, dna_index = hrd_test.test_lst(LST_SMb=11)\n",
    "\n",
    "assert lst_test_6 == 0"
   ]
  },
  {
   "cell_type": "markdown",
   "id": "adaptive-reset",
   "metadata": {},
   "source": [
    "### Test 7"
   ]
  },
  {
   "cell_type": "markdown",
   "id": "interesting-warrior",
   "metadata": {},
   "source": [
    "Test na dvoch ramenách. Komplexný test."
   ]
  },
  {
   "cell_type": "code",
   "execution_count": 8,
   "id": "obvious-agent",
   "metadata": {},
   "outputs": [],
   "source": [
    "hrd_test = HRD('../data/tests/lst_test_7.txt')\n",
    "\n",
    "lst_test_7, dna_index = hrd_test.test_lst(LST_SMb=11)\n",
    "\n",
    "assert lst_test_7 == 2"
   ]
  },
  {
   "cell_type": "markdown",
   "id": "premier-choice",
   "metadata": {},
   "source": [
    "### Test 8"
   ]
  },
  {
   "cell_type": "markdown",
   "id": "medical-philip",
   "metadata": {},
   "source": [
    "Test na dvoch ramenách. Komplexný test č. 2."
   ]
  },
  {
   "cell_type": "code",
   "execution_count": 9,
   "id": "elect-doctrine",
   "metadata": {},
   "outputs": [],
   "source": [
    "hrd_test = HRD('../data/tests/lst_test_8.txt')\n",
    "\n",
    "lst_test_8, dna_index = hrd_test.test_lst(LST_SMb=11)\n",
    "\n",
    "assert lst_test_8 == 2"
   ]
  },
  {
   "cell_type": "markdown",
   "id": "victorian-acquisition",
   "metadata": {},
   "source": [
    "### Test 9"
   ]
  },
  {
   "cell_type": "markdown",
   "id": "universal-vancouver",
   "metadata": {},
   "source": [
    "Test na dvoch chromozómoch. Komplexný test."
   ]
  },
  {
   "cell_type": "code",
   "execution_count": 10,
   "id": "stopped-primary",
   "metadata": {},
   "outputs": [],
   "source": [
    "hrd_test = HRD('../data/tests/lst_test_9.txt')\n",
    "\n",
    "lst_test_9, dna_index = hrd_test.test_lst(LST_SMb=11)\n",
    "\n",
    "assert lst_test_9 == 4"
   ]
  },
  {
   "cell_type": "markdown",
   "id": "proprietary-amendment",
   "metadata": {},
   "source": [
    "## TAI"
   ]
  },
  {
   "cell_type": "markdown",
   "id": "outdoor-luxury",
   "metadata": {},
   "source": [
    "### Test 1"
   ]
  },
  {
   "cell_type": "markdown",
   "id": "complete-evanescence",
   "metadata": {},
   "source": [
    "Testujem či zaráta dlhý segment čo začína v začiatočnej a končí v konečnej telomére iba raz."
   ]
  },
  {
   "cell_type": "code",
   "execution_count": 11,
   "id": "artificial-adapter",
   "metadata": {},
   "outputs": [],
   "source": [
    "hrd_test = HRD('../data/tests/tai_test_1.txt')\n",
    "\n",
    "tai_test_1 = hrd_test.test_tai()\n",
    "\n",
    "assert tai_test_1 == 1"
   ]
  },
  {
   "cell_type": "markdown",
   "id": "missing-effect",
   "metadata": {},
   "source": [
    "### Test 2"
   ]
  },
  {
   "cell_type": "markdown",
   "id": "exact-request",
   "metadata": {},
   "source": [
    "Základný test. Jeden segment začína v začiatočnej telomére, druhý končí v koncovej."
   ]
  },
  {
   "cell_type": "code",
   "execution_count": 12,
   "id": "designed-checklist",
   "metadata": {},
   "outputs": [],
   "source": [
    "hrd_test = HRD('../data/tests/tai_test_2.txt')\n",
    "\n",
    "tai_test_2 = hrd_test.test_tai()\n",
    "\n",
    "assert tai_test_2 == 2"
   ]
  },
  {
   "cell_type": "markdown",
   "id": "powerful-reduction",
   "metadata": {},
   "source": [
    "### Test 3"
   ]
  },
  {
   "cell_type": "markdown",
   "id": "advanced-cotton",
   "metadata": {},
   "source": [
    "Základný test. Jeden segment začína aj končí v začiatočnej telomére, druhý začína aj končí v koncovej."
   ]
  },
  {
   "cell_type": "code",
   "execution_count": 13,
   "id": "south-belfast",
   "metadata": {},
   "outputs": [],
   "source": [
    "hrd_test = HRD('../data/tests/tai_test_3.txt')\n",
    "\n",
    "tai_test_3 = hrd_test.test_tai()\n",
    "\n",
    "assert tai_test_3 == 2"
   ]
  },
  {
   "cell_type": "markdown",
   "id": "champion-nightmare",
   "metadata": {},
   "source": [
    "### Test 4"
   ]
  },
  {
   "cell_type": "markdown",
   "id": "whole-evolution",
   "metadata": {},
   "source": [
    "Základný test. Testujem, či nezapočíta segment mimo telomér."
   ]
  },
  {
   "cell_type": "code",
   "execution_count": 14,
   "id": "stunning-honey",
   "metadata": {},
   "outputs": [],
   "source": [
    "hrd_test = HRD('../data/tests/tai_test_4.txt')\n",
    "\n",
    "tai_test_4 = hrd_test.test_tai()\n",
    "\n",
    "assert tai_test_4 == 0"
   ]
  },
  {
   "cell_type": "markdown",
   "id": "thorough-prompt",
   "metadata": {},
   "source": [
    "## LOH"
   ]
  },
  {
   "cell_type": "markdown",
   "id": "regular-spectrum",
   "metadata": {},
   "source": [
    "### Test 1"
   ]
  },
  {
   "cell_type": "markdown",
   "id": "irish-lawyer",
   "metadata": {},
   "source": [
    "Základný test. Testujem, AI aj LOH segmenty s dĺžkou > 15 Mb."
   ]
  },
  {
   "cell_type": "code",
   "execution_count": 15,
   "id": "supreme-trunk",
   "metadata": {},
   "outputs": [],
   "source": [
    "hrd_test = HRD('../data/tests/loh_test_1.txt')\n",
    "\n",
    "loh_test_1 = hrd_test.test_loh()\n",
    "\n",
    "assert loh_test_1 == 2"
   ]
  },
  {
   "cell_type": "markdown",
   "id": "administrative-communist",
   "metadata": {},
   "source": [
    "### Test 2"
   ]
  },
  {
   "cell_type": "markdown",
   "id": "anticipated-luxury",
   "metadata": {},
   "source": [
    "Základný test. Testujem či započíta LOH segment s dĺžkou rovnou dĺžke chromozómu."
   ]
  },
  {
   "cell_type": "code",
   "execution_count": 16,
   "id": "cognitive-morris",
   "metadata": {},
   "outputs": [],
   "source": [
    "hrd_test = HRD('../data/tests/loh_test_2.txt')\n",
    "\n",
    "loh_test_2 = hrd_test.test_loh()\n",
    "\n",
    "assert loh_test_2 == 0"
   ]
  },
  {
   "cell_type": "markdown",
   "id": "arranged-cherry",
   "metadata": {},
   "source": [
    "### Test 3"
   ]
  },
  {
   "cell_type": "markdown",
   "id": "confused-airline",
   "metadata": {},
   "source": [
    "Základný test. Testujem či započíta LOH segment s dĺžkou < 15 Mb."
   ]
  },
  {
   "cell_type": "code",
   "execution_count": 17,
   "id": "prospective-detroit",
   "metadata": {},
   "outputs": [],
   "source": [
    "hrd_test = HRD('../data/tests/loh_test_3.txt')\n",
    "\n",
    "loh_test_3 = hrd_test.test_loh()\n",
    "\n",
    "assert loh_test_3 == 0"
   ]
  }
 ],
 "metadata": {
  "kernelspec": {
   "display_name": "Python 3",
   "language": "python",
   "name": "python3"
  },
  "language_info": {
   "codemirror_mode": {
    "name": "ipython",
    "version": 3
   },
   "file_extension": ".py",
   "mimetype": "text/x-python",
   "name": "python",
   "nbconvert_exporter": "python",
   "pygments_lexer": "ipython3",
   "version": "3.8.5"
  }
 },
 "nbformat": 4,
 "nbformat_minor": 5
}
