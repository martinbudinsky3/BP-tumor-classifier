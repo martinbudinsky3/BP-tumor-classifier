{
 "cells": [
  {
   "cell_type": "code",
   "execution_count": 1,
   "id": "qualified-multiple",
   "metadata": {},
   "outputs": [],
   "source": [
    "import pandas as pd"
   ]
  },
  {
   "cell_type": "code",
   "execution_count": 2,
   "id": "devoted-frame",
   "metadata": {},
   "outputs": [],
   "source": [
    "import sys\n",
    "\n",
    "sys.path.insert(0, '../')\n",
    "\n",
    "from hrdtools.hrd import HRD"
   ]
  },
  {
   "cell_type": "markdown",
   "id": "resistant-domain",
   "metadata": {},
   "source": [
    "## LST"
   ]
  },
  {
   "cell_type": "markdown",
   "id": "northern-madness",
   "metadata": {},
   "source": [
    "### Test 1"
   ]
  },
  {
   "cell_type": "markdown",
   "id": "interim-cheese",
   "metadata": {},
   "source": [
    "Základný test na jednom ramene. Testujem coercing."
   ]
  },
  {
   "cell_type": "code",
   "execution_count": 3,
   "id": "embedded-father",
   "metadata": {},
   "outputs": [],
   "source": [
    "hrd_test = HRD('../data/tests/lst_test_1.txt')\n",
    "\n",
    "lst_test_1, dna_index = hrd_test.test_lst(LST_SMb=11)\n",
    "\n",
    "assert lst_test_1 == 1"
   ]
  },
  {
   "cell_type": "markdown",
   "id": "graduate-franklin",
   "metadata": {},
   "source": [
    "### Test 2"
   ]
  },
  {
   "cell_type": "markdown",
   "id": "genuine-missouri",
   "metadata": {},
   "source": [
    "Test na jednom ramene. Testujem coercing a dopĺňanie segmentov s CN 2."
   ]
  },
  {
   "cell_type": "code",
   "execution_count": 4,
   "id": "moderate-internship",
   "metadata": {},
   "outputs": [],
   "source": [
    "hrd_test = HRD('../data/tests/lst_test_2.txt')\n",
    "\n",
    "lst_test_2, dna_index = hrd_test.test_lst(LST_SMb=11)\n",
    "\n",
    "assert lst_test_2 == 2"
   ]
  },
  {
   "cell_type": "markdown",
   "id": "august-township",
   "metadata": {},
   "source": [
    "### Test 3"
   ]
  },
  {
   "cell_type": "markdown",
   "id": "visible-filling",
   "metadata": {},
   "source": [
    "Test na jednom ramene. Testujem coercing, dopĺňanie segmentov a orezanie segmentu, čo končí v centromére."
   ]
  },
  {
   "cell_type": "code",
   "execution_count": 5,
   "id": "integrated-clause",
   "metadata": {},
   "outputs": [],
   "source": [
    "hrd_test = HRD('../data/tests/lst_test_3.txt')\n",
    "\n",
    "lst_test_3, dna_index = hrd_test.test_lst(LST_SMb=11)\n",
    "\n",
    "assert lst_test_3 == 1"
   ]
  },
  {
   "cell_type": "markdown",
   "id": "military-delay",
   "metadata": {},
   "source": [
    "### Test 4"
   ]
  },
  {
   "cell_type": "markdown",
   "id": "pretty-underwear",
   "metadata": {},
   "source": [
    "Testujem orezanie segmentu, čo začína v centromére."
   ]
  },
  {
   "cell_type": "code",
   "execution_count": 6,
   "id": "dominant-surgery",
   "metadata": {},
   "outputs": [],
   "source": [
    "hrd_test = HRD('../data/tests/lst_test_4.txt')\n",
    "\n",
    "lst_test_4, dna_index = hrd_test.test_lst(LST_SMb=11)\n",
    "\n",
    "assert lst_test_4 == 0"
   ]
  },
  {
   "cell_type": "markdown",
   "id": "silent-victim",
   "metadata": {},
   "source": [
    "### Test 5"
   ]
  },
  {
   "cell_type": "markdown",
   "id": "limited-consumer",
   "metadata": {},
   "source": [
    "Testujem orezanie segmentu, čo presahuje centroméru z oboch strán."
   ]
  },
  {
   "cell_type": "code",
   "execution_count": 7,
   "id": "peaceful-yacht",
   "metadata": {},
   "outputs": [],
   "source": [
    "hrd_test = HRD('../data/tests/lst_test_5.txt')\n",
    "\n",
    "lst_test_5, dna_index = hrd_test.test_lst(LST_SMb=11)\n",
    "\n",
    "assert lst_test_5 == 0"
   ]
  },
  {
   "cell_type": "markdown",
   "id": "supposed-applicant",
   "metadata": {},
   "source": [
    "### Test 6"
   ]
  },
  {
   "cell_type": "markdown",
   "id": "fourth-mandate",
   "metadata": {},
   "source": [
    "Testujem orezanie segmentu, čo sa celý nachádza v centromére a orezanie susedných segmentov, čo z časti zasahujú do centroméry."
   ]
  },
  {
   "cell_type": "code",
   "execution_count": 8,
   "id": "natural-reply",
   "metadata": {},
   "outputs": [],
   "source": [
    "hrd_test = HRD('../data/tests/lst_test_6.txt')\n",
    "\n",
    "lst_test_6, dna_index = hrd_test.test_lst(LST_SMb=11)\n",
    "\n",
    "assert lst_test_6 == 0"
   ]
  },
  {
   "cell_type": "markdown",
   "id": "alpha-portfolio",
   "metadata": {},
   "source": [
    "### Test 7"
   ]
  },
  {
   "cell_type": "markdown",
   "id": "mysterious-struggle",
   "metadata": {},
   "source": [
    "Test na dvoch ramenách. Komplexný test."
   ]
  },
  {
   "cell_type": "code",
   "execution_count": 9,
   "id": "suspected-photographer",
   "metadata": {},
   "outputs": [],
   "source": [
    "hrd_test = HRD('../data/tests/lst_test_7.txt')\n",
    "\n",
    "lst_test_7, dna_index = hrd_test.test_lst(LST_SMb=11)\n",
    "\n",
    "assert lst_test_7 == 2"
   ]
  },
  {
   "cell_type": "markdown",
   "id": "minute-eating",
   "metadata": {},
   "source": [
    "### Test 8"
   ]
  },
  {
   "cell_type": "markdown",
   "id": "comparative-premiere",
   "metadata": {},
   "source": [
    "Test na dvoch ramenách. Komplexný test č. 2."
   ]
  },
  {
   "cell_type": "code",
   "execution_count": 10,
   "id": "fallen-charge",
   "metadata": {},
   "outputs": [],
   "source": [
    "hrd_test = HRD('../data/tests/lst_test_8.txt')\n",
    "\n",
    "lst_test_8, dna_index = hrd_test.test_lst(LST_SMb=11)\n",
    "\n",
    "assert lst_test_8 == 2"
   ]
  },
  {
   "cell_type": "markdown",
   "id": "independent-mayor",
   "metadata": {},
   "source": [
    "### Test 9"
   ]
  },
  {
   "cell_type": "markdown",
   "id": "spoken-admission",
   "metadata": {},
   "source": [
    "Test na dvoch chromozómoch. Komplexný test."
   ]
  },
  {
   "cell_type": "code",
   "execution_count": 11,
   "id": "authentic-sarah",
   "metadata": {},
   "outputs": [],
   "source": [
    "hrd_test = HRD('../data/tests/lst_test_9.txt')\n",
    "\n",
    "lst_test_9, dna_index = hrd_test.test_lst(LST_SMb=11)\n",
    "\n",
    "assert lst_test_9 == 4"
   ]
  },
  {
   "cell_type": "markdown",
   "id": "saved-employee",
   "metadata": {},
   "source": [
    "## TAI"
   ]
  },
  {
   "cell_type": "markdown",
   "id": "extensive-franklin",
   "metadata": {},
   "source": [
    "### Test 1"
   ]
  },
  {
   "cell_type": "markdown",
   "id": "pediatric-butter",
   "metadata": {},
   "source": [
    "Testujem či nezaráta dlhý segment čo začína v telomére a presahuje centroméru."
   ]
  },
  {
   "cell_type": "code",
   "execution_count": 12,
   "id": "artistic-replacement",
   "metadata": {},
   "outputs": [],
   "source": [
    "hrd_test = HRD('../data/tests/tai_test_1.txt')\n",
    "\n",
    "tai_test_1 = hrd_test.test_tai()\n",
    "\n",
    "assert tai_test_1 == 0"
   ]
  },
  {
   "cell_type": "markdown",
   "id": "comparable-workplace",
   "metadata": {},
   "source": [
    "### Test 2"
   ]
  },
  {
   "cell_type": "markdown",
   "id": "collected-carter",
   "metadata": {},
   "source": [
    "Základný test. Jeden segment začína v začiatočnej telomére, druhý končí v koncovej."
   ]
  },
  {
   "cell_type": "code",
   "execution_count": 13,
   "id": "retired-textbook",
   "metadata": {},
   "outputs": [],
   "source": [
    "hrd_test = HRD('../data/tests/tai_test_2.txt')\n",
    "\n",
    "tai_test_2 = hrd_test.test_tai()\n",
    "\n",
    "assert tai_test_2 == 2"
   ]
  },
  {
   "cell_type": "markdown",
   "id": "different-composite",
   "metadata": {},
   "source": [
    "### Test 3"
   ]
  },
  {
   "cell_type": "markdown",
   "id": "beneficial-hanging",
   "metadata": {},
   "source": [
    "Základný test. Jeden segment začína aj končí v začiatočnej telomére, druhý začína aj končí v koncovej."
   ]
  },
  {
   "cell_type": "code",
   "execution_count": 14,
   "id": "proud-understanding",
   "metadata": {},
   "outputs": [],
   "source": [
    "hrd_test = HRD('../data/tests/tai_test_3.txt')\n",
    "\n",
    "tai_test_3 = hrd_test.test_tai()\n",
    "\n",
    "assert tai_test_3 == 2"
   ]
  },
  {
   "cell_type": "markdown",
   "id": "fixed-sellers",
   "metadata": {},
   "source": [
    "### Test 4"
   ]
  },
  {
   "cell_type": "markdown",
   "id": "opposed-sarah",
   "metadata": {},
   "source": [
    "Základný test. Testujem, či nezapočíta segment mimo telomér."
   ]
  },
  {
   "cell_type": "code",
   "execution_count": 15,
   "id": "overall-lender",
   "metadata": {},
   "outputs": [],
   "source": [
    "hrd_test = HRD('../data/tests/tai_test_4.txt')\n",
    "\n",
    "tai_test_4 = hrd_test.test_tai()\n",
    "\n",
    "assert tai_test_4 == 0"
   ]
  },
  {
   "cell_type": "markdown",
   "id": "handed-interest",
   "metadata": {},
   "source": [
    "### Test 5"
   ]
  },
  {
   "cell_type": "markdown",
   "id": "coated-judges",
   "metadata": {},
   "source": [
    "Základný test. Testujem, či nezapočíta segment čo končí v telomére ale presahuje centroméru a či započíta segment čo začína v telomére a končí na hranici centroméry."
   ]
  },
  {
   "cell_type": "code",
   "execution_count": 16,
   "id": "parliamentary-polls",
   "metadata": {},
   "outputs": [],
   "source": [
    "hrd_test = HRD('../data/tests/tai_test_5.txt')\n",
    "\n",
    "tai_test_5 = hrd_test.test_tai()\n",
    "\n",
    "assert tai_test_5 == 1"
   ]
  },
  {
   "cell_type": "markdown",
   "id": "paperback-hacker",
   "metadata": {},
   "source": [
    "### Test 6"
   ]
  },
  {
   "cell_type": "markdown",
   "id": "ideal-mercury",
   "metadata": {},
   "source": [
    "Základný test. Testujem, či započíta segment čo končí v telomére a začína na hranici centroméry a či nezapočíta segment čo začína v telomére a presahuje centroméru."
   ]
  },
  {
   "cell_type": "code",
   "execution_count": 17,
   "id": "handed-debate",
   "metadata": {},
   "outputs": [],
   "source": [
    "hrd_test = HRD('../data/tests/tai_test_6.txt')\n",
    "\n",
    "tai_test_6 = hrd_test.test_tai()\n",
    "\n",
    "assert tai_test_6 == 1"
   ]
  },
  {
   "cell_type": "markdown",
   "id": "tender-segment",
   "metadata": {},
   "source": [
    "## LOH"
   ]
  },
  {
   "cell_type": "markdown",
   "id": "political-extent",
   "metadata": {},
   "source": [
    "### Test 1"
   ]
  },
  {
   "cell_type": "markdown",
   "id": "robust-german",
   "metadata": {},
   "source": [
    "Základný test. Testujem, AI aj LOH segmenty s dĺžkou > 15 Mb."
   ]
  },
  {
   "cell_type": "code",
   "execution_count": 18,
   "id": "structural-naples",
   "metadata": {},
   "outputs": [],
   "source": [
    "hrd_test = HRD('../data/tests/loh_test_1.txt')\n",
    "\n",
    "loh_test_1 = hrd_test.test_loh()\n",
    "\n",
    "assert loh_test_1 == 2"
   ]
  },
  {
   "cell_type": "markdown",
   "id": "rental-torture",
   "metadata": {},
   "source": [
    "### Test 2"
   ]
  },
  {
   "cell_type": "markdown",
   "id": "indian-lying",
   "metadata": {},
   "source": [
    "Základný test. Testujem či započíta LOH segment s dĺžkou rovnou dĺžke chromozómu."
   ]
  },
  {
   "cell_type": "code",
   "execution_count": 19,
   "id": "decimal-garage",
   "metadata": {},
   "outputs": [],
   "source": [
    "hrd_test = HRD('../data/tests/loh_test_2.txt')\n",
    "\n",
    "loh_test_2 = hrd_test.test_loh()\n",
    "\n",
    "assert loh_test_2 == 0"
   ]
  },
  {
   "cell_type": "markdown",
   "id": "figured-sympathy",
   "metadata": {},
   "source": [
    "### Test 3"
   ]
  },
  {
   "cell_type": "markdown",
   "id": "functioning-genealogy",
   "metadata": {},
   "source": [
    "Základný test. Testujem či započíta LOH segment s dĺžkou < 15 Mb."
   ]
  },
  {
   "cell_type": "code",
   "execution_count": 20,
   "id": "surprising-shock",
   "metadata": {},
   "outputs": [],
   "source": [
    "hrd_test = HRD('../data/tests/loh_test_3.txt')\n",
    "\n",
    "loh_test_3 = hrd_test.test_loh()\n",
    "\n",
    "assert loh_test_3 == 0"
   ]
  },
  {
   "cell_type": "markdown",
   "id": "chicken-challenge",
   "metadata": {},
   "source": [
    "### Test 4"
   ]
  },
  {
   "cell_type": "markdown",
   "id": "minimal-replica",
   "metadata": {},
   "source": [
    "Základný test. Testujem či nezapočíta LOH segmenty s dĺžkou > 15 Mb, ktoré končia resp. začínajú na hranici centroméry."
   ]
  },
  {
   "cell_type": "code",
   "execution_count": 21,
   "id": "declared-sauce",
   "metadata": {},
   "outputs": [],
   "source": [
    "hrd_test = HRD('../data/tests/loh_test_4.txt')\n",
    "\n",
    "loh_test_4 = hrd_test.test_loh()\n",
    "\n",
    "assert loh_test_4 == 0"
   ]
  },
  {
   "cell_type": "markdown",
   "id": "fifteen-controversy",
   "metadata": {},
   "source": [
    "### Test 5"
   ]
  },
  {
   "cell_type": "markdown",
   "id": "imposed-bobby",
   "metadata": {},
   "source": [
    "Základný test. Testujem či započíta LOH segmenty s dĺžkou > 15 Mb, ktoré končia resp. začínajú tesne pred resp. za centromérou."
   ]
  },
  {
   "cell_type": "code",
   "execution_count": 22,
   "id": "proved-logistics",
   "metadata": {},
   "outputs": [],
   "source": [
    "hrd_test = HRD('../data/tests/loh_test_5.txt')\n",
    "\n",
    "loh_test_5 = hrd_test.test_loh()\n",
    "\n",
    "assert loh_test_5 == 2"
   ]
  }
 ],
 "metadata": {
  "kernelspec": {
   "display_name": "Python 3",
   "language": "python",
   "name": "python3"
  },
  "language_info": {
   "codemirror_mode": {
    "name": "ipython",
    "version": 3
   },
   "file_extension": ".py",
   "mimetype": "text/x-python",
   "name": "python",
   "nbconvert_exporter": "python",
   "pygments_lexer": "ipython3",
   "version": "3.8.5"
  }
 },
 "nbformat": 4,
 "nbformat_minor": 5
}
