{
 "cells": [
  {
   "cell_type": "code",
   "execution_count": 1,
   "id": "analyzed-voluntary",
   "metadata": {},
   "outputs": [],
   "source": [
    "import pandas as pd"
   ]
  },
  {
   "cell_type": "code",
   "execution_count": 2,
   "id": "preliminary-diagram",
   "metadata": {},
   "outputs": [],
   "source": [
    "import sys\n",
    "\n",
    "sys.path.insert(0, '../')\n",
    "\n",
    "from hrdtools.hrd import HRD"
   ]
  },
  {
   "cell_type": "markdown",
   "id": "classical-document",
   "metadata": {},
   "source": [
    "## LST"
   ]
  },
  {
   "cell_type": "markdown",
   "id": "compact-rabbit",
   "metadata": {},
   "source": [
    "### Test 1"
   ]
  },
  {
   "cell_type": "markdown",
   "id": "right-component",
   "metadata": {},
   "source": [
    "Základný test na jednom ramene. Testujem coercing."
   ]
  },
  {
   "cell_type": "code",
   "execution_count": 3,
   "id": "miniature-passage",
   "metadata": {},
   "outputs": [],
   "source": [
    "hrd_test = HRD('../data/tests/lst_test_1.txt')\n",
    "\n",
    "lst_test_1, dna_index = hrd_test.test_lst(LST_SMb=11)\n",
    "\n",
    "assert lst_test_1 == 1"
   ]
  },
  {
   "cell_type": "markdown",
   "id": "middle-contamination",
   "metadata": {},
   "source": [
    "### Test 2"
   ]
  },
  {
   "cell_type": "markdown",
   "id": "clear-tobago",
   "metadata": {},
   "source": [
    "Test na jednom ramene. Testujem coercing a dopĺňanie segmentov s CN 2."
   ]
  },
  {
   "cell_type": "code",
   "execution_count": 4,
   "id": "adult-bristol",
   "metadata": {},
   "outputs": [],
   "source": [
    "hrd_test = HRD('../data/tests/lst_test_2.txt')\n",
    "\n",
    "lst_test_2, dna_index = hrd_test.test_lst(LST_SMb=11)\n",
    "\n",
    "assert lst_test_2 == 2"
   ]
  },
  {
   "cell_type": "markdown",
   "id": "noted-gather",
   "metadata": {},
   "source": [
    "### Test 3"
   ]
  },
  {
   "cell_type": "markdown",
   "id": "exotic-paper",
   "metadata": {},
   "source": [
    "Test na jednom ramene. Testujem coercing, dopĺňanie segmentov a orezanie segmentu, čo končí v centromére."
   ]
  },
  {
   "cell_type": "code",
   "execution_count": 5,
   "id": "opening-disco",
   "metadata": {},
   "outputs": [],
   "source": [
    "hrd_test = HRD('../data/tests/lst_test_3.txt')\n",
    "\n",
    "lst_test_3, dna_index = hrd_test.test_lst(LST_SMb=11)\n",
    "\n",
    "assert lst_test_3 == 1"
   ]
  },
  {
   "cell_type": "markdown",
   "id": "operational-manchester",
   "metadata": {},
   "source": [
    "### Test 4"
   ]
  },
  {
   "cell_type": "markdown",
   "id": "organic-cruise",
   "metadata": {},
   "source": [
    "Testujem orezanie segmentu, čo začína v centromére."
   ]
  },
  {
   "cell_type": "code",
   "execution_count": 6,
   "id": "opening-freight",
   "metadata": {},
   "outputs": [],
   "source": [
    "hrd_test = HRD('../data/tests/lst_test_4.txt')\n",
    "\n",
    "lst_test_4, dna_index = hrd_test.test_lst(LST_SMb=11)\n",
    "\n",
    "assert lst_test_4 == 0"
   ]
  },
  {
   "cell_type": "markdown",
   "id": "resistant-singer",
   "metadata": {},
   "source": [
    "### Test 5"
   ]
  },
  {
   "cell_type": "markdown",
   "id": "arranged-things",
   "metadata": {},
   "source": [
    "Testujem orezanie segmentu, čo presahuje centroméru z oboch strán."
   ]
  },
  {
   "cell_type": "code",
   "execution_count": 7,
   "id": "immediate-literature",
   "metadata": {},
   "outputs": [],
   "source": [
    "hrd_test = HRD('../data/tests/lst_test_5.txt')\n",
    "\n",
    "lst_test_5, dna_index = hrd_test.test_lst(LST_SMb=11)\n",
    "\n",
    "assert lst_test_5 == 0"
   ]
  },
  {
   "cell_type": "markdown",
   "id": "hispanic-bowling",
   "metadata": {},
   "source": [
    "### Test 6"
   ]
  },
  {
   "cell_type": "markdown",
   "id": "mysterious-alignment",
   "metadata": {},
   "source": [
    "Testujem orezanie segmentu, čo sa celý nachádza v centromére a orezanie susedných segmentov, čo z časti zasahujú do centroméry."
   ]
  },
  {
   "cell_type": "code",
   "execution_count": 8,
   "id": "latest-maldives",
   "metadata": {},
   "outputs": [],
   "source": [
    "hrd_test = HRD('../data/tests/lst_test_6.txt')\n",
    "\n",
    "lst_test_6, dna_index = hrd_test.test_lst(LST_SMb=11)\n",
    "\n",
    "assert lst_test_6 == 0"
   ]
  },
  {
   "cell_type": "markdown",
   "id": "qualified-station",
   "metadata": {},
   "source": [
    "### Test 7"
   ]
  },
  {
   "cell_type": "markdown",
   "id": "caring-kenya",
   "metadata": {},
   "source": [
    "Test na dvoch ramenách. Komplexný test."
   ]
  },
  {
   "cell_type": "code",
   "execution_count": 9,
   "id": "clean-theater",
   "metadata": {},
   "outputs": [],
   "source": [
    "hrd_test = HRD('../data/tests/lst_test_7.txt')\n",
    "\n",
    "lst_test_7, dna_index = hrd_test.test_lst(LST_SMb=11)\n",
    "\n",
    "assert lst_test_7 == 2"
   ]
  },
  {
   "cell_type": "markdown",
   "id": "former-heavy",
   "metadata": {},
   "source": [
    "### Test 8"
   ]
  },
  {
   "cell_type": "markdown",
   "id": "stupid-chambers",
   "metadata": {},
   "source": [
    "Test na dvoch ramenách. Komplexný test č. 2."
   ]
  },
  {
   "cell_type": "code",
   "execution_count": 10,
   "id": "private-chancellor",
   "metadata": {},
   "outputs": [],
   "source": [
    "hrd_test = HRD('../data/tests/lst_test_8.txt')\n",
    "\n",
    "lst_test_8, dna_index = hrd_test.test_lst(LST_SMb=11)\n",
    "\n",
    "assert lst_test_8 == 2"
   ]
  },
  {
   "cell_type": "markdown",
   "id": "turkish-toronto",
   "metadata": {},
   "source": [
    "### Test 9"
   ]
  },
  {
   "cell_type": "markdown",
   "id": "medical-infrared",
   "metadata": {},
   "source": [
    "Test na dvoch chromozómoch. Komplexný test."
   ]
  },
  {
   "cell_type": "code",
   "execution_count": 11,
   "id": "spiritual-angle",
   "metadata": {},
   "outputs": [],
   "source": [
    "hrd_test = HRD('../data/tests/lst_test_9.txt')\n",
    "\n",
    "lst_test_9, dna_index = hrd_test.test_lst(LST_SMb=11)\n",
    "\n",
    "assert lst_test_9 == 4"
   ]
  },
  {
   "cell_type": "markdown",
   "id": "bibliographic-catalyst",
   "metadata": {},
   "source": [
    "## TAI"
   ]
  },
  {
   "cell_type": "markdown",
   "id": "identical-asset",
   "metadata": {},
   "source": [
    "### Test 1"
   ]
  },
  {
   "cell_type": "markdown",
   "id": "rental-consumer",
   "metadata": {},
   "source": [
    "Testujem či nezaráta dlhý segment čo začína v telomére a presahuje centroméru."
   ]
  },
  {
   "cell_type": "code",
   "execution_count": 12,
   "id": "stainless-kansas",
   "metadata": {},
   "outputs": [],
   "source": [
    "hrd_test = HRD('../data/tests/tai_test_1.txt')\n",
    "\n",
    "tai_test_1 = hrd_test.test_tai()\n",
    "\n",
    "assert tai_test_1 == 0"
   ]
  },
  {
   "cell_type": "markdown",
   "id": "palestinian-calculator",
   "metadata": {},
   "source": [
    "### Test 2"
   ]
  },
  {
   "cell_type": "markdown",
   "id": "elementary-suspension",
   "metadata": {},
   "source": [
    "Základný test. Jeden segment začína v začiatočnej telomére, druhý končí v koncovej."
   ]
  },
  {
   "cell_type": "code",
   "execution_count": 13,
   "id": "brutal-congress",
   "metadata": {},
   "outputs": [],
   "source": [
    "hrd_test = HRD('../data/tests/tai_test_2.txt')\n",
    "\n",
    "tai_test_2 = hrd_test.test_tai()\n",
    "\n",
    "assert tai_test_2 == 2"
   ]
  },
  {
   "cell_type": "markdown",
   "id": "tender-default",
   "metadata": {},
   "source": [
    "### Test 3"
   ]
  },
  {
   "cell_type": "markdown",
   "id": "electronic-california",
   "metadata": {},
   "source": [
    "Základný test. Jeden segment začína aj končí v začiatočnej telomére, druhý začína aj končí v koncovej."
   ]
  },
  {
   "cell_type": "code",
   "execution_count": 14,
   "id": "seeing-plate",
   "metadata": {},
   "outputs": [],
   "source": [
    "hrd_test = HRD('../data/tests/tai_test_3.txt')\n",
    "\n",
    "tai_test_3 = hrd_test.test_tai()\n",
    "\n",
    "assert tai_test_3 == 2"
   ]
  },
  {
   "cell_type": "markdown",
   "id": "blind-plumbing",
   "metadata": {},
   "source": [
    "### Test 4"
   ]
  },
  {
   "cell_type": "markdown",
   "id": "dynamic-alliance",
   "metadata": {},
   "source": [
    "Základný test. Testujem, či nezapočíta segment mimo telomér."
   ]
  },
  {
   "cell_type": "code",
   "execution_count": 15,
   "id": "cooperative-missile",
   "metadata": {},
   "outputs": [],
   "source": [
    "hrd_test = HRD('../data/tests/tai_test_4.txt')\n",
    "\n",
    "tai_test_4 = hrd_test.test_tai()\n",
    "\n",
    "assert tai_test_4 == 0"
   ]
  },
  {
   "cell_type": "markdown",
   "id": "certified-sugar",
   "metadata": {},
   "source": [
    "### Test 5"
   ]
  },
  {
   "cell_type": "markdown",
   "id": "headed-customer",
   "metadata": {},
   "source": [
    "Základný test. Testujem, či nezapočíta segment čo končí v telomére ale presahuje centroméru a či započíta segment čo začína v telomére a končí na hranici centroméry."
   ]
  },
  {
   "cell_type": "code",
   "execution_count": 16,
   "id": "hispanic-coalition",
   "metadata": {},
   "outputs": [],
   "source": [
    "hrd_test = HRD('../data/tests/tai_test_5.txt')\n",
    "\n",
    "tai_test_5 = hrd_test.test_tai()\n",
    "\n",
    "assert tai_test_5 == 1"
   ]
  },
  {
   "cell_type": "markdown",
   "id": "studied-sacrifice",
   "metadata": {},
   "source": [
    "### Test 6"
   ]
  },
  {
   "cell_type": "markdown",
   "id": "understood-australian",
   "metadata": {},
   "source": [
    "Základný test. Testujem, či započíta segment čo končí v telomére a začína na hranici centroméry a či nezapočíta segment čo začína v telomére a presahuje centroméru."
   ]
  },
  {
   "cell_type": "code",
   "execution_count": 17,
   "id": "suited-variation",
   "metadata": {},
   "outputs": [],
   "source": [
    "hrd_test = HRD('../data/tests/tai_test_6.txt')\n",
    "\n",
    "tai_test_6 = hrd_test.test_tai()\n",
    "\n",
    "assert tai_test_6 == 1"
   ]
  },
  {
   "cell_type": "markdown",
   "id": "chronic-friend",
   "metadata": {},
   "source": [
    "## LOH"
   ]
  },
  {
   "cell_type": "markdown",
   "id": "maritime-creator",
   "metadata": {},
   "source": [
    "### Test 1"
   ]
  },
  {
   "cell_type": "markdown",
   "id": "attempted-damages",
   "metadata": {},
   "source": [
    "Základný test. Testujem, AI aj LOH segmenty s dĺžkou > 15 Mb."
   ]
  },
  {
   "cell_type": "code",
   "execution_count": 18,
   "id": "certified-mayor",
   "metadata": {},
   "outputs": [],
   "source": [
    "hrd_test = HRD('../data/tests/loh_test_1.txt')\n",
    "\n",
    "loh_test_1 = hrd_test.test_loh()\n",
    "\n",
    "assert loh_test_1 == 2"
   ]
  },
  {
   "cell_type": "markdown",
   "id": "choice-fabric",
   "metadata": {},
   "source": [
    "### Test 2"
   ]
  },
  {
   "cell_type": "markdown",
   "id": "interpreted-egypt",
   "metadata": {},
   "source": [
    "Základný test. Testujem či započíta LOH segment s dĺžkou rovnou dĺžke chromozómu."
   ]
  },
  {
   "cell_type": "code",
   "execution_count": 19,
   "id": "acceptable-malpractice",
   "metadata": {},
   "outputs": [],
   "source": [
    "hrd_test = HRD('../data/tests/loh_test_2.txt')\n",
    "\n",
    "loh_test_2 = hrd_test.test_loh()\n",
    "\n",
    "assert loh_test_2 == 0"
   ]
  },
  {
   "cell_type": "markdown",
   "id": "passing-temple",
   "metadata": {},
   "source": [
    "### Test 3"
   ]
  },
  {
   "cell_type": "markdown",
   "id": "cooperative-capitol",
   "metadata": {},
   "source": [
    "Základný test. Testujem či započíta LOH segment s dĺžkou < 15 Mb."
   ]
  },
  {
   "cell_type": "code",
   "execution_count": 20,
   "id": "changed-catering",
   "metadata": {},
   "outputs": [],
   "source": [
    "hrd_test = HRD('../data/tests/loh_test_3.txt')\n",
    "\n",
    "loh_test_3 = hrd_test.test_loh()\n",
    "\n",
    "assert loh_test_3 == 0"
   ]
  },
  {
   "cell_type": "markdown",
   "id": "close-editing",
   "metadata": {},
   "source": [
    "### Test 4"
   ]
  },
  {
   "cell_type": "markdown",
   "id": "electronic-sapphire",
   "metadata": {},
   "source": [
    "Základný test. Testujem či započíta LOH segment s dĺžkou > 15 Mb, ktoré končia resp. začínajú na hranici centroméry."
   ]
  },
  {
   "cell_type": "code",
   "execution_count": 21,
   "id": "ruled-moscow",
   "metadata": {},
   "outputs": [],
   "source": [
    "hrd_test = HRD('../data/tests/loh_test_4.txt')\n",
    "\n",
    "loh_test_4 = hrd_test.test_loh()\n",
    "\n",
    "assert loh_test_4 == 2"
   ]
  },
  {
   "cell_type": "markdown",
   "id": "adverse-infrastructure",
   "metadata": {},
   "source": [
    "### Test 5"
   ]
  },
  {
   "cell_type": "markdown",
   "id": "beautiful-china",
   "metadata": {},
   "source": [
    "Základný test. Testujem či nezapočíta LOH segment s dĺžkou > 15 Mb, ktoré končia resp. začínajú v centromére."
   ]
  },
  {
   "cell_type": "code",
   "execution_count": 22,
   "id": "yellow-baseline",
   "metadata": {},
   "outputs": [],
   "source": [
    "hrd_test = HRD('../data/tests/loh_test_5.txt')\n",
    "\n",
    "loh_test_5 = hrd_test.test_loh()\n",
    "\n",
    "assert loh_test_5 == 0"
   ]
  }
 ],
 "metadata": {
  "kernelspec": {
   "display_name": "Python 3",
   "language": "python",
   "name": "python3"
  },
  "language_info": {
   "codemirror_mode": {
    "name": "ipython",
    "version": 3
   },
   "file_extension": ".py",
   "mimetype": "text/x-python",
   "name": "python",
   "nbconvert_exporter": "python",
   "pygments_lexer": "ipython3",
   "version": "3.8.5"
  }
 },
 "nbformat": 4,
 "nbformat_minor": 5
}
