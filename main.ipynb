{
 "cells": [
  {
   "cell_type": "code",
   "execution_count": 1,
   "metadata": {},
   "outputs": [],
   "source": [
    "%matplotlib inline\n",
    "\n",
    "import pandas as pd\n",
    "import matplotlib.pyplot as plt\n",
    "import seaborn as sns\n",
    "import numpy as np"
   ]
  },
  {
   "cell_type": "code",
   "execution_count": 2,
   "metadata": {},
   "outputs": [],
   "source": [
    "import sys\n",
    "\n",
    "sys.path.insert(0, 'modules/')\n",
    "    \n",
    "from chromosome_data_processor import * \n",
    "from lengths_data_processor import *"
   ]
  },
  {
   "cell_type": "code",
   "execution_count": 3,
   "metadata": {},
   "outputs": [],
   "source": [
    "data = pd.read_csv('datasets/CytoScan.Segmental.Reports/OS001_events.txt', sep='\\t', comment='#')"
   ]
  },
  {
   "cell_type": "code",
   "execution_count": 4,
   "metadata": {},
   "outputs": [
    {
     "data": {
      "text/html": [
       "<div>\n",
       "<style scoped>\n",
       "    .dataframe tbody tr th:only-of-type {\n",
       "        vertical-align: middle;\n",
       "    }\n",
       "\n",
       "    .dataframe tbody tr th {\n",
       "        vertical-align: top;\n",
       "    }\n",
       "\n",
       "    .dataframe thead th {\n",
       "        text-align: right;\n",
       "    }\n",
       "</style>\n",
       "<table border=\"1\" class=\"dataframe\">\n",
       "  <thead>\n",
       "    <tr style=\"text-align: right;\">\n",
       "      <th></th>\n",
       "      <th>Chromosome</th>\n",
       "      <th>Copy Number</th>\n",
       "      <th>Length</th>\n",
       "      <th>Start</th>\n",
       "      <th>End</th>\n",
       "    </tr>\n",
       "  </thead>\n",
       "  <tbody>\n",
       "    <tr>\n",
       "      <th>0</th>\n",
       "      <td>1</td>\n",
       "      <td>3</td>\n",
       "      <td>1961264</td>\n",
       "      <td>3699709</td>\n",
       "      <td>5660972</td>\n",
       "    </tr>\n",
       "    <tr>\n",
       "      <th>1</th>\n",
       "      <td>1</td>\n",
       "      <td>3</td>\n",
       "      <td>1898488</td>\n",
       "      <td>6923109</td>\n",
       "      <td>8821596</td>\n",
       "    </tr>\n",
       "    <tr>\n",
       "      <th>3</th>\n",
       "      <td>1</td>\n",
       "      <td>3</td>\n",
       "      <td>3223208</td>\n",
       "      <td>12392108</td>\n",
       "      <td>15615315</td>\n",
       "    </tr>\n",
       "    <tr>\n",
       "      <th>15</th>\n",
       "      <td>1</td>\n",
       "      <td>3</td>\n",
       "      <td>1522222</td>\n",
       "      <td>60470133</td>\n",
       "      <td>61992354</td>\n",
       "    </tr>\n",
       "    <tr>\n",
       "      <th>22</th>\n",
       "      <td>1</td>\n",
       "      <td>3</td>\n",
       "      <td>13965171</td>\n",
       "      <td>69521787</td>\n",
       "      <td>83486957</td>\n",
       "    </tr>\n",
       "    <tr>\n",
       "      <th>...</th>\n",
       "      <td>...</td>\n",
       "      <td>...</td>\n",
       "      <td>...</td>\n",
       "      <td>...</td>\n",
       "      <td>...</td>\n",
       "    </tr>\n",
       "    <tr>\n",
       "      <th>764</th>\n",
       "      <td>Y</td>\n",
       "      <td>3</td>\n",
       "      <td>90619</td>\n",
       "      <td>25623467</td>\n",
       "      <td>25714085</td>\n",
       "    </tr>\n",
       "    <tr>\n",
       "      <th>765</th>\n",
       "      <td>Y</td>\n",
       "      <td>3</td>\n",
       "      <td>36116</td>\n",
       "      <td>25789995</td>\n",
       "      <td>25826110</td>\n",
       "    </tr>\n",
       "    <tr>\n",
       "      <th>766</th>\n",
       "      <td>Y</td>\n",
       "      <td>3</td>\n",
       "      <td>185678</td>\n",
       "      <td>26147446</td>\n",
       "      <td>26333123</td>\n",
       "    </tr>\n",
       "    <tr>\n",
       "      <th>767</th>\n",
       "      <td>Y</td>\n",
       "      <td>3</td>\n",
       "      <td>392040</td>\n",
       "      <td>27012136</td>\n",
       "      <td>27404175</td>\n",
       "    </tr>\n",
       "    <tr>\n",
       "      <th>768</th>\n",
       "      <td>Y</td>\n",
       "      <td>3</td>\n",
       "      <td>642253</td>\n",
       "      <td>27759379</td>\n",
       "      <td>28401631</td>\n",
       "    </tr>\n",
       "  </tbody>\n",
       "</table>\n",
       "<p>187 rows × 5 columns</p>\n",
       "</div>"
      ],
      "text/plain": [
       "    Chromosome Copy Number    Length     Start       End\n",
       "0            1           3   1961264   3699709   5660972\n",
       "1            1           3   1898488   6923109   8821596\n",
       "3            1           3   3223208  12392108  15615315\n",
       "15           1           3   1522222  60470133  61992354\n",
       "22           1           3  13965171  69521787  83486957\n",
       "..         ...         ...       ...       ...       ...\n",
       "764          Y           3     90619  25623467  25714085\n",
       "765          Y           3     36116  25789995  25826110\n",
       "766          Y           3    185678  26147446  26333123\n",
       "767          Y           3    392040  27012136  27404175\n",
       "768          Y           3    642253  27759379  28401631\n",
       "\n",
       "[187 rows x 5 columns]"
      ]
     },
     "execution_count": 4,
     "metadata": {},
     "output_type": "execute_result"
    }
   ],
   "source": [
    "data = process_chromosome_data(data)\n",
    "\n",
    "data"
   ]
  },
  {
   "cell_type": "code",
   "execution_count": 5,
   "metadata": {},
   "outputs": [],
   "source": [
    "lengths = pd.read_csv('datasets/hs37d5.fa.fai', sep='\\t', header=None)"
   ]
  },
  {
   "cell_type": "code",
   "execution_count": 6,
   "metadata": {},
   "outputs": [
    {
     "data": {
      "text/html": [
       "<div>\n",
       "<style scoped>\n",
       "    .dataframe tbody tr th:only-of-type {\n",
       "        vertical-align: middle;\n",
       "    }\n",
       "\n",
       "    .dataframe tbody tr th {\n",
       "        vertical-align: top;\n",
       "    }\n",
       "\n",
       "    .dataframe thead th {\n",
       "        text-align: right;\n",
       "    }\n",
       "</style>\n",
       "<table border=\"1\" class=\"dataframe\">\n",
       "  <thead>\n",
       "    <tr style=\"text-align: right;\">\n",
       "      <th></th>\n",
       "      <th>Length</th>\n",
       "    </tr>\n",
       "    <tr>\n",
       "      <th>Chromosome</th>\n",
       "      <th></th>\n",
       "    </tr>\n",
       "  </thead>\n",
       "  <tbody>\n",
       "    <tr>\n",
       "      <th>1</th>\n",
       "      <td>249250621</td>\n",
       "    </tr>\n",
       "    <tr>\n",
       "      <th>2</th>\n",
       "      <td>243199373</td>\n",
       "    </tr>\n",
       "    <tr>\n",
       "      <th>3</th>\n",
       "      <td>198022430</td>\n",
       "    </tr>\n",
       "    <tr>\n",
       "      <th>4</th>\n",
       "      <td>191154276</td>\n",
       "    </tr>\n",
       "    <tr>\n",
       "      <th>5</th>\n",
       "      <td>180915260</td>\n",
       "    </tr>\n",
       "    <tr>\n",
       "      <th>6</th>\n",
       "      <td>171115067</td>\n",
       "    </tr>\n",
       "    <tr>\n",
       "      <th>7</th>\n",
       "      <td>159138663</td>\n",
       "    </tr>\n",
       "    <tr>\n",
       "      <th>8</th>\n",
       "      <td>146364022</td>\n",
       "    </tr>\n",
       "    <tr>\n",
       "      <th>9</th>\n",
       "      <td>141213431</td>\n",
       "    </tr>\n",
       "    <tr>\n",
       "      <th>10</th>\n",
       "      <td>135534747</td>\n",
       "    </tr>\n",
       "    <tr>\n",
       "      <th>11</th>\n",
       "      <td>135006516</td>\n",
       "    </tr>\n",
       "    <tr>\n",
       "      <th>12</th>\n",
       "      <td>133851895</td>\n",
       "    </tr>\n",
       "    <tr>\n",
       "      <th>13</th>\n",
       "      <td>115169878</td>\n",
       "    </tr>\n",
       "    <tr>\n",
       "      <th>14</th>\n",
       "      <td>107349540</td>\n",
       "    </tr>\n",
       "    <tr>\n",
       "      <th>15</th>\n",
       "      <td>102531392</td>\n",
       "    </tr>\n",
       "    <tr>\n",
       "      <th>16</th>\n",
       "      <td>90354753</td>\n",
       "    </tr>\n",
       "    <tr>\n",
       "      <th>17</th>\n",
       "      <td>81195210</td>\n",
       "    </tr>\n",
       "    <tr>\n",
       "      <th>18</th>\n",
       "      <td>78077248</td>\n",
       "    </tr>\n",
       "    <tr>\n",
       "      <th>19</th>\n",
       "      <td>59128983</td>\n",
       "    </tr>\n",
       "    <tr>\n",
       "      <th>20</th>\n",
       "      <td>63025520</td>\n",
       "    </tr>\n",
       "    <tr>\n",
       "      <th>21</th>\n",
       "      <td>48129895</td>\n",
       "    </tr>\n",
       "    <tr>\n",
       "      <th>22</th>\n",
       "      <td>51304566</td>\n",
       "    </tr>\n",
       "    <tr>\n",
       "      <th>X</th>\n",
       "      <td>155270560</td>\n",
       "    </tr>\n",
       "    <tr>\n",
       "      <th>Y</th>\n",
       "      <td>59373566</td>\n",
       "    </tr>\n",
       "  </tbody>\n",
       "</table>\n",
       "</div>"
      ],
      "text/plain": [
       "               Length\n",
       "Chromosome           \n",
       "1           249250621\n",
       "2           243199373\n",
       "3           198022430\n",
       "4           191154276\n",
       "5           180915260\n",
       "6           171115067\n",
       "7           159138663\n",
       "8           146364022\n",
       "9           141213431\n",
       "10          135534747\n",
       "11          135006516\n",
       "12          133851895\n",
       "13          115169878\n",
       "14          107349540\n",
       "15          102531392\n",
       "16           90354753\n",
       "17           81195210\n",
       "18           78077248\n",
       "19           59128983\n",
       "20           63025520\n",
       "21           48129895\n",
       "22           51304566\n",
       "X           155270560\n",
       "Y            59373566"
      ]
     },
     "execution_count": 6,
     "metadata": {},
     "output_type": "execute_result"
    }
   ],
   "source": [
    "lengths = process_lengths_data(lengths)\n",
    "\n",
    "lengths"
   ]
  },
  {
   "cell_type": "code",
   "execution_count": 7,
   "metadata": {},
   "outputs": [],
   "source": [
    "def split_chromosome_to_bins(chromosome_data, chromosome_len, bin_len=30000):\n",
    "    bins = []\n",
    "    for base in range(0, chromosome_len, bin_len):\n",
    "        if chromosome_len - base < bin_len:  # last short bin\n",
    "            curr_bin_len = chromosome_len - base\n",
    "        else:\n",
    "            curr_bin_len = bin_len\n",
    "            \n",
    "        _bin = np.full((curr_bin_len), 2)\n",
    "        \n",
    "        bin_start = base\n",
    "        bin_end = base + bin_len\n",
    "        \n",
    "        for index, row in chromosome_data.iterrows():\n",
    "            event_start = int(row['Start'])\n",
    "            event_end = int(row['End'])\n",
    "            \n",
    "            if event_start < bin_start and event_end >= bin_start:\n",
    "                update_start = 0\n",
    "                if event_end < bin_end:\n",
    "                    update_end = event_end - bin_start + 1\n",
    "                else:\n",
    "                    update_end = bin_end\n",
    "                _bin[update_start:update_end] = row['Copy Number']\n",
    "                \n",
    "            elif event_start <= bin_end and event_end >= bin_end:\n",
    "                update_end = bin_end\n",
    "                if event_start > bin_start:\n",
    "                    update_start = event_start - bin_start + 1\n",
    "                else:\n",
    "                    update_start = 0\n",
    "                _bin[update_start:update_end] = row['Copy Number']\n",
    "                    \n",
    "            elif event_start >= bin_start and event_end < bin_end:\n",
    "                update_start = event_start - bin_start + 1\n",
    "                update_end = event_end - bin_start + 1\n",
    "                _bin[update_start:update_end] = row['Copy Number']\n",
    "        \n",
    "        bin_avg = np.average(_bin)\n",
    "        bins.append(bin_avg)\n",
    "    \n",
    "    return bins"
   ]
  },
  {
   "cell_type": "code",
   "execution_count": 8,
   "metadata": {},
   "outputs": [
    {
     "data": {
      "text/html": [
       "<div>\n",
       "<style scoped>\n",
       "    .dataframe tbody tr th:only-of-type {\n",
       "        vertical-align: middle;\n",
       "    }\n",
       "\n",
       "    .dataframe tbody tr th {\n",
       "        vertical-align: top;\n",
       "    }\n",
       "\n",
       "    .dataframe thead th {\n",
       "        text-align: right;\n",
       "    }\n",
       "</style>\n",
       "<table border=\"1\" class=\"dataframe\">\n",
       "  <thead>\n",
       "    <tr style=\"text-align: right;\">\n",
       "      <th></th>\n",
       "      <th>Chromosome</th>\n",
       "      <th>Copy Number</th>\n",
       "      <th>Length</th>\n",
       "      <th>Start</th>\n",
       "      <th>End</th>\n",
       "    </tr>\n",
       "  </thead>\n",
       "  <tbody>\n",
       "    <tr>\n",
       "      <th>179</th>\n",
       "      <td>6</td>\n",
       "      <td>1</td>\n",
       "      <td>32969007</td>\n",
       "      <td>0</td>\n",
       "      <td>32969006</td>\n",
       "    </tr>\n",
       "    <tr>\n",
       "      <th>184</th>\n",
       "      <td>6</td>\n",
       "      <td>1</td>\n",
       "      <td>25136920</td>\n",
       "      <td>33023971</td>\n",
       "      <td>58160890</td>\n",
       "    </tr>\n",
       "    <tr>\n",
       "      <th>191</th>\n",
       "      <td>6</td>\n",
       "      <td>1</td>\n",
       "      <td>48000997</td>\n",
       "      <td>61000000</td>\n",
       "      <td>109000996</td>\n",
       "    </tr>\n",
       "    <tr>\n",
       "      <th>195</th>\n",
       "      <td>6</td>\n",
       "      <td>4</td>\n",
       "      <td>5939</td>\n",
       "      <td>109000996</td>\n",
       "      <td>109006934</td>\n",
       "    </tr>\n",
       "    <tr>\n",
       "      <th>198</th>\n",
       "      <td>6</td>\n",
       "      <td>1</td>\n",
       "      <td>62108134</td>\n",
       "      <td>109006934</td>\n",
       "      <td>171115067</td>\n",
       "    </tr>\n",
       "  </tbody>\n",
       "</table>\n",
       "</div>"
      ],
      "text/plain": [
       "    Chromosome Copy Number    Length      Start        End\n",
       "179          6           1  32969007          0   32969006\n",
       "184          6           1  25136920   33023971   58160890\n",
       "191          6           1  48000997   61000000  109000996\n",
       "195          6           4      5939  109000996  109006934\n",
       "198          6           1  62108134  109006934  171115067"
      ]
     },
     "execution_count": 8,
     "metadata": {},
     "output_type": "execute_result"
    }
   ],
   "source": [
    "chr6 = data[data['Chromosome'] == '6']\n",
    "\n",
    "chr6"
   ]
  },
  {
   "cell_type": "code",
   "execution_count": 9,
   "metadata": {},
   "outputs": [
    {
     "data": {
      "text/plain": [
       "171115067"
      ]
     },
     "execution_count": 9,
     "metadata": {},
     "output_type": "execute_result"
    }
   ],
   "source": [
    "chr6_len = lengths.loc[['6']]['Length'].item()\n",
    "\n",
    "chr6_len"
   ]
  },
  {
   "cell_type": "code",
   "execution_count": 10,
   "metadata": {},
   "outputs": [],
   "source": [
    "bins = split_chromosome_to_bins(chr6, chr6_len)"
   ]
  },
  {
   "cell_type": "code",
   "execution_count": 11,
   "metadata": {},
   "outputs": [],
   "source": [
    "def plot_bins(bins):\n",
    "    fig, ax = plt.subplots(figsize=(20,10))\n",
    "    ax.plot(bins, color='k')\n",
    "    ax.set_ylim([-0.5, 4.5])\n",
    "    ax.set_xlim([0, len(bins)])\n",
    "\n",
    "    ax.axhline(y=2, color='gray', dashes=(5, 5))"
   ]
  },
  {
   "cell_type": "code",
   "execution_count": 12,
   "metadata": {},
   "outputs": [
    {
     "data": {
      "image/png": "[encoded data removed]",
      "text/plain": [
       "<Figure size 1440x720 with 1 Axes>"
      ]
     },
     "metadata": {
      "needs_background": "light"
     },
     "output_type": "display_data"
    }
   ],
   "source": [
    "plot_bins(bins)"
   ]
  },
  {
   "cell_type": "code",
   "execution_count": 13,
   "metadata": {},
   "outputs": [],
   "source": [
    "def scatter_bins(bins):\n",
    "    fig, ax = plt.subplots(figsize=(25,10))\n",
    "    ax.scatter(range(len(bins)), bins, c='k', s=8)\n",
    "   \n",
    "    ax.set_ylim([-0.5, 4.5])\n",
    "    ax.set_xlim([0, len(bins)])\n",
    "\n",
    "    ax.axhline(y=2, color='gray', dashes=(5, 5))"
   ]
  },
  {
   "cell_type": "code",
   "execution_count": 14,
   "metadata": {},
   "outputs": [
    {
     "data": {
      "image/png": "[encoded data removed]",
      "text/plain": [
       "<Figure size 1800x720 with 1 Axes>"
      ]
     },
     "metadata": {
      "needs_background": "light"
     },
     "output_type": "display_data"
    }
   ],
   "source": [
    "scatter_bins(bins)"
   ]
  },
  {
   "cell_type": "code",
   "execution_count": 15,
   "metadata": {},
   "outputs": [
    {
     "data": {
      "text/plain": [
       "['1',\n",
       " '2',\n",
       " '3',\n",
       " '4',\n",
       " '5',\n",
       " '6',\n",
       " '7',\n",
       " '8',\n",
       " '9',\n",
       " '10',\n",
       " '11',\n",
       " '12',\n",
       " '13',\n",
       " '14',\n",
       " '15',\n",
       " '16',\n",
       " '17',\n",
       " '18',\n",
       " '19',\n",
       " '20',\n",
       " '21',\n",
       " '22',\n",
       " 'X',\n",
       " 'Y']"
      ]
     },
     "execution_count": 15,
     "metadata": {},
     "output_type": "execute_result"
    }
   ],
   "source": [
    "chromosome_names = [str(_chr) for _chr in range(1, 23)]\n",
    "chromosome_names.extend(['X', 'Y'])\n",
    "\n",
    "chromosome_names"
   ]
  },
  {
   "cell_type": "code",
   "execution_count": 16,
   "metadata": {},
   "outputs": [],
   "source": [
    "def split_chromosomes_to_bins(data):\n",
    "    bins = []\n",
    "    for _chr in chromosome_names[:-2]:\n",
    "        chr_data = data[data['Chromosome'] == _chr]\n",
    "        chr_len = lengths.loc[[_chr]]['Length'].item()\n",
    "        chr_bins = split_chromosome_to_bins(chr_data, chr_len)\n",
    "        bins.extend(chr_bins)\n",
    "        \n",
    "    return bins"
   ]
  },
  {
   "cell_type": "code",
   "execution_count": 17,
   "metadata": {},
   "outputs": [],
   "source": [
    "bins = split_chromosomes_to_bins(data)"
   ]
  },
  {
   "cell_type": "code",
   "execution_count": 18,
   "metadata": {},
   "outputs": [
    {
     "data": {
      "image/png": "[encoded data removed]",
      "text/plain": [
       "<Figure size 1440x720 with 1 Axes>"
      ]
     },
     "metadata": {
      "needs_background": "light"
     },
     "output_type": "display_data"
    }
   ],
   "source": [
    "plot_bins(bins)"
   ]
  },
  {
   "cell_type": "code",
   "execution_count": 19,
   "metadata": {},
   "outputs": [
    {
     "data": {
      "image/png": "[encoded data removed]",
      "text/plain": [
       "<Figure size 1800x720 with 1 Axes>"
      ]
     },
     "metadata": {
      "needs_background": "light"
     },
     "output_type": "display_data"
    }
   ],
   "source": [
    "scatter_bins(bins)"
   ]
  },
  {
   "cell_type": "code",
   "execution_count": 20,
   "metadata": {},
   "outputs": [],
   "source": [
    "def count_chromosome_area(chromosome_bins):\n",
    "    area = 0\n",
    "    for _bin in chromosome_bins:\n",
    "        area += abs(_bin - 2)\n",
    "        \n",
    "    return area"
   ]
  },
  {
   "cell_type": "code",
   "execution_count": 21,
   "metadata": {},
   "outputs": [],
   "source": [
    "chr6_bins = split_chromosome_to_bins(chr6, chr6_len)\n"
   ]
  },
  {
   "cell_type": "code",
   "execution_count": 22,
   "metadata": {},
   "outputs": [
    {
     "data": {
      "text/plain": [
       "5606.937033333334"
      ]
     },
     "execution_count": 22,
     "metadata": {},
     "output_type": "execute_result"
    }
   ],
   "source": [
    "chr6_area = count_chromosome_area(chr6_bins)\n",
    "\n",
    "chr6_area"
   ]
  },
  {
   "cell_type": "code",
   "execution_count": 23,
   "metadata": {},
   "outputs": [],
   "source": [
    "def count_chromosome_areas():\n",
    "    areas = []\n",
    "    for _chr in chromosome_names[:-2]:\n",
    "        chr_data = data[data['Chromosome'] == _chr]\n",
    "        chr_len = lengths.loc[[_chr]]['Length'].item()\n",
    "        chr_bins = split_chromosome_to_bins(chr_data, chr_len)\n",
    "        chr_area = count_chromosome_area(chr_bins)\n",
    "        areas.append(chr_area)\n",
    "        \n",
    "    return areas"
   ]
  },
  {
   "cell_type": "code",
   "execution_count": 24,
   "metadata": {},
   "outputs": [
    {
     "data": {
      "text/plain": [
       "[3811.8467333333333,\n",
       " 557.4807666666666,\n",
       " 6497.4726,\n",
       " 106.40056666666666,\n",
       " 3053.0037666666667,\n",
       " 5606.937033333334,\n",
       " 4199.945166666667,\n",
       " 3100.6354999999994,\n",
       " 1510.349,\n",
       " 3292.0774333333325,\n",
       " 154.81106666666668,\n",
       " 404.0938,\n",
       " 3186.6233,\n",
       " 2845.543966666667,\n",
       " 3375.7688333333335,\n",
       " 2635.9119333333333,\n",
       " 1514.8074666666669,\n",
       " 524.8522666666667,\n",
       " 751.4173666666667,\n",
       " 95.7317,\n",
       " 0.0,\n",
       " 1115.5169]"
      ]
     },
     "execution_count": 24,
     "metadata": {},
     "output_type": "execute_result"
    }
   ],
   "source": [
    "areas = count_chromosome_areas()\n",
    "\n",
    "areas"
   ]
  },
  {
   "cell_type": "code",
   "execution_count": 25,
   "metadata": {},
   "outputs": [
    {
     "data": {
      "text/plain": [
       "22"
      ]
     },
     "execution_count": 25,
     "metadata": {},
     "output_type": "execute_result"
    }
   ],
   "source": [
    "len(areas)"
   ]
  },
  {
   "cell_type": "code",
   "execution_count": 26,
   "metadata": {},
   "outputs": [],
   "source": [
    "def visualize_areas_bar(areas):\n",
    "    fig, ax = plt.subplots(figsize=(20,10))\n",
    "    ax.bar(chromosome_names[:-2], areas)\n",
    "    ax.set_ylim([0, 7000])"
   ]
  },
  {
   "cell_type": "code",
   "execution_count": 27,
   "metadata": {},
   "outputs": [
    {
     "data": {
      "image/png": "[encoded data removed]",
      "text/plain": [
       "<Figure size 1440x720 with 1 Axes>"
      ]
     },
     "metadata": {
      "needs_background": "light"
     },
     "output_type": "display_data"
    }
   ],
   "source": [
    "visualize_areas_bar(areas)"
   ]
  },
  {
   "cell_type": "code",
   "execution_count": 28,
   "metadata": {},
   "outputs": [],
   "source": [
    "data2 = pd.read_csv('datasets/CytoScan.Segmental.Reports/OS007_events.txt', sep='\\t', comment='#')"
   ]
  },
  {
   "cell_type": "code",
   "execution_count": 29,
   "metadata": {},
   "outputs": [
    {
     "data": {
      "text/html": [
       "<div>\n",
       "<style scoped>\n",
       "    .dataframe tbody tr th:only-of-type {\n",
       "        vertical-align: middle;\n",
       "    }\n",
       "\n",
       "    .dataframe tbody tr th {\n",
       "        vertical-align: top;\n",
       "    }\n",
       "\n",
       "    .dataframe thead th {\n",
       "        text-align: right;\n",
       "    }\n",
       "</style>\n",
       "<table border=\"1\" class=\"dataframe\">\n",
       "  <thead>\n",
       "    <tr style=\"text-align: right;\">\n",
       "      <th></th>\n",
       "      <th>Chromosome</th>\n",
       "      <th>Copy Number</th>\n",
       "      <th>Length</th>\n",
       "      <th>Start</th>\n",
       "      <th>End</th>\n",
       "    </tr>\n",
       "  </thead>\n",
       "  <tbody>\n",
       "    <tr>\n",
       "      <th>0</th>\n",
       "      <td>1</td>\n",
       "      <td>3</td>\n",
       "      <td>35902120</td>\n",
       "      <td>0</td>\n",
       "      <td>35902119</td>\n",
       "    </tr>\n",
       "    <tr>\n",
       "      <th>7</th>\n",
       "      <td>1</td>\n",
       "      <td>4</td>\n",
       "      <td>50082064</td>\n",
       "      <td>36958762</td>\n",
       "      <td>87040825</td>\n",
       "    </tr>\n",
       "    <tr>\n",
       "      <th>16</th>\n",
       "      <td>1</td>\n",
       "      <td>4</td>\n",
       "      <td>17259570</td>\n",
       "      <td>87043855</td>\n",
       "      <td>104303424</td>\n",
       "    </tr>\n",
       "    <tr>\n",
       "      <th>23</th>\n",
       "      <td>1</td>\n",
       "      <td>4</td>\n",
       "      <td>13442894</td>\n",
       "      <td>104308161</td>\n",
       "      <td>117751054</td>\n",
       "    </tr>\n",
       "    <tr>\n",
       "      <th>28</th>\n",
       "      <td>1</td>\n",
       "      <td>4</td>\n",
       "      <td>3587817</td>\n",
       "      <td>117751501</td>\n",
       "      <td>121339317</td>\n",
       "    </tr>\n",
       "    <tr>\n",
       "      <th>...</th>\n",
       "      <td>...</td>\n",
       "      <td>...</td>\n",
       "      <td>...</td>\n",
       "      <td>...</td>\n",
       "      <td>...</td>\n",
       "    </tr>\n",
       "    <tr>\n",
       "      <th>775</th>\n",
       "      <td>X</td>\n",
       "      <td>3</td>\n",
       "      <td>469421</td>\n",
       "      <td>147322761</td>\n",
       "      <td>147792181</td>\n",
       "    </tr>\n",
       "    <tr>\n",
       "      <th>776</th>\n",
       "      <td>X</td>\n",
       "      <td>3</td>\n",
       "      <td>4337</td>\n",
       "      <td>147795632</td>\n",
       "      <td>147799968</td>\n",
       "    </tr>\n",
       "    <tr>\n",
       "      <th>777</th>\n",
       "      <td>X</td>\n",
       "      <td>3</td>\n",
       "      <td>449103</td>\n",
       "      <td>147800507</td>\n",
       "      <td>148249609</td>\n",
       "    </tr>\n",
       "    <tr>\n",
       "      <th>779</th>\n",
       "      <td>X</td>\n",
       "      <td>3</td>\n",
       "      <td>4853232</td>\n",
       "      <td>148301353</td>\n",
       "      <td>153154584</td>\n",
       "    </tr>\n",
       "    <tr>\n",
       "      <th>781</th>\n",
       "      <td>X</td>\n",
       "      <td>1</td>\n",
       "      <td>2115977</td>\n",
       "      <td>153154584</td>\n",
       "      <td>155270560</td>\n",
       "    </tr>\n",
       "  </tbody>\n",
       "</table>\n",
       "<p>180 rows × 5 columns</p>\n",
       "</div>"
      ],
      "text/plain": [
       "    Chromosome Copy Number    Length      Start        End\n",
       "0            1           3  35902120          0   35902119\n",
       "7            1           4  50082064   36958762   87040825\n",
       "16           1           4  17259570   87043855  104303424\n",
       "23           1           4  13442894  104308161  117751054\n",
       "28           1           4   3587817  117751501  121339317\n",
       "..         ...         ...       ...        ...        ...\n",
       "775          X           3    469421  147322761  147792181\n",
       "776          X           3      4337  147795632  147799968\n",
       "777          X           3    449103  147800507  148249609\n",
       "779          X           3   4853232  148301353  153154584\n",
       "781          X           1   2115977  153154584  155270560\n",
       "\n",
       "[180 rows x 5 columns]"
      ]
     },
     "execution_count": 29,
     "metadata": {},
     "output_type": "execute_result"
    }
   ],
   "source": [
    "data2 = process_chromosome_data(data2)\n",
    "\n",
    "data2"
   ]
  },
  {
   "cell_type": "code",
   "execution_count": 30,
   "metadata": {},
   "outputs": [
    {
     "data": {
      "text/html": [
       "<div>\n",
       "<style scoped>\n",
       "    .dataframe tbody tr th:only-of-type {\n",
       "        vertical-align: middle;\n",
       "    }\n",
       "\n",
       "    .dataframe tbody tr th {\n",
       "        vertical-align: top;\n",
       "    }\n",
       "\n",
       "    .dataframe thead th {\n",
       "        text-align: right;\n",
       "    }\n",
       "</style>\n",
       "<table border=\"1\" class=\"dataframe\">\n",
       "  <thead>\n",
       "    <tr style=\"text-align: right;\">\n",
       "      <th></th>\n",
       "      <th>Chromosome</th>\n",
       "      <th>Copy Number</th>\n",
       "      <th>Length</th>\n",
       "      <th>Start</th>\n",
       "      <th>End</th>\n",
       "    </tr>\n",
       "  </thead>\n",
       "  <tbody>\n",
       "    <tr>\n",
       "      <th>337</th>\n",
       "      <td>6</td>\n",
       "      <td>4</td>\n",
       "      <td>30676227</td>\n",
       "      <td>1179129</td>\n",
       "      <td>31855355</td>\n",
       "    </tr>\n",
       "    <tr>\n",
       "      <th>346</th>\n",
       "      <td>6</td>\n",
       "      <td>1</td>\n",
       "      <td>33445</td>\n",
       "      <td>32671461</td>\n",
       "      <td>32704905</td>\n",
       "    </tr>\n",
       "    <tr>\n",
       "      <th>355</th>\n",
       "      <td>6</td>\n",
       "      <td>3</td>\n",
       "      <td>17731023</td>\n",
       "      <td>41010475</td>\n",
       "      <td>58741497</td>\n",
       "    </tr>\n",
       "    <tr>\n",
       "      <th>360</th>\n",
       "      <td>6</td>\n",
       "      <td>3</td>\n",
       "      <td>1496579</td>\n",
       "      <td>61000000</td>\n",
       "      <td>62496578</td>\n",
       "    </tr>\n",
       "    <tr>\n",
       "      <th>363</th>\n",
       "      <td>6</td>\n",
       "      <td>4</td>\n",
       "      <td>363645</td>\n",
       "      <td>63073845</td>\n",
       "      <td>63437489</td>\n",
       "    </tr>\n",
       "    <tr>\n",
       "      <th>364</th>\n",
       "      <td>6</td>\n",
       "      <td>4</td>\n",
       "      <td>70579</td>\n",
       "      <td>71838860</td>\n",
       "      <td>71909438</td>\n",
       "    </tr>\n",
       "    <tr>\n",
       "      <th>370</th>\n",
       "      <td>6</td>\n",
       "      <td>4</td>\n",
       "      <td>36102758</td>\n",
       "      <td>92237248</td>\n",
       "      <td>128340005</td>\n",
       "    </tr>\n",
       "    <tr>\n",
       "      <th>375</th>\n",
       "      <td>6</td>\n",
       "      <td>4</td>\n",
       "      <td>18982781</td>\n",
       "      <td>128344631</td>\n",
       "      <td>147327411</td>\n",
       "    </tr>\n",
       "    <tr>\n",
       "      <th>378</th>\n",
       "      <td>6</td>\n",
       "      <td>4</td>\n",
       "      <td>23773816</td>\n",
       "      <td>147341252</td>\n",
       "      <td>171115067</td>\n",
       "    </tr>\n",
       "  </tbody>\n",
       "</table>\n",
       "</div>"
      ],
      "text/plain": [
       "    Chromosome Copy Number    Length      Start        End\n",
       "337          6           4  30676227    1179129   31855355\n",
       "346          6           1     33445   32671461   32704905\n",
       "355          6           3  17731023   41010475   58741497\n",
       "360          6           3   1496579   61000000   62496578\n",
       "363          6           4    363645   63073845   63437489\n",
       "364          6           4     70579   71838860   71909438\n",
       "370          6           4  36102758   92237248  128340005\n",
       "375          6           4  18982781  128344631  147327411\n",
       "378          6           4  23773816  147341252  171115067"
      ]
     },
     "execution_count": 30,
     "metadata": {},
     "output_type": "execute_result"
    }
   ],
   "source": [
    "chr6_2 = data2[data2['Chromosome'] == '6']\n",
    "\n",
    "chr6_2"
   ]
  },
  {
   "cell_type": "code",
   "execution_count": 31,
   "metadata": {},
   "outputs": [],
   "source": [
    "bins2 = split_chromosomes_to_bins(data2)"
   ]
  },
  {
   "cell_type": "code",
   "execution_count": 41,
   "metadata": {},
   "outputs": [],
   "source": [
    "from collections import Counter"
   ]
  },
  {
   "cell_type": "code",
   "execution_count": 42,
   "metadata": {},
   "outputs": [],
   "source": [
    "def intersection(s1, s2) : \n",
    "  \n",
    "    # Find the intersection of the two sets  \n",
    "    intersect = list((Counter(s1) & Counter(s2)).elements())\n",
    "\n",
    "    return intersect"
   ]
  },
  {
   "cell_type": "code",
   "execution_count": 46,
   "metadata": {},
   "outputs": [],
   "source": [
    "def jaccard(chromosome_bins1, chromosome_bins2):\n",
    "    # Sizes of both the sets  \n",
    "    size1 = len(chromosome_bins1)\n",
    "    size2 = len(chromosome_bins2)  \n",
    "  \n",
    "    # Get the intersection set  \n",
    "    intersect = intersection(chromosome_bins1, chromosome_bins2)\n",
    "  \n",
    "    # Size of the intersection set  \n",
    "    size_in = len(intersect)\n",
    "  \n",
    "    # Calculate the Jaccard index  \n",
    "    # using the formula  \n",
    "    jaccard_in = size_in  / (size1 + size2 - size_in)  \n",
    "  \n",
    "    # Return the Jaccard index  \n",
    "    return jaccard_in"
   ]
  },
  {
   "cell_type": "code",
   "execution_count": 47,
   "metadata": {},
   "outputs": [
    {
     "data": {
      "text/plain": [
       "0.2928641619664275"
      ]
     },
     "execution_count": 47,
     "metadata": {},
     "output_type": "execute_result"
    }
   ],
   "source": [
    "jaccard_in = jaccard(bins, bins2)\n",
    "\n",
    "jaccard_in"
   ]
  },
  {
   "cell_type": "code",
   "execution_count": 54,
   "metadata": {},
   "outputs": [
    {
     "data": {
      "text/plain": [
       "0.6666666666666666"
      ]
     },
     "execution_count": 54,
     "metadata": {},
     "output_type": "execute_result"
    }
   ],
   "source": [
    "# example\n",
    "\n",
    "a = [1,2,2,2,2]\n",
    "b = [2,2,2,2,3]\n",
    "\n",
    "\n",
    "intersect = list((Counter(a) & Counter(b)).elements())\n",
    "intersect\n",
    "\n",
    "jaccard_in = len(intersect)  / (len(a) + len(b) - len(intersect))\n",
    "jaccard_in"
   ]
  },
  {
   "cell_type": "code",
   "execution_count": null,
   "metadata": {},
   "outputs": [],
   "source": []
  }
 ],
 "metadata": {
  "kernelspec": {
   "display_name": "Python 3",
   "language": "python",
   "name": "python3"
  },
  "language_info": {
   "codemirror_mode": {
    "name": "ipython",
    "version": 3
   },
   "file_extension": ".py",
   "mimetype": "text/x-python",
   "name": "python",
   "nbconvert_exporter": "python",
   "pygments_lexer": "ipython3",
   "version": "3.7.7"
  }
 },
 "nbformat": 4,
 "nbformat_minor": 4
}
